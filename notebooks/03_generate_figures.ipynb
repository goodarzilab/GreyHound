{
 "cells": [
  {
   "cell_type": "code",
   "execution_count": 1,
   "id": "initial_id",
   "metadata": {
    "ExecuteTime": {
     "end_time": "2024-12-24T16:18:27.479809Z",
     "start_time": "2024-12-24T16:18:26.112168Z"
    }
   },
   "outputs": [],
   "source": [
    "import rpy2.ipython\n",
    "%load_ext rpy2.ipython\n",
    "import warnings\n",
    "from rpy2.rinterface import RRuntimeWarning\n",
    "warnings.filterwarnings(\"ignore\", category=RRuntimeWarning)"
   ]
  },
  {
   "cell_type": "code",
   "execution_count": 2,
   "id": "28c5c3356e385cba",
   "metadata": {
    "ExecuteTime": {
     "end_time": "2024-12-24T16:18:29.454532Z",
     "start_time": "2024-12-24T16:18:27.483262Z"
    },
    "collapsed": false,
    "jupyter": {
     "outputs_hidden": false
    }
   },
   "outputs": [
    {
     "name": "stdout",
     "output_type": "stream",
     "text": [
      "── Attaching core tidyverse packages ──────────────────────── tidyverse 2.0.0 ──\n",
      "✔ dplyr     1.1.4     ✔ readr     2.1.5\n",
      "✔ forcats   1.0.0     ✔ stringr   1.5.1\n",
      "✔ ggplot2   3.5.2     ✔ tibble    3.3.0\n",
      "✔ lubridate 1.9.4     ✔ tidyr     1.3.1\n",
      "✔ purrr     1.1.0     \n",
      "── Conflicts ────────────────────────────────────────── tidyverse_conflicts() ──\n",
      "✖ dplyr::filter() masks stats::filter()\n",
      "✖ dplyr::lag()    masks stats::lag()\n",
      "ℹ Use the conflicted package (<http://conflicted.r-lib.org/>) to force all conflicts to become errors\n"
     ]
    },
    {
     "data": {
      "text/plain": [
       "In addition: Warning messages:\n",
       "1: package ‘ggplot2’ was built under R version 4.4.3 \n",
       "2: package ‘tibble’ was built under R version 4.4.3 \n",
       "3: package ‘purrr’ was built under R version 4.4.3 \n"
      ]
     },
     "metadata": {},
     "output_type": "display_data"
    }
   ],
   "source": [
    "%%R\n",
    "library(tidyverse)\n"
   ]
  },
  {
   "cell_type": "code",
   "execution_count": 6,
   "id": "f16cc1dae8f47ce0",
   "metadata": {
    "ExecuteTime": {
     "end_time": "2023-11-04T15:09:29.885938Z",
     "start_time": "2023-11-04T15:09:29.829849Z"
    },
    "collapsed": false,
    "jupyter": {
     "outputs_hidden": false
    }
   },
   "outputs": [
    {
     "name": "stdout",
     "output_type": "stream",
     "text": [
      "\n",
      "── Column specification ────────────────────────────────────────────────────────\n",
      "cols(\n",
      "  X1 = col_double(),\n",
      "  `HCC1806-PAR-1` = col_double(),\n",
      "  `HCC1806-PAR-2` = col_double(),\n",
      "  `MDA-PAR-1` = col_double(),\n",
      "  `MDA-PAR-2` = col_double(),\n",
      "  `MCF7-1` = col_double(),\n",
      "  `MCF7-2` = col_double(),\n",
      "  `MDA-MD-453-1` = col_double(),\n",
      "  `MDA-MD-453-2` = col_double(),\n",
      "  `HCC38-1` = col_double(),\n",
      "  `HCC38-2` = col_double(),\n",
      "  `ZR-75-1` = col_double(),\n",
      "  `ZR-75-2` = col_double()\n",
      ")\n",
      "\n",
      "[1] 50 12\n"
     ]
    }
   ],
   "source": [
    "%%R \n",
    "library(tidyverse)\n",
    "\n",
    "embed.df <- read_tsv(\"results/embed_df.txt\") %>% select (-X1)\n",
    "dim(embed.df)"
   ]
  },
  {
   "cell_type": "code",
   "execution_count": 7,
   "id": "6c1e13dd5d5e16cf",
   "metadata": {
    "ExecuteTime": {
     "end_time": "2023-11-04T15:09:45.886472Z",
     "start_time": "2023-11-04T15:09:45.289242Z"
    },
    "collapsed": false,
    "jupyter": {
     "outputs_hidden": false
    }
   },
   "outputs": [
    {
     "name": "stdout",
     "output_type": "stream",
     "text": [
      "Importance of components:\n",
      "                          PC1    PC2    PC3    PC4     PC5     PC6    PC7\n",
      "Standard deviation     1.6572 1.1784 1.1374 1.0955 1.04710 1.00192 0.9334\n",
      "Proportion of Variance 0.2289 0.1157 0.1078 0.1000 0.09137 0.08365 0.0726\n",
      "Cumulative Proportion  0.2289 0.3446 0.4524 0.5524 0.64377 0.72742 0.8000\n",
      "                           PC8     PC9    PC10    PC11    PC12\n",
      "Standard deviation     0.87582 0.83335 0.72687 0.63573 0.07617\n",
      "Proportion of Variance 0.06392 0.05787 0.04403 0.03368 0.00048\n",
      "Cumulative Proportion  0.86394 0.92181 0.96584 0.99952 1.00000\n"
     ]
    }
   ],
   "source": [
    "%%R \n",
    "#perform pca and plot\n",
    "pca <- prcomp(embed.df, center = TRUE, scale. = TRUE)\n",
    "summary(pca)"
   ]
  },
  {
   "cell_type": "code",
   "execution_count": 31,
   "id": "d336484d6d7b2378",
   "metadata": {
    "ExecuteTime": {
     "end_time": "2023-11-04T15:24:34.322495Z",
     "start_time": "2023-11-04T15:24:33.678409Z"
    },
    "collapsed": false,
    "jupyter": {
     "outputs_hidden": false
    }
   },
   "outputs": [
    {
     "data": {
      "image/png": "[encoded data removed]"
     },
     "metadata": {},
     "output_type": "display_data"
    }
   ],
   "source": [
    "%%R\n",
    "library(ggrepel)\n",
    "#plot pca\n",
    "rotation.pca <- as.data.frame(pca$rotation)\n",
    "rotation.pca[\"type\"] <- gsub(\"-\\\\d+\", \"\", rownames(rotation.pca))\n",
    "var.pca <- summary(pca)$importance[2,]\n",
    "plt <- ggplot(rotation.pca, aes(PC1, PC2, color=type)) + geom_point(shape = 16) +\n",
    "    geom_label_repel(aes(label=rownames(rotation.pca))) +\n",
    "    xlab(paste0(\"PC1 (\", var.pca[1]*100,\"% of variance)\")) +\n",
    "    ylab(paste0(\"PC2 (\", var.pca[2]*100,\"% of variance)\")) +\n",
    "    theme_bw() + theme(legend.position=\"none\", panel.grid.minor = element_blank())\n",
    "ggsave(\"results/embed_df_pca.pdf\", width=4, height=4)\n",
    "plt"
   ]
  },
  {
   "cell_type": "code",
   "execution_count": 51,
   "id": "7774f6816ba4506e",
   "metadata": {
    "ExecuteTime": {
     "end_time": "2023-11-04T15:31:11.238056Z",
     "start_time": "2023-11-04T15:31:11.043677Z"
    },
    "collapsed": false,
    "jupyter": {
     "outputs_hidden": false
    }
   },
   "outputs": [
    {
     "name": "stdout",
     "output_type": "stream",
     "text": [
      "\n",
      "── Column specification ────────────────────────────────────────────────────────\n",
      "cols(\n",
      "  GENE = col_character(),\n",
      "  `HCC1806-PAR-1` = col_double(),\n",
      "  `HCC1806-PAR-2` = col_double(),\n",
      "  `MDA-PAR-1` = col_double(),\n",
      "  `MDA-PAR-2` = col_double(),\n",
      "  `MCF7-1` = col_double(),\n",
      "  `MCF7-2` = col_double(),\n",
      "  `MDA-MD-453-1` = col_double(),\n",
      "  `MDA-MD-453-2` = col_double(),\n",
      "  `HCC38-1` = col_double(),\n",
      "  `HCC38-2` = col_double(),\n",
      "  `ZR-75-1` = col_double(),\n",
      "  `ZR-75-2` = col_double()\n",
      ")\n",
      "[1] 56517    12\n"
     ]
    }
   ],
   "source": [
    "%%R\n",
    "#full data\n",
    "exp.df <- read_tsv('data/BRCA_SLAM_gs_TPM.selected.txt') %>% select (-GENE)\n",
    "dim(exp.df)"
   ]
  },
  {
   "cell_type": "code",
   "execution_count": 54,
   "id": "563dd6ac3531b68",
   "metadata": {
    "ExecuteTime": {
     "end_time": "2023-11-04T15:46:15.101297Z",
     "start_time": "2023-11-04T15:46:14.172319Z"
    },
    "collapsed": false,
    "jupyter": {
     "outputs_hidden": false
    }
   },
   "outputs": [
    {
     "name": "stderr",
     "output_type": "stream",
     "text": [
      "R[write to console]: corrplot 0.88 loaded\n",
      "\n"
     ]
    },
    {
     "name": "stdout",
     "output_type": "stream",
     "text": [
      "              HCC1806-PAR-1 HCC1806-PAR-2 MDA-PAR-1 MDA-PAR-2    MCF7-1\n",
      "HCC1806-PAR-1     1.0000000     0.9956455 0.9938320 0.9936055 0.5360518\n",
      "HCC1806-PAR-2     0.9956455     1.0000000 0.9847263 0.9912838 0.5735235\n",
      "MDA-PAR-1         0.9938320     0.9847263 1.0000000 0.9967799 0.5037817\n",
      "MDA-PAR-2         0.9936055     0.9912838 0.9967799 1.0000000 0.5208808\n",
      "MCF7-1            0.5360518     0.5735235 0.5037817 0.5208808 1.0000000\n",
      "MCF7-2            0.5783206     0.6145196 0.5462636 0.5629790 0.9983144\n",
      "MDA-MD-453-1      0.7139614     0.7364783 0.6920967 0.6997421 0.9647667\n",
      "MDA-MD-453-2      0.7235669     0.7490714 0.7004322 0.7114178 0.9640278\n",
      "HCC38-1           0.7030466     0.7339438 0.6760419 0.6908656 0.9731855\n",
      "HCC38-2           0.4993329     0.5381636 0.4670251 0.4847810 0.9946731\n",
      "ZR-75-1           0.9628749     0.9683900 0.9636649 0.9704470 0.6284487\n",
      "ZR-75-2           0.9392116     0.9500695 0.9349405 0.9413152 0.7415886\n",
      "                 MCF7-2 MDA-MD-453-1 MDA-MD-453-2   HCC38-1   HCC38-2   ZR-75-1\n",
      "HCC1806-PAR-1 0.5783206    0.7139614    0.7235669 0.7030466 0.4993329 0.9628749\n",
      "HCC1806-PAR-2 0.6145196    0.7364783    0.7490714 0.7339438 0.5381636 0.9683900\n",
      "MDA-PAR-1     0.5462636    0.6920967    0.7004322 0.6760419 0.4670251 0.9636649\n",
      "MDA-PAR-2     0.5629790    0.6997421    0.7114178 0.6908656 0.4847810 0.9704470\n",
      "MCF7-1        0.9983144    0.9647667    0.9640278 0.9731855 0.9946731 0.6284487\n",
      "MCF7-2        1.0000000    0.9756242    0.9754379 0.9823825 0.9912816 0.6643061\n",
      "MDA-MD-453-1  0.9756242    1.0000000    0.9984685 0.9879159 0.9523505 0.7857336\n",
      "MDA-MD-453-2  0.9754379    0.9984685    1.0000000 0.9894280 0.9525088 0.8002120\n",
      "HCC38-1       0.9823825    0.9879159    0.9894280 1.0000000 0.9617871 0.7704263\n",
      "HCC38-2       0.9912816    0.9523505    0.9525088 0.9617871 1.0000000 0.6039829\n",
      "ZR-75-1       0.6643061    0.7857336    0.8002120 0.7704263 0.6039829 1.0000000\n",
      "ZR-75-2       0.7722165    0.8707353    0.8788111 0.8623215 0.7131085 0.9767743\n",
      "                ZR-75-2\n",
      "HCC1806-PAR-1 0.9392116\n",
      "HCC1806-PAR-2 0.9500695\n",
      "MDA-PAR-1     0.9349405\n",
      "MDA-PAR-2     0.9413152\n",
      "MCF7-1        0.7415886\n",
      "MCF7-2        0.7722165\n",
      "MDA-MD-453-1  0.8707353\n",
      "MDA-MD-453-2  0.8788111\n",
      "HCC38-1       0.8623215\n",
      "HCC38-2       0.7131085\n",
      "ZR-75-1       0.9767743\n",
      "ZR-75-2       1.0000000\n"
     ]
    },
    {
     "data": {
      "image/png": "[encoded data removed]"
     },
     "metadata": {},
     "output_type": "display_data"
    }
   ],
   "source": [
    "%%R\n",
    "#create a corr plot\n",
    "library(corrplot)\n",
    "plt <- corrplot(cor(exp.df), method=\"circle\", type=\"upper\", tl.col=\"black\", tl.srt=45)\n",
    "ggsave(\"results/exp_df_corr.pdf\", width=4, height=4)\n",
    "plt"
   ]
  },
  {
   "cell_type": "code",
   "execution_count": 109,
   "id": "4de7906b66def343",
   "metadata": {
    "ExecuteTime": {
     "end_time": "2023-11-04T16:43:27.530636Z",
     "start_time": "2023-11-04T16:42:59.489328Z"
    },
    "collapsed": false,
    "jupyter": {
     "outputs_hidden": false
    }
   },
   "outputs": [
    {
     "name": "stderr",
     "output_type": "stream",
     "text": [
      "R[write to console]: `geom_smooth()` using formula 'y ~ x'\n",
      "\n",
      "R[write to console]: `geom_smooth()` using formula 'y ~ x'\n",
      "\n",
      "R[write to console]: `geom_smooth()` using formula 'y ~ x'\n",
      "\n",
      "R[write to console]: `geom_smooth()` using formula 'y ~ x'\n",
      "\n",
      "R[write to console]: `geom_smooth()` using formula 'y ~ x'\n",
      "\n",
      "R[write to console]: `geom_smooth()` using formula 'y ~ x'\n",
      "\n",
      "R[write to console]: `geom_smooth()` using formula 'y ~ x'\n",
      "\n",
      "R[write to console]: `geom_smooth()` using formula 'y ~ x'\n",
      "\n",
      "R[write to console]: `geom_smooth()` using formula 'y ~ x'\n",
      "\n",
      "R[write to console]: `geom_smooth()` using formula 'y ~ x'\n",
      "\n",
      "R[write to console]: `geom_smooth()` using formula 'y ~ x'\n",
      "\n",
      "R[write to console]: `geom_smooth()` using formula 'y ~ x'\n",
      "\n"
     ]
    },
    {
     "data": {
      "image/png": "[encoded data removed]"
     },
     "metadata": {},
     "output_type": "display_data"
    }
   ],
   "source": [
    "%%R\n",
    "library(ggrastr)\n",
    "fancy_scientific <- function(l) {\n",
    "     # turn in to character string in scientific notation\n",
    "     l <- sprintf(\"%.0e\", l)\n",
    "     l <- format(l, scientific = TRUE)\n",
    "     # quote the part before the exponent to keep all the digits\n",
    "     l <- gsub(\"^(.*)e\", \"'\\\\1'e\", l)\n",
    "     # turn the 'e+' into plotmath format\n",
    "     l <- gsub(\"e\", \"%*%10^\", l)\n",
    "     # return this as an expression\n",
    "     parse(text=l)\n",
    "}\n",
    "#draw scatter plots for replicates\n",
    "scatter_plots <- list()\n",
    "types <- unique(gsub(\"-\\\\d+$\", \"\", colnames(exp.df)))\n",
    "for (type in types){\n",
    "    type.df <- as.data.frame(exp.df %>% select(contains(type)))\n",
    "    s <- cor.test(type.df[,1], type.df[,2])\n",
    "    stat <- sprintf(\"R=%.2f\", s$estimate)\n",
    "    scatter_plots[[type]] <- ggplot(type.df, aes(x=type.df[,1], y=type.df[,2])) + geom_point_rast(color=\"#B7B7B7\", alpha=0.5) +\n",
    "        geom_smooth(method=lm,level=0.9999999, size=1) +\n",
    "        xlab(paste0(type, \" r1\")) + ylab(paste0(type, \" r2\")) +\n",
    "        annotate(\"text\", x=0.01, y=1000, label=stat, size=3) +\n",
    "        scale_x_continuous(labels=fancy_scientific, trans='log2') +\n",
    "        scale_y_continuous(labels=fancy_scientific, trans='log2') +\n",
    "        theme_bw() + theme(legend.position=\"none\", panel.grid.minor = element_blank())\n",
    "}\n",
    "#merge list of plots\n",
    "library(patchwork)\n",
    "\n",
    "plt <-  wrap_plots(scatter_plots, ncol=2)\n",
    "ggsave(filename = \"results/exp_df_scatter.pdf\", plot = plt, device = \"pdf\", width = 4.75, height = 6)\n",
    "plt"
   ]
  },
  {
   "cell_type": "code",
   "execution_count": 52,
   "id": "d39b0476ce2825a1",
   "metadata": {
    "ExecuteTime": {
     "end_time": "2023-11-04T15:31:24.762600Z",
     "start_time": "2023-11-04T15:31:24.234466Z"
    },
    "collapsed": false,
    "jupyter": {
     "outputs_hidden": false
    }
   },
   "outputs": [
    {
     "name": "stdout",
     "output_type": "stream",
     "text": [
      "Importance of components:\n",
      "                         PC1    PC2    PC3     PC4     PC5     PC6     PC7\n",
      "Standard deviation     3.146 1.4126 0.2244 0.15079 0.12125 0.09197 0.06842\n",
      "Proportion of Variance 0.825 0.1663 0.0042 0.00189 0.00123 0.00070 0.00039\n",
      "Cumulative Proportion  0.825 0.9912 0.9954 0.99734 0.99856 0.99927 0.99966\n",
      "                           PC8     PC9    PC10    PC11     PC12\n",
      "Standard deviation     0.04440 0.04047 0.01707 0.01167 0.009964\n",
      "Proportion of Variance 0.00016 0.00014 0.00002 0.00001 0.000010\n",
      "Cumulative Proportion  0.99982 0.99996 0.99998 0.99999 1.000000\n"
     ]
    }
   ],
   "source": [
    "%%R\n",
    "#pca\n",
    "pca <- prcomp(exp.df, center = TRUE, scale. = TRUE)\n",
    "summary(pca)"
   ]
  },
  {
   "cell_type": "code",
   "execution_count": 53,
   "id": "2526551dc42361a6",
   "metadata": {
    "ExecuteTime": {
     "end_time": "2023-11-04T15:31:46.906977Z",
     "start_time": "2023-11-04T15:31:46.053322Z"
    },
    "collapsed": false,
    "jupyter": {
     "outputs_hidden": false
    }
   },
   "outputs": [
    {
     "data": {
      "image/png": "[encoded data removed]"
     },
     "metadata": {},
     "output_type": "display_data"
    }
   ],
   "source": [
    "%%R\n",
    "library(ggrepel)\n",
    "#plot pca\n",
    "rotation.pca <- as.data.frame(pca$rotation)\n",
    "rotation.pca[\"type\"] <- gsub(\"-\\\\d+\", \"\", rownames(rotation.pca))\n",
    "var.pca <- summary(pca)$importance[2,]\n",
    "plt <- ggplot(rotation.pca, aes(PC1, PC2, color=type)) + geom_point(shape = 16) +\n",
    "    geom_label_repel(aes(label=rownames(rotation.pca))) +\n",
    "    xlab(paste0(\"PC1 (\", var.pca[1]*100,\"% of variance)\")) +\n",
    "    ylab(paste0(\"PC2 (\", var.pca[2]*100,\"% of variance)\")) +\n",
    "    theme_bw() + theme(legend.position=\"none\", panel.grid.minor = element_blank())\n",
    "ggsave(\"results/exp_df_pca.pdf\", width=4, height=4)\n",
    "plt"
   ]
  },
  {
   "cell_type": "markdown",
   "id": "228f2ad98943994a",
   "metadata": {
    "collapsed": false,
    "jupyter": {
     "outputs_hidden": false
    }
   },
   "source": [
    "## Stability"
   ]
  },
  {
   "cell_type": "code",
   "execution_count": 3,
   "id": "4824e8599553e665",
   "metadata": {
    "ExecuteTime": {
     "end_time": "2024-12-24T16:20:00.924538Z",
     "start_time": "2024-12-24T16:20:00.738060Z"
    },
    "collapsed": false,
    "jupyter": {
     "outputs_hidden": false
    }
   },
   "outputs": [
    {
     "name": "stdout",
     "output_type": "stream",
     "text": [
      "New names:\n",
      "• `` -> `...1`\n",
      "Rows: 9328 Columns: 7\n",
      "── Column specification ────────────────────────────────────────────────────────\n",
      "Delimiter: \"\\t\"\n",
      "chr (1): ...1\n",
      "dbl (6): HCC1806.PAR, MDA.PAR, MCF7, MDA.MD.453, HCC38, ZR.75\n",
      "\n",
      "ℹ Use `spec()` to retrieve the full column specification for this data.\n",
      "ℹ Specify the column types or set `show_col_types = FALSE` to quiet this message.\n",
      "[1] 9328    6\n"
     ]
    }
   ],
   "source": [
    "%%R\n",
    "stab.df <- read_tsv('../02102021_BRCA_SLAM-seq/BRCA-lines_log10_decay_rates_gs_mean.txt') %>% select (-...1)\n",
    "dim(stab.df)"
   ]
  },
  {
   "cell_type": "code",
   "execution_count": 4,
   "id": "385c71599cf638e4",
   "metadata": {
    "ExecuteTime": {
     "end_time": "2024-12-24T16:21:55.029073Z",
     "start_time": "2024-12-24T16:21:54.953607Z"
    },
    "collapsed": false,
    "jupyter": {
     "outputs_hidden": false
    }
   },
   "outputs": [
    {
     "name": "stdout",
     "output_type": "stream",
     "text": [
      "            HCC1806.PAR   MDA.PAR      MCF7 MDA.MD.453     HCC38     ZR.75\n",
      "   1.0000000 0.6377501 0.5953767  0.5541897 0.5989907 0.5508330\n",
      "   0.6377501 1.0000000 0.5886845  0.5685758 0.6330863 0.5739955\n",
      "   0.5953767 0.5886845 1.0000000  0.5955085 0.6048824 0.5778626\n",
      "   0.5541897 0.5685758 0.5955085  1.0000000 0.5898179 0.5900734\n",
      "   0.5989907 0.6330863 0.6048824  0.5898179 1.0000000 0.5717206\n",
      "   0.5508330 0.5739955 0.5778626  0.5900734 0.5717206 1.0000000\n"
     ]
    },
    {
     "data": {
      "text/plain": [
       "corrplot 0.95 loaded\n"
      ]
     },
     "metadata": {},
     "output_type": "display_data"
    }
   ],
   "source": [
    "%%R\n",
    "library(corrplot)\n",
    "corr_matrix <- cor(stab.df)\n",
    "corr_matrix"
   ]
  },
  {
   "cell_type": "code",
   "execution_count": 5,
   "id": "4c5cc677da93942d",
   "metadata": {
    "ExecuteTime": {
     "end_time": "2024-12-24T16:22:03.223367Z",
     "start_time": "2024-12-24T16:22:03.173841Z"
    },
    "collapsed": false,
    "jupyter": {
     "outputs_hidden": false
    }
   },
   "outputs": [
    {
     "name": "stdout",
     "output_type": "stream",
     "text": [
      "[1] 0.5887565\n"
     ]
    }
   ],
   "source": [
    "%%R\n",
    "lower_tri <- corr_matrix[lower.tri(corr_matrix)]\n",
    "mean(lower_tri)"
   ]
  },
  {
   "cell_type": "code",
   "execution_count": 6,
   "id": "d8148eef2794c5e3",
   "metadata": {
    "ExecuteTime": {
     "end_time": "2024-12-24T16:32:58.234711Z",
     "start_time": "2024-12-24T16:32:41.994297Z"
    },
    "collapsed": false,
    "jupyter": {
     "outputs_hidden": false
    }
   },
   "outputs": [
    {
     "name": "stdout",
     "output_type": "stream",
     "text": [
      "New names:\n",
      "• `` -> `...1`\n",
      "Rows: 8789 Columns: 13\n",
      "── Column specification ────────────────────────────────────────────────────────\n",
      "Delimiter: \"\\t\"\n",
      "chr  (1): ...1\n",
      "dbl (12): HCC1806.PAR.1, HCC1806.PAR.2, MDA.PAR.1, MDA.PAR.2, MCF7.1, MCF7.2...\n",
      "\n",
      "ℹ Use `spec()` to retrieve the full column specification for this data.\n",
      "ℹ Specify the column types or set `show_col_types = FALSE` to quiet this message.\n",
      "New names:\n",
      "• `` -> `...1`\n",
      "Rows: 9328 Columns: 7\n",
      "── Column specification ────────────────────────────────────────────────────────\n",
      "Delimiter: \"\\t\"\n",
      "chr (1): ...1\n",
      "dbl (6): HCC1806.PAR, MDA.PAR, MCF7, MDA.MD.453, HCC38, ZR.75\n",
      "\n",
      "ℹ Use `spec()` to retrieve the full column specification for this data.\n",
      "ℹ Specify the column types or set `show_col_types = FALSE` to quiet this message.\n"
     ]
    }
   ],
   "source": [
    "%%R\n",
    "# Load stability data with replicates for ANOVA\n",
    "stab.rep.df <- read_tsv('data/BRCA-lines_log10_decay_rates_gs.txt')\n",
    "\n",
    "# Load mean stability data for heatmap visualization\n",
    "stab.mean.df <- read_tsv('../02102021_BRCA_SLAM-seq/BRCA-lines_log10_decay_rates_gs_mean.txt')\n",
    "\n",
    "# Define cell line subtypes\n",
    "# Based on the notebook:\n",
    "# TNBC: HCC1806.PAR, MDA.PAR, HCC38\n",
    "# Luminal: MCF7, ZR.75\n",
    "# Her2: MDA.MD.453\n",
    "cell_subtypes <- c(\"TNBC\", \"TNBC\", \"Luminal\", \"Her2\", \"TNBC\", \"Luminal\")\n",
    "names(cell_subtypes) <- c(\"HCC1806.PAR\", \"MDA.PAR\", \"MCF7\", \"MDA.MD.453\", \"HCC38\", \"ZR.75\")\n",
    "\n",
    "# Create mapping of subtypes for each replicate column in the replicate dataset\n",
    "rep_subtypes <- c()\n",
    "rep_column_names <- colnames(stab.rep.df)[-1]  # Exclude first column (gene names)\n",
    "\n",
    "for (col in rep_column_names) {\n",
    "  # Extract cell line name without replicate number \n",
    "  # (e.g., \"HCC1806.PAR.1\" -> \"HCC1806.PAR\")\n",
    "  cell_line <- gsub(\"\\\\.[0-9]+$\", \"\", col)\n",
    "  rep_subtypes[col] <- cell_subtypes[cell_line]\n",
    "}\n",
    "\n",
    "# Perform ANOVA for each gene using the replicate data for more statistical power\n",
    "results <- list()\n",
    "for (gene in stab.rep.df$...1) {\n",
    "  # Extract gene data\n",
    "  gene_row <- stab.rep.df[stab.rep.df$...1 == gene, ]\n",
    "  \n",
    "  if (nrow(gene_row) == 0) next\n",
    "  \n",
    "  # Create a data frame for ANOVA\n",
    "  values <- as.numeric(gene_row[, -1])\n",
    "  subtypes <- rep_subtypes[names(gene_row)[-1]]\n",
    "  \n",
    "  # Create data frame with values and their corresponding subtypes\n",
    "  anova_data <- data.frame(\n",
    "    value = values,\n",
    "    subtype = subtypes\n",
    "  )\n",
    "  \n",
    "  # Remove any NA values\n",
    "  anova_data <- anova_data[!is.na(anova_data$value), ]\n",
    "  \n",
    "  # Only perform ANOVA if we have enough data\n",
    "  if (nrow(anova_data) > 0) {\n",
    "    # Perform one-way ANOVA\n",
    "    aov_result <- aov(value ~ subtype, data = anova_data)\n",
    "    # Store p-value\n",
    "    results[[gene]] <- summary(aov_result)[[1]][[\"Pr(>F)\"]][1]\n",
    "  }\n",
    "}"
   ]
  },
  {
   "cell_type": "code",
   "execution_count": 36,
   "id": "6d13dd47314d6ee",
   "metadata": {
    "ExecuteTime": {
     "end_time": "2024-12-24T16:35:18.081676Z",
     "start_time": "2024-12-24T16:35:18.034612Z"
    },
    "collapsed": false,
    "jupyter": {
     "outputs_hidden": false
    }
   },
   "outputs": [],
   "source": [
    "%%R\n",
    "library(pheatmap)\n",
    "library(viridis)\n",
    "\n",
    "# Convert to vector and adjust for multiple testing\n",
    "p_values <- unlist(results)\n",
    "adj_p <- p.adjust(p_values, method=\"BH\")  # Benjamini-Hochberg adjustment\n",
    "\n",
    "# Create data frame of results\n",
    "results_df <- tibble(\n",
    "  gene = names(adj_p),\n",
    "  p_value = p_values,\n",
    "  adj_p_value = adj_p\n",
    ")\n",
    "\n",
    "# Filter for significant genes (adjusted p-value < 0.01)\n",
    "sig_genes <- results_df %>% \n",
    "  filter(adj_p_value < 0.01) %>% \n",
    "  arrange(adj_p_value) %>%\n",
    "  pull(gene)\n",
    "\n",
    "# Create ordered list of columns grouped by subtype for heatmap\n",
    "ordered_columns <- c(\n",
    "  names(cell_subtypes[cell_subtypes == \"TNBC\"]),    # All TNBC columns\n",
    "  names(cell_subtypes[cell_subtypes == \"Luminal\"]), # All Luminal columns  \n",
    "  names(cell_subtypes[cell_subtypes == \"Her2\"])     # All Her2 columns\n",
    ")\n",
    "\n",
    "# Create a data frame for column annotation (in the new order)\n",
    "column_anno <- data.frame(\n",
    "  Subtype = cell_subtypes[ordered_columns],\n",
    "  row.names = ordered_columns\n",
    ")\n",
    "\n",
    "# Define colors for subtypes\n",
    "subtype_colors <- c(\n",
    "  \"TNBC\" = \"#E41A1C\",    # Red\n",
    "  \"Luminal\" = \"#377EB8\", # Blue\n",
    "  \"Her2\" = \"#4DAF4A\"     # Green\n",
    ")\n",
    "annotation_colors <- list(Subtype = subtype_colors)\n",
    "\n",
    "# Create matrix for heatmap from the MEAN values (not replicates)\n",
    "heatmap_data <- stab.mean.df %>%\n",
    "  filter(...1 %in% sig_genes) %>%\n",
    "  column_to_rownames(\"...1\") %>%\n",
    "  as.matrix()\n",
    "\n",
    "# Reorder columns in the heatmap data to match the subtype order\n",
    "heatmap_data <- heatmap_data[, ordered_columns]\n",
    "\n",
    "# Z-score normalize by row for better visualization\n",
    "heatmap_data_z <- t(scale(t(heatmap_data)))\n",
    "\n",
    "# Create heatmap with viridis colormap\n",
    "breaksList <- seq(-2, 2, by = 0.05)\n",
    "pheatmap(heatmap_data_z,\n",
    "         color = viridis(length(breaksList)-1),\n",
    "         breaks = breaksList,\n",
    "         annotation_col = column_anno,\n",
    "         annotation_colors = annotation_colors,\n",
    "         show_rownames = FALSE,\n",
    "         show_colnames = TRUE,\n",
    "         cluster_rows = TRUE,\n",
    "         cluster_cols = FALSE,  # Don't cluster columns to keep subtype grouping\n",
    "         border_color = NA,\n",
    "         main = \"Subtype-specific Genes (adj.p < 0.01)\",\n",
    "         fontsize_row = 8,\n",
    "         filename = \"results/subtype_specific_genes_heatmap.pdf\",\n",
    "         width = 4,\n",
    "         height = 4)"
   ]
  },
  {
   "cell_type": "code",
   "execution_count": 37,
   "id": "bbf3e588e84ab9a7",
   "metadata": {
    "ExecuteTime": {
     "end_time": "2024-12-24T16:36:50.621476Z",
     "start_time": "2024-12-24T16:36:50.537909Z"
    },
    "collapsed": false,
    "jupyter": {
     "outputs_hidden": false
    }
   },
   "outputs": [
    {
     "name": "stdout",
     "output_type": "stream",
     "text": [
      "Number of significant genes: 136 \n",
      "Percentage of significant genes: 1.55 %\n",
      "# A tibble: 20 × 3\n",
      "   gene           p_value   adj_p_value\n",
      "   <chr>            <dbl>         <dbl>\n",
      " 1 RN7SL774P     5.95e-13 0.00000000369\n",
      " 2 RP11-465B22.3 8.39e-13 0.00000000369\n",
      " 3 GCNT2         1.78e-11 0.0000000521 \n",
      " 4 AF042090.2    6.12e-11 0.000000108  \n",
      " 5 EPB41L4A      5.16e-11 0.000000108  \n",
      " 6 AKR1B1        4.41e-10 0.000000646  \n",
      " 7 IGF2BP2       1.36e- 9 0.00000171   \n",
      " 8 GSTM3         1.70e- 9 0.00000186   \n",
      " 9 FLT3LG        3.14e- 9 0.00000307   \n",
      "10 HEXDC         4.06e- 9 0.00000357   \n",
      "11 CNTRL         7.28e- 9 0.00000582   \n",
      "12 CH17-472G23.2 9.47e- 9 0.00000694   \n",
      "13 NNT           1.39e- 8 0.00000875   \n",
      "14 PARP8         1.49e- 8 0.00000875   \n",
      "15 SPG20         1.48e- 8 0.00000875   \n",
      "16 TP53          2.07e- 8 0.0000114    \n",
      "17 OPTN          5.26e- 8 0.0000272    \n",
      "18 SCLY          5.70e- 8 0.0000278    \n",
      "19 F3            6.59e- 8 0.0000284    \n",
      "20 HOMER2        6.78e- 8 0.0000284    \n"
     ]
    }
   ],
   "source": [
    "%%R\n",
    "# Print the number of significant genes found\n",
    "cat(\"Number of significant genes:\", length(sig_genes), \"\\n\")\n",
    "cat(\"Percentage of significant genes:\", \n",
    "    round(length(sig_genes)/nrow(stab.rep.df) * 100, 2), \"%\\n\")\n",
    "\n",
    "# Print top 20 most significant genes\n",
    "results_df %>% \n",
    "  filter(gene %in% sig_genes) %>% \n",
    "  arrange(adj_p_value) %>%\n",
    "  slice_head(n = 20) %>%\n",
    "  print()"
   ]
  },
  {
   "cell_type": "code",
   "execution_count": null,
   "id": "4f8aed22-e22e-4889-ac90-7f052772a802",
   "metadata": {},
   "outputs": [],
   "source": []
  },
  {
   "cell_type": "code",
   "execution_count": null,
   "id": "4e96cd97-d552-4a5d-aeb1-8525b8f7c0e9",
   "metadata": {},
   "outputs": [],
   "source": []
  },
  {
   "cell_type": "code",
   "execution_count": 14,
   "id": "b30aec1fdea4b64d",
   "metadata": {
    "ExecuteTime": {
     "end_time": "2024-12-24T16:44:27.460353Z",
     "start_time": "2024-12-24T16:44:27.285835Z"
    },
    "collapsed": false,
    "jupyter": {
     "outputs_hidden": false
    }
   },
   "outputs": [
    {
     "name": "stdout",
     "output_type": "stream",
     "text": [
      "New names:\n",
      "• `` -> `...1`\n",
      "Rows: 8789 Columns: 13\n",
      "── Column specification ────────────────────────────────────────────────────────\n",
      "Delimiter: \"\\t\"\n",
      "chr  (1): ...1\n",
      "dbl (12): HCC1806.PAR.1, HCC1806.PAR.2, MDA.PAR.1, MDA.PAR.2, MCF7.1, MCF7.2...\n",
      "\n",
      "ℹ Use `spec()` to retrieve the full column specification for this data.\n",
      "ℹ Specify the column types or set `show_col_types = FALSE` to quiet this message.\n",
      "[1] 8789   12\n"
     ]
    }
   ],
   "source": [
    "%%R\n",
    "#full data\n",
    "stab.df <- read_tsv('data/BRCA-lines_log10_decay_rates_gs.txt') %>% select (-...1)\n",
    "dim(stab.df)"
   ]
  },
  {
   "cell_type": "code",
   "execution_count": 15,
   "id": "a80974d7946bda2d",
   "metadata": {
    "ExecuteTime": {
     "end_time": "2024-12-24T16:44:57.197401Z",
     "start_time": "2024-12-24T16:44:57.122885Z"
    },
    "collapsed": false,
    "jupyter": {
     "outputs_hidden": false
    }
   },
   "outputs": [
    {
     "name": "stdout",
     "output_type": "stream",
     "text": [
      "NULL\n"
     ]
    }
   ],
   "source": [
    "%%R\n",
    "#correlate each sample with the average of all\n",
    "#stab.df$avg <- rowMeans(stab.df)\n",
    "#correlate the average column with each column\n",
    "#for (i in 2:ncol(stab.df)){\n",
    "#    s <- cor.test(as.numeric(t(stab.df[,i])), as.numeric(t(stab.df[,\"avg\"])))\n",
    "#    print(s$estimate)\n",
    "#}"
   ]
  },
  {
   "cell_type": "code",
   "execution_count": 9,
   "id": "9158f959ae6fb5f3",
   "metadata": {
    "ExecuteTime": {
     "end_time": "2023-11-05T19:57:48.842009Z",
     "start_time": "2023-11-05T19:57:47.694823Z"
    },
    "collapsed": false,
    "jupyter": {
     "outputs_hidden": false
    }
   },
   "outputs": [
    {
     "name": "stdout",
     "output_type": "stream",
     "text": [
      "              HCC1806.PAR.1 HCC1806.PAR.2 MDA.PAR.1 MDA.PAR.2    MCF7.1\n",
      "     1.0000000     0.6706378 0.6052149 0.5865270 0.5115128\n",
      "     0.6706378     1.0000000 0.6593557 0.6411013 0.5646496\n",
      "     0.6052149     0.6593557 1.0000000 0.7169973 0.5555762\n",
      "     0.5865270     0.6411013 0.7169973 1.0000000 0.5382118\n",
      "     0.5115128     0.5646496 0.5555762 0.5382118 1.0000000\n",
      "     0.5653266     0.6218294 0.5996025 0.6025931 0.6871517\n",
      "     0.5330620     0.5406105 0.5537847 0.5738501 0.5626736\n",
      "     0.5177023     0.5403168 0.5528875 0.5658700 0.5877091\n",
      "     0.5660086     0.6014490 0.6044849 0.6097501 0.5951076\n",
      "     0.5810313     0.6077261 0.6228623 0.6298404 0.6025764\n",
      "     0.5328796     0.5485769 0.6020489 0.6040081 0.5879081\n",
      "     0.5184649     0.5184605 0.5523805 0.5498711 0.5673452\n",
      "                 MCF7.2 MDA.MD.453.1 MDA.MD.453.2   HCC38.1   HCC38.2   ZR.75.1\n",
      " 0.5653266    0.5330620    0.5177023 0.5660086 0.5810313 0.5328796\n",
      " 0.6218294    0.5406105    0.5403168 0.6014490 0.6077261 0.5485769\n",
      " 0.5996025    0.5537847    0.5528875 0.6044849 0.6228623 0.6020489\n",
      " 0.6025931    0.5738501    0.5658700 0.6097501 0.6298404 0.6040081\n",
      " 0.6871517    0.5626736    0.5877091 0.5951076 0.6025764 0.5879081\n",
      " 1.0000000    0.6184461    0.6063462 0.6217979 0.6449286 0.6215499\n",
      " 0.6184461    1.0000000    0.6702085 0.6231320 0.5762978 0.6064503\n",
      " 0.6063462    0.6702085    1.0000000 0.5724822 0.5835393 0.5909668\n",
      " 0.6217979    0.6231320    0.5724822 1.0000000 0.6757502 0.6091217\n",
      " 0.6449286    0.5762978    0.5835393 0.6757502 1.0000000 0.5973344\n",
      " 0.6215499    0.6064503    0.5909668 0.6091217 0.5973344 1.0000000\n",
      " 0.5886729    0.5552004    0.5534298 0.5694013 0.5550465 0.5815540\n",
      "                ZR.75.2\n",
      " 0.5184649R.1\n",
      " 0.5184605R.2\n",
      " 0.5523805   \n",
      " 0.5498711   \n",
      " 0.5673452   \n",
      " 0.5886729   \n",
      " 0.5552004.1 \n",
      " 0.5534298.2 \n",
      " 0.5694013   \n",
      " 0.5550465   \n",
      " 0.5815540   \n",
      " 1.0000000   \n"
     ]
    }
   ],
   "source": [
    "%%R\n",
    "library(corrplot)\n",
    "cor(stab.df)"
   ]
  },
  {
   "cell_type": "code",
   "execution_count": 25,
   "id": "5338aba8bc509458",
   "metadata": {
    "ExecuteTime": {
     "end_time": "2023-11-04T17:11:31.796138Z",
     "start_time": "2023-11-04T17:11:26.824841Z"
    },
    "collapsed": false,
    "jupyter": {
     "outputs_hidden": false
    }
   },
   "outputs": [
    {
     "name": "stdout",
     "output_type": "stream",
     "text": [
      "png \n",
      "  2 \n"
     ]
    },
    {
     "data": {
      "text/plain": [
       "In addition: Warning messages:\n",
       "1: In corrplot(cor(stab.df), method = \"circle\", type = \"upper\", tl.col = \"black\",  :\n",
       "  col.lim interval too wide, please set a suitable value\n",
       "2: In text.default(pos.xlabel[, 1], pos.xlabel[, 2], newcolnames, srt = tl.srt,  :\n",
       "  \"cl.lim\" is not a graphical parameter\n",
       "3: In text.default(pos.ylabel[, 1], pos.ylabel[, 2], newrownames, col = tl.col,  :\n",
       "  \"cl.lim\" is not a graphical parameter\n",
       "4: In title(title, ...) : \"cl.lim\" is not a graphical parameter\n"
      ]
     },
     "metadata": {},
     "output_type": "display_data"
    }
   ],
   "source": [
    "%%R\n",
    "#create a corr plot\n",
    "library(corrplot)\n",
    "\n",
    "pdf(\"results/stab_df_corr.pdf\", width = 8, height = 8)\n",
    "col_fun <- colorRampPalette(c(\"white\", \"#FFF8DC\", \"#FFEFD5\", \"#FFE4B5\", \n",
    "                              \"#FFDAB9\", \"#FFD700\", \"#FFA500\", \"#FF8C00\", \n",
    "                              \"#FF7F50\", \"#FF6347\", \"#FF4500\", \"#DC143C\", \n",
    "                              \"#B22222\", \"#8B0000\"))(200)\n",
    "corrplot(cor(stab.df), \n",
    "         method = \"circle\",\n",
    "         type = \"upper\", \n",
    "         tl.col = \"black\",\n",
    "         tl.srt = 45,\n",
    "         is.corr = FALSE,\n",
    "         cl.lim = c(0, 1),  # Force the legend to show 0.5-1\n",
    "         col = col_fun,\n",
    "         tl.cex = 0.8,\n",
    "         cl.cex = 0.8,\n",
    "         diag = FALSE,\n",
    "         # Add grid for better visibility\n",
    "         addgrid.col = \"gray90\",\n",
    "         #addCoef.col = \"black\",\n",
    "         #number.cex = 0.75,\n",
    "         # Manually set the color breaks\n",
    "         col.lim = c(0, 1))\n",
    "dev.off()\n",
    "\n",
    "#plt <- corrplot(cor(stab.df), method=\"circle\", type=\"upper\", tl.col=\"black\", tl.srt=45, col.lim=c(0.5,1))\n",
    "#plt"
   ]
  },
  {
   "cell_type": "code",
   "execution_count": 24,
   "id": "c122611c-5ca1-4e4c-89ad-73a899a76503",
   "metadata": {},
   "outputs": [
    {
     "name": "stdout",
     "output_type": "stream",
     "text": [
      "========================================\n",
      "CORRELATION MATRIX STATISTICS\n",
      "(Excluding diagonal)\n",
      "========================================\n",
      "\n",
      "Average correlation: 0.5891\n",
      "Median correlation:  0.5878\n",
      "Minimum correlation: 0.5115\n",
      "Maximum correlation: 0.7170\n",
      "Std deviation:       0.0430\n",
      "\n",
      "Number of correlations: 66\n"
     ]
    }
   ],
   "source": [
    "%%R\n",
    "# Calculate correlation matrix\n",
    "cor_matrix <- cor(stab.df)\n",
    "\n",
    "# Method 1: Extract upper triangle (excluding diagonal)\n",
    "upper_tri <- cor_matrix[upper.tri(cor_matrix, diag = FALSE)]\n",
    "\n",
    "# Calculate average correlation\n",
    "avg_cor <- mean(upper_tri)\n",
    "\n",
    "# Calculate other statistics\n",
    "min_cor <- min(upper_tri)\n",
    "max_cor <- max(upper_tri)\n",
    "median_cor <- median(upper_tri)\n",
    "sd_cor <- sd(upper_tri)\n",
    "\n",
    "# Print results\n",
    "cat(\"========================================\\n\")\n",
    "cat(\"CORRELATION MATRIX STATISTICS\\n\")\n",
    "cat(\"(Excluding diagonal)\\n\")\n",
    "cat(\"========================================\\n\\n\")\n",
    "\n",
    "cat(sprintf(\"Average correlation: %.4f\\n\", avg_cor))\n",
    "cat(sprintf(\"Median correlation:  %.4f\\n\", median_cor))\n",
    "cat(sprintf(\"Minimum correlation: %.4f\\n\", min_cor))\n",
    "cat(sprintf(\"Maximum correlation: %.4f\\n\", max_cor))\n",
    "cat(sprintf(\"Std deviation:       %.4f\\n\", sd_cor))\n",
    "cat(sprintf(\"\\nNumber of correlations: %d\\n\", length(upper_tri)))"
   ]
  },
  {
   "cell_type": "code",
   "execution_count": 28,
   "id": "7928aedeaa66347e",
   "metadata": {
    "ExecuteTime": {
     "end_time": "2023-11-04T17:08:34.778764Z",
     "start_time": "2023-11-04T17:08:34.724944Z"
    },
    "collapsed": false,
    "jupyter": {
     "outputs_hidden": false
    }
   },
   "outputs": [
    {
     "name": "stdout",
     "output_type": "stream",
     "text": [
      "[1] 7863   12\n"
     ]
    }
   ],
   "source": [
    "%%R\n",
    "stab.df <- stab.df %>% filter(!apply(., 1, function(x) any(x < -5)))\n",
    "dim(stab.df)"
   ]
  },
  {
   "cell_type": "code",
   "execution_count": 29,
   "id": "d783f5af75e7377a",
   "metadata": {
    "ExecuteTime": {
     "end_time": "2023-11-04T17:08:39.616260Z",
     "start_time": "2023-11-04T17:08:39.548300Z"
    },
    "collapsed": false,
    "jupyter": {
     "outputs_hidden": false
    }
   },
   "outputs": [
    {
     "name": "stdout",
     "output_type": "stream",
     "text": [
      " [1] \"HCC1806.PAR.1\" \"HCC1806.PAR.2\" \"MDA.PAR.1\"     \"MDA.PAR.2\"    \n",
      " [5] \"MCF7.1\"        \"MCF7.2\"        \"MDA.MD.453.1\"  \"MDA.MD.453.2\" \n",
      " [9] \"HCC38.1\"       \"HCC38.2\"       \"ZR.75.1\"       \"ZR.75.2\"      \n"
     ]
    }
   ],
   "source": [
    "%%R\n",
    "types <- unique(gsub(\"-\\\\d+$\", \"\", colnames(stab.df)))\n",
    "types"
   ]
  },
  {
   "cell_type": "code",
   "execution_count": 30,
   "id": "a05bb7fbe864708f",
   "metadata": {
    "ExecuteTime": {
     "end_time": "2023-11-04T17:19:38.524997Z",
     "start_time": "2023-11-04T17:19:23.961223Z"
    },
    "collapsed": false,
    "jupyter": {
     "outputs_hidden": false
    }
   },
   "outputs": [
    {
     "name": "stdout",
     "output_type": "stream",
     "text": [
      "`geom_smooth()` using formula = 'y ~ x'\n",
      "`geom_smooth()` using formula = 'y ~ x'\n",
      "`geom_smooth()` using formula = 'y ~ x'\n",
      "`geom_smooth()` using formula = 'y ~ x'\n",
      "`geom_smooth()` using formula = 'y ~ x'\n",
      "`geom_smooth()` using formula = 'y ~ x'\n",
      "`geom_smooth()` using formula = 'y ~ x'\n",
      "`geom_smooth()` using formula = 'y ~ x'\n",
      "`geom_smooth()` using formula = 'y ~ x'\n",
      "`geom_smooth()` using formula = 'y ~ x'\n",
      "`geom_smooth()` using formula = 'y ~ x'\n",
      "`geom_smooth()` using formula = 'y ~ x'\n",
      "Scatter plots saved to results/stab.df_scatter.pdf\n",
      "Created 6 scatter plots for replicate comparisons\n",
      "\n",
      "========================================\n",
      "REPLICATE CORRELATION SUMMARY\n",
      "========================================\n",
      "\n",
      "HCC1806.PAR    : R = 0.9247\n",
      "MDA.PAR        : R = 0.9550\n",
      "MCF7           : R = 0.9305\n",
      "MDA.MD.453     : R = 0.9108\n",
      "HCC38          : R = 0.9299\n",
      "ZR.75          : R = 0.8504\n"
     ]
    },
    {
     "data": {
      "text/plain": [
       "In addition: Warning message:\n",
       "`aes_string()` was deprecated in ggplot2 3.0.0.\n",
       "ℹ Please use tidy evaluation idioms with `aes()`.\n",
       "ℹ See also `vignette(\"ggplot2-in-packages\")` for more information.\n",
       "This warning is displayed once every 8 hours.\n",
       "Call `lifecycle::last_lifecycle_warnings()` to see where this warning was\n",
       "generated. \n"
      ]
     },
     "metadata": {},
     "output_type": "display_data"
    },
    {
     "data": {
      "image/png": "[encoded data removed]",
      "text/plain": [
       "<IPython.core.display.Image object>"
      ]
     },
     "metadata": {},
     "output_type": "display_data"
    }
   ],
   "source": [
    "%%R\n",
    "library(ggplot2)\n",
    "library(dplyr)\n",
    "library(ggrastr)\n",
    "library(patchwork)\n",
    "\n",
    "# Draw scatter plots for replicates\n",
    "scatter_plots <- list()\n",
    "types <- unique(gsub(\"\\\\.\\\\d+$\", \"\", colnames(stab.df)))\n",
    "\n",
    "for (type in types){\n",
    "    # Select columns for this cell type\n",
    "    type.df <- as.data.frame(stab.df %>% select(contains(type)))\n",
    "    \n",
    "    # Skip if there aren't exactly 2 replicates\n",
    "    if(ncol(type.df) != 2) {\n",
    "        next\n",
    "    }\n",
    "    \n",
    "    # Remove rows with values smaller than -5\n",
    "    tmp <- type.df %>% filter(!apply(., 1, function(x) any(x < -5)))\n",
    "    \n",
    "    # Get column names for proper referencing\n",
    "    col1_name <- colnames(tmp)[1]\n",
    "    col2_name <- colnames(tmp)[2]\n",
    "    \n",
    "    # Calculate correlation\n",
    "    s <- cor.test(tmp[,1], tmp[,2])\n",
    "    stat <- sprintf(\"R=%.3f\", s$estimate)\n",
    "    \n",
    "    # Create scatter plot with proper column referencing\n",
    "    scatter_plots[[type]] <- ggplot(tmp, aes_string(x = col1_name, y = col2_name)) + \n",
    "        geom_point_rast(color = \"#B7B7B7\", alpha = 0.5) +\n",
    "        geom_smooth(method = lm, level = 0.99, linewidth = 1) +  # Use linewidth instead of size\n",
    "        xlab(paste0(type, \" r1\")) + \n",
    "        ylab(paste0(type, \" r2\")) +\n",
    "        # Position annotation based on actual data range\n",
    "        annotate(\"text\", \n",
    "                 x = min(tmp[,1]) + 0.1 * diff(range(tmp[,1])), \n",
    "                 y = max(tmp[,2]) - 0.1 * diff(range(tmp[,2])), \n",
    "                 label = stat, size = 4, hjust = 0) +\n",
    "        theme_bw() + \n",
    "        theme(legend.position = \"none\", \n",
    "              panel.grid.minor = element_blank(), \n",
    "              aspect.ratio = 1)\n",
    "}\n",
    "\n",
    "# Check if we have any plots\n",
    "if(length(scatter_plots) == 0) {\n",
    "    cat(\"No cell types with exactly 2 replicates found.\\n\")\n",
    "} else {\n",
    "    # Merge list of plots\n",
    "    plt <- wrap_plots(scatter_plots, ncol = 2)\n",
    "    \n",
    "    # Save the plot\n",
    "    ggsave(filename = \"results/stab.df_scatter.pdf\", \n",
    "           plot = plt, \n",
    "           device = \"pdf\",\n",
    "           width = 8,\n",
    "           height = 4 * ceiling(length(scatter_plots)/2))\n",
    "    \n",
    "    # Display the plot\n",
    "    print(plt)\n",
    "    \n",
    "    cat(\"Scatter plots saved to results/stab.df_scatter.pdf\\n\")\n",
    "    cat(sprintf(\"Created %d scatter plots for replicate comparisons\\n\", length(scatter_plots)))\n",
    "}\n",
    "\n",
    "# Print correlation summary\n",
    "cat(\"\\n========================================\\n\")\n",
    "cat(\"REPLICATE CORRELATION SUMMARY\\n\")\n",
    "cat(\"========================================\\n\\n\")\n",
    "\n",
    "for (type in names(scatter_plots)){\n",
    "    type.df <- as.data.frame(stab.df %>% select(contains(type)))\n",
    "    if(ncol(type.df) == 2) {\n",
    "        cor_val <- cor(type.df[,1], type.df[,2])\n",
    "        cat(sprintf(\"%-15s: R = %.4f\\n\", type, cor_val))\n",
    "    }\n",
    "}"
   ]
  },
  {
   "cell_type": "code",
   "execution_count": 39,
   "id": "877143ce86f00369",
   "metadata": {
    "ExecuteTime": {
     "end_time": "2023-11-04T17:23:13.543682Z",
     "start_time": "2023-11-04T17:23:13.483489Z"
    },
    "collapsed": false,
    "jupyter": {
     "outputs_hidden": false
    }
   },
   "outputs": [
    {
     "data": {
      "image/png": "[encoded data removed]",
      "text/plain": [
       "<IPython.core.display.Image object>"
      ]
     },
     "metadata": {},
     "output_type": "display_data"
    }
   ],
   "source": [
    "%%R\n",
    "library(genefilter)\n",
    "gene_var <- rowVars(stab.df)\n",
    "\n",
    "hist(gene_var, breaks=1000)"
   ]
  },
  {
   "cell_type": "code",
   "execution_count": 43,
   "id": "f1ba9ef0-90a7-46be-a66e-605daab66b41",
   "metadata": {},
   "outputs": [
    {
     "name": "stdout",
     "output_type": "stream",
     "text": [
      "# A tibble: 6 × 12\n",
      "  HCC1806.PAR.1 HCC1806.PAR.2 MDA.PAR.1 MDA.PAR.2 MCF7.1 MCF7.2 MDA.MD.453.1\n",
      "          <dbl>         <dbl>     <dbl>     <dbl>  <dbl>  <dbl>        <dbl>\n",
      "1        -1.07        -1.28     -0.286   -0.640   -0.326 -0.665      -0.720 \n",
      "2        -0.125       -0.0582    0.0451  -0.00553 -0.377 -0.221       0.0638\n",
      "3        -0.171       -0.180     0.0741  -0.00402  0.108  0.336       0.954 \n",
      "4        -0.401       -0.165     0.289   -0.0617  -0.661 -0.556      -0.430 \n",
      "5        -1.05        -0.948    -0.743   -0.722   -0.452 -0.670      -0.605 \n",
      "6        -1.13        -0.768    -0.898   -1.14    -0.714 -1.26       -1.36  \n",
      "# ℹ 5 more variables: MDA.MD.453.2 <dbl>, HCC38.1 <dbl>, HCC38.2 <dbl>,\n",
      "#   ZR.75.1 <dbl>, ZR.75.2 <dbl>\n"
     ]
    }
   ],
   "source": [
    "%%R\n",
    "head(stab.df)"
   ]
  },
  {
   "cell_type": "code",
   "execution_count": null,
   "id": "d198ed8a-84a6-4293-994c-2869741835e6",
   "metadata": {},
   "outputs": [],
   "source": []
  },
  {
   "cell_type": "code",
   "execution_count": 44,
   "id": "113154645162620e",
   "metadata": {
    "ExecuteTime": {
     "end_time": "2023-11-04T17:40:52.996267Z",
     "start_time": "2023-11-04T17:40:52.973431Z"
    },
    "collapsed": false,
    "jupyter": {
     "outputs_hidden": false
    }
   },
   "outputs": [
    {
     "name": "stdout",
     "output_type": "stream",
     "text": [
      "========================================\n",
      "TOP 1000 MOST VARIABLE ROWS SELECTED\n",
      "========================================\n",
      "\n",
      "Total rows: 7863\n",
      "Selected: 1000 rows\n",
      "Percentage of variance explained: 40.80%\n",
      "Max variance: 4.4360\n",
      "Min variance in top 1000: 0.2034\n",
      "\n",
      "Subset dimensions: 1000 rows x 12 samples\n",
      "\n",
      "Data prepared for analysis:\n",
      "- stab.df.hvg: subset with top 1000 variable rows\n",
      "- scaled_data: log2-transformed and z-score normalized\n",
      "\n",
      "Row indices saved to 'top_1000_row_indices.txt'\n",
      "\n",
      "========================================\n",
      "DATA SUMMARY\n",
      "========================================\n",
      "Original data range: [ -4.82 , 3.38 ]\n",
      "HVG subset range: [ -4.82 , 3.38 ]\n",
      "Scaled data range: [ -3.16 , 2.82 ]\n"
     ]
    }
   ],
   "source": [
    "%%R\n",
    "#library(genefilter)\n",
    "\n",
    "# Convert tibble to data frame for easier handling\n",
    "stab.df <- as.data.frame(stab.df)\n",
    "\n",
    "# Calculate row variances\n",
    "gene_var <- rowVars(as.matrix(stab.df))\n",
    "\n",
    "# Sort by variance and get top 1000 row indices\n",
    "sorted_indices <- order(gene_var, decreasing = TRUE)[1:1000]\n",
    "\n",
    "# Create subset with top 1000 most variable rows\n",
    "stab.df.hvg <- stab.df[sorted_indices, ]\n",
    "\n",
    "# Calculate statistics\n",
    "total_variance <- sum(gene_var)\n",
    "variance_top_1000 <- sum(gene_var[sorted_indices])\n",
    "percent_explained <- (variance_top_1000 / total_variance) * 100\n",
    "\n",
    "cat(\"========================================\\n\")\n",
    "cat(\"TOP 1000 MOST VARIABLE ROWS SELECTED\\n\")\n",
    "cat(\"========================================\\n\\n\")\n",
    "cat(sprintf(\"Total rows: %d\\n\", nrow(stab.df)))\n",
    "cat(sprintf(\"Selected: 1000 rows\\n\"))\n",
    "cat(sprintf(\"Percentage of variance explained: %.2f%%\\n\", percent_explained))\n",
    "cat(sprintf(\"Max variance: %.4f\\n\", max(gene_var)))\n",
    "cat(sprintf(\"Min variance in top 1000: %.4f\\n\", gene_var[sorted_indices[1000]]))\n",
    "cat(sprintf(\"\\nSubset dimensions: %d rows x %d samples\\n\", \n",
    "            nrow(stab.df.hvg), ncol(stab.df.hvg)))\n",
    "\n",
    "# Create scaled data for downstream analysis\n",
    "log_data <- log2(abs(stab.df.hvg) + 1e-10)  # abs() to handle negative values\n",
    "scaled_data <- t(scale(t(log_data)))\n",
    "\n",
    "cat(\"\\nData prepared for analysis:\\n\")\n",
    "cat(\"- stab.df.hvg: subset with top 1000 variable rows\\n\")\n",
    "cat(\"- scaled_data: log2-transformed and z-score normalized\\n\")\n",
    "\n",
    "# Save the row indices for reference\n",
    "write.table(sorted_indices, \n",
    "            file = \"top_1000_row_indices.txt\", \n",
    "            quote = FALSE, \n",
    "            row.names = FALSE, \n",
    "            col.names = FALSE)\n",
    "cat(\"\\nRow indices saved to 'top_1000_row_indices.txt'\\n\")\n",
    "\n",
    "# Quick data check\n",
    "cat(\"\\n========================================\\n\")\n",
    "cat(\"DATA SUMMARY\\n\")\n",
    "cat(\"========================================\\n\")\n",
    "cat(\"Original data range: [\", round(min(stab.df), 2), \",\", round(max(stab.df), 2), \"]\\n\")\n",
    "cat(\"HVG subset range: [\", round(min(stab.df.hvg), 2), \",\", round(max(stab.df.hvg), 2), \"]\\n\")\n",
    "cat(\"Scaled data range: [\", round(min(scaled_data, na.rm=TRUE), 2), \",\", \n",
    "    round(max(scaled_data, na.rm=TRUE), 2), \"]\\n\")"
   ]
  },
  {
   "cell_type": "code",
   "execution_count": 45,
   "id": "cf8cbf2f3b72d59c",
   "metadata": {
    "ExecuteTime": {
     "end_time": "2023-11-04T17:40:54.171140Z",
     "start_time": "2023-11-04T17:40:54.127114Z"
    },
    "collapsed": false,
    "jupyter": {
     "outputs_hidden": false
    }
   },
   "outputs": [],
   "source": [
    "%%R\n",
    "#z-score normalize by row\n",
    "stab.df.hv.z <- t(apply(stab.df.hvg, 1, function(x) (x - mean(x))/sd(x)))"
   ]
  },
  {
   "cell_type": "code",
   "execution_count": 46,
   "id": "e4eab61681931364",
   "metadata": {
    "ExecuteTime": {
     "end_time": "2023-11-04T19:30:14.623507Z",
     "start_time": "2023-11-04T19:30:14.434506Z"
    },
    "collapsed": false,
    "jupyter": {
     "outputs_hidden": false
    }
   },
   "outputs": [
    {
     "data": {
      "image/png": "[encoded data removed]",
      "text/plain": [
       "<IPython.core.display.Image object>"
      ]
     },
     "metadata": {},
     "output_type": "display_data"
    }
   ],
   "source": [
    "%%R\n",
    "library(pheatmap)\n",
    "library(RColorBrewer)\n",
    "library(viridis)\n",
    "\n",
    "colnames(stab.df.hvg) <- gsub(\"MDA-PAR\", \"MDA-MB-231\", gsub(\"HCC1806-PAR\", \"HCC1806\", gsub(\"-(\\\\d)$\", \"-r\\\\1\", gsub(\"\\\\.\", \"-\", colnames(stab.df.hvg)))))\n",
    "\n",
    "breaksList = seq(-2, 1, by = 0.05)\n",
    "pheatmap(stab.df.hvg,\n",
    "         color=viridis(length(breaksList)-1),\n",
    "         breaks = breaksList,\n",
    "         show_rownames = FALSE,\n",
    "         treeheight_row = 0,\n",
    "         border_color=NA)\n"
   ]
  },
  {
   "cell_type": "code",
   "execution_count": 47,
   "id": "2a72db20-8fc6-40d0-a253-bda8303e40e6",
   "metadata": {},
   "outputs": [
    {
     "name": "stdout",
     "output_type": "stream",
     "text": [
      "[1] 1000   12\n"
     ]
    }
   ],
   "source": [
    "%%R \n",
    "dim(stab.df.hvg)"
   ]
  },
  {
   "cell_type": "code",
   "execution_count": 48,
   "id": "b667e3a1be53d3ee",
   "metadata": {
    "ExecuteTime": {
     "end_time": "2023-11-04T19:30:20.375438Z",
     "start_time": "2023-11-04T19:30:20.137372Z"
    },
    "collapsed": false,
    "jupyter": {
     "outputs_hidden": false
    }
   },
   "outputs": [
    {
     "name": "stdout",
     "output_type": "stream",
     "text": [
      "png \n",
      "  2 \n"
     ]
    },
    {
     "data": {
      "image/png": "[encoded data removed]",
      "text/plain": [
       "<IPython.core.display.Image object>"
      ]
     },
     "metadata": {},
     "output_type": "display_data"
    }
   ],
   "source": [
    "%%R\n",
    "xx <- pheatmap(stab.df.hvg,\n",
    "               color=viridis(length(breaksList)-1),\n",
    "               breaks = breaksList,\n",
    "               show_rownames = FALSE,\n",
    "               treeheight_row = 0,\n",
    "               border_color=NA)\n",
    "\n",
    "pdf(\"results/stability_heatmap.pdf\", width=3, height=5)\n",
    "grid::grid.newpage()\n",
    "grid::grid.draw(xx$gtable)\n",
    "dev.off()"
   ]
  },
  {
   "cell_type": "code",
   "execution_count": 215,
   "id": "133af6394c0b3586",
   "metadata": {
    "ExecuteTime": {
     "end_time": "2023-11-04T19:21:15.911497Z",
     "start_time": "2023-11-04T19:21:15.844900Z"
    },
    "collapsed": false,
    "jupyter": {
     "outputs_hidden": false
    }
   },
   "outputs": [
    {
     "name": "stdout",
     "output_type": "stream",
     "text": [
      " [1] \"HCC1806-r1\"    \"HCC1806-r2\"    \"MDA-MB-231-r1\" \"MDA-MB-231-r2\"\n",
      " [5] \"MCF7-r1\"       \"MCF7-r2\"       \"MDA-MD-453-r1\" \"MDA-MD-453-r2\"\n",
      " [9] \"HCC38-r1\"      \"HCC38-r2\"      \"ZR-75-r1\"      \"ZR-75-r2\"     \n"
     ]
    }
   ],
   "source": [
    "%%R\n",
    "\n"
   ]
  },
  {
   "cell_type": "code",
   "execution_count": 216,
   "id": "9667be49b110a9b6",
   "metadata": {
    "ExecuteTime": {
     "end_time": "2023-11-04T19:21:36.970451Z",
     "start_time": "2023-11-04T19:21:36.273982Z"
    },
    "collapsed": false,
    "jupyter": {
     "outputs_hidden": false
    }
   },
   "outputs": [
    {
     "data": {
      "image/png": "[encoded data removed]"
     },
     "metadata": {},
     "output_type": "display_data"
    }
   ],
   "source": [
    "%%R\n",
    "#perform pca and plot\n",
    "pca <- prcomp(stab.df, center = T, scale. = F)\n",
    "\n",
    "library(ggrepel)\n",
    "#plot pca\n",
    "rotation.pca <- as.data.frame(pca$rotation)\n",
    "rotation.pca[\"type\"] <- gsub(\"\\\\.\\\\d+\", \"\", rownames(rotation.pca))\n",
    "rownames(rotation.pca) <- gsub(\"MDA-PAR\", \"MDA-MB-231\", gsub(\"HCC1806-PAR\", \"HCC1806\", gsub(\"-(\\\\d)$\", \"-r\\\\1\", gsub(\"\\\\.\", \"-\", rownames(rotation.pca)))))\n",
    "var.pca <- summary(pca)$importance[2,]\n",
    "plt <- ggplot(rotation.pca, aes(PC1, PC2, color=type)) + geom_point(shape = 16) +\n",
    "geom_label_repel(aes(label=rownames(rotation.pca))) +\n",
    "xlab(paste0(\"PC1 (\", var.pca[1]*100,\"% of variance)\")) +\n",
    "ylab(paste0(\"PC2 (\", var.pca[2]*100,\"% of variance)\")) +\n",
    "theme_bw() + theme(legend.position=\"none\", panel.grid.minor = element_blank())\n",
    "ggsave(\"results/stab_df_pca.pdf\", width=4, height=4)\n",
    "plt"
   ]
  },
  {
   "cell_type": "markdown",
   "id": "be2675123cf86516",
   "metadata": {
    "collapsed": false,
    "jupyter": {
     "outputs_hidden": false
    }
   },
   "source": [
    "### History plots"
   ]
  },
  {
   "cell_type": "code",
   "execution_count": 305,
   "id": "c2b4c66d0e0e2e0f",
   "metadata": {
    "ExecuteTime": {
     "end_time": "2023-11-04T21:56:50.463430Z",
     "start_time": "2023-11-04T21:56:50.395506Z"
    },
    "collapsed": false,
    "jupyter": {
     "outputs_hidden": false
    }
   },
   "outputs": [],
   "source": [
    "train_list = []\n",
    "val_list = []\n",
    "step = 0\n",
    "with open(\"models/history.log\") as f:\n",
    "    for line in f:\n",
    "        a = line.rstrip().split(\"\\t\")    \n",
    "        stype, d1, loss = a[0].split(\": \")\n",
    "        d2, R = a[1].split(\": \")\n",
    "        if stype==\"Train\":\n",
    "            train_list.append({\"step\": step, \"loss\": float(loss), \"R\": float(R)})\n",
    "            step += 1\n",
    "        else:\n",
    "            val_list.append({\"step\": step, \"loss\": float(loss), \"R\": float(R)})"
   ]
  },
  {
   "cell_type": "code",
   "execution_count": 306,
   "id": "de9fd440f34205bb",
   "metadata": {
    "ExecuteTime": {
     "end_time": "2023-11-04T21:56:51.324313Z",
     "start_time": "2023-11-04T21:56:51.214817Z"
    },
    "collapsed": false,
    "jupyter": {
     "outputs_hidden": false
    }
   },
   "outputs": [
    {
     "data": {
      "text/html": [
       "<div>\n",
       "<style scoped>\n",
       "    .dataframe tbody tr th:only-of-type {\n",
       "        vertical-align: middle;\n",
       "    }\n",
       "\n",
       "    .dataframe tbody tr th {\n",
       "        vertical-align: top;\n",
       "    }\n",
       "\n",
       "    .dataframe thead th {\n",
       "        text-align: right;\n",
       "    }\n",
       "</style>\n",
       "<table border=\"1\" class=\"dataframe\">\n",
       "  <thead>\n",
       "    <tr style=\"text-align: right;\">\n",
       "      <th></th>\n",
       "      <th>step</th>\n",
       "      <th>loss</th>\n",
       "      <th>R</th>\n",
       "    </tr>\n",
       "  </thead>\n",
       "  <tbody>\n",
       "    <tr>\n",
       "      <th>0</th>\n",
       "      <td>0</td>\n",
       "      <td>44.796658</td>\n",
       "      <td>0.276482</td>\n",
       "    </tr>\n",
       "    <tr>\n",
       "      <th>1</th>\n",
       "      <td>1</td>\n",
       "      <td>36.566643</td>\n",
       "      <td>0.127393</td>\n",
       "    </tr>\n",
       "    <tr>\n",
       "      <th>2</th>\n",
       "      <td>2</td>\n",
       "      <td>32.135712</td>\n",
       "      <td>-0.255836</td>\n",
       "    </tr>\n",
       "    <tr>\n",
       "      <th>3</th>\n",
       "      <td>3</td>\n",
       "      <td>20.370953</td>\n",
       "      <td>0.198482</td>\n",
       "    </tr>\n",
       "    <tr>\n",
       "      <th>4</th>\n",
       "      <td>4</td>\n",
       "      <td>11.440815</td>\n",
       "      <td>0.280303</td>\n",
       "    </tr>\n",
       "  </tbody>\n",
       "</table>\n",
       "</div>"
      ],
      "text/plain": [
       "   step       loss         R\n",
       "0     0  44.796658  0.276482\n",
       "1     1  36.566643  0.127393\n",
       "2     2  32.135712 -0.255836\n",
       "3     3  20.370953  0.198482\n",
       "4     4  11.440815  0.280303"
      ]
     },
     "execution_count": 306,
     "metadata": {},
     "output_type": "execute_result"
    }
   ],
   "source": [
    "import pandas as pd\n",
    "train_df = pd.DataFrame(train_list)\n",
    "train_df.head()"
   ]
  },
  {
   "cell_type": "code",
   "execution_count": 307,
   "id": "92fde5ed373ab968",
   "metadata": {
    "ExecuteTime": {
     "end_time": "2023-11-04T21:56:52.593021Z",
     "start_time": "2023-11-04T21:56:52.586355Z"
    },
    "collapsed": false,
    "jupyter": {
     "outputs_hidden": false
    }
   },
   "outputs": [
    {
     "data": {
      "text/html": [
       "<div>\n",
       "<style scoped>\n",
       "    .dataframe tbody tr th:only-of-type {\n",
       "        vertical-align: middle;\n",
       "    }\n",
       "\n",
       "    .dataframe tbody tr th {\n",
       "        vertical-align: top;\n",
       "    }\n",
       "\n",
       "    .dataframe thead th {\n",
       "        text-align: right;\n",
       "    }\n",
       "</style>\n",
       "<table border=\"1\" class=\"dataframe\">\n",
       "  <thead>\n",
       "    <tr style=\"text-align: right;\">\n",
       "      <th></th>\n",
       "      <th>step</th>\n",
       "      <th>loss</th>\n",
       "      <th>R</th>\n",
       "    </tr>\n",
       "  </thead>\n",
       "  <tbody>\n",
       "    <tr>\n",
       "      <th>0</th>\n",
       "      <td>0</td>\n",
       "      <td>44.796658</td>\n",
       "      <td>0.276482</td>\n",
       "    </tr>\n",
       "    <tr>\n",
       "      <th>1838</th>\n",
       "      <td>1838</td>\n",
       "      <td>81.359352</td>\n",
       "      <td>0.117773</td>\n",
       "    </tr>\n",
       "    <tr>\n",
       "      <th>3676</th>\n",
       "      <td>3676</td>\n",
       "      <td>22.666243</td>\n",
       "      <td>0.017477</td>\n",
       "    </tr>\n",
       "    <tr>\n",
       "      <th>5514</th>\n",
       "      <td>5514</td>\n",
       "      <td>15.050385</td>\n",
       "      <td>0.123296</td>\n",
       "    </tr>\n",
       "    <tr>\n",
       "      <th>7352</th>\n",
       "      <td>7352</td>\n",
       "      <td>11.250436</td>\n",
       "      <td>0.393565</td>\n",
       "    </tr>\n",
       "  </tbody>\n",
       "</table>\n",
       "</div>"
      ],
      "text/plain": [
       "      step       loss         R\n",
       "0        0  44.796658  0.276482\n",
       "1838  1838  81.359352  0.117773\n",
       "3676  3676  22.666243  0.017477\n",
       "5514  5514  15.050385  0.123296\n",
       "7352  7352  11.250436  0.393565"
      ]
     },
     "execution_count": 307,
     "metadata": {},
     "output_type": "execute_result"
    }
   ],
   "source": [
    "#collect every 1838th row\n",
    "#train_df_f = pd.concat([train_df.iloc[::1838, :], train_df.iloc[1::1838, :], train_df.iloc[2::1838, :]], ignore_index=True).sort_values(by=\"step\")\n",
    "train_df_f = train_df.iloc[0::1838, :]\n",
    "train_df_f.head()"
   ]
  },
  {
   "cell_type": "code",
   "execution_count": 308,
   "id": "205b362c539162b7",
   "metadata": {
    "ExecuteTime": {
     "end_time": "2023-11-04T21:56:53.608839Z",
     "start_time": "2023-11-04T21:56:53.572779Z"
    },
    "collapsed": false,
    "jupyter": {
     "outputs_hidden": false
    }
   },
   "outputs": [
    {
     "data": {
      "text/html": [
       "<div>\n",
       "<style scoped>\n",
       "    .dataframe tbody tr th:only-of-type {\n",
       "        vertical-align: middle;\n",
       "    }\n",
       "\n",
       "    .dataframe tbody tr th {\n",
       "        vertical-align: top;\n",
       "    }\n",
       "\n",
       "    .dataframe thead th {\n",
       "        text-align: right;\n",
       "    }\n",
       "</style>\n",
       "<table border=\"1\" class=\"dataframe\">\n",
       "  <thead>\n",
       "    <tr style=\"text-align: right;\">\n",
       "      <th></th>\n",
       "      <th>step</th>\n",
       "      <th>loss</th>\n",
       "      <th>R</th>\n",
       "    </tr>\n",
       "  </thead>\n",
       "  <tbody>\n",
       "    <tr>\n",
       "      <th>0</th>\n",
       "      <td>114.5</td>\n",
       "      <td>27.326660</td>\n",
       "      <td>0.226192</td>\n",
       "    </tr>\n",
       "    <tr>\n",
       "      <th>1</th>\n",
       "      <td>344.5</td>\n",
       "      <td>28.097804</td>\n",
       "      <td>0.251477</td>\n",
       "    </tr>\n",
       "    <tr>\n",
       "      <th>2</th>\n",
       "      <td>574.5</td>\n",
       "      <td>26.627155</td>\n",
       "      <td>0.239743</td>\n",
       "    </tr>\n",
       "    <tr>\n",
       "      <th>3</th>\n",
       "      <td>804.5</td>\n",
       "      <td>29.512265</td>\n",
       "      <td>0.238209</td>\n",
       "    </tr>\n",
       "    <tr>\n",
       "      <th>4</th>\n",
       "      <td>1034.5</td>\n",
       "      <td>26.429487</td>\n",
       "      <td>0.246760</td>\n",
       "    </tr>\n",
       "  </tbody>\n",
       "</table>\n",
       "</div>"
      ],
      "text/plain": [
       "     step       loss         R\n",
       "0   114.5  27.326660  0.226192\n",
       "1   344.5  28.097804  0.251477\n",
       "2   574.5  26.627155  0.239743\n",
       "3   804.5  29.512265  0.238209\n",
       "4  1034.5  26.429487  0.246760"
      ]
     },
     "execution_count": 308,
     "metadata": {},
     "output_type": "execute_result"
    }
   ],
   "source": [
    "#average every 1838 rows\n",
    "train_df_f = train_df.groupby(np.arange(len(train_df))//230).mean()\n",
    "train_df_f.head()"
   ]
  },
  {
   "cell_type": "code",
   "execution_count": 309,
   "id": "8aeb7b4dd6d8c90d",
   "metadata": {
    "ExecuteTime": {
     "end_time": "2023-11-04T21:56:55.502031Z",
     "start_time": "2023-11-04T21:56:54.747132Z"
    },
    "collapsed": false,
    "jupyter": {
     "outputs_hidden": false
    }
   },
   "outputs": [
    {
     "name": "stderr",
     "output_type": "stream",
     "text": [
      "/avicenna/hani/anaconda3/lib/python3.6/site-packages/matplotlib/cbook/__init__.py:1402: FutureWarning: Support for multi-dimensional indexing (e.g. `obj[:, None]`) is deprecated and will be removed in a future version.  Convert to a numpy array before indexing instead.\n",
      "  x[:, None]\n",
      "/avicenna/hani/anaconda3/lib/python3.6/site-packages/matplotlib/axes/_base.py:276: FutureWarning: Support for multi-dimensional indexing (e.g. `obj[:, None]`) is deprecated and will be removed in a future version.  Convert to a numpy array before indexing instead.\n",
      "  x = x[:, np.newaxis]\n",
      "/avicenna/hani/anaconda3/lib/python3.6/site-packages/matplotlib/axes/_base.py:278: FutureWarning: Support for multi-dimensional indexing (e.g. `obj[:, None]`) is deprecated and will be removed in a future version.  Convert to a numpy array before indexing instead.\n",
      "  y = y[:, np.newaxis]\n"
     ]
    },
    {
     "data": {
      "image/png": "[encoded data removed]",
      "text/plain": [
       "<Figure size 432x288 with 2 Axes>"
      ]
     },
     "metadata": {
      "needs_background": "light"
     },
     "output_type": "display_data"
    }
   ],
   "source": [
    "#plot loss and R on one line graph with step as x and two y-axes\n",
    "import matplotlib.pyplot as plt\n",
    "import matplotlib\n",
    "matplotlib.rcParams['pdf.fonttype'] = 42\n",
    "matplotlib.rcParams['ps.fonttype'] = 42\n",
    "\n",
    "import numpy as np\n",
    "fig, ax1 = plt.subplots()\n",
    "ax1.plot(train_df_f[\"step\"], train_df_f[\"loss\"], color='#9776FF')\n",
    "ax1.set_xlabel(\"step\")\n",
    "ax1.set(ylabel='Loss (MSE)')\n",
    "ax1.legend(labels=[\"loss\"])\n",
    "ax2 = ax1.twinx()\n",
    "ax2.plot(train_df_f[\"step\"], train_df_f[\"R\"], color='#FFAD76')\n",
    "ax2.set(xlabel='Epochs', ylabel='Pearson correlation (R)')\n",
    "ax2.legend(labels=[\"R\"])\n",
    "plt.savefig(\"results/history_train.pdf\")\n",
    "plt.show()"
   ]
  },
  {
   "cell_type": "code",
   "execution_count": 287,
   "id": "3a9283b1089288ef",
   "metadata": {
    "ExecuteTime": {
     "end_time": "2023-11-04T21:30:10.529229Z",
     "start_time": "2023-11-04T21:30:10.477983Z"
    },
    "collapsed": false,
    "jupyter": {
     "outputs_hidden": false
    }
   },
   "outputs": [
    {
     "data": {
      "text/html": [
       "<div>\n",
       "<style scoped>\n",
       "    .dataframe tbody tr th:only-of-type {\n",
       "        vertical-align: middle;\n",
       "    }\n",
       "\n",
       "    .dataframe tbody tr th {\n",
       "        vertical-align: top;\n",
       "    }\n",
       "\n",
       "    .dataframe thead th {\n",
       "        text-align: right;\n",
       "    }\n",
       "</style>\n",
       "<table border=\"1\" class=\"dataframe\">\n",
       "  <thead>\n",
       "    <tr style=\"text-align: right;\">\n",
       "      <th></th>\n",
       "      <th>step</th>\n",
       "      <th>loss</th>\n",
       "      <th>R</th>\n",
       "    </tr>\n",
       "  </thead>\n",
       "  <tbody>\n",
       "    <tr>\n",
       "      <th>0</th>\n",
       "      <td>1838</td>\n",
       "      <td>0.814338</td>\n",
       "      <td>0.392161</td>\n",
       "    </tr>\n",
       "    <tr>\n",
       "      <th>1</th>\n",
       "      <td>3676</td>\n",
       "      <td>0.804377</td>\n",
       "      <td>0.423977</td>\n",
       "    </tr>\n",
       "    <tr>\n",
       "      <th>2</th>\n",
       "      <td>5514</td>\n",
       "      <td>0.742358</td>\n",
       "      <td>0.492551</td>\n",
       "    </tr>\n",
       "    <tr>\n",
       "      <th>3</th>\n",
       "      <td>7352</td>\n",
       "      <td>0.716362</td>\n",
       "      <td>0.512952</td>\n",
       "    </tr>\n",
       "    <tr>\n",
       "      <th>4</th>\n",
       "      <td>9190</td>\n",
       "      <td>0.720951</td>\n",
       "      <td>0.478399</td>\n",
       "    </tr>\n",
       "  </tbody>\n",
       "</table>\n",
       "</div>"
      ],
      "text/plain": [
       "   step      loss         R\n",
       "0  1838  0.814338  0.392161\n",
       "1  3676  0.804377  0.423977\n",
       "2  5514  0.742358  0.492551\n",
       "3  7352  0.716362  0.512952\n",
       "4  9190  0.720951  0.478399"
      ]
     },
     "execution_count": 287,
     "metadata": {},
     "output_type": "execute_result"
    }
   ],
   "source": [
    "valid_df = pd.DataFrame(val_list)\n",
    "valid_df.head()"
   ]
  },
  {
   "cell_type": "code",
   "execution_count": 288,
   "id": "20d8b5ea4ff6ba8d",
   "metadata": {
    "ExecuteTime": {
     "end_time": "2023-11-04T21:30:48.504091Z",
     "start_time": "2023-11-04T21:30:47.863280Z"
    },
    "collapsed": false,
    "jupyter": {
     "outputs_hidden": false
    }
   },
   "outputs": [
    {
     "name": "stderr",
     "output_type": "stream",
     "text": [
      "/avicenna/hani/anaconda3/lib/python3.6/site-packages/matplotlib/cbook/__init__.py:1402: FutureWarning: Support for multi-dimensional indexing (e.g. `obj[:, None]`) is deprecated and will be removed in a future version.  Convert to a numpy array before indexing instead.\n",
      "  x[:, None]\n",
      "/avicenna/hani/anaconda3/lib/python3.6/site-packages/matplotlib/axes/_base.py:276: FutureWarning: Support for multi-dimensional indexing (e.g. `obj[:, None]`) is deprecated and will be removed in a future version.  Convert to a numpy array before indexing instead.\n",
      "  x = x[:, np.newaxis]\n",
      "/avicenna/hani/anaconda3/lib/python3.6/site-packages/matplotlib/axes/_base.py:278: FutureWarning: Support for multi-dimensional indexing (e.g. `obj[:, None]`) is deprecated and will be removed in a future version.  Convert to a numpy array before indexing instead.\n",
      "  y = y[:, np.newaxis]\n"
     ]
    },
    {
     "data": {
      "image/png": "[encoded data removed]",
      "text/plain": [
       "<Figure size 432x288 with 2 Axes>"
      ]
     },
     "metadata": {
      "needs_background": "light"
     },
     "output_type": "display_data"
    }
   ],
   "source": [
    "fig, ax1 = plt.subplots()\n",
    "ax1.plot(valid_df[\"step\"], valid_df[\"loss\"], color='#9776FF')\n",
    "ax1.set_xlabel(\"step\")\n",
    "ax1.set(ylabel='Loss (MSE)')\n",
    "ax1.legend(labels=[\"loss\"])\n",
    "ax2 = ax1.twinx()\n",
    "ax2.plot(valid_df[\"step\"], valid_df[\"R\"], color='#FFAD76')\n",
    "ax2.set(xlabel='Epochs', ylabel='Pearson correlation (R)')\n",
    "ax2.legend(labels=[\"R\"])\n",
    "plt.savefig(\"results/history_valid.pdf\")\n",
    "plt.show()"
   ]
  },
  {
   "cell_type": "markdown",
   "id": "722de5d0e899882a",
   "metadata": {
    "collapsed": false,
    "jupyter": {
     "outputs_hidden": false
    }
   },
   "source": [
    "## RBMS3 regulon"
   ]
  },
  {
   "cell_type": "code",
   "execution_count": 51,
   "id": "3e95f805d0400bf2",
   "metadata": {
    "ExecuteTime": {
     "end_time": "2023-11-11T18:36:22.467035Z",
     "start_time": "2023-11-11T18:36:22.129364Z"
    },
    "collapsed": false,
    "jupyter": {
     "outputs_hidden": false
    }
   },
   "outputs": [
    {
     "data": {
      "text/html": [
       "<div>\n",
       "<style scoped>\n",
       "    .dataframe tbody tr th:only-of-type {\n",
       "        vertical-align: middle;\n",
       "    }\n",
       "\n",
       "    .dataframe tbody tr th {\n",
       "        vertical-align: top;\n",
       "    }\n",
       "\n",
       "    .dataframe thead th {\n",
       "        text-align: right;\n",
       "    }\n",
       "</style>\n",
       "<table border=\"1\" class=\"dataframe\">\n",
       "  <thead>\n",
       "    <tr style=\"text-align: right;\">\n",
       "      <th></th>\n",
       "      <th>HCC1806-PAR-1</th>\n",
       "      <th>HCC1806-PAR-2</th>\n",
       "      <th>MDA-PAR-1</th>\n",
       "      <th>MDA-PAR-2</th>\n",
       "      <th>MCF7-1</th>\n",
       "      <th>MCF7-2</th>\n",
       "      <th>MDA-MD-453-1</th>\n",
       "      <th>MDA-MD-453-2</th>\n",
       "      <th>HCC38-1</th>\n",
       "      <th>HCC38-2</th>\n",
       "      <th>ZR-75-1</th>\n",
       "      <th>ZR-75-2</th>\n",
       "    </tr>\n",
       "    <tr>\n",
       "      <th>GENE</th>\n",
       "      <th></th>\n",
       "      <th></th>\n",
       "      <th></th>\n",
       "      <th></th>\n",
       "      <th></th>\n",
       "      <th></th>\n",
       "      <th></th>\n",
       "      <th></th>\n",
       "      <th></th>\n",
       "      <th></th>\n",
       "      <th></th>\n",
       "      <th></th>\n",
       "    </tr>\n",
       "  </thead>\n",
       "  <tbody>\n",
       "    <tr>\n",
       "      <th>A1BG</th>\n",
       "      <td>1.352520</td>\n",
       "      <td>1.353212</td>\n",
       "      <td>0.561130</td>\n",
       "      <td>0.562999</td>\n",
       "      <td>0.438121</td>\n",
       "      <td>0.391722</td>\n",
       "      <td>1.158195</td>\n",
       "      <td>1.280572</td>\n",
       "      <td>0.825173</td>\n",
       "      <td>0.981491</td>\n",
       "      <td>1.248863</td>\n",
       "      <td>1.125386</td>\n",
       "    </tr>\n",
       "    <tr>\n",
       "      <th>AAAS</th>\n",
       "      <td>0.044358</td>\n",
       "      <td>0.164927</td>\n",
       "      <td>-0.085645</td>\n",
       "      <td>0.240688</td>\n",
       "      <td>-0.012887</td>\n",
       "      <td>-0.054587</td>\n",
       "      <td>-0.066918</td>\n",
       "      <td>0.145048</td>\n",
       "      <td>0.192854</td>\n",
       "      <td>0.280589</td>\n",
       "      <td>0.208969</td>\n",
       "      <td>0.062319</td>\n",
       "    </tr>\n",
       "    <tr>\n",
       "      <th>AACS</th>\n",
       "      <td>0.534145</td>\n",
       "      <td>0.616855</td>\n",
       "      <td>0.526016</td>\n",
       "      <td>0.569601</td>\n",
       "      <td>0.758398</td>\n",
       "      <td>0.710714</td>\n",
       "      <td>0.553772</td>\n",
       "      <td>0.592084</td>\n",
       "      <td>0.680561</td>\n",
       "      <td>0.741635</td>\n",
       "      <td>0.840785</td>\n",
       "      <td>0.935845</td>\n",
       "    </tr>\n",
       "    <tr>\n",
       "      <th>AAED1</th>\n",
       "      <td>0.596877</td>\n",
       "      <td>0.662339</td>\n",
       "      <td>0.660540</td>\n",
       "      <td>0.688598</td>\n",
       "      <td>0.526909</td>\n",
       "      <td>0.441211</td>\n",
       "      <td>-0.068981</td>\n",
       "      <td>0.124260</td>\n",
       "      <td>0.355065</td>\n",
       "      <td>0.561544</td>\n",
       "      <td>0.290039</td>\n",
       "      <td>0.315982</td>\n",
       "    </tr>\n",
       "    <tr>\n",
       "      <th>AAGAB</th>\n",
       "      <td>0.623690</td>\n",
       "      <td>0.753050</td>\n",
       "      <td>0.475499</td>\n",
       "      <td>0.563754</td>\n",
       "      <td>0.956415</td>\n",
       "      <td>1.058104</td>\n",
       "      <td>1.041304</td>\n",
       "      <td>1.141294</td>\n",
       "      <td>0.740448</td>\n",
       "      <td>1.019033</td>\n",
       "      <td>1.213546</td>\n",
       "      <td>0.765552</td>\n",
       "    </tr>\n",
       "  </tbody>\n",
       "</table>\n",
       "</div>"
      ],
      "text/plain": [
       "       HCC1806-PAR-1  HCC1806-PAR-2  MDA-PAR-1  MDA-PAR-2    MCF7-1    MCF7-2  \\\n",
       "GENE                                                                            \n",
       "A1BG        1.352520       1.353212   0.561130   0.562999  0.438121  0.391722   \n",
       "AAAS        0.044358       0.164927  -0.085645   0.240688 -0.012887 -0.054587   \n",
       "AACS        0.534145       0.616855   0.526016   0.569601  0.758398  0.710714   \n",
       "AAED1       0.596877       0.662339   0.660540   0.688598  0.526909  0.441211   \n",
       "AAGAB       0.623690       0.753050   0.475499   0.563754  0.956415  1.058104   \n",
       "\n",
       "       MDA-MD-453-1  MDA-MD-453-2   HCC38-1   HCC38-2   ZR-75-1   ZR-75-2  \n",
       "GENE                                                                       \n",
       "A1BG       1.158195      1.280572  0.825173  0.981491  1.248863  1.125386  \n",
       "AAAS      -0.066918      0.145048  0.192854  0.280589  0.208969  0.062319  \n",
       "AACS       0.553772      0.592084  0.680561  0.741635  0.840785  0.935845  \n",
       "AAED1     -0.068981      0.124260  0.355065  0.561544  0.290039  0.315982  \n",
       "AAGAB      1.041304      1.141294  0.740448  1.019033  1.213546  0.765552  "
      ]
     },
     "execution_count": 51,
     "metadata": {},
     "output_type": "execute_result"
    }
   ],
   "source": [
    "import pandas as pd\n",
    "import numpy as np\n",
    "exp_df = pd.read_csv('data/BRCA_SLAM_gs_TPM.selected.txt', sep=\"\\t\", index_col=0)\n",
    "exp_df = exp_df.loc[exp_df.sum(axis=1)>10,]\n",
    "exp_df = np.log10(exp_df + 1e-6)\n",
    "exp_df.head()\n"
   ]
  },
  {
   "cell_type": "code",
   "execution_count": 52,
   "id": "a5dfb36266e28c32",
   "metadata": {
    "ExecuteTime": {
     "end_time": "2023-11-11T18:36:27.893738Z",
     "start_time": "2023-11-11T18:36:27.830477Z"
    },
    "collapsed": false,
    "jupyter": {
     "outputs_hidden": false
    }
   },
   "outputs": [
    {
     "name": "stderr",
     "output_type": "stream",
     "text": [
      "<>:3: SyntaxWarning: invalid escape sequence '\\.'\n",
      "<>:3: SyntaxWarning: invalid escape sequence '\\.'\n",
      "/avicenna/tmp/ipykernel_21540/12525755.py:3: SyntaxWarning: invalid escape sequence '\\.'\n",
      "  decay_df.columns = [re.sub(\"\\.\", \"-\", x) for x in decay_df.columns]\n"
     ]
    },
    {
     "data": {
      "text/html": [
       "<div>\n",
       "<style scoped>\n",
       "    .dataframe tbody tr th:only-of-type {\n",
       "        vertical-align: middle;\n",
       "    }\n",
       "\n",
       "    .dataframe tbody tr th {\n",
       "        vertical-align: top;\n",
       "    }\n",
       "\n",
       "    .dataframe thead th {\n",
       "        text-align: right;\n",
       "    }\n",
       "</style>\n",
       "<table border=\"1\" class=\"dataframe\">\n",
       "  <thead>\n",
       "    <tr style=\"text-align: right;\">\n",
       "      <th></th>\n",
       "      <th>HCC1806-PAR-1</th>\n",
       "      <th>HCC1806-PAR-2</th>\n",
       "      <th>MDA-PAR-1</th>\n",
       "      <th>MDA-PAR-2</th>\n",
       "      <th>MCF7-1</th>\n",
       "      <th>MCF7-2</th>\n",
       "      <th>MDA-MD-453-1</th>\n",
       "      <th>MDA-MD-453-2</th>\n",
       "      <th>HCC38-1</th>\n",
       "      <th>HCC38-2</th>\n",
       "      <th>ZR-75-1</th>\n",
       "      <th>ZR-75-2</th>\n",
       "    </tr>\n",
       "  </thead>\n",
       "  <tbody>\n",
       "    <tr>\n",
       "      <th>A1BG</th>\n",
       "      <td>-1.066082</td>\n",
       "      <td>-1.280269</td>\n",
       "      <td>-0.285732</td>\n",
       "      <td>-0.639637</td>\n",
       "      <td>-0.326187</td>\n",
       "      <td>-0.664953</td>\n",
       "      <td>-0.719758</td>\n",
       "      <td>-0.812882</td>\n",
       "      <td>-1.439074</td>\n",
       "      <td>-0.731446</td>\n",
       "      <td>-1.717306</td>\n",
       "      <td>-1.054118</td>\n",
       "    </tr>\n",
       "    <tr>\n",
       "      <th>AACS</th>\n",
       "      <td>-0.125061</td>\n",
       "      <td>-0.058180</td>\n",
       "      <td>0.045117</td>\n",
       "      <td>-0.005526</td>\n",
       "      <td>-0.376835</td>\n",
       "      <td>-0.221019</td>\n",
       "      <td>0.063778</td>\n",
       "      <td>-0.058493</td>\n",
       "      <td>-0.308672</td>\n",
       "      <td>-0.569838</td>\n",
       "      <td>-0.351516</td>\n",
       "      <td>-0.318399</td>\n",
       "    </tr>\n",
       "    <tr>\n",
       "      <th>AAED1</th>\n",
       "      <td>-0.171404</td>\n",
       "      <td>-0.180253</td>\n",
       "      <td>0.074135</td>\n",
       "      <td>-0.004023</td>\n",
       "      <td>0.107655</td>\n",
       "      <td>0.336408</td>\n",
       "      <td>0.954444</td>\n",
       "      <td>0.670258</td>\n",
       "      <td>0.320970</td>\n",
       "      <td>-0.151047</td>\n",
       "      <td>0.191012</td>\n",
       "      <td>-0.197516</td>\n",
       "    </tr>\n",
       "    <tr>\n",
       "      <th>AAGAB</th>\n",
       "      <td>-0.400829</td>\n",
       "      <td>-0.165416</td>\n",
       "      <td>0.289347</td>\n",
       "      <td>-0.061730</td>\n",
       "      <td>-0.661292</td>\n",
       "      <td>-0.556470</td>\n",
       "      <td>-0.429905</td>\n",
       "      <td>-0.536963</td>\n",
       "      <td>-0.429548</td>\n",
       "      <td>-0.822612</td>\n",
       "      <td>-1.262680</td>\n",
       "      <td>-0.806532</td>\n",
       "    </tr>\n",
       "    <tr>\n",
       "      <th>AAK1</th>\n",
       "      <td>-1.045263</td>\n",
       "      <td>-0.947986</td>\n",
       "      <td>-0.742636</td>\n",
       "      <td>-0.721529</td>\n",
       "      <td>-0.451813</td>\n",
       "      <td>-0.670308</td>\n",
       "      <td>-0.605175</td>\n",
       "      <td>-0.498851</td>\n",
       "      <td>-0.723403</td>\n",
       "      <td>-0.852025</td>\n",
       "      <td>-0.914979</td>\n",
       "      <td>-0.630247</td>\n",
       "    </tr>\n",
       "  </tbody>\n",
       "</table>\n",
       "</div>"
      ],
      "text/plain": [
       "       HCC1806-PAR-1  HCC1806-PAR-2  MDA-PAR-1  MDA-PAR-2    MCF7-1    MCF7-2  \\\n",
       "A1BG       -1.066082      -1.280269  -0.285732  -0.639637 -0.326187 -0.664953   \n",
       "AACS       -0.125061      -0.058180   0.045117  -0.005526 -0.376835 -0.221019   \n",
       "AAED1      -0.171404      -0.180253   0.074135  -0.004023  0.107655  0.336408   \n",
       "AAGAB      -0.400829      -0.165416   0.289347  -0.061730 -0.661292 -0.556470   \n",
       "AAK1       -1.045263      -0.947986  -0.742636  -0.721529 -0.451813 -0.670308   \n",
       "\n",
       "       MDA-MD-453-1  MDA-MD-453-2   HCC38-1   HCC38-2   ZR-75-1   ZR-75-2  \n",
       "A1BG      -0.719758     -0.812882 -1.439074 -0.731446 -1.717306 -1.054118  \n",
       "AACS       0.063778     -0.058493 -0.308672 -0.569838 -0.351516 -0.318399  \n",
       "AAED1      0.954444      0.670258  0.320970 -0.151047  0.191012 -0.197516  \n",
       "AAGAB     -0.429905     -0.536963 -0.429548 -0.822612 -1.262680 -0.806532  \n",
       "AAK1      -0.605175     -0.498851 -0.723403 -0.852025 -0.914979 -0.630247  "
      ]
     },
     "execution_count": 52,
     "metadata": {},
     "output_type": "execute_result"
    }
   ],
   "source": [
    "import re\n",
    "decay_df = pd.read_csv('data/BRCA-lines_log10_decay_rates_gs.txt', sep=\"\\t\", index_col=0)\n",
    "decay_df.columns = [re.sub(\"\\.\", \"-\", x) for x in decay_df.columns]\n",
    "decay_df.head()\n"
   ]
  },
  {
   "cell_type": "code",
   "execution_count": 53,
   "id": "28013bd8348b5be2",
   "metadata": {
    "ExecuteTime": {
     "end_time": "2023-11-11T18:36:55.242044Z",
     "start_time": "2023-11-11T18:36:55.180964Z"
    },
    "collapsed": false,
    "jupyter": {
     "outputs_hidden": false
    }
   },
   "outputs": [
    {
     "data": {
      "text/html": [
       "<div>\n",
       "<style scoped>\n",
       "    .dataframe tbody tr th:only-of-type {\n",
       "        vertical-align: middle;\n",
       "    }\n",
       "\n",
       "    .dataframe tbody tr th {\n",
       "        vertical-align: top;\n",
       "    }\n",
       "\n",
       "    .dataframe thead th {\n",
       "        text-align: right;\n",
       "    }\n",
       "</style>\n",
       "<table border=\"1\" class=\"dataframe\">\n",
       "  <thead>\n",
       "    <tr style=\"text-align: right;\">\n",
       "      <th></th>\n",
       "      <th>[CT][AG]CCTGTA.</th>\n",
       "      <th>.[AGT][AT]ATA[AT]A.</th>\n",
       "      <th>CC[AG][CT]C[AGT]CC.</th>\n",
       "      <th>[ACG]TACT[AT][AC][AC][AGT]</th>\n",
       "      <th>[CGT]CTAC[GT][AT]C.</th>\n",
       "      <th>.CTACAGC.</th>\n",
       "      <th>.C[AG]AGTAC.</th>\n",
       "    </tr>\n",
       "  </thead>\n",
       "  <tbody>\n",
       "    <tr>\n",
       "      <th>AACS</th>\n",
       "      <td>0</td>\n",
       "      <td>1</td>\n",
       "      <td>1</td>\n",
       "      <td>0</td>\n",
       "      <td>0</td>\n",
       "      <td>0</td>\n",
       "      <td>1</td>\n",
       "    </tr>\n",
       "    <tr>\n",
       "      <th>AAED1</th>\n",
       "      <td>0</td>\n",
       "      <td>1</td>\n",
       "      <td>1</td>\n",
       "      <td>0</td>\n",
       "      <td>0</td>\n",
       "      <td>0</td>\n",
       "      <td>0</td>\n",
       "    </tr>\n",
       "    <tr>\n",
       "      <th>AAGAB</th>\n",
       "      <td>0</td>\n",
       "      <td>1</td>\n",
       "      <td>0</td>\n",
       "      <td>0</td>\n",
       "      <td>0</td>\n",
       "      <td>0</td>\n",
       "      <td>0</td>\n",
       "    </tr>\n",
       "    <tr>\n",
       "      <th>AAMP</th>\n",
       "      <td>0</td>\n",
       "      <td>1</td>\n",
       "      <td>1</td>\n",
       "      <td>0</td>\n",
       "      <td>0</td>\n",
       "      <td>0</td>\n",
       "      <td>0</td>\n",
       "    </tr>\n",
       "    <tr>\n",
       "      <th>AAR2</th>\n",
       "      <td>0</td>\n",
       "      <td>0</td>\n",
       "      <td>0</td>\n",
       "      <td>0</td>\n",
       "      <td>0</td>\n",
       "      <td>0</td>\n",
       "      <td>1</td>\n",
       "    </tr>\n",
       "  </tbody>\n",
       "</table>\n",
       "</div>"
      ],
      "text/plain": [
       "       [CT][AG]CCTGTA.  .[AGT][AT]ATA[AT]A.  CC[AG][CT]C[AGT]CC.  \\\n",
       "AACS                 0                    1                    1   \n",
       "AAED1                0                    1                    1   \n",
       "AAGAB                0                    1                    0   \n",
       "AAMP                 0                    1                    1   \n",
       "AAR2                 0                    0                    0   \n",
       "\n",
       "       [ACG]TACT[AT][AC][AC][AGT]  [CGT]CTAC[GT][AT]C.  .CTACAGC.  \\\n",
       "AACS                            0                    0          0   \n",
       "AAED1                           0                    0          0   \n",
       "AAGAB                           0                    0          0   \n",
       "AAMP                            0                    0          0   \n",
       "AAR2                            0                    0          0   \n",
       "\n",
       "       .C[AG]AGTAC.  \n",
       "AACS              1  \n",
       "AAED1             0  \n",
       "AAGAB             0  \n",
       "AAMP              0  \n",
       "AAR2              1  "
      ]
     },
     "execution_count": 53,
     "metadata": {},
     "output_type": "execute_result"
    }
   ],
   "source": [
    "motif_map_df = pd.read_csv('results/motifs_target_map_df.txt', sep=\"\\t\", index_col=0)\n",
    "motif_map_df.head()"
   ]
  },
  {
   "cell_type": "code",
   "execution_count": 54,
   "id": "dc831b2d858e4913",
   "metadata": {
    "ExecuteTime": {
     "end_time": "2023-11-11T18:38:22.395107Z",
     "start_time": "2023-11-11T18:38:22.329983Z"
    },
    "collapsed": false,
    "jupyter": {
     "outputs_hidden": false
    }
   },
   "outputs": [
    {
     "data": {
      "text/plain": [
       "3716"
      ]
     },
     "execution_count": 54,
     "metadata": {},
     "output_type": "execute_result"
    }
   ],
   "source": [
    "reg = motif_map_df.loc[motif_map_df.iloc[:,1]==1,].index.tolist()\n",
    "len(reg)"
   ]
  },
  {
   "cell_type": "code",
   "execution_count": 55,
   "id": "c3968bd384f869fb",
   "metadata": {
    "ExecuteTime": {
     "end_time": "2023-11-11T23:33:31.458028Z",
     "start_time": "2023-11-11T23:33:31.173605Z"
    },
    "collapsed": false,
    "jupyter": {
     "outputs_hidden": false
    }
   },
   "outputs": [],
   "source": [
    "#write index to file\n",
    "with open(\"results/rbms3_reg.list\", \"w\") as f:\n",
    "    for item in reg:\n",
    "        f.write(\"%s\\n\" % item)"
   ]
  },
  {
   "cell_type": "code",
   "execution_count": 56,
   "id": "8755865002094a09",
   "metadata": {
    "ExecuteTime": {
     "end_time": "2023-11-11T23:33:43.955566Z",
     "start_time": "2023-11-11T23:33:43.668901Z"
    },
    "collapsed": false,
    "jupyter": {
     "outputs_hidden": false
    }
   },
   "outputs": [
    {
     "name": "stdout",
     "output_type": "stream",
     "text": [
      "3716 results/rbms3_reg.list\n"
     ]
    }
   ],
   "source": [
    "!wc -l results/rbms3_reg.list"
   ]
  },
  {
   "cell_type": "code",
   "execution_count": 57,
   "id": "ed2f5d5b3c375256",
   "metadata": {
    "ExecuteTime": {
     "end_time": "2023-11-11T18:39:32.490667Z",
     "start_time": "2023-11-11T18:39:32.444017Z"
    },
    "collapsed": false,
    "jupyter": {
     "outputs_hidden": false
    }
   },
   "outputs": [
    {
     "data": {
      "text/plain": [
       "HCC1806-PAR-1   -0.170677\n",
       "HCC1806-PAR-2   -0.269671\n",
       "MDA-PAR-1        0.550033\n",
       "MDA-PAR-2        0.619626\n",
       "MCF7-1          -0.309269\n",
       "Name: RBMS3, dtype: float64"
      ]
     },
     "execution_count": 57,
     "metadata": {},
     "output_type": "execute_result"
    }
   ],
   "source": [
    "rbms3_exp = exp_df.loc['RBMS3',:]\n",
    "rbms3_exp.head()"
   ]
  },
  {
   "cell_type": "code",
   "execution_count": 58,
   "id": "e6a6b1808359397b",
   "metadata": {
    "ExecuteTime": {
     "end_time": "2023-11-11T18:40:02.193200Z",
     "start_time": "2023-11-11T18:40:02.121804Z"
    },
    "collapsed": false,
    "jupyter": {
     "outputs_hidden": false
    }
   },
   "outputs": [
    {
     "data": {
      "text/html": [
       "<div>\n",
       "<style scoped>\n",
       "    .dataframe tbody tr th:only-of-type {\n",
       "        vertical-align: middle;\n",
       "    }\n",
       "\n",
       "    .dataframe tbody tr th {\n",
       "        vertical-align: top;\n",
       "    }\n",
       "\n",
       "    .dataframe thead th {\n",
       "        text-align: right;\n",
       "    }\n",
       "</style>\n",
       "<table border=\"1\" class=\"dataframe\">\n",
       "  <thead>\n",
       "    <tr style=\"text-align: right;\">\n",
       "      <th></th>\n",
       "      <th>HCC1806-PAR-1</th>\n",
       "      <th>HCC1806-PAR-2</th>\n",
       "      <th>MDA-PAR-1</th>\n",
       "      <th>MDA-PAR-2</th>\n",
       "      <th>MCF7-1</th>\n",
       "      <th>MCF7-2</th>\n",
       "      <th>MDA-MD-453-1</th>\n",
       "      <th>MDA-MD-453-2</th>\n",
       "      <th>HCC38-1</th>\n",
       "      <th>HCC38-2</th>\n",
       "      <th>ZR-75-1</th>\n",
       "      <th>ZR-75-2</th>\n",
       "    </tr>\n",
       "  </thead>\n",
       "  <tbody>\n",
       "    <tr>\n",
       "      <th>AACS</th>\n",
       "      <td>-0.125061</td>\n",
       "      <td>-0.058180</td>\n",
       "      <td>0.045117</td>\n",
       "      <td>-0.005526</td>\n",
       "      <td>-0.376835</td>\n",
       "      <td>-0.221019</td>\n",
       "      <td>0.063778</td>\n",
       "      <td>-0.058493</td>\n",
       "      <td>-0.308672</td>\n",
       "      <td>-0.569838</td>\n",
       "      <td>-0.351516</td>\n",
       "      <td>-0.318399</td>\n",
       "    </tr>\n",
       "    <tr>\n",
       "      <th>AAED1</th>\n",
       "      <td>-0.171404</td>\n",
       "      <td>-0.180253</td>\n",
       "      <td>0.074135</td>\n",
       "      <td>-0.004023</td>\n",
       "      <td>0.107655</td>\n",
       "      <td>0.336408</td>\n",
       "      <td>0.954444</td>\n",
       "      <td>0.670258</td>\n",
       "      <td>0.320970</td>\n",
       "      <td>-0.151047</td>\n",
       "      <td>0.191012</td>\n",
       "      <td>-0.197516</td>\n",
       "    </tr>\n",
       "    <tr>\n",
       "      <th>AAGAB</th>\n",
       "      <td>-0.400829</td>\n",
       "      <td>-0.165416</td>\n",
       "      <td>0.289347</td>\n",
       "      <td>-0.061730</td>\n",
       "      <td>-0.661292</td>\n",
       "      <td>-0.556470</td>\n",
       "      <td>-0.429905</td>\n",
       "      <td>-0.536963</td>\n",
       "      <td>-0.429548</td>\n",
       "      <td>-0.822612</td>\n",
       "      <td>-1.262680</td>\n",
       "      <td>-0.806532</td>\n",
       "    </tr>\n",
       "    <tr>\n",
       "      <th>AAMP</th>\n",
       "      <td>-0.435579</td>\n",
       "      <td>-0.534002</td>\n",
       "      <td>-0.044362</td>\n",
       "      <td>-0.609693</td>\n",
       "      <td>-0.886699</td>\n",
       "      <td>-0.779945</td>\n",
       "      <td>-0.725224</td>\n",
       "      <td>-0.871497</td>\n",
       "      <td>-0.810407</td>\n",
       "      <td>-1.050993</td>\n",
       "      <td>-1.003387</td>\n",
       "      <td>-0.401101</td>\n",
       "    </tr>\n",
       "    <tr>\n",
       "      <th>AARS</th>\n",
       "      <td>-0.529373</td>\n",
       "      <td>-0.486518</td>\n",
       "      <td>-0.361084</td>\n",
       "      <td>-0.259079</td>\n",
       "      <td>-0.475877</td>\n",
       "      <td>-0.494141</td>\n",
       "      <td>-0.443035</td>\n",
       "      <td>-0.502165</td>\n",
       "      <td>-0.396586</td>\n",
       "      <td>-0.494496</td>\n",
       "      <td>-0.749820</td>\n",
       "      <td>-0.839130</td>\n",
       "    </tr>\n",
       "  </tbody>\n",
       "</table>\n",
       "</div>"
      ],
      "text/plain": [
       "       HCC1806-PAR-1  HCC1806-PAR-2  MDA-PAR-1  MDA-PAR-2    MCF7-1    MCF7-2  \\\n",
       "AACS       -0.125061      -0.058180   0.045117  -0.005526 -0.376835 -0.221019   \n",
       "AAED1      -0.171404      -0.180253   0.074135  -0.004023  0.107655  0.336408   \n",
       "AAGAB      -0.400829      -0.165416   0.289347  -0.061730 -0.661292 -0.556470   \n",
       "AAMP       -0.435579      -0.534002  -0.044362  -0.609693 -0.886699 -0.779945   \n",
       "AARS       -0.529373      -0.486518  -0.361084  -0.259079 -0.475877 -0.494141   \n",
       "\n",
       "       MDA-MD-453-1  MDA-MD-453-2   HCC38-1   HCC38-2   ZR-75-1   ZR-75-2  \n",
       "AACS       0.063778     -0.058493 -0.308672 -0.569838 -0.351516 -0.318399  \n",
       "AAED1      0.954444      0.670258  0.320970 -0.151047  0.191012 -0.197516  \n",
       "AAGAB     -0.429905     -0.536963 -0.429548 -0.822612 -1.262680 -0.806532  \n",
       "AAMP      -0.725224     -0.871497 -0.810407 -1.050993 -1.003387 -0.401101  \n",
       "AARS      -0.443035     -0.502165 -0.396586 -0.494496 -0.749820 -0.839130  "
      ]
     },
     "execution_count": 58,
     "metadata": {},
     "output_type": "execute_result"
    }
   ],
   "source": [
    "rbms3_reg = decay_df.loc[reg,:]\n",
    "rbms3_reg.head()"
   ]
  },
  {
   "cell_type": "code",
   "execution_count": 59,
   "id": "c3c0f7bf06e0a6eb",
   "metadata": {
    "ExecuteTime": {
     "end_time": "2023-11-11T18:40:17.346116Z",
     "start_time": "2023-11-11T18:40:17.277231Z"
    },
    "collapsed": false,
    "jupyter": {
     "outputs_hidden": false
    }
   },
   "outputs": [],
   "source": [
    "rbms3_reg = rbms3_reg.loc[:,rbms3_reg.columns.isin(rbms3_exp.index)]"
   ]
  },
  {
   "cell_type": "code",
   "execution_count": 60,
   "id": "dd2fea9a-d24b-4178-8fa6-1d838d829abd",
   "metadata": {},
   "outputs": [
    {
     "data": {
      "text/plain": [
       "(3716, 12)"
      ]
     },
     "execution_count": 60,
     "metadata": {},
     "output_type": "execute_result"
    }
   ],
   "source": [
    "rbms3_reg.shape"
   ]
  },
  {
   "cell_type": "code",
   "execution_count": 356,
   "id": "ccd2db949eac03e9",
   "metadata": {
    "ExecuteTime": {
     "end_time": "2023-11-11T18:56:20.873549Z",
     "start_time": "2023-11-11T18:56:17.929176Z"
    },
    "collapsed": false,
    "jupyter": {
     "outputs_hidden": false
    }
   },
   "outputs": [],
   "source": [
    "from scipy.stats import spearmanr\n",
    "\n",
    "corr_list = []\n",
    "for i in range(rbms3_reg.shape[0]):\n",
    "    #corr_list.append(np.corrcoef(rbms3_reg.iloc[i,:], rbms3_exp)[0,1])\n",
    "    corr_list.append(spearmanr(rbms3_reg.iloc[i,:], rbms3_exp)[0])"
   ]
  },
  {
   "cell_type": "code",
   "execution_count": 357,
   "id": "9bcb56568272cb65",
   "metadata": {
    "ExecuteTime": {
     "end_time": "2023-11-11T18:56:25.332115Z",
     "start_time": "2023-11-11T18:56:25.266900Z"
    },
    "collapsed": false,
    "jupyter": {
     "outputs_hidden": false
    }
   },
   "outputs": [
    {
     "data": {
      "text/plain": [
       "(-0.1958041958041958, 6.233921341809681e-163)"
      ]
     },
     "execution_count": 357,
     "metadata": {},
     "output_type": "execute_result"
    }
   ],
   "source": [
    "import seaborn as sns\n",
    "import matplotlib.pyplot as plt\n",
    "from scipy.stats import wilcoxon\n",
    "from matplotlib.backends.backend_pdf import PdfPages\n",
    "\n",
    "median_value = np.median(corr_list)\n",
    "stat, p_value = wilcoxon(corr_list)\n",
    "median_value, p_value"
   ]
  },
  {
   "cell_type": "code",
   "execution_count": 374,
   "id": "b3b6365eaef44e22",
   "metadata": {
    "ExecuteTime": {
     "end_time": "2023-11-11T19:09:17.765455Z",
     "start_time": "2023-11-11T19:09:17.441773Z"
    },
    "collapsed": false,
    "jupyter": {
     "outputs_hidden": false
    }
   },
   "outputs": [
    {
     "name": "stderr",
     "output_type": "stream",
     "text": [
      "/avicenna/hani/anaconda3/lib/python3.6/site-packages/matplotlib/cbook/__init__.py:1402: FutureWarning: Support for multi-dimensional indexing (e.g. `obj[:, None]`) is deprecated and will be removed in a future version.  Convert to a numpy array before indexing instead.\n",
      "  x[:, None]\n",
      "/avicenna/hani/anaconda3/lib/python3.6/site-packages/matplotlib/axes/_base.py:276: FutureWarning: Support for multi-dimensional indexing (e.g. `obj[:, None]`) is deprecated and will be removed in a future version.  Convert to a numpy array before indexing instead.\n",
      "  x = x[:, np.newaxis]\n",
      "/avicenna/hani/anaconda3/lib/python3.6/site-packages/matplotlib/axes/_base.py:278: FutureWarning: Support for multi-dimensional indexing (e.g. `obj[:, None]`) is deprecated and will be removed in a future version.  Convert to a numpy array before indexing instead.\n",
      "  y = y[:, np.newaxis]\n"
     ]
    },
    {
     "data": {
      "image/png": "[encoded data removed]",
      "text/plain": [
       "<Figure size 216x216 with 1 Axes>"
      ]
     },
     "metadata": {},
     "output_type": "display_data"
    }
   ],
   "source": [
    "sns.set(style=\"ticks\")  # Set the background to white\n",
    "plt.figure(figsize=(3, 3))\n",
    "sns.histplot(corr_list, kde=True)  # Create histogram\n",
    "plt.axvline(median_value, color='grey', linestyle='dashed', linewidth=2)  # Median line\n",
    "plt.axvline(x=0, color='k', linestyle='-', lw=2)\n",
    "plt.grid(visible=False)  # Show only x-axis grid\n",
    "plt.tick_params(axis='both', which='major', length=6)\n",
    "\n",
    "plt.text(median_value, plt.ylim()[1]*0.95, f'Median: {median_value:.2f}',\n",
    "         horizontalalignment='right', color='grey')\n",
    "plt.text(median_value, plt.ylim()[1]*0.85, f'P-value: {p_value:.0e}')\n",
    "plt.title('RBMS3 expression vs regulon stability')\n",
    "#x-axis label\n",
    "plt.xlabel('Spearman Correlation')\n",
    "#y-axis label\n",
    "plt.ylabel('Count')\n",
    "plt.savefig(\"results/rbms3_reg_stab_corr.pdf\", width=4, height=4)"
   ]
  },
  {
   "cell_type": "code",
   "execution_count": 353,
   "id": "d0750b9f38408070",
   "metadata": {
    "ExecuteTime": {
     "end_time": "2023-11-11T18:42:11.879104Z",
     "start_time": "2023-11-11T18:42:11.385747Z"
    },
    "collapsed": false,
    "jupyter": {
     "outputs_hidden": false
    }
   },
   "outputs": [
    {
     "data": {
      "text/plain": [
       "(array([ 3.,  3.,  2.,  6.,  8.,  7.,  4.,  8., 14., 14., 11., 20., 19.,\n",
       "        25., 32., 31., 37., 28., 35., 42., 41., 47., 46., 57., 47., 60.,\n",
       "        61., 65., 59., 58., 59., 65., 57., 65., 64., 69., 69., 78., 55.,\n",
       "        82., 63., 59., 77., 69., 66., 76., 64., 72., 69., 58., 60., 67.,\n",
       "        70., 56., 63., 71., 59., 66., 62., 60., 50., 45., 53., 49., 42.,\n",
       "        38., 37., 37., 39., 37., 32., 28., 25., 31., 25., 23., 25., 26.,\n",
       "        21., 28., 29., 17., 11., 16., 14., 10.,  9.,  6., 10.,  9.,  5.,\n",
       "         5.,  5.,  3.,  7.,  2.,  3.,  1.,  0.,  3.]),\n",
       " array([-9.16276538e-01, -8.98660750e-01, -8.81044961e-01, -8.63429173e-01,\n",
       "        -8.45813384e-01, -8.28197596e-01, -8.10581807e-01, -7.92966019e-01,\n",
       "        -7.75350230e-01, -7.57734441e-01, -7.40118653e-01, -7.22502864e-01,\n",
       "        -7.04887076e-01, -6.87271287e-01, -6.69655499e-01, -6.52039710e-01,\n",
       "        -6.34423922e-01, -6.16808133e-01, -5.99192345e-01, -5.81576556e-01,\n",
       "        -5.63960768e-01, -5.46344979e-01, -5.28729190e-01, -5.11113402e-01,\n",
       "        -4.93497613e-01, -4.75881825e-01, -4.58266036e-01, -4.40650248e-01,\n",
       "        -4.23034459e-01, -4.05418671e-01, -3.87802882e-01, -3.70187094e-01,\n",
       "        -3.52571305e-01, -3.34955516e-01, -3.17339728e-01, -2.99723939e-01,\n",
       "        -2.82108151e-01, -2.64492362e-01, -2.46876574e-01, -2.29260785e-01,\n",
       "        -2.11644997e-01, -1.94029208e-01, -1.76413420e-01, -1.58797631e-01,\n",
       "        -1.41181843e-01, -1.23566054e-01, -1.05950265e-01, -8.83344769e-02,\n",
       "        -7.07186884e-02, -5.31028998e-02, -3.54871113e-02, -1.78713227e-02,\n",
       "        -2.55534205e-04,  1.73602543e-02,  3.49760429e-02,  5.25918314e-02,\n",
       "         7.02076200e-02,  8.78234085e-02,  1.05439197e-01,  1.23054986e-01,\n",
       "         1.40670774e-01,  1.58286563e-01,  1.75902351e-01,  1.93518140e-01,\n",
       "         2.11133928e-01,  2.28749717e-01,  2.46365505e-01,  2.63981294e-01,\n",
       "         2.81597082e-01,  2.99212871e-01,  3.16828660e-01,  3.34444448e-01,\n",
       "         3.52060237e-01,  3.69676025e-01,  3.87291814e-01,  4.04907602e-01,\n",
       "         4.22523391e-01,  4.40139179e-01,  4.57754968e-01,  4.75370756e-01,\n",
       "         4.92986545e-01,  5.10602333e-01,  5.28218122e-01,  5.45833911e-01,\n",
       "         5.63449699e-01,  5.81065488e-01,  5.98681276e-01,  6.16297065e-01,\n",
       "         6.33912853e-01,  6.51528642e-01,  6.69144430e-01,  6.86760219e-01,\n",
       "         7.04376007e-01,  7.21991796e-01,  7.39607585e-01,  7.57223373e-01,\n",
       "         7.74839162e-01,  7.92454950e-01,  8.10070739e-01,  8.27686527e-01,\n",
       "         8.45302316e-01]),\n",
       " <a list of 100 Patch objects>)"
      ]
     },
     "execution_count": 353,
     "metadata": {},
     "output_type": "execute_result"
    },
    {
     "data": {
      "image/png": "[encoded data removed]",
      "text/plain": [
       "<Figure size 432x288 with 1 Axes>"
      ]
     },
     "metadata": {
      "needs_background": "light"
     },
     "output_type": "display_data"
    }
   ],
   "source": [
    "#histogram of correlations\n",
    "plt.hist(corr_list, bins=100)"
   ]
  },
  {
   "cell_type": "code",
   "execution_count": 354,
   "id": "10445fef701e54b3",
   "metadata": {
    "ExecuteTime": {
     "end_time": "2023-11-11T18:42:30.738065Z",
     "start_time": "2023-11-11T18:42:30.665079Z"
    },
    "collapsed": false,
    "jupyter": {
     "outputs_hidden": false
    }
   },
   "outputs": [
    {
     "data": {
      "text/plain": [
       "(-0.1169762327256241, -0.13111634560867452, 0.340202938032884)"
      ]
     },
     "execution_count": 354,
     "metadata": {},
     "output_type": "execute_result"
    }
   ],
   "source": [
    "#statistic\n",
    "np.mean(corr_list), np.median(corr_list), np.std(corr_list)"
   ]
  },
  {
   "cell_type": "code",
   "execution_count": 383,
   "id": "ce46b7c0e4d9fb33",
   "metadata": {
    "ExecuteTime": {
     "end_time": "2023-11-11T21:48:12.677286Z",
     "start_time": "2023-11-11T21:48:12.257578Z"
    },
    "collapsed": false,
    "jupyter": {
     "outputs_hidden": false
    }
   },
   "outputs": [
    {
     "data": {
      "text/html": [
       "<div>\n",
       "<style scoped>\n",
       "    .dataframe tbody tr th:only-of-type {\n",
       "        vertical-align: middle;\n",
       "    }\n",
       "\n",
       "    .dataframe tbody tr th {\n",
       "        vertical-align: top;\n",
       "    }\n",
       "\n",
       "    .dataframe thead th {\n",
       "        text-align: right;\n",
       "    }\n",
       "</style>\n",
       "<table border=\"1\" class=\"dataframe\">\n",
       "  <thead>\n",
       "    <tr style=\"text-align: right;\">\n",
       "      <th></th>\n",
       "      <th>HCC1806-PAR-1</th>\n",
       "      <th>HCC1806-PAR-2</th>\n",
       "      <th>MDA-PAR-1</th>\n",
       "      <th>MDA-PAR-2</th>\n",
       "      <th>MCF7-1</th>\n",
       "      <th>MCF7-2</th>\n",
       "      <th>MDA-MD-453-1</th>\n",
       "      <th>MDA-MD-453-2</th>\n",
       "      <th>HCC38-1</th>\n",
       "      <th>HCC38-2</th>\n",
       "      <th>ZR-75-1</th>\n",
       "      <th>ZR-75-2</th>\n",
       "    </tr>\n",
       "  </thead>\n",
       "  <tbody>\n",
       "    <tr>\n",
       "      <th>AACS</th>\n",
       "      <td>0.345339</td>\n",
       "      <td>0.698895</td>\n",
       "      <td>1.244964</td>\n",
       "      <td>0.977245</td>\n",
       "      <td>-0.985634</td>\n",
       "      <td>-0.161934</td>\n",
       "      <td>1.343610</td>\n",
       "      <td>0.697243</td>\n",
       "      <td>-0.625299</td>\n",
       "      <td>-2.005921</td>\n",
       "      <td>-0.851787</td>\n",
       "      <td>-0.676721</td>\n",
       "    </tr>\n",
       "    <tr>\n",
       "      <th>AAED1</th>\n",
       "      <td>-0.965190</td>\n",
       "      <td>-0.990765</td>\n",
       "      <td>-0.255544</td>\n",
       "      <td>-0.481434</td>\n",
       "      <td>-0.158664</td>\n",
       "      <td>0.502469</td>\n",
       "      <td>2.288692</td>\n",
       "      <td>1.467348</td>\n",
       "      <td>0.457851</td>\n",
       "      <td>-0.906356</td>\n",
       "      <td>0.082250</td>\n",
       "      <td>-1.040657</td>\n",
       "    </tr>\n",
       "    <tr>\n",
       "      <th>AAGAB</th>\n",
       "      <td>0.225458</td>\n",
       "      <td>0.841020</td>\n",
       "      <td>2.030143</td>\n",
       "      <td>1.112141</td>\n",
       "      <td>-0.455605</td>\n",
       "      <td>-0.181513</td>\n",
       "      <td>0.149430</td>\n",
       "      <td>-0.130507</td>\n",
       "      <td>0.150365</td>\n",
       "      <td>-0.877427</td>\n",
       "      <td>-2.028123</td>\n",
       "      <td>-0.835381</td>\n",
       "    </tr>\n",
       "    <tr>\n",
       "      <th>AAMP</th>\n",
       "      <td>0.881339</td>\n",
       "      <td>0.525581</td>\n",
       "      <td>2.295427</td>\n",
       "      <td>0.251991</td>\n",
       "      <td>-0.749273</td>\n",
       "      <td>-0.363403</td>\n",
       "      <td>-0.165607</td>\n",
       "      <td>-0.694326</td>\n",
       "      <td>-0.473510</td>\n",
       "      <td>-1.343128</td>\n",
       "      <td>-1.171054</td>\n",
       "      <td>1.005964</td>\n",
       "    </tr>\n",
       "    <tr>\n",
       "      <th>AARS</th>\n",
       "      <td>-0.178325</td>\n",
       "      <td>0.107210</td>\n",
       "      <td>0.942950</td>\n",
       "      <td>1.622591</td>\n",
       "      <td>0.178108</td>\n",
       "      <td>0.056416</td>\n",
       "      <td>0.396928</td>\n",
       "      <td>0.002957</td>\n",
       "      <td>0.706409</td>\n",
       "      <td>0.054052</td>\n",
       "      <td>-1.647119</td>\n",
       "      <td>-2.242176</td>\n",
       "    </tr>\n",
       "  </tbody>\n",
       "</table>\n",
       "</div>"
      ],
      "text/plain": [
       "       HCC1806-PAR-1  HCC1806-PAR-2  MDA-PAR-1  MDA-PAR-2    MCF7-1    MCF7-2  \\\n",
       "AACS        0.345339       0.698895   1.244964   0.977245 -0.985634 -0.161934   \n",
       "AAED1      -0.965190      -0.990765  -0.255544  -0.481434 -0.158664  0.502469   \n",
       "AAGAB       0.225458       0.841020   2.030143   1.112141 -0.455605 -0.181513   \n",
       "AAMP        0.881339       0.525581   2.295427   0.251991 -0.749273 -0.363403   \n",
       "AARS       -0.178325       0.107210   0.942950   1.622591  0.178108  0.056416   \n",
       "\n",
       "       MDA-MD-453-1  MDA-MD-453-2   HCC38-1   HCC38-2   ZR-75-1   ZR-75-2  \n",
       "AACS       1.343610      0.697243 -0.625299 -2.005921 -0.851787 -0.676721  \n",
       "AAED1      2.288692      1.467348  0.457851 -0.906356  0.082250 -1.040657  \n",
       "AAGAB      0.149430     -0.130507  0.150365 -0.877427 -2.028123 -0.835381  \n",
       "AAMP      -0.165607     -0.694326 -0.473510 -1.343128 -1.171054  1.005964  \n",
       "AARS       0.396928      0.002957  0.706409  0.054052 -1.647119 -2.242176  "
      ]
     },
     "execution_count": 383,
     "metadata": {},
     "output_type": "execute_result"
    }
   ],
   "source": [
    "rbms3_reg_z = rbms3_reg.apply(lambda x: (x - np.mean(x))/np.std(x), axis=1)\n",
    "rbms3_reg_z.head()"
   ]
  },
  {
   "cell_type": "code",
   "execution_count": 458,
   "id": "266ae548448cf3b1",
   "metadata": {
    "ExecuteTime": {
     "end_time": "2023-11-11T23:26:43.594922Z",
     "start_time": "2023-11-11T23:26:43.317799Z"
    },
    "collapsed": false,
    "jupyter": {
     "outputs_hidden": false
    }
   },
   "outputs": [
    {
     "data": {
      "text/plain": [
       "HCC1806-PAR-1   -0.157300\n",
       "HCC1806-PAR-2   -0.155204\n",
       "MDA-PAR-1        0.380021\n",
       "MDA-PAR-2        0.246399\n",
       "MCF7-1           0.120447\n",
       "dtype: float64"
      ]
     },
     "execution_count": 458,
     "metadata": {},
     "output_type": "execute_result"
    }
   ],
   "source": [
    "rbms3_reg_z_mean = rbms3_reg_z.mean(axis=0)\n",
    "#rbms3_reg_z_mean = rbms3_reg.loc['SCOC',:]\n",
    "rbms3_reg_z_mean.head()"
   ]
  },
  {
   "cell_type": "code",
   "execution_count": 459,
   "id": "4f2b0101faf59f19",
   "metadata": {
    "ExecuteTime": {
     "end_time": "2023-11-11T23:26:45.204761Z",
     "start_time": "2023-11-11T23:26:44.961129Z"
    },
    "collapsed": false,
    "jupyter": {
     "outputs_hidden": false
    }
   },
   "outputs": [
    {
     "data": {
      "text/plain": [
       "SpearmanrResult(correlation=-0.46153846153846156, pvalue=0.13094806950717278)"
      ]
     },
     "execution_count": 459,
     "metadata": {},
     "output_type": "execute_result"
    }
   ],
   "source": [
    "spearmanr(rbms3_reg_z_mean, rbms3_exp)"
   ]
  },
  {
   "cell_type": "code",
   "execution_count": 460,
   "id": "95cac2b578824863",
   "metadata": {
    "ExecuteTime": {
     "end_time": "2023-11-11T23:26:47.041623Z",
     "start_time": "2023-11-11T23:26:46.552875Z"
    },
    "collapsed": false,
    "jupyter": {
     "outputs_hidden": false
    }
   },
   "outputs": [
    {
     "data": {
      "text/plain": [
       "-0.25125704289363465"
      ]
     },
     "execution_count": 460,
     "metadata": {},
     "output_type": "execute_result"
    }
   ],
   "source": [
    "from scipy.stats import pearsonr\n",
    "\n",
    "pearsonr(rbms3_reg_z_mean, rbms3_exp)[0]"
   ]
  },
  {
   "cell_type": "code",
   "execution_count": 461,
   "id": "80d9ee1c3ddf5115",
   "metadata": {
    "ExecuteTime": {
     "end_time": "2023-11-11T23:26:48.090021Z",
     "start_time": "2023-11-11T23:26:47.616755Z"
    },
    "collapsed": false,
    "jupyter": {
     "outputs_hidden": false
    }
   },
   "outputs": [
    {
     "data": {
      "image/png": "[encoded data removed]",
      "text/plain": [
       "<Figure size 216x216 with 1 Axes>"
      ]
     },
     "metadata": {},
     "output_type": "display_data"
    }
   ],
   "source": [
    "#lmplot with seaborn\n",
    "import seaborn as sns\n",
    "import matplotlib.pyplot as plt\n",
    "sns.set(style=\"ticks\")  # Set the background to white\n",
    "plt.figure(figsize=(3, 3))\n",
    "sns.regplot(x=rbms3_reg_z_mean, y=rbms3_exp, scatter_kws={\"color\": \"#FFAD76\", \"alpha\": 0.5}, line_kws={\"color\": \"#FFAD76\"})\n",
    "#plt.axvline(x=0, color='k', linestyle='-', lw=2)\n",
    "#plt.axhline(y=0, color='k', linestyle='-', lw=2)\n",
    "plt.grid(visible=False)  # Show only x-axis grid\n",
    "plt.tick_params(axis='both', which='major', length=6)\n",
    "\n",
    "#label individual points\n",
    "for i in range(len(rbms3_reg_z_mean)):\n",
    "    plt.text(rbms3_reg_z_mean[i], rbms3_exp[i], rbms3_reg_z_mean.index[i], fontsize=8)\n",
    "\n"
   ]
  },
  {
   "cell_type": "code",
   "execution_count": null,
   "id": "9e2fda83546e9bee",
   "metadata": {
    "collapsed": false,
    "jupyter": {
     "outputs_hidden": false
    }
   },
   "outputs": [],
   "source": []
  }
 ],
 "metadata": {
  "kernelspec": {
   "display_name": "Python 3 (ipykernel)",
   "language": "python",
   "name": "python3"
  },
  "language_info": {
   "codemirror_mode": {
    "name": "ipython",
    "version": 3
   },
   "file_extension": ".py",
   "mimetype": "text/x-python",
   "name": "python",
   "nbconvert_exporter": "python",
   "pygments_lexer": "ipython3",
   "version": "3.12.8"
  }
 },
 "nbformat": 4,
 "nbformat_minor": 5
}
