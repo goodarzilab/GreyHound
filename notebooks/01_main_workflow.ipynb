{
 "cells": [
  {
   "cell_type": "code",
   "execution_count": 1,
   "metadata": {
    "pycharm": {
     "name": "#%%\n"
    }
   },
   "outputs": [],
   "source": [
    "%load_ext autoreload\n",
    "%autoreload 2"
   ]
  },
  {
   "cell_type": "code",
   "execution_count": 2,
   "metadata": {
    "pycharm": {
     "name": "#%%\n"
    }
   },
   "outputs": [
    {
     "name": "stdout",
     "output_type": "stream",
     "text": [
      "/home/hani/anaconda3/envs/pytorch/bin/python\n"
     ]
    }
   ],
   "source": [
    "!which python"
   ]
  },
  {
   "cell_type": "code",
   "execution_count": 3,
   "metadata": {
    "pycharm": {
     "name": "#%%\n"
    }
   },
   "outputs": [],
   "source": [
    "import pandas as pd\n",
    "import numpy as np\n",
    "import seaborn as sns\n",
    "\n",
    "import matplotlib\n",
    "matplotlib.rcParams['pdf.fonttype'] = 42\n",
    "matplotlib.rcParams['ps.fonttype'] = 42"
   ]
  },
  {
   "cell_type": "code",
   "execution_count": 4,
   "metadata": {
    "pycharm": {
     "name": "#%%\n"
    }
   },
   "outputs": [
    {
     "data": {
      "text/html": [
       "<div>\n",
       "<style scoped>\n",
       "    .dataframe tbody tr th:only-of-type {\n",
       "        vertical-align: middle;\n",
       "    }\n",
       "\n",
       "    .dataframe tbody tr th {\n",
       "        vertical-align: top;\n",
       "    }\n",
       "\n",
       "    .dataframe thead th {\n",
       "        text-align: right;\n",
       "    }\n",
       "</style>\n",
       "<table border=\"1\" class=\"dataframe\">\n",
       "  <thead>\n",
       "    <tr style=\"text-align: right;\">\n",
       "      <th></th>\n",
       "      <th>HCC1806-PAR-1</th>\n",
       "      <th>HCC1806-PAR-2</th>\n",
       "      <th>MDA-PAR-1</th>\n",
       "      <th>MDA-PAR-2</th>\n",
       "      <th>MCF7-1</th>\n",
       "      <th>MCF7-2</th>\n",
       "      <th>MDA-MD-453-1</th>\n",
       "      <th>MDA-MD-453-2</th>\n",
       "      <th>HCC38-1</th>\n",
       "      <th>HCC38-2</th>\n",
       "      <th>ZR-75-1</th>\n",
       "      <th>ZR-75-2</th>\n",
       "    </tr>\n",
       "    <tr>\n",
       "      <th>GENE</th>\n",
       "      <th></th>\n",
       "      <th></th>\n",
       "      <th></th>\n",
       "      <th></th>\n",
       "      <th></th>\n",
       "      <th></th>\n",
       "      <th></th>\n",
       "      <th></th>\n",
       "      <th></th>\n",
       "      <th></th>\n",
       "      <th></th>\n",
       "      <th></th>\n",
       "    </tr>\n",
       "  </thead>\n",
       "  <tbody>\n",
       "    <tr>\n",
       "      <th>A1BG</th>\n",
       "      <td>22.517513</td>\n",
       "      <td>22.553405</td>\n",
       "      <td>3.640235</td>\n",
       "      <td>3.655935</td>\n",
       "      <td>2.742338</td>\n",
       "      <td>2.464460</td>\n",
       "      <td>14.394453</td>\n",
       "      <td>19.079736</td>\n",
       "      <td>6.686106</td>\n",
       "      <td>9.582769</td>\n",
       "      <td>17.736295</td>\n",
       "      <td>13.347061</td>\n",
       "    </tr>\n",
       "    <tr>\n",
       "      <th>A1BG-AS1</th>\n",
       "      <td>1.259006</td>\n",
       "      <td>1.250263</td>\n",
       "      <td>0.008199</td>\n",
       "      <td>0.074092</td>\n",
       "      <td>0.103328</td>\n",
       "      <td>0.041350</td>\n",
       "      <td>0.322157</td>\n",
       "      <td>0.244604</td>\n",
       "      <td>0.415002</td>\n",
       "      <td>0.249507</td>\n",
       "      <td>0.078239</td>\n",
       "      <td>0.115105</td>\n",
       "    </tr>\n",
       "    <tr>\n",
       "      <th>A1CF</th>\n",
       "      <td>0.000000</td>\n",
       "      <td>0.000000</td>\n",
       "      <td>0.000000</td>\n",
       "      <td>0.003107</td>\n",
       "      <td>0.000000</td>\n",
       "      <td>0.000000</td>\n",
       "      <td>0.000000</td>\n",
       "      <td>0.000000</td>\n",
       "      <td>0.000000</td>\n",
       "      <td>0.000000</td>\n",
       "      <td>0.000000</td>\n",
       "      <td>0.000000</td>\n",
       "    </tr>\n",
       "    <tr>\n",
       "      <th>A2M</th>\n",
       "      <td>0.000000</td>\n",
       "      <td>0.000000</td>\n",
       "      <td>0.000000</td>\n",
       "      <td>0.000000</td>\n",
       "      <td>0.000000</td>\n",
       "      <td>0.000000</td>\n",
       "      <td>0.000000</td>\n",
       "      <td>0.000000</td>\n",
       "      <td>0.790555</td>\n",
       "      <td>1.503693</td>\n",
       "      <td>0.120559</td>\n",
       "      <td>0.000000</td>\n",
       "    </tr>\n",
       "    <tr>\n",
       "      <th>A2ML1</th>\n",
       "      <td>0.034259</td>\n",
       "      <td>0.014818</td>\n",
       "      <td>0.000000</td>\n",
       "      <td>0.000000</td>\n",
       "      <td>0.005034</td>\n",
       "      <td>0.016621</td>\n",
       "      <td>0.000000</td>\n",
       "      <td>0.000000</td>\n",
       "      <td>0.000000</td>\n",
       "      <td>0.000000</td>\n",
       "      <td>0.006693</td>\n",
       "      <td>0.000000</td>\n",
       "    </tr>\n",
       "  </tbody>\n",
       "</table>\n",
       "</div>"
      ],
      "text/plain": [
       "          HCC1806-PAR-1  HCC1806-PAR-2  MDA-PAR-1  MDA-PAR-2    MCF7-1  \\\n",
       "GENE                                                                     \n",
       "A1BG          22.517513      22.553405   3.640235   3.655935  2.742338   \n",
       "A1BG-AS1       1.259006       1.250263   0.008199   0.074092  0.103328   \n",
       "A1CF           0.000000       0.000000   0.000000   0.003107  0.000000   \n",
       "A2M            0.000000       0.000000   0.000000   0.000000  0.000000   \n",
       "A2ML1          0.034259       0.014818   0.000000   0.000000  0.005034   \n",
       "\n",
       "            MCF7-2  MDA-MD-453-1  MDA-MD-453-2   HCC38-1   HCC38-2    ZR-75-1  \\\n",
       "GENE                                                                            \n",
       "A1BG      2.464460     14.394453     19.079736  6.686106  9.582769  17.736295   \n",
       "A1BG-AS1  0.041350      0.322157      0.244604  0.415002  0.249507   0.078239   \n",
       "A1CF      0.000000      0.000000      0.000000  0.000000  0.000000   0.000000   \n",
       "A2M       0.000000      0.000000      0.000000  0.790555  1.503693   0.120559   \n",
       "A2ML1     0.016621      0.000000      0.000000  0.000000  0.000000   0.006693   \n",
       "\n",
       "            ZR-75-2  \n",
       "GENE                 \n",
       "A1BG      13.347061  \n",
       "A1BG-AS1   0.115105  \n",
       "A1CF       0.000000  \n",
       "A2M        0.000000  \n",
       "A2ML1      0.000000  "
      ]
     },
     "execution_count": 4,
     "metadata": {},
     "output_type": "execute_result"
    }
   ],
   "source": [
    "exp_df = pd.read_csv('data/BRCA_SLAM_gs_TPM.selected.txt', sep=\"\\t\", index_col=0)\n",
    "exp_df.head()"
   ]
  },
  {
   "cell_type": "code",
   "execution_count": 5,
   "metadata": {
    "pycharm": {
     "name": "#%%\n"
    }
   },
   "outputs": [
    {
     "data": {
      "text/plain": [
       "(12388, 12)"
      ]
     },
     "execution_count": 5,
     "metadata": {},
     "output_type": "execute_result"
    }
   ],
   "source": [
    "#filter low expressing genes\n",
    "exp_df = exp_df.loc[exp_df.sum(axis=1)>10,]\n",
    "exp_df.shape"
   ]
  },
  {
   "cell_type": "code",
   "execution_count": 6,
   "metadata": {
    "pycharm": {
     "name": "#%%\n"
    }
   },
   "outputs": [
    {
     "data": {
      "text/html": [
       "<div>\n",
       "<style scoped>\n",
       "    .dataframe tbody tr th:only-of-type {\n",
       "        vertical-align: middle;\n",
       "    }\n",
       "\n",
       "    .dataframe tbody tr th {\n",
       "        vertical-align: top;\n",
       "    }\n",
       "\n",
       "    .dataframe thead th {\n",
       "        text-align: right;\n",
       "    }\n",
       "</style>\n",
       "<table border=\"1\" class=\"dataframe\">\n",
       "  <thead>\n",
       "    <tr style=\"text-align: right;\">\n",
       "      <th></th>\n",
       "      <th>HCC1806-PAR-1</th>\n",
       "      <th>HCC1806-PAR-2</th>\n",
       "      <th>MDA-PAR-1</th>\n",
       "      <th>MDA-PAR-2</th>\n",
       "      <th>MCF7-1</th>\n",
       "      <th>MCF7-2</th>\n",
       "      <th>MDA-MD-453-1</th>\n",
       "      <th>MDA-MD-453-2</th>\n",
       "      <th>HCC38-1</th>\n",
       "      <th>HCC38-2</th>\n",
       "      <th>ZR-75-1</th>\n",
       "      <th>ZR-75-2</th>\n",
       "    </tr>\n",
       "    <tr>\n",
       "      <th>GENE</th>\n",
       "      <th></th>\n",
       "      <th></th>\n",
       "      <th></th>\n",
       "      <th></th>\n",
       "      <th></th>\n",
       "      <th></th>\n",
       "      <th></th>\n",
       "      <th></th>\n",
       "      <th></th>\n",
       "      <th></th>\n",
       "      <th></th>\n",
       "      <th></th>\n",
       "    </tr>\n",
       "  </thead>\n",
       "  <tbody>\n",
       "    <tr>\n",
       "      <th>A1BG</th>\n",
       "      <td>1.352520</td>\n",
       "      <td>1.353212</td>\n",
       "      <td>0.561130</td>\n",
       "      <td>0.562999</td>\n",
       "      <td>0.438121</td>\n",
       "      <td>0.391722</td>\n",
       "      <td>1.158195</td>\n",
       "      <td>1.280572</td>\n",
       "      <td>0.825173</td>\n",
       "      <td>0.981491</td>\n",
       "      <td>1.248863</td>\n",
       "      <td>1.125386</td>\n",
       "    </tr>\n",
       "    <tr>\n",
       "      <th>AAAS</th>\n",
       "      <td>0.044358</td>\n",
       "      <td>0.164927</td>\n",
       "      <td>-0.085645</td>\n",
       "      <td>0.240688</td>\n",
       "      <td>-0.012887</td>\n",
       "      <td>-0.054587</td>\n",
       "      <td>-0.066918</td>\n",
       "      <td>0.145048</td>\n",
       "      <td>0.192854</td>\n",
       "      <td>0.280589</td>\n",
       "      <td>0.208969</td>\n",
       "      <td>0.062319</td>\n",
       "    </tr>\n",
       "    <tr>\n",
       "      <th>AACS</th>\n",
       "      <td>0.534145</td>\n",
       "      <td>0.616855</td>\n",
       "      <td>0.526016</td>\n",
       "      <td>0.569601</td>\n",
       "      <td>0.758398</td>\n",
       "      <td>0.710714</td>\n",
       "      <td>0.553772</td>\n",
       "      <td>0.592084</td>\n",
       "      <td>0.680561</td>\n",
       "      <td>0.741635</td>\n",
       "      <td>0.840785</td>\n",
       "      <td>0.935845</td>\n",
       "    </tr>\n",
       "    <tr>\n",
       "      <th>AAED1</th>\n",
       "      <td>0.596877</td>\n",
       "      <td>0.662339</td>\n",
       "      <td>0.660540</td>\n",
       "      <td>0.688598</td>\n",
       "      <td>0.526909</td>\n",
       "      <td>0.441211</td>\n",
       "      <td>-0.068981</td>\n",
       "      <td>0.124260</td>\n",
       "      <td>0.355065</td>\n",
       "      <td>0.561544</td>\n",
       "      <td>0.290039</td>\n",
       "      <td>0.315982</td>\n",
       "    </tr>\n",
       "    <tr>\n",
       "      <th>AAGAB</th>\n",
       "      <td>0.623690</td>\n",
       "      <td>0.753050</td>\n",
       "      <td>0.475499</td>\n",
       "      <td>0.563754</td>\n",
       "      <td>0.956415</td>\n",
       "      <td>1.058104</td>\n",
       "      <td>1.041304</td>\n",
       "      <td>1.141294</td>\n",
       "      <td>0.740448</td>\n",
       "      <td>1.019033</td>\n",
       "      <td>1.213546</td>\n",
       "      <td>0.765552</td>\n",
       "    </tr>\n",
       "  </tbody>\n",
       "</table>\n",
       "</div>"
      ],
      "text/plain": [
       "       HCC1806-PAR-1  HCC1806-PAR-2  MDA-PAR-1  MDA-PAR-2    MCF7-1    MCF7-2  \\\n",
       "GENE                                                                            \n",
       "A1BG        1.352520       1.353212   0.561130   0.562999  0.438121  0.391722   \n",
       "AAAS        0.044358       0.164927  -0.085645   0.240688 -0.012887 -0.054587   \n",
       "AACS        0.534145       0.616855   0.526016   0.569601  0.758398  0.710714   \n",
       "AAED1       0.596877       0.662339   0.660540   0.688598  0.526909  0.441211   \n",
       "AAGAB       0.623690       0.753050   0.475499   0.563754  0.956415  1.058104   \n",
       "\n",
       "       MDA-MD-453-1  MDA-MD-453-2   HCC38-1   HCC38-2   ZR-75-1   ZR-75-2  \n",
       "GENE                                                                       \n",
       "A1BG       1.158195      1.280572  0.825173  0.981491  1.248863  1.125386  \n",
       "AAAS      -0.066918      0.145048  0.192854  0.280589  0.208969  0.062319  \n",
       "AACS       0.553772      0.592084  0.680561  0.741635  0.840785  0.935845  \n",
       "AAED1     -0.068981      0.124260  0.355065  0.561544  0.290039  0.315982  \n",
       "AAGAB      1.041304      1.141294  0.740448  1.019033  1.213546  0.765552  "
      ]
     },
     "execution_count": 6,
     "metadata": {},
     "output_type": "execute_result"
    }
   ],
   "source": [
    "exp_df = np.log10(exp_df + 1e-6)\n",
    "exp_df.head()"
   ]
  },
  {
   "cell_type": "code",
   "execution_count": 7,
   "metadata": {
    "pycharm": {
     "name": "#%%\n"
    }
   },
   "outputs": [
    {
     "data": {
      "text/plain": [
       "<matplotlib.axes._subplots.AxesSubplot at 0x7ff793cf2ef0>"
      ]
     },
     "execution_count": 7,
     "metadata": {},
     "output_type": "execute_result"
    },
    {
     "data": {
      "image/png": "[encoded data removed]",
      "text/plain": [
       "<Figure size 432x288 with 1 Axes>"
      ]
     },
     "metadata": {
      "needs_background": "light"
     },
     "output_type": "display_data"
    }
   ],
   "source": [
    "import seaborn as sns\n",
    "sns.distplot(exp_df['HCC1806-PAR-1'])"
   ]
  },
  {
   "cell_type": "code",
   "execution_count": 8,
   "metadata": {
    "pycharm": {
     "name": "#%%\n"
    }
   },
   "outputs": [
    {
     "data": {
      "text/plain": [
       "['DNA2', 'RPL5', 'CNOT6', 'DIMT1', 'LRRC59']"
      ]
     },
     "execution_count": 8,
     "metadata": {},
     "output_type": "execute_result"
    }
   ],
   "source": [
    "RBPs = []\n",
    "with open('data/GO_RNA_BINDING.txt', \"rt\") as file:\n",
    "    file.readline()\n",
    "    file.readline()\n",
    "    for l in file:\n",
    "        RBPs.append(l.rstrip())\n",
    "RBPs = list(set(RBPs).intersection(set(exp_df.index.tolist())))\n",
    "RBPs[:5]"
   ]
  },
  {
   "cell_type": "code",
   "execution_count": 9,
   "metadata": {
    "pycharm": {
     "name": "#%%\n"
    }
   },
   "outputs": [
    {
     "data": {
      "text/plain": [
       "1378"
      ]
     },
     "execution_count": 9,
     "metadata": {},
     "output_type": "execute_result"
    }
   ],
   "source": [
    "len(RBPs)"
   ]
  },
  {
   "cell_type": "code",
   "execution_count": 10,
   "metadata": {
    "pycharm": {
     "name": "#%%\n"
    }
   },
   "outputs": [
    {
     "data": {
      "text/html": [
       "<div>\n",
       "<style scoped>\n",
       "    .dataframe tbody tr th:only-of-type {\n",
       "        vertical-align: middle;\n",
       "    }\n",
       "\n",
       "    .dataframe tbody tr th {\n",
       "        vertical-align: top;\n",
       "    }\n",
       "\n",
       "    .dataframe thead th {\n",
       "        text-align: right;\n",
       "    }\n",
       "</style>\n",
       "<table border=\"1\" class=\"dataframe\">\n",
       "  <thead>\n",
       "    <tr style=\"text-align: right;\">\n",
       "      <th></th>\n",
       "      <th>HCC1806-PAR-1</th>\n",
       "      <th>HCC1806-PAR-2</th>\n",
       "      <th>MDA-PAR-1</th>\n",
       "      <th>MDA-PAR-2</th>\n",
       "      <th>MCF7-1</th>\n",
       "      <th>MCF7-2</th>\n",
       "      <th>MDA-MD-453-1</th>\n",
       "      <th>MDA-MD-453-2</th>\n",
       "      <th>HCC38-1</th>\n",
       "      <th>HCC38-2</th>\n",
       "      <th>ZR-75-1</th>\n",
       "      <th>ZR-75-2</th>\n",
       "    </tr>\n",
       "    <tr>\n",
       "      <th>GENE</th>\n",
       "      <th></th>\n",
       "      <th></th>\n",
       "      <th></th>\n",
       "      <th></th>\n",
       "      <th></th>\n",
       "      <th></th>\n",
       "      <th></th>\n",
       "      <th></th>\n",
       "      <th></th>\n",
       "      <th></th>\n",
       "      <th></th>\n",
       "      <th></th>\n",
       "    </tr>\n",
       "  </thead>\n",
       "  <tbody>\n",
       "    <tr>\n",
       "      <th>AATF</th>\n",
       "      <td>2.117871</td>\n",
       "      <td>2.091740</td>\n",
       "      <td>2.142447</td>\n",
       "      <td>2.128862</td>\n",
       "      <td>1.432687</td>\n",
       "      <td>1.622653</td>\n",
       "      <td>1.527221</td>\n",
       "      <td>1.558252</td>\n",
       "      <td>1.944744</td>\n",
       "      <td>1.927603</td>\n",
       "      <td>1.593355</td>\n",
       "      <td>1.909840</td>\n",
       "    </tr>\n",
       "    <tr>\n",
       "      <th>ABCF1</th>\n",
       "      <td>2.077474</td>\n",
       "      <td>2.086078</td>\n",
       "      <td>2.088833</td>\n",
       "      <td>2.050634</td>\n",
       "      <td>1.834320</td>\n",
       "      <td>1.916774</td>\n",
       "      <td>1.740423</td>\n",
       "      <td>1.778803</td>\n",
       "      <td>2.052234</td>\n",
       "      <td>2.098287</td>\n",
       "      <td>1.922037</td>\n",
       "      <td>2.047142</td>\n",
       "    </tr>\n",
       "    <tr>\n",
       "      <th>ABT1</th>\n",
       "      <td>0.078380</td>\n",
       "      <td>0.235270</td>\n",
       "      <td>0.127963</td>\n",
       "      <td>0.163046</td>\n",
       "      <td>0.010476</td>\n",
       "      <td>0.013709</td>\n",
       "      <td>-0.137508</td>\n",
       "      <td>-0.131378</td>\n",
       "      <td>-0.009094</td>\n",
       "      <td>0.083754</td>\n",
       "      <td>0.010935</td>\n",
       "      <td>-0.510527</td>\n",
       "    </tr>\n",
       "    <tr>\n",
       "      <th>ACAA2</th>\n",
       "      <td>0.778147</td>\n",
       "      <td>0.806869</td>\n",
       "      <td>0.687299</td>\n",
       "      <td>0.759162</td>\n",
       "      <td>0.859164</td>\n",
       "      <td>0.830909</td>\n",
       "      <td>-0.800870</td>\n",
       "      <td>-1.079835</td>\n",
       "      <td>0.769112</td>\n",
       "      <td>0.801048</td>\n",
       "      <td>1.043748</td>\n",
       "      <td>0.944406</td>\n",
       "    </tr>\n",
       "    <tr>\n",
       "      <th>ACIN1</th>\n",
       "      <td>0.932024</td>\n",
       "      <td>0.941313</td>\n",
       "      <td>1.005578</td>\n",
       "      <td>1.051008</td>\n",
       "      <td>0.978527</td>\n",
       "      <td>0.814941</td>\n",
       "      <td>0.882527</td>\n",
       "      <td>0.821425</td>\n",
       "      <td>0.865873</td>\n",
       "      <td>0.912321</td>\n",
       "      <td>0.784165</td>\n",
       "      <td>1.006408</td>\n",
       "    </tr>\n",
       "  </tbody>\n",
       "</table>\n",
       "</div>"
      ],
      "text/plain": [
       "       HCC1806-PAR-1  HCC1806-PAR-2  MDA-PAR-1  MDA-PAR-2    MCF7-1    MCF7-2  \\\n",
       "GENE                                                                            \n",
       "AATF        2.117871       2.091740   2.142447   2.128862  1.432687  1.622653   \n",
       "ABCF1       2.077474       2.086078   2.088833   2.050634  1.834320  1.916774   \n",
       "ABT1        0.078380       0.235270   0.127963   0.163046  0.010476  0.013709   \n",
       "ACAA2       0.778147       0.806869   0.687299   0.759162  0.859164  0.830909   \n",
       "ACIN1       0.932024       0.941313   1.005578   1.051008  0.978527  0.814941   \n",
       "\n",
       "       MDA-MD-453-1  MDA-MD-453-2   HCC38-1   HCC38-2   ZR-75-1   ZR-75-2  \n",
       "GENE                                                                       \n",
       "AATF       1.527221      1.558252  1.944744  1.927603  1.593355  1.909840  \n",
       "ABCF1      1.740423      1.778803  2.052234  2.098287  1.922037  2.047142  \n",
       "ABT1      -0.137508     -0.131378 -0.009094  0.083754  0.010935 -0.510527  \n",
       "ACAA2     -0.800870     -1.079835  0.769112  0.801048  1.043748  0.944406  \n",
       "ACIN1      0.882527      0.821425  0.865873  0.912321  0.784165  1.006408  "
      ]
     },
     "execution_count": 10,
     "metadata": {},
     "output_type": "execute_result"
    }
   ],
   "source": [
    "RBP_df = exp_df.loc[exp_df.index.isin(RBPs),]\n",
    "RBP_df.head()"
   ]
  },
  {
   "cell_type": "markdown",
   "metadata": {
    "pycharm": {
     "name": "#%% md\n"
    }
   },
   "source": [
    "### Train RBP_VAE"
   ]
  },
  {
   "cell_type": "code",
   "execution_count": 11,
   "metadata": {
    "pycharm": {
     "name": "#%%\n"
    }
   },
   "outputs": [
    {
     "data": {
      "text/plain": [
       "((12, 1378), (12, 12388))"
      ]
     },
     "execution_count": 11,
     "metadata": {},
     "output_type": "execute_result"
    }
   ],
   "source": [
    "trainX = RBP_df.T.to_numpy()\n",
    "trainY = exp_df.T.to_numpy()\n",
    "trainX.shape, trainY.shape"
   ]
  },
  {
   "cell_type": "code",
   "execution_count": 22,
   "metadata": {
    "pycharm": {
     "name": "#%%\n"
    }
   },
   "outputs": [],
   "source": [
    "from RBP_VAE import *"
   ]
  },
  {
   "cell_type": "code",
   "execution_count": 19,
   "metadata": {
    "pycharm": {
     "name": "#%%\n"
    }
   },
   "outputs": [],
   "source": [
    "vae_data_loadter = DataLoader(vaeDataset(RBP_df.T.to_numpy(), exp_df.T.to_numpy()), batch_size=12, shuffle=True)"
   ]
  },
  {
   "cell_type": "code",
   "execution_count": 35,
   "metadata": {
    "pycharm": {
     "name": "#%%\n"
    }
   },
   "outputs": [
    {
     "name": "stdout",
     "output_type": "stream",
     "text": [
      "VAE(\n",
      "  (encoder): Sequential(\n",
      "    (0): Linear(in_features=1378, out_features=500, bias=True)\n",
      "    (1): ReLU()\n",
      "    (2): BatchNorm1d(500, eps=1e-05, momentum=0.1, affine=True, track_running_stats=True)\n",
      "  )\n",
      "  (fc_mu): Linear(in_features=500, out_features=50, bias=True)\n",
      "  (fc_var): Linear(in_features=500, out_features=50, bias=True)\n",
      "  (decoder): Sequential(\n",
      "    (0): Linear(in_features=50, out_features=500, bias=True)\n",
      "    (1): ReLU()\n",
      "    (2): BatchNorm1d(500, eps=1e-05, momentum=0.1, affine=True, track_running_stats=True)\n",
      "    (3): Linear(in_features=500, out_features=12388, bias=True)\n",
      "  )\n",
      ")\n"
     ]
    }
   ],
   "source": [
    "myVAE = VAE(trainX.shape[1], 50, trainY.shape[1])\n",
    "print(myVAE)"
   ]
  },
  {
   "cell_type": "code",
   "execution_count": 13,
   "metadata": {
    "pycharm": {
     "name": "#%%\n"
    }
   },
   "outputs": [
    {
     "data": {
      "text/plain": [
       "device(type='cuda')"
      ]
     },
     "execution_count": 13,
     "metadata": {},
     "output_type": "execute_result"
    }
   ],
   "source": [
    "if torch.cuda.is_available():\n",
    "    device = torch.device(\"cuda\") \n",
    "else:\n",
    "    device = torch.device(\"cpu\")\n",
    "device"
   ]
  },
  {
   "cell_type": "code",
   "execution_count": 37,
   "metadata": {
    "pycharm": {
     "name": "#%%\n"
    }
   },
   "outputs": [],
   "source": [
    "myVAE.compile(device=device)"
   ]
  },
  {
   "cell_type": "code",
   "execution_count": 38,
   "metadata": {
    "pycharm": {
     "name": "#%%\n"
    }
   },
   "outputs": [
    {
     "name": "stdout",
     "output_type": "stream",
     "text": [
      "Train Epoch: 99 [0/128 (0%)]\tLoss: 0.095445\tRecon Loss: 0.070211\tKL Loss: 0.488803\n",
      "Train Epoch: 199 [0/128 (0%)]\tLoss: 0.069273\tRecon Loss: 0.039673\tKL Loss: 0.443516\n",
      "Train Epoch: 299 [0/128 (0%)]\tLoss: 0.063836\tRecon Loss: 0.035095\tKL Loss: 0.375832\n",
      "Train Epoch: 399 [0/128 (0%)]\tLoss: 0.052935\tRecon Loss: 0.023750\tKL Loss: 0.348368\n",
      "Train Epoch: 499 [0/128 (0%)]\tLoss: 0.067224\tRecon Loss: 0.037425\tKL Loss: 0.332310\n",
      "Train Epoch: 599 [0/128 (0%)]\tLoss: 0.050729\tRecon Loss: 0.019481\tKL Loss: 0.330204\n",
      "Train Epoch: 699 [0/128 (0%)]\tLoss: 0.070363\tRecon Loss: 0.033992\tKL Loss: 0.367628\n",
      "Train Epoch: 799 [0/128 (0%)]\tLoss: 0.061124\tRecon Loss: 0.027525\tKL Loss: 0.327038\n",
      "Train Epoch: 899 [0/128 (0%)]\tLoss: 0.070729\tRecon Loss: 0.034329\tKL Loss: 0.342917\n",
      "Train Epoch: 999 [0/128 (0%)]\tLoss: 0.055740\tRecon Loss: 0.014403\tKL Loss: 0.378371\n",
      "Train Epoch: 1099 [0/128 (0%)]\tLoss: 0.066238\tRecon Loss: 0.026918\tKL Loss: 0.350785\n",
      "Train Epoch: 1199 [0/128 (0%)]\tLoss: 0.060507\tRecon Loss: 0.019966\tKL Loss: 0.353396\n",
      "Train Epoch: 1299 [0/128 (0%)]\tLoss: 0.063408\tRecon Loss: 0.029920\tKL Loss: 0.285825\n",
      "Train Epoch: 1399 [0/128 (0%)]\tLoss: 0.071756\tRecon Loss: 0.031601\tKL Loss: 0.336180\n",
      "Train Epoch: 1499 [0/128 (0%)]\tLoss: 0.062155\tRecon Loss: 0.024306\tKL Loss: 0.311269\n",
      "Train Epoch: 1599 [0/128 (0%)]\tLoss: 0.068098\tRecon Loss: 0.033198\tKL Loss: 0.282316\n",
      "Train Epoch: 1699 [0/128 (0%)]\tLoss: 0.064935\tRecon Loss: 0.025161\tKL Loss: 0.316831\n",
      "Train Epoch: 1799 [0/128 (0%)]\tLoss: 0.073589\tRecon Loss: 0.029456\tKL Loss: 0.346530\n",
      "Train Epoch: 1899 [0/128 (0%)]\tLoss: 0.066940\tRecon Loss: 0.026425\tKL Loss: 0.313843\n",
      "Train Epoch: 1999 [0/128 (0%)]\tLoss: 0.073212\tRecon Loss: 0.026648\tKL Loss: 0.356138\n"
     ]
    }
   ],
   "source": [
    "history = myVAE.train_model(vae_data_loadter, epochs=2000, device=device)"
   ]
  },
  {
   "cell_type": "code",
   "execution_count": 39,
   "metadata": {
    "pycharm": {
     "name": "#%%\n"
    }
   },
   "outputs": [],
   "source": [
    "recon = myVAE(torch.from_numpy(trainX.astype(np.float32)).to(device))[0].to('cpu').detach().numpy()"
   ]
  },
  {
   "cell_type": "code",
   "execution_count": 40,
   "metadata": {
    "pycharm": {
     "name": "#%%\n"
    }
   },
   "outputs": [],
   "source": [
    "from scipy.stats import pearsonr\n",
    "\n",
    "Rs = []\n",
    "for i in range(trainX.shape[0]):\n",
    "    Rs.append(pearsonr(trainY[i,:], recon[i,:])[0])"
   ]
  },
  {
   "cell_type": "code",
   "execution_count": 41,
   "metadata": {
    "pycharm": {
     "name": "#%%\n"
    }
   },
   "outputs": [
    {
     "data": {
      "text/plain": [
       "<matplotlib.axes._subplots.AxesSubplot at 0x7f58205ab940>"
      ]
     },
     "execution_count": 41,
     "metadata": {},
     "output_type": "execute_result"
    },
    {
     "data": {
      "image/png": "[encoded data removed]",
      "text/plain": [
       "<Figure size 432x288 with 1 Axes>"
      ]
     },
     "metadata": {
      "needs_background": "light"
     },
     "output_type": "display_data"
    }
   ],
   "source": [
    "import seaborn as sns\n",
    "sns.distplot(Rs, bins=10)"
   ]
  },
  {
   "cell_type": "code",
   "execution_count": 42,
   "metadata": {
    "pycharm": {
     "name": "#%%\n"
    }
   },
   "outputs": [],
   "source": [
    "embed = myVAE(torch.from_numpy(trainX.astype(np.float32)).to(device))[1].to('cpu').detach().numpy()"
   ]
  },
  {
   "cell_type": "code",
   "execution_count": 43,
   "metadata": {
    "pycharm": {
     "name": "#%%\n"
    }
   },
   "outputs": [],
   "source": [
    "import umap\n",
    "trans = umap.UMAP(n_neighbors=5, random_state=42).fit(embed)"
   ]
  },
  {
   "cell_type": "code",
   "execution_count": 48,
   "metadata": {
    "pycharm": {
     "name": "#%%\n"
    }
   },
   "outputs": [
    {
     "data": {
      "text/html": [
       "<div>\n",
       "<style scoped>\n",
       "    .dataframe tbody tr th:only-of-type {\n",
       "        vertical-align: middle;\n",
       "    }\n",
       "\n",
       "    .dataframe tbody tr th {\n",
       "        vertical-align: top;\n",
       "    }\n",
       "\n",
       "    .dataframe thead th {\n",
       "        text-align: right;\n",
       "    }\n",
       "</style>\n",
       "<table border=\"1\" class=\"dataframe\">\n",
       "  <thead>\n",
       "    <tr style=\"text-align: right;\">\n",
       "      <th></th>\n",
       "      <th>UMAP1</th>\n",
       "      <th>UMAP2</th>\n",
       "      <th>id</th>\n",
       "      <th>cell</th>\n",
       "    </tr>\n",
       "  </thead>\n",
       "  <tbody>\n",
       "    <tr>\n",
       "      <th>0</th>\n",
       "      <td>-2.073313</td>\n",
       "      <td>2.683848</td>\n",
       "      <td>HCC1806-PAR-1</td>\n",
       "      <td>HCC1806-PAR</td>\n",
       "    </tr>\n",
       "    <tr>\n",
       "      <th>1</th>\n",
       "      <td>-2.451240</td>\n",
       "      <td>2.160619</td>\n",
       "      <td>HCC1806-PAR-2</td>\n",
       "      <td>HCC1806-PAR</td>\n",
       "    </tr>\n",
       "    <tr>\n",
       "      <th>2</th>\n",
       "      <td>-3.000031</td>\n",
       "      <td>3.123960</td>\n",
       "      <td>MDA-PAR-1</td>\n",
       "      <td>MDA-PAR</td>\n",
       "    </tr>\n",
       "    <tr>\n",
       "      <th>3</th>\n",
       "      <td>-2.989351</td>\n",
       "      <td>2.436444</td>\n",
       "      <td>MDA-PAR-2</td>\n",
       "      <td>MDA-PAR</td>\n",
       "    </tr>\n",
       "    <tr>\n",
       "      <th>4</th>\n",
       "      <td>-2.791543</td>\n",
       "      <td>5.595730</td>\n",
       "      <td>MCF7-1</td>\n",
       "      <td>MCF7</td>\n",
       "    </tr>\n",
       "  </tbody>\n",
       "</table>\n",
       "</div>"
      ],
      "text/plain": [
       "      UMAP1     UMAP2             id         cell\n",
       "0 -2.073313  2.683848  HCC1806-PAR-1  HCC1806-PAR\n",
       "1 -2.451240  2.160619  HCC1806-PAR-2  HCC1806-PAR\n",
       "2 -3.000031  3.123960      MDA-PAR-1      MDA-PAR\n",
       "3 -2.989351  2.436444      MDA-PAR-2      MDA-PAR\n",
       "4 -2.791543  5.595730         MCF7-1         MCF7"
      ]
     },
     "execution_count": 48,
     "metadata": {},
     "output_type": "execute_result"
    }
   ],
   "source": [
    "import re\n",
    "umap_df = pd.DataFrame(list(zip(trans.embedding_[:, 0],\n",
    "                                trans.embedding_[:, 1],\n",
    "                                exp_df.columns,\n",
    "                                [re.sub(\"-\\d+$\", \"\", x) for x in exp_df.columns])), columns =['UMAP1', 'UMAP2', 'id', 'cell'])\n",
    "umap_df.head()"
   ]
  },
  {
   "cell_type": "code",
   "execution_count": 49,
   "metadata": {
    "pycharm": {
     "name": "#%%\n"
    }
   },
   "outputs": [
    {
     "name": "stderr",
     "output_type": "stream",
     "text": [
      "/home/hani/anaconda3/envs/pytorch/lib/python3.6/site-packages/plotnine/scales/scales.py:29: PlotnineWarning: Scale for 'color' is already present.\n",
      "Adding another scale for 'color',\n",
      "which will replace the existing scale.\n",
      "\n"
     ]
    },
    {
     "data": {
      "image/png": "[encoded data removed]",
      "text/plain": [
       "<Figure size 640x480 with 1 Axes>"
      ]
     },
     "metadata": {},
     "output_type": "display_data"
    },
    {
     "data": {
      "text/plain": [
       "<ggplot: (8750896613794)>"
      ]
     },
     "execution_count": 49,
     "metadata": {},
     "output_type": "execute_result"
    }
   ],
   "source": [
    "from plotnine import *\n",
    "plot = (ggplot(umap_df, aes(x=\"UMAP1\", y=\"UMAP2\", color=\"cell\")) + geom_point(alpha=0.5, stroke = 0.25) +\n",
    "    scale_colour_manual(values={True:\"#FF3E3E\", False:\"#D5D5D5\"})+ theme_bw(11) +\n",
    "    scale_color_discrete() +\n",
    "    theme(panel_background = element_rect(colour = \"black\",size=1), panel_grid_major = element_blank(),panel_grid_minor = element_blank()))\n",
    "plot"
   ]
  },
  {
   "cell_type": "code",
   "execution_count": 51,
   "metadata": {
    "pycharm": {
     "name": "#%%\n"
    }
   },
   "outputs": [],
   "source": [
    "torch.save(myVAE.state_dict(), 'models/model_VAE_50_latent.pt')"
   ]
  },
  {
   "cell_type": "code",
   "execution_count": 56,
   "metadata": {
    "pycharm": {
     "name": "#%%\n"
    }
   },
   "outputs": [
    {
     "data": {
      "text/html": [
       "<div>\n",
       "<style scoped>\n",
       "    .dataframe tbody tr th:only-of-type {\n",
       "        vertical-align: middle;\n",
       "    }\n",
       "\n",
       "    .dataframe tbody tr th {\n",
       "        vertical-align: top;\n",
       "    }\n",
       "\n",
       "    .dataframe thead th {\n",
       "        text-align: right;\n",
       "    }\n",
       "</style>\n",
       "<table border=\"1\" class=\"dataframe\">\n",
       "  <thead>\n",
       "    <tr style=\"text-align: right;\">\n",
       "      <th></th>\n",
       "      <th>HCC1806-PAR-1</th>\n",
       "      <th>HCC1806-PAR-2</th>\n",
       "      <th>MDA-PAR-1</th>\n",
       "      <th>MDA-PAR-2</th>\n",
       "      <th>MCF7-1</th>\n",
       "      <th>MCF7-2</th>\n",
       "      <th>MDA-MD-453-1</th>\n",
       "      <th>MDA-MD-453-2</th>\n",
       "      <th>HCC38-1</th>\n",
       "      <th>HCC38-2</th>\n",
       "      <th>ZR-75-1</th>\n",
       "      <th>ZR-75-2</th>\n",
       "    </tr>\n",
       "  </thead>\n",
       "  <tbody>\n",
       "    <tr>\n",
       "      <th>0</th>\n",
       "      <td>-0.513934</td>\n",
       "      <td>-0.013091</td>\n",
       "      <td>0.296917</td>\n",
       "      <td>0.204381</td>\n",
       "      <td>-0.076948</td>\n",
       "      <td>-0.208921</td>\n",
       "      <td>-0.088639</td>\n",
       "      <td>-0.152750</td>\n",
       "      <td>0.204965</td>\n",
       "      <td>-0.058599</td>\n",
       "      <td>0.281210</td>\n",
       "      <td>0.025269</td>\n",
       "    </tr>\n",
       "    <tr>\n",
       "      <th>1</th>\n",
       "      <td>0.074635</td>\n",
       "      <td>-0.009772</td>\n",
       "      <td>-0.222974</td>\n",
       "      <td>-0.120002</td>\n",
       "      <td>-0.076021</td>\n",
       "      <td>0.433860</td>\n",
       "      <td>-0.213282</td>\n",
       "      <td>0.130376</td>\n",
       "      <td>0.061653</td>\n",
       "      <td>0.013875</td>\n",
       "      <td>0.071214</td>\n",
       "      <td>-0.189190</td>\n",
       "    </tr>\n",
       "    <tr>\n",
       "      <th>2</th>\n",
       "      <td>0.028209</td>\n",
       "      <td>-0.140234</td>\n",
       "      <td>-0.058463</td>\n",
       "      <td>-0.198498</td>\n",
       "      <td>0.124454</td>\n",
       "      <td>0.031786</td>\n",
       "      <td>0.166356</td>\n",
       "      <td>0.364529</td>\n",
       "      <td>-0.190579</td>\n",
       "      <td>-0.110524</td>\n",
       "      <td>-0.166222</td>\n",
       "      <td>0.196372</td>\n",
       "    </tr>\n",
       "    <tr>\n",
       "      <th>3</th>\n",
       "      <td>0.087199</td>\n",
       "      <td>-0.125843</td>\n",
       "      <td>-0.249959</td>\n",
       "      <td>-0.332985</td>\n",
       "      <td>-0.007035</td>\n",
       "      <td>0.053864</td>\n",
       "      <td>0.034408</td>\n",
       "      <td>0.607286</td>\n",
       "      <td>0.239457</td>\n",
       "      <td>-0.119393</td>\n",
       "      <td>-0.060793</td>\n",
       "      <td>0.044186</td>\n",
       "    </tr>\n",
       "    <tr>\n",
       "      <th>4</th>\n",
       "      <td>0.105184</td>\n",
       "      <td>-0.311381</td>\n",
       "      <td>-0.361498</td>\n",
       "      <td>-0.276698</td>\n",
       "      <td>-0.317911</td>\n",
       "      <td>0.354223</td>\n",
       "      <td>0.078002</td>\n",
       "      <td>0.550400</td>\n",
       "      <td>0.095460</td>\n",
       "      <td>-0.098409</td>\n",
       "      <td>-0.049048</td>\n",
       "      <td>-0.011662</td>\n",
       "    </tr>\n",
       "  </tbody>\n",
       "</table>\n",
       "</div>"
      ],
      "text/plain": [
       "   HCC1806-PAR-1  HCC1806-PAR-2  MDA-PAR-1  MDA-PAR-2    MCF7-1    MCF7-2  \\\n",
       "0      -0.513934      -0.013091   0.296917   0.204381 -0.076948 -0.208921   \n",
       "1       0.074635      -0.009772  -0.222974  -0.120002 -0.076021  0.433860   \n",
       "2       0.028209      -0.140234  -0.058463  -0.198498  0.124454  0.031786   \n",
       "3       0.087199      -0.125843  -0.249959  -0.332985 -0.007035  0.053864   \n",
       "4       0.105184      -0.311381  -0.361498  -0.276698 -0.317911  0.354223   \n",
       "\n",
       "   MDA-MD-453-1  MDA-MD-453-2   HCC38-1   HCC38-2   ZR-75-1   ZR-75-2  \n",
       "0     -0.088639     -0.152750  0.204965 -0.058599  0.281210  0.025269  \n",
       "1     -0.213282      0.130376  0.061653  0.013875  0.071214 -0.189190  \n",
       "2      0.166356      0.364529 -0.190579 -0.110524 -0.166222  0.196372  \n",
       "3      0.034408      0.607286  0.239457 -0.119393 -0.060793  0.044186  \n",
       "4      0.078002      0.550400  0.095460 -0.098409 -0.049048 -0.011662  "
      ]
     },
     "execution_count": 56,
     "metadata": {},
     "output_type": "execute_result"
    }
   ],
   "source": [
    "embed_df = pd.DataFrame(embed.T, columns=exp_df.columns)\n",
    "embed_df.head()"
   ]
  },
  {
   "cell_type": "code",
   "execution_count": 57,
   "metadata": {
    "pycharm": {
     "name": "#%%\n"
    }
   },
   "outputs": [],
   "source": [
    "embed_df.to_csv(\"results/embed_df.txt\", sep=\"\\t\")"
   ]
  },
  {
   "cell_type": "code",
   "execution_count": 62,
   "metadata": {
    "pycharm": {
     "name": "#%%\n"
    }
   },
   "outputs": [],
   "source": [
    "RBP_df.to_csv(\"results/RBP_df.txt\", sep=\"\\t\")"
   ]
  },
  {
   "cell_type": "code",
   "execution_count": 13,
   "metadata": {
    "pycharm": {
     "name": "#%%\n"
    }
   },
   "outputs": [
    {
     "data": {
      "text/html": [
       "<div>\n",
       "<style scoped>\n",
       "    .dataframe tbody tr th:only-of-type {\n",
       "        vertical-align: middle;\n",
       "    }\n",
       "\n",
       "    .dataframe tbody tr th {\n",
       "        vertical-align: top;\n",
       "    }\n",
       "\n",
       "    .dataframe thead th {\n",
       "        text-align: right;\n",
       "    }\n",
       "</style>\n",
       "<table border=\"1\" class=\"dataframe\">\n",
       "  <thead>\n",
       "    <tr style=\"text-align: right;\">\n",
       "      <th></th>\n",
       "      <th>HCC1806-PAR-1</th>\n",
       "      <th>HCC1806-PAR-2</th>\n",
       "      <th>MDA-PAR-1</th>\n",
       "      <th>MDA-PAR-2</th>\n",
       "      <th>MCF7-1</th>\n",
       "      <th>MCF7-2</th>\n",
       "      <th>MDA-MD-453-1</th>\n",
       "      <th>MDA-MD-453-2</th>\n",
       "      <th>HCC38-1</th>\n",
       "      <th>HCC38-2</th>\n",
       "      <th>ZR-75-1</th>\n",
       "      <th>ZR-75-2</th>\n",
       "    </tr>\n",
       "    <tr>\n",
       "      <th>GENE</th>\n",
       "      <th></th>\n",
       "      <th></th>\n",
       "      <th></th>\n",
       "      <th></th>\n",
       "      <th></th>\n",
       "      <th></th>\n",
       "      <th></th>\n",
       "      <th></th>\n",
       "      <th></th>\n",
       "      <th></th>\n",
       "      <th></th>\n",
       "      <th></th>\n",
       "    </tr>\n",
       "  </thead>\n",
       "  <tbody>\n",
       "    <tr>\n",
       "      <th>AATF</th>\n",
       "      <td>2.117871</td>\n",
       "      <td>2.091740</td>\n",
       "      <td>2.142447</td>\n",
       "      <td>2.128862</td>\n",
       "      <td>1.432687</td>\n",
       "      <td>1.622653</td>\n",
       "      <td>1.527221</td>\n",
       "      <td>1.558252</td>\n",
       "      <td>1.944744</td>\n",
       "      <td>1.927603</td>\n",
       "      <td>1.593355</td>\n",
       "      <td>1.909840</td>\n",
       "    </tr>\n",
       "    <tr>\n",
       "      <th>ABCF1</th>\n",
       "      <td>2.077474</td>\n",
       "      <td>2.086078</td>\n",
       "      <td>2.088833</td>\n",
       "      <td>2.050634</td>\n",
       "      <td>1.834320</td>\n",
       "      <td>1.916774</td>\n",
       "      <td>1.740423</td>\n",
       "      <td>1.778803</td>\n",
       "      <td>2.052234</td>\n",
       "      <td>2.098287</td>\n",
       "      <td>1.922037</td>\n",
       "      <td>2.047142</td>\n",
       "    </tr>\n",
       "    <tr>\n",
       "      <th>ABT1</th>\n",
       "      <td>0.078380</td>\n",
       "      <td>0.235270</td>\n",
       "      <td>0.127963</td>\n",
       "      <td>0.163046</td>\n",
       "      <td>0.010476</td>\n",
       "      <td>0.013709</td>\n",
       "      <td>-0.137508</td>\n",
       "      <td>-0.131378</td>\n",
       "      <td>-0.009094</td>\n",
       "      <td>0.083754</td>\n",
       "      <td>0.010935</td>\n",
       "      <td>-0.510527</td>\n",
       "    </tr>\n",
       "    <tr>\n",
       "      <th>ACAA2</th>\n",
       "      <td>0.778147</td>\n",
       "      <td>0.806869</td>\n",
       "      <td>0.687299</td>\n",
       "      <td>0.759162</td>\n",
       "      <td>0.859164</td>\n",
       "      <td>0.830909</td>\n",
       "      <td>-0.800870</td>\n",
       "      <td>-1.079835</td>\n",
       "      <td>0.769112</td>\n",
       "      <td>0.801048</td>\n",
       "      <td>1.043748</td>\n",
       "      <td>0.944406</td>\n",
       "    </tr>\n",
       "    <tr>\n",
       "      <th>ACIN1</th>\n",
       "      <td>0.932024</td>\n",
       "      <td>0.941313</td>\n",
       "      <td>1.005578</td>\n",
       "      <td>1.051008</td>\n",
       "      <td>0.978527</td>\n",
       "      <td>0.814941</td>\n",
       "      <td>0.882527</td>\n",
       "      <td>0.821425</td>\n",
       "      <td>0.865873</td>\n",
       "      <td>0.912321</td>\n",
       "      <td>0.784165</td>\n",
       "      <td>1.006408</td>\n",
       "    </tr>\n",
       "  </tbody>\n",
       "</table>\n",
       "</div>"
      ],
      "text/plain": [
       "       HCC1806-PAR-1  HCC1806-PAR-2  MDA-PAR-1  MDA-PAR-2    MCF7-1    MCF7-2  \\\n",
       "GENE                                                                            \n",
       "AATF        2.117871       2.091740   2.142447   2.128862  1.432687  1.622653   \n",
       "ABCF1       2.077474       2.086078   2.088833   2.050634  1.834320  1.916774   \n",
       "ABT1        0.078380       0.235270   0.127963   0.163046  0.010476  0.013709   \n",
       "ACAA2       0.778147       0.806869   0.687299   0.759162  0.859164  0.830909   \n",
       "ACIN1       0.932024       0.941313   1.005578   1.051008  0.978527  0.814941   \n",
       "\n",
       "       MDA-MD-453-1  MDA-MD-453-2   HCC38-1   HCC38-2   ZR-75-1   ZR-75-2  \n",
       "GENE                                                                       \n",
       "AATF       1.527221      1.558252  1.944744  1.927603  1.593355  1.909840  \n",
       "ABCF1      1.740423      1.778803  2.052234  2.098287  1.922037  2.047142  \n",
       "ABT1      -0.137508     -0.131378 -0.009094  0.083754  0.010935 -0.510527  \n",
       "ACAA2     -0.800870     -1.079835  0.769112  0.801048  1.043748  0.944406  \n",
       "ACIN1      0.882527      0.821425  0.865873  0.912321  0.784165  1.006408  "
      ]
     },
     "execution_count": 13,
     "metadata": {},
     "output_type": "execute_result"
    }
   ],
   "source": [
    "RBP_df = pd.read_csv(\"results/RBP_df.txt\", sep=\"\\t\", index_col=0)\n",
    "RBP_df.head()"
   ]
  },
  {
   "cell_type": "markdown",
   "metadata": {
    "pycharm": {
     "name": "#%% md\n"
    }
   },
   "source": [
    "### Prepare inputs"
   ]
  },
  {
   "cell_type": "code",
   "execution_count": 11,
   "metadata": {
    "pycharm": {
     "name": "#%%\n"
    }
   },
   "outputs": [
    {
     "data": {
      "text/plain": [
       "[('HCC1806-PAR-1',\n",
       "  array([2.11787066, 2.07747397, 0.0783796 , ..., 1.78853596, 1.16207628,\n",
       "         0.109066  ]))]"
      ]
     },
     "execution_count": 11,
     "metadata": {},
     "output_type": "execute_result"
    }
   ],
   "source": [
    "#convert the VAE embedding to a dictionary of lists\n",
    "rbp_dict = {key:np.array(row.tolist()) for key,row in RBP_df.T.iterrows()}\n",
    "list(rbp_dict.items())[:1]"
   ]
  },
  {
   "cell_type": "code",
   "execution_count": null,
   "metadata": {
    "pycharm": {
     "name": "#%%\n"
    }
   },
   "outputs": [],
   "source": [
    "from Bio import SeqIO\n",
    "import re\n",
    "import gzip\n",
    "\n",
    "lengths = []\n",
    "with gzip.open('data/gencode.v28.major.iso.fa.gz', 'rt') as handle:\n",
    "    for rec in SeqIO.parse(handle, \"fasta\"):\n",
    "        if len(str(rec.seq))>max_len:\n",
    "            max_len = len(str(rec.seq))\n",
    "        lengths.append(len(str(rec.seq)))"
   ]
  },
  {
   "cell_type": "code",
   "execution_count": 81,
   "metadata": {
    "pycharm": {
     "name": "#%%\n"
    }
   },
   "outputs": [
    {
     "data": {
      "text/plain": [
       "array([  88.  ,  127.  ,  244.  ,  314.  ,  393.  ,  450.  ,  504.14,\n",
       "        559.  ,  603.  ,  676.24,  770.  ,  918.64, 1168.  , 1456.  ,\n",
       "       1738.74, 2069.  , 2471.  , 3043.  , 3881.62, 5461.24])"
      ]
     },
     "execution_count": 81,
     "metadata": {},
     "output_type": "execute_result"
    }
   ],
   "source": [
    "np.percentile(lengths, q=range(1,100,5))"
   ]
  },
  {
   "cell_type": "code",
   "execution_count": 12,
   "metadata": {
    "pycharm": {
     "name": "#%%\n"
    }
   },
   "outputs": [
    {
     "data": {
      "text/plain": [
       "6941"
      ]
     },
     "execution_count": 12,
     "metadata": {},
     "output_type": "execute_result"
    }
   ],
   "source": [
    "from Bio import SeqIO\n",
    "import re\n",
    "import gzip\n",
    "\n",
    "seq_dict = {}\n",
    "\n",
    "count = 0\n",
    "max_len = 4096-10\n",
    "min_len = 512\n",
    "with gzip.open('data/gencode.v28.major.iso.fa.gz', 'rt') as handle:\n",
    "    for rec in SeqIO.parse(handle, \"fasta\"):\n",
    "        if len(str(rec.seq))<=max_len and len(str(rec.seq))>=min_len:\n",
    "            seq_dict[rec.id.split('|')[5]] = str(rec.seq)\n",
    "            count += 1\n",
    "count"
   ]
  },
  {
   "cell_type": "code",
   "execution_count": 13,
   "metadata": {
    "pycharm": {
     "name": "#%%\n"
    }
   },
   "outputs": [
    {
     "data": {
      "text/plain": [
       "[('RP5-857K21.8',\n",
       "  'ATTAATCCCCTGGCCCAACCCGTCATCTACTCTACCATCTTTGCAGGCACACTCATCACAGCGCTAAGCTCGCACTGATTTTTTACCTGAGTAGGCCTAGAAATAAACATGCTAGCTTTTATTCCAGTTCTAACCAAAAAAATAAACCCTCGTTCCACAGAAGCTGCCATCAAGTATTTCCTCACGCAAGCAACCGCATCCATAATCCTTCTAATAGCTATCCTCTTCAACAATATACTCTCCGGACAATGAACCATAACCAATACCACCAATCAATACTCATCATTAATAATCATAATGGCTATAGCAATAAAACTAGGAATAGCCCCCTTTCACTTCTGAGTCCCAGAGGTTACCCAAGGCACCCCTCTGACATCCGGCCTGCTCCTTCTCACATGACAAAAACTAGCCCCCATCTCAATCATATACCAAATTTCTCCCTCATTAAACGTAAGCCTTCTCCTCACTCTTTCAATCTTATCCATCATGGCAGGCAGTTGAGGTGGATTAAACCAAACCCAACTACGCAAAATCTTAGCATACTCCTCAATTACCCACATAGGATGAATAACAGCAGTTCTACCGTACAACCCTAACATAACCATTCTTAATTTAACTATTTATATTATCCTAACTACTACCGCATTCCTACTACTCAACTTAAACTCCAGCACCACAACCCTACTACTATCTCGCACCTGAAACAAGCTAACATGACTAACACCCTTAATTCCATCCACCCTCCTCTCCCTAGGAGGCCTGCCCCCGCTAACCGGCTTTTTGCCCAAATGGGCCATTATCGAAGAATTCACAAAAAACAATAGCCTCATCATCCCCACCATCATAGCCATCATCACCCTCCTTAACCTCTACTTCTACCTGCGCCTAATCTACTCCACCTCAATCACACTACTCCCTATATCTAACAACGTAAAAATAAAATGACAGTTTGAACACACAAAACCCACCCCATTCCTCCCCACACTCATCGCCCTTACCACACTGCTCCTACCTATCTCCCCTTTTATGCTAATAATCTTATAG')]"
      ]
     },
     "execution_count": 13,
     "metadata": {},
     "output_type": "execute_result"
    }
   ],
   "source": [
    "list(seq_dict.items())[:1]"
   ]
  },
  {
   "cell_type": "code",
   "execution_count": 14,
   "metadata": {
    "pycharm": {
     "name": "#%%\n"
    }
   },
   "outputs": [
    {
     "data": {
      "text/html": [
       "<div>\n",
       "<style scoped>\n",
       "    .dataframe tbody tr th:only-of-type {\n",
       "        vertical-align: middle;\n",
       "    }\n",
       "\n",
       "    .dataframe tbody tr th {\n",
       "        vertical-align: top;\n",
       "    }\n",
       "\n",
       "    .dataframe thead th {\n",
       "        text-align: right;\n",
       "    }\n",
       "</style>\n",
       "<table border=\"1\" class=\"dataframe\">\n",
       "  <thead>\n",
       "    <tr style=\"text-align: right;\">\n",
       "      <th></th>\n",
       "      <th>HCC1806-PAR-1</th>\n",
       "      <th>HCC1806-PAR-2</th>\n",
       "      <th>MDA-PAR-1</th>\n",
       "      <th>MDA-PAR-2</th>\n",
       "      <th>MCF7-1</th>\n",
       "      <th>MCF7-2</th>\n",
       "      <th>MDA-MD-453-1</th>\n",
       "      <th>MDA-MD-453-2</th>\n",
       "      <th>HCC38-1</th>\n",
       "      <th>HCC38-2</th>\n",
       "      <th>ZR-75-1</th>\n",
       "      <th>ZR-75-2</th>\n",
       "    </tr>\n",
       "  </thead>\n",
       "  <tbody>\n",
       "    <tr>\n",
       "      <th>A1BG</th>\n",
       "      <td>-1.066082</td>\n",
       "      <td>-1.280269</td>\n",
       "      <td>-0.285732</td>\n",
       "      <td>-0.639637</td>\n",
       "      <td>-0.326187</td>\n",
       "      <td>-0.664953</td>\n",
       "      <td>-0.719758</td>\n",
       "      <td>-0.812882</td>\n",
       "      <td>-1.439074</td>\n",
       "      <td>-0.731446</td>\n",
       "      <td>-1.717306</td>\n",
       "      <td>-1.054118</td>\n",
       "    </tr>\n",
       "    <tr>\n",
       "      <th>AACS</th>\n",
       "      <td>-0.125061</td>\n",
       "      <td>-0.058180</td>\n",
       "      <td>0.045117</td>\n",
       "      <td>-0.005526</td>\n",
       "      <td>-0.376835</td>\n",
       "      <td>-0.221019</td>\n",
       "      <td>0.063778</td>\n",
       "      <td>-0.058493</td>\n",
       "      <td>-0.308672</td>\n",
       "      <td>-0.569838</td>\n",
       "      <td>-0.351516</td>\n",
       "      <td>-0.318399</td>\n",
       "    </tr>\n",
       "    <tr>\n",
       "      <th>AAED1</th>\n",
       "      <td>-0.171404</td>\n",
       "      <td>-0.180253</td>\n",
       "      <td>0.074135</td>\n",
       "      <td>-0.004023</td>\n",
       "      <td>0.107655</td>\n",
       "      <td>0.336408</td>\n",
       "      <td>0.954444</td>\n",
       "      <td>0.670258</td>\n",
       "      <td>0.320970</td>\n",
       "      <td>-0.151047</td>\n",
       "      <td>0.191012</td>\n",
       "      <td>-0.197516</td>\n",
       "    </tr>\n",
       "    <tr>\n",
       "      <th>AAGAB</th>\n",
       "      <td>-0.400829</td>\n",
       "      <td>-0.165416</td>\n",
       "      <td>0.289347</td>\n",
       "      <td>-0.061730</td>\n",
       "      <td>-0.661292</td>\n",
       "      <td>-0.556470</td>\n",
       "      <td>-0.429905</td>\n",
       "      <td>-0.536963</td>\n",
       "      <td>-0.429548</td>\n",
       "      <td>-0.822612</td>\n",
       "      <td>-1.262680</td>\n",
       "      <td>-0.806532</td>\n",
       "    </tr>\n",
       "    <tr>\n",
       "      <th>AAK1</th>\n",
       "      <td>-1.045263</td>\n",
       "      <td>-0.947986</td>\n",
       "      <td>-0.742636</td>\n",
       "      <td>-0.721529</td>\n",
       "      <td>-0.451813</td>\n",
       "      <td>-0.670308</td>\n",
       "      <td>-0.605175</td>\n",
       "      <td>-0.498851</td>\n",
       "      <td>-0.723403</td>\n",
       "      <td>-0.852025</td>\n",
       "      <td>-0.914979</td>\n",
       "      <td>-0.630247</td>\n",
       "    </tr>\n",
       "  </tbody>\n",
       "</table>\n",
       "</div>"
      ],
      "text/plain": [
       "       HCC1806-PAR-1  HCC1806-PAR-2  MDA-PAR-1  MDA-PAR-2    MCF7-1    MCF7-2  \\\n",
       "A1BG       -1.066082      -1.280269  -0.285732  -0.639637 -0.326187 -0.664953   \n",
       "AACS       -0.125061      -0.058180   0.045117  -0.005526 -0.376835 -0.221019   \n",
       "AAED1      -0.171404      -0.180253   0.074135  -0.004023  0.107655  0.336408   \n",
       "AAGAB      -0.400829      -0.165416   0.289347  -0.061730 -0.661292 -0.556470   \n",
       "AAK1       -1.045263      -0.947986  -0.742636  -0.721529 -0.451813 -0.670308   \n",
       "\n",
       "       MDA-MD-453-1  MDA-MD-453-2   HCC38-1   HCC38-2   ZR-75-1   ZR-75-2  \n",
       "A1BG      -0.719758     -0.812882 -1.439074 -0.731446 -1.717306 -1.054118  \n",
       "AACS       0.063778     -0.058493 -0.308672 -0.569838 -0.351516 -0.318399  \n",
       "AAED1      0.954444      0.670258  0.320970 -0.151047  0.191012 -0.197516  \n",
       "AAGAB     -0.429905     -0.536963 -0.429548 -0.822612 -1.262680 -0.806532  \n",
       "AAK1      -0.605175     -0.498851 -0.723403 -0.852025 -0.914979 -0.630247  "
      ]
     },
     "execution_count": 14,
     "metadata": {},
     "output_type": "execute_result"
    }
   ],
   "source": [
    "import re\n",
    "decay_df = pd.read_csv('data/BRCA-lines_log10_decay_rates_gs.txt', sep=\"\\t\", index_col=0)\n",
    "decay_df.columns = [re.sub(\"\\.\", \"-\", x) for x in decay_df.columns]\n",
    "decay_df.head()"
   ]
  },
  {
   "cell_type": "code",
   "execution_count": 15,
   "metadata": {
    "pycharm": {
     "name": "#%%\n"
    }
   },
   "outputs": [
    {
     "data": {
      "text/plain": [
       "0"
      ]
     },
     "execution_count": 15,
     "metadata": {},
     "output_type": "execute_result"
    }
   ],
   "source": [
    "np.isinf(decay_df).values.sum()"
   ]
  },
  {
   "cell_type": "code",
   "execution_count": 16,
   "metadata": {
    "pycharm": {
     "name": "#%%\n"
    }
   },
   "outputs": [
    {
     "data": {
      "text/plain": [
       "<matplotlib.axes._subplots.AxesSubplot at 0x7ff78e000f60>"
      ]
     },
     "execution_count": 16,
     "metadata": {},
     "output_type": "execute_result"
    },
    {
     "data": {
      "image/png": "[encoded data removed]",
      "text/plain": [
       "<Figure size 432x288 with 1 Axes>"
      ]
     },
     "metadata": {
      "needs_background": "light"
     },
     "output_type": "display_data"
    }
   ],
   "source": [
    "import matplotlib.pyplot as plt\n",
    "sns.distplot(decay_df['HCC1806-PAR-1'])"
   ]
  },
  {
   "cell_type": "code",
   "execution_count": 17,
   "metadata": {
    "pycharm": {
     "name": "#%%\n"
    }
   },
   "outputs": [
    {
     "data": {
      "text/plain": [
       "(6071, 12)"
      ]
     },
     "execution_count": 17,
     "metadata": {},
     "output_type": "execute_result"
    }
   ],
   "source": [
    "decay_df_f = decay_df.loc[decay_df.index.isin(list(seq_dict.keys())),]\n",
    "decay_df_f.shape"
   ]
  },
  {
   "cell_type": "code",
   "execution_count": 18,
   "metadata": {
    "pycharm": {
     "name": "#%%\n"
    }
   },
   "outputs": [
    {
     "data": {
      "text/html": [
       "<div>\n",
       "<style scoped>\n",
       "    .dataframe tbody tr th:only-of-type {\n",
       "        vertical-align: middle;\n",
       "    }\n",
       "\n",
       "    .dataframe tbody tr th {\n",
       "        vertical-align: top;\n",
       "    }\n",
       "\n",
       "    .dataframe thead th {\n",
       "        text-align: right;\n",
       "    }\n",
       "</style>\n",
       "<table border=\"1\" class=\"dataframe\">\n",
       "  <thead>\n",
       "    <tr style=\"text-align: right;\">\n",
       "      <th></th>\n",
       "      <th>index</th>\n",
       "      <th>gene</th>\n",
       "      <th>decay_rate</th>\n",
       "      <th>item</th>\n",
       "    </tr>\n",
       "  </thead>\n",
       "  <tbody>\n",
       "    <tr>\n",
       "      <th>0</th>\n",
       "      <td>HCC1806-PAR-1</td>\n",
       "      <td>AACS</td>\n",
       "      <td>-0.125061</td>\n",
       "      <td>HCC1806-PAR-1,AACS</td>\n",
       "    </tr>\n",
       "    <tr>\n",
       "      <th>1</th>\n",
       "      <td>HCC1806-PAR-2</td>\n",
       "      <td>AACS</td>\n",
       "      <td>-0.058180</td>\n",
       "      <td>HCC1806-PAR-2,AACS</td>\n",
       "    </tr>\n",
       "    <tr>\n",
       "      <th>2</th>\n",
       "      <td>MDA-PAR-1</td>\n",
       "      <td>AACS</td>\n",
       "      <td>0.045117</td>\n",
       "      <td>MDA-PAR-1,AACS</td>\n",
       "    </tr>\n",
       "    <tr>\n",
       "      <th>3</th>\n",
       "      <td>MDA-PAR-2</td>\n",
       "      <td>AACS</td>\n",
       "      <td>-0.005526</td>\n",
       "      <td>MDA-PAR-2,AACS</td>\n",
       "    </tr>\n",
       "    <tr>\n",
       "      <th>4</th>\n",
       "      <td>MCF7-1</td>\n",
       "      <td>AACS</td>\n",
       "      <td>-0.376835</td>\n",
       "      <td>MCF7-1,AACS</td>\n",
       "    </tr>\n",
       "  </tbody>\n",
       "</table>\n",
       "</div>"
      ],
      "text/plain": [
       "           index  gene  decay_rate                item\n",
       "0  HCC1806-PAR-1  AACS   -0.125061  HCC1806-PAR-1,AACS\n",
       "1  HCC1806-PAR-2  AACS   -0.058180  HCC1806-PAR-2,AACS\n",
       "2      MDA-PAR-1  AACS    0.045117      MDA-PAR-1,AACS\n",
       "3      MDA-PAR-2  AACS   -0.005526      MDA-PAR-2,AACS\n",
       "4         MCF7-1  AACS   -0.376835         MCF7-1,AACS"
      ]
     },
     "execution_count": 18,
     "metadata": {},
     "output_type": "execute_result"
    }
   ],
   "source": [
    "decay_df_long = decay_df_f.T.reset_index().melt(id_vars='index', value_vars=decay_df_f.index, var_name='gene', value_name='decay_rate')\n",
    "decay_df_long['item'] = decay_df_long[['index','gene']].apply(lambda x: ','.join(x), axis=1)\n",
    "decay_df_long.head()"
   ]
  },
  {
   "cell_type": "code",
   "execution_count": 19,
   "metadata": {
    "pycharm": {
     "name": "#%%\n"
    }
   },
   "outputs": [
    {
     "data": {
      "text/plain": [
       "{'HCC1806-PAR-1,AACS': -0.125060728912093,\n",
       " 'HCC1806-PAR-2,AACS': -0.0581799540332432,\n",
       " 'MDA-PAR-1,AACS': 0.0451174448911943,\n",
       " 'MDA-PAR-2,AACS': -0.00552580820037016,\n",
       " 'MCF7-1,AACS': -0.376834991850856}"
      ]
     },
     "execution_count": 19,
     "metadata": {},
     "output_type": "execute_result"
    }
   ],
   "source": [
    "decay_dict = dict(zip(decay_df_long.item,decay_df_long.decay_rate))\n",
    "dict(list(decay_dict.items())[0:5])"
   ]
  },
  {
   "cell_type": "code",
   "execution_count": 167,
   "metadata": {
    "pycharm": {
     "name": "#%%\n"
    }
   },
   "outputs": [],
   "source": [
    "import pickle\n",
    "\n",
    "with open('results/seq_dict.pkl', 'wb') as handle:\n",
    "    pickle.dump(seq_dict, handle, protocol=pickle.HIGHEST_PROTOCOL)\n",
    "with open('results/decay_dict.pkl', 'wb') as handle:\n",
    "    pickle.dump(decay_dict, handle, protocol=pickle.HIGHEST_PROTOCOL)\n",
    "with open('results/rbp_dict.pkl', 'wb') as handle:\n",
    "    pickle.dump(rbp_dict, handle, protocol=pickle.HIGHEST_PROTOCOL)"
   ]
  },
  {
   "cell_type": "markdown",
   "metadata": {
    "pycharm": {
     "name": "#%% md\n"
    }
   },
   "source": [
    "### Train model"
   ]
  },
  {
   "cell_type": "code",
   "execution_count": 20,
   "metadata": {
    "pycharm": {
     "name": "#%%\n"
    }
   },
   "outputs": [
    {
     "name": "stdout",
     "output_type": "stream",
     "text": [
      "The autoreload extension is already loaded. To reload it, use:\n",
      "  %reload_ext autoreload\n"
     ]
    }
   ],
   "source": [
    "import pandas as pd\n",
    "import numpy as np\n",
    "\n",
    "%load_ext autoreload\n",
    "%autoreload 2\n",
    "\n",
    "import matplotlib\n",
    "matplotlib.rcParams['pdf.fonttype'] = 42\n",
    "matplotlib.rcParams['ps.fonttype'] = 42"
   ]
  },
  {
   "cell_type": "code",
   "execution_count": 23,
   "metadata": {
    "pycharm": {
     "name": "#%%\n"
    }
   },
   "outputs": [
    {
     "data": {
      "text/plain": [
       "device(type='cuda')"
      ]
     },
     "execution_count": 23,
     "metadata": {},
     "output_type": "execute_result"
    }
   ],
   "source": [
    "if torch.cuda.is_available():\n",
    "    device = torch.device(\"cuda\") \n",
    "else:\n",
    "    device = torch.device(\"cpu\")\n",
    "device"
   ]
  },
  {
   "cell_type": "code",
   "execution_count": 24,
   "metadata": {
    "pycharm": {
     "name": "#%%\n"
    }
   },
   "outputs": [],
   "source": [
    "import pickle\n",
    "\n",
    "with open('results/seq_dict.pkl', 'rb') as handle:\n",
    "    seq_dict = pickle.load(handle)\n",
    "with open('results/decay_dict.pkl', 'rb') as handle:\n",
    "    decay_dict = pickle.load(handle)\n",
    "with open('results/rbp_dict.pkl', 'rb') as handle:\n",
    "    rbp_dict = pickle.load(handle)"
   ]
  },
  {
   "cell_type": "code",
   "execution_count": 25,
   "metadata": {
    "pycharm": {
     "name": "#%%\n"
    }
   },
   "outputs": [
    {
     "data": {
      "text/plain": [
       "(6941, 72852, 12)"
      ]
     },
     "execution_count": 25,
     "metadata": {},
     "output_type": "execute_result"
    }
   ],
   "source": [
    "len(seq_dict.keys()), len(decay_dict.keys()), len(rbp_dict.keys())"
   ]
  },
  {
   "cell_type": "code",
   "execution_count": 26,
   "metadata": {
    "pycharm": {
     "name": "#%%\n"
    }
   },
   "outputs": [],
   "source": [
    "from GreyHound import *"
   ]
  },
  {
   "cell_type": "code",
   "execution_count": 27,
   "metadata": {
    "pycharm": {
     "name": "#%%\n"
    }
   },
   "outputs": [
    {
     "data": {
      "text/plain": [
       "array(['HCC1806-PAR-1,AACS', 'HCC1806-PAR-2,AACS'], dtype='<U33')"
      ]
     },
     "execution_count": 27,
     "metadata": {},
     "output_type": "execute_result"
    }
   ],
   "source": [
    "paired_list = np.array(list(decay_dict.keys()))\n",
    "paired_list[:2]"
   ]
  },
  {
   "cell_type": "code",
   "execution_count": 28,
   "metadata": {
    "pycharm": {
     "name": "#%%\n"
    }
   },
   "outputs": [
    {
     "data": {
      "text/plain": [
       "(72852,)"
      ]
     },
     "execution_count": 28,
     "metadata": {},
     "output_type": "execute_result"
    }
   ],
   "source": [
    "paired_list.shape"
   ]
  },
  {
   "cell_type": "code",
   "execution_count": 25,
   "metadata": {
    "pycharm": {
     "name": "#%%\n"
    }
   },
   "outputs": [
    {
     "name": "stdout",
     "output_type": "stream",
     "text": [
      "58829 3096 10927\n"
     ]
    },
    {
     "data": {
      "text/plain": [
       "array(['MDA-PAR-1,AAR2', 'HCC38-2,AASDH', 'MCF7-2,ABCD3',\n",
       "       'HCC38-1,ABHD11', 'HCC38-2,ABHD14A'], dtype='<U33')"
      ]
     },
     "execution_count": 25,
     "metadata": {},
     "output_type": "execute_result"
    }
   ],
   "source": [
    "## Split the data between train and test\n",
    "import random\n",
    "import numpy as np\n",
    "random.seed(0)\n",
    "\n",
    "test_index = np.array(random.sample(range(paired_list.shape[0]), int(paired_list.shape[0]*0.15)))\n",
    "mask = np.zeros(len(paired_list),dtype=bool)\n",
    "mask[test_index] = True\n",
    "\n",
    "paired_list_test = paired_list[mask]\n",
    "tmp_list = paired_list[~mask]\n",
    "\n",
    "valid_index = np.array(random.sample(range(tmp_list.shape[0]), int(tmp_list.shape[0]*0.05)))\n",
    "mask = np.zeros(len(tmp_list),dtype=bool)\n",
    "mask[valid_index] = True\n",
    "\n",
    "paired_list_valid = tmp_list[mask]\n",
    "paired_list_train = tmp_list[~mask]\n",
    "\n",
    "print(len(paired_list_train), len(paired_list_valid), len(paired_list_test))\n",
    "paired_list_valid[:5]"
   ]
  },
  {
   "cell_type": "code",
   "execution_count": 26,
   "metadata": {
    "pycharm": {
     "name": "#%%\n"
    }
   },
   "outputs": [],
   "source": [
    "import pickle\n",
    "\n",
    "with open('results/paired_list_test.pkl', 'wb') as handle:\n",
    "    pickle.dump(paired_list_test, handle)\n",
    "with open('results/paired_list_valid.pkl', 'wb') as handle:\n",
    "    pickle.dump(paired_list_valid, handle)\n",
    "with open('results/paired_list_train.pkl', 'wb') as handle:\n",
    "    pickle.dump(paired_list_train, handle)"
   ]
  },
  {
   "cell_type": "code",
   "execution_count": 29,
   "metadata": {
    "pycharm": {
     "name": "#%%\n"
    }
   },
   "outputs": [],
   "source": [
    "import pickle\n",
    "\n",
    "with open('results/paired_list_test.pkl', 'rb') as handle:\n",
    "    paired_list_test = pickle.load(handle)\n",
    "with open('results/paired_list_valid.pkl', 'rb') as handle:\n",
    "    paired_list_valid = pickle.load(handle)\n",
    "with open('results/paired_list_train.pkl', 'rb') as handle:\n",
    "    paired_list_train = pickle.load(handle)"
   ]
  },
  {
   "cell_type": "code",
   "execution_count": 30,
   "metadata": {
    "pycharm": {
     "name": "#%%\n"
    }
   },
   "outputs": [],
   "source": [
    "seq_length=4096"
   ]
  },
  {
   "cell_type": "code",
   "execution_count": 23,
   "metadata": {
    "pycharm": {
     "name": "#%%\n"
    }
   },
   "outputs": [],
   "source": [
    "train_data_loader = DataLoader(GHDataset(paired_list_train, decay_dict, seq_dict, rbp_dict, max_len=seq_length), batch_size=32, shuffle=True, drop_last=True)\n",
    "valid_data_loader = DataLoader(GHDataset(paired_list_valid, decay_dict, seq_dict, rbp_dict, max_len=seq_length), batch_size=32, shuffle=False, drop_last=False)"
   ]
  },
  {
   "cell_type": "code",
   "execution_count": 24,
   "metadata": {
    "pycharm": {
     "name": "#%%\n"
    }
   },
   "outputs": [
    {
     "data": {
      "text/plain": [
       "(torch.Size([32, 4, 4096]), torch.Size([32, 1378]), torch.Size([32, 1]))"
      ]
     },
     "execution_count": 24,
     "metadata": {},
     "output_type": "execute_result"
    }
   ],
   "source": [
    "tseq, tenc, texp = next(iter(train_data_loader))\n",
    "tseq.shape, tenc.shape, texp.shape"
   ]
  },
  {
   "cell_type": "code",
   "execution_count": 31,
   "metadata": {
    "pycharm": {
     "name": "#%%\n"
    }
   },
   "outputs": [
    {
     "name": "stdout",
     "output_type": "stream",
     "text": [
      "GreyHoundModel(\n",
      "  (conv_block_1): Sequential(\n",
      "    (0): Conv1d(4, 64, kernel_size=(10,), stride=(1,), padding=(10,))\n",
      "    (1): LeakyReLU(negative_slope=0.01)\n",
      "    (2): BatchNorm1d(64, eps=1e-05, momentum=0.1, affine=True, track_running_stats=True)\n",
      "    (3): MaxPool1d(kernel_size=10, stride=5, padding=0, dilation=1, ceil_mode=False)\n",
      "    (4): Dropout(p=0.2, inplace=False)\n",
      "  )\n",
      "  (conv_block_2): Sequential(\n",
      "    (0): Conv1d(64, 32, kernel_size=(5,), stride=(1,), padding=(5,))\n",
      "    (1): LeakyReLU(negative_slope=0.01)\n",
      "    (2): BatchNorm1d(32, eps=1e-05, momentum=0.1, affine=True, track_running_stats=True)\n",
      "    (3): MaxPool1d(kernel_size=5, stride=5, padding=0, dilation=1, ceil_mode=False)\n",
      "    (4): Dropout(p=0.2, inplace=False)\n",
      "  )\n",
      "  (dilations): ModuleList(\n",
      "    (0): Sequential(\n",
      "      (0): Conv1d(32, 4, kernel_size=(3,), stride=(1,))\n",
      "      (1): LeakyReLU(negative_slope=0.01)\n",
      "      (2): BatchNorm1d(4, eps=1e-05, momentum=0.1, affine=True, track_running_stats=True)\n",
      "    )\n",
      "    (1): Sequential(\n",
      "      (0): Conv1d(32, 4, kernel_size=(3,), stride=(1,), dilation=(2,))\n",
      "      (1): LeakyReLU(negative_slope=0.01)\n",
      "      (2): BatchNorm1d(4, eps=1e-05, momentum=0.1, affine=True, track_running_stats=True)\n",
      "    )\n",
      "    (2): Sequential(\n",
      "      (0): Conv1d(32, 4, kernel_size=(3,), stride=(1,), dilation=(4,))\n",
      "      (1): LeakyReLU(negative_slope=0.01)\n",
      "      (2): BatchNorm1d(4, eps=1e-05, momentum=0.1, affine=True, track_running_stats=True)\n",
      "    )\n",
      "  )\n",
      "  (encoder): Sequential(\n",
      "    (0): Linear(in_features=1378, out_features=500, bias=True)\n",
      "    (1): ReLU()\n",
      "    (2): BatchNorm1d(500, eps=1e-05, momentum=0.1, affine=True, track_running_stats=True)\n",
      "  )\n",
      "  (fc_mu): Linear(in_features=500, out_features=50, bias=True)\n",
      "  (final_fc): Sequential(\n",
      "    (0): Dropout(p=0.5, inplace=False)\n",
      "    (1): Linear(in_features=7254, out_features=10, bias=True)\n",
      "    (2): ReLU()\n",
      "    (3): Dropout(p=0.5, inplace=False)\n",
      "    (4): Linear(in_features=10, out_features=1, bias=True)\n",
      "  )\n",
      ")\n"
     ]
    }
   ],
   "source": [
    "from GreyHound import *\n",
    "model = GreyHoundModel(max_len=seq_length)\n",
    "print(model)"
   ]
  },
  {
   "cell_type": "code",
   "execution_count": 32,
   "metadata": {
    "pycharm": {
     "name": "#%%\n"
    }
   },
   "outputs": [],
   "source": [
    "from RBP_VAE import *\n",
    "myVAE = VAE(1378, 50, 12388)\n",
    "myVAE.load_model('models/model_VAE_50_latent.pt')"
   ]
  },
  {
   "cell_type": "code",
   "execution_count": 33,
   "metadata": {
    "pycharm": {
     "name": "#%%\n"
    }
   },
   "outputs": [],
   "source": [
    "model.transfer_vae(myVAE)"
   ]
  },
  {
   "cell_type": "code",
   "execution_count": 34,
   "metadata": {
    "pycharm": {
     "name": "#%%\n"
    }
   },
   "outputs": [],
   "source": [
    "model.compile(device=device)"
   ]
  },
  {
   "cell_type": "code",
   "execution_count": 184,
   "metadata": {
    "pycharm": {
     "name": "#%%\n"
    }
   },
   "outputs": [],
   "source": [
    "logfile = open('models/history.log', 'wt', buffering=1)"
   ]
  },
  {
   "cell_type": "code",
   "execution_count": 185,
   "metadata": {
    "collapsed": true,
    "jupyter": {
     "outputs_hidden": true
    },
    "pycharm": {
     "name": "#%%\n"
    }
   },
   "outputs": [
    {
     "name": "stdout",
     "output_type": "stream",
     "text": [
      "Train Epoch: 0 [0/58829 (0%)]\tLoss: 1.399896\tR: 0.276482\n",
      "Train Epoch: 0 [320/58829 (1%)]\tLoss: 0.976859\tR: 0.195284\n",
      "Train Epoch: 0 [640/58829 (1%)]\tLoss: 0.622522\tR: 0.319608\n",
      "Train Epoch: 0 [960/58829 (2%)]\tLoss: 0.783669\tR: 0.409279\n",
      "Train Epoch: 0 [1280/58829 (2%)]\tLoss: 0.797140\tR: 0.296849\n",
      "Train Epoch: 0 [1600/58829 (3%)]\tLoss: 1.512855\tR: 0.501740\n",
      "Train Epoch: 0 [1920/58829 (3%)]\tLoss: 0.506010\tR: 0.234265\n",
      "Train Epoch: 0 [2240/58829 (4%)]\tLoss: 0.936124\tR: 0.051606\n",
      "Train Epoch: 0 [2560/58829 (4%)]\tLoss: 1.418646\tR: 0.088704\n",
      "Train Epoch: 0 [2880/58829 (5%)]\tLoss: 0.723489\tR: 0.140631\n",
      "Train Epoch: 0 [3200/58829 (5%)]\tLoss: 0.432630\tR: 0.128244\n",
      "Train Epoch: 0 [3520/58829 (6%)]\tLoss: 0.458403\tR: 0.251737\n",
      "Train Epoch: 0 [3840/58829 (7%)]\tLoss: 1.154619\tR: 0.045495\n",
      "Train Epoch: 0 [4160/58829 (7%)]\tLoss: 0.801415\tR: 0.323143\n",
      "Train Epoch: 0 [4480/58829 (8%)]\tLoss: 0.734940\tR: 0.221564\n",
      "Train Epoch: 0 [4800/58829 (8%)]\tLoss: 0.575310\tR: 0.369228\n",
      "Train Epoch: 0 [5120/58829 (9%)]\tLoss: 0.323014\tR: 0.201892\n",
      "Train Epoch: 0 [5440/58829 (9%)]\tLoss: 0.458383\tR: 0.326677\n",
      "Train Epoch: 0 [5760/58829 (10%)]\tLoss: 0.605555\tR: 0.329627\n",
      "Train Epoch: 0 [6080/58829 (10%)]\tLoss: 0.788767\tR: 0.275534\n",
      "Train Epoch: 0 [6400/58829 (11%)]\tLoss: 1.491654\tR: 0.128919\n",
      "Train Epoch: 0 [6720/58829 (11%)]\tLoss: 1.609947\tR: 0.128134\n",
      "Train Epoch: 0 [7040/58829 (12%)]\tLoss: 0.649986\tR: 0.035598\n",
      "Train Epoch: 0 [7360/58829 (13%)]\tLoss: 1.491823\tR: 0.126297\n",
      "Train Epoch: 0 [7680/58829 (13%)]\tLoss: 1.416479\tR: 0.115428\n",
      "Train Epoch: 0 [8000/58829 (14%)]\tLoss: 0.460402\tR: 0.286709\n",
      "Train Epoch: 0 [8320/58829 (14%)]\tLoss: 0.512372\tR: 0.337032\n",
      "Train Epoch: 0 [8640/58829 (15%)]\tLoss: 0.764531\tR: 0.086490\n",
      "Train Epoch: 0 [8960/58829 (15%)]\tLoss: 0.738530\tR: 0.243561\n",
      "Train Epoch: 0 [9280/58829 (16%)]\tLoss: 0.482767\tR: 0.206803\n",
      "Train Epoch: 0 [9600/58829 (16%)]\tLoss: 0.464708\tR: 0.125623\n",
      "Train Epoch: 0 [9920/58829 (17%)]\tLoss: 0.450082\tR: 0.271848\n",
      "Train Epoch: 0 [10240/58829 (17%)]\tLoss: 0.497880\tR: 0.059832\n",
      "Train Epoch: 0 [10560/58829 (18%)]\tLoss: 1.664977\tR: 0.189967\n",
      "Train Epoch: 0 [10880/58829 (18%)]\tLoss: 0.747996\tR: 0.223465\n",
      "Train Epoch: 0 [11200/58829 (19%)]\tLoss: 0.470558\tR: 0.250436\n",
      "Train Epoch: 0 [11520/58829 (20%)]\tLoss: 0.465705\tR: 0.460468\n",
      "Train Epoch: 0 [11840/58829 (20%)]\tLoss: 0.608537\tR: 0.397286\n",
      "Train Epoch: 0 [12160/58829 (21%)]\tLoss: 1.494949\tR: 0.167364\n",
      "Train Epoch: 0 [12480/58829 (21%)]\tLoss: 0.484105\tR: 0.310707\n",
      "Train Epoch: 0 [12800/58829 (22%)]\tLoss: 0.756570\tR: 0.029636\n",
      "Train Epoch: 0 [13120/58829 (22%)]\tLoss: 0.589199\tR: 0.095545\n",
      "Train Epoch: 0 [13440/58829 (23%)]\tLoss: 0.556367\tR: 0.207156\n",
      "Train Epoch: 0 [13760/58829 (23%)]\tLoss: 1.449525\tR: 0.502243\n",
      "Train Epoch: 0 [14080/58829 (24%)]\tLoss: 0.333293\tR: 0.371335\n",
      "Train Epoch: 0 [14400/58829 (24%)]\tLoss: 1.564550\tR: 0.139420\n",
      "Train Epoch: 0 [14720/58829 (25%)]\tLoss: 0.395521\tR: 0.249737\n",
      "Train Epoch: 0 [15040/58829 (26%)]\tLoss: 0.680598\tR: 0.283546\n",
      "Train Epoch: 0 [15360/58829 (26%)]\tLoss: 0.849133\tR: 0.250620\n",
      "Train Epoch: 0 [15680/58829 (27%)]\tLoss: 1.414837\tR: 0.260032\n",
      "Train Epoch: 0 [16000/58829 (27%)]\tLoss: 1.524185\tR: 0.026800\n",
      "Train Epoch: 0 [16320/58829 (28%)]\tLoss: 0.392108\tR: 0.245129\n",
      "Train Epoch: 0 [16640/58829 (28%)]\tLoss: 0.532569\tR: 0.055836\n",
      "Train Epoch: 0 [16960/58829 (29%)]\tLoss: 2.183679\tR: 0.494228\n",
      "Train Epoch: 0 [17280/58829 (29%)]\tLoss: 0.771432\tR: 0.089556\n",
      "Train Epoch: 0 [17600/58829 (30%)]\tLoss: 1.759153\tR: -0.061870\n",
      "Train Epoch: 0 [17920/58829 (30%)]\tLoss: 0.412278\tR: 0.417751\n",
      "Train Epoch: 0 [18240/58829 (31%)]\tLoss: 0.457946\tR: 0.141973\n",
      "Train Epoch: 0 [18560/58829 (32%)]\tLoss: 0.442234\tR: 0.142347\n",
      "Train Epoch: 0 [18880/58829 (32%)]\tLoss: 1.331676\tR: 0.083206\n",
      "Train Epoch: 0 [19200/58829 (33%)]\tLoss: 1.466514\tR: 0.399548\n",
      "Train Epoch: 0 [19520/58829 (33%)]\tLoss: 0.531485\tR: 0.263128\n",
      "Train Epoch: 0 [19840/58829 (34%)]\tLoss: 0.436080\tR: 0.145341\n",
      "Train Epoch: 0 [20160/58829 (34%)]\tLoss: 0.609092\tR: 0.054973\n",
      "Train Epoch: 0 [20480/58829 (35%)]\tLoss: 1.262718\tR: 0.251336\n",
      "Train Epoch: 0 [20800/58829 (35%)]\tLoss: 0.354913\tR: 0.224432\n",
      "Train Epoch: 0 [21120/58829 (36%)]\tLoss: 0.429666\tR: 0.456166\n",
      "Train Epoch: 0 [21440/58829 (36%)]\tLoss: 0.661868\tR: 0.385420\n",
      "Train Epoch: 0 [21760/58829 (37%)]\tLoss: 1.249307\tR: 0.220450\n",
      "Train Epoch: 0 [22080/58829 (38%)]\tLoss: 0.374158\tR: 0.297081\n",
      "Train Epoch: 0 [22400/58829 (38%)]\tLoss: 0.709667\tR: 0.237877\n",
      "Train Epoch: 0 [22720/58829 (39%)]\tLoss: 1.312427\tR: 0.436547\n",
      "Train Epoch: 0 [23040/58829 (39%)]\tLoss: 1.664413\tR: -0.097359\n",
      "Train Epoch: 0 [23360/58829 (40%)]\tLoss: 1.278586\tR: 0.243279\n",
      "Train Epoch: 0 [23680/58829 (40%)]\tLoss: 0.433786\tR: 0.527102\n",
      "Train Epoch: 0 [24000/58829 (41%)]\tLoss: 0.765535\tR: 0.121870\n",
      "Train Epoch: 0 [24320/58829 (41%)]\tLoss: 0.609294\tR: 0.434618\n",
      "Train Epoch: 0 [24640/58829 (42%)]\tLoss: 1.333583\tR: 0.330216\n",
      "Train Epoch: 0 [24960/58829 (42%)]\tLoss: 1.751025\tR: 0.094428\n",
      "Train Epoch: 0 [25280/58829 (43%)]\tLoss: 0.562388\tR: 0.000353\n",
      "Train Epoch: 0 [25600/58829 (44%)]\tLoss: 1.434422\tR: 0.364766\n",
      "Train Epoch: 0 [25920/58829 (44%)]\tLoss: 1.018174\tR: 0.036134\n",
      "Train Epoch: 0 [26240/58829 (45%)]\tLoss: 0.703101\tR: 0.386456\n",
      "Train Epoch: 0 [26560/58829 (45%)]\tLoss: 0.490494\tR: 0.259739\n",
      "Train Epoch: 0 [26880/58829 (46%)]\tLoss: 0.270926\tR: 0.497262\n",
      "Train Epoch: 0 [27200/58829 (46%)]\tLoss: 0.754876\tR: 0.021405\n",
      "Train Epoch: 0 [27520/58829 (47%)]\tLoss: 0.517046\tR: 0.386168\n",
      "Train Epoch: 0 [27840/58829 (47%)]\tLoss: 0.702951\tR: 0.428257\n",
      "Train Epoch: 0 [28160/58829 (48%)]\tLoss: 0.422738\tR: 0.098968\n",
      "Train Epoch: 0 [28480/58829 (48%)]\tLoss: 0.512844\tR: 0.271777\n",
      "Train Epoch: 0 [28800/58829 (49%)]\tLoss: 1.646390\tR: 0.227113\n",
      "Train Epoch: 0 [29120/58829 (49%)]\tLoss: 0.549255\tR: 0.002282\n",
      "Train Epoch: 0 [29440/58829 (50%)]\tLoss: 0.374501\tR: 0.289943\n",
      "Train Epoch: 0 [29760/58829 (51%)]\tLoss: 1.195734\tR: 0.359723\n",
      "Train Epoch: 0 [30080/58829 (51%)]\tLoss: 0.554725\tR: 0.402015\n",
      "Train Epoch: 0 [30400/58829 (52%)]\tLoss: 1.299414\tR: 0.478479\n",
      "Train Epoch: 0 [30720/58829 (52%)]\tLoss: 0.370655\tR: 0.478086\n",
      "Train Epoch: 0 [31040/58829 (53%)]\tLoss: 0.322921\tR: 0.318525\n",
      "Train Epoch: 0 [31360/58829 (53%)]\tLoss: 0.624354\tR: 0.344413\n",
      "Train Epoch: 0 [31680/58829 (54%)]\tLoss: 0.634708\tR: 0.013952\n",
      "Train Epoch: 0 [32000/58829 (54%)]\tLoss: 0.487056\tR: 0.405151\n",
      "Train Epoch: 0 [32320/58829 (55%)]\tLoss: 1.599707\tR: 0.220559\n",
      "Train Epoch: 0 [32640/58829 (55%)]\tLoss: 0.402962\tR: 0.220336\n",
      "Train Epoch: 0 [32960/58829 (56%)]\tLoss: 0.878097\tR: 0.303876\n",
      "Train Epoch: 0 [33280/58829 (57%)]\tLoss: 0.578284\tR: 0.262530\n",
      "Train Epoch: 0 [33600/58829 (57%)]\tLoss: 1.621703\tR: 0.152270\n",
      "Train Epoch: 0 [33920/58829 (58%)]\tLoss: 0.514466\tR: 0.270205\n",
      "Train Epoch: 0 [34240/58829 (58%)]\tLoss: 1.095918\tR: 0.239017\n",
      "Train Epoch: 0 [34560/58829 (59%)]\tLoss: 0.565780\tR: 0.485277\n",
      "Train Epoch: 0 [34880/58829 (59%)]\tLoss: 1.310471\tR: -0.005284\n",
      "Train Epoch: 0 [35200/58829 (60%)]\tLoss: 1.385112\tR: 0.131914\n",
      "Train Epoch: 0 [35520/58829 (60%)]\tLoss: 0.442110\tR: 0.405772\n",
      "Train Epoch: 0 [35840/58829 (61%)]\tLoss: 0.364097\tR: 0.396630\n",
      "Train Epoch: 0 [36160/58829 (61%)]\tLoss: 0.478865\tR: -0.074245\n",
      "Train Epoch: 0 [36480/58829 (62%)]\tLoss: 1.077947\tR: 0.254475\n",
      "Train Epoch: 0 [36800/58829 (63%)]\tLoss: 0.973370\tR: 0.147588\n",
      "Train Epoch: 0 [37120/58829 (63%)]\tLoss: 0.552137\tR: 0.006377\n",
      "Train Epoch: 0 [37440/58829 (64%)]\tLoss: 0.731896\tR: 0.218034\n",
      "Train Epoch: 0 [37760/58829 (64%)]\tLoss: 0.546503\tR: 0.284167\n",
      "Train Epoch: 0 [38080/58829 (65%)]\tLoss: 0.889248\tR: -0.028405\n",
      "Train Epoch: 0 [38400/58829 (65%)]\tLoss: 0.516570\tR: 0.569006\n",
      "Train Epoch: 0 [38720/58829 (66%)]\tLoss: 0.647357\tR: 0.317509\n",
      "Train Epoch: 0 [39040/58829 (66%)]\tLoss: 0.692105\tR: 0.007507\n",
      "Train Epoch: 0 [39360/58829 (67%)]\tLoss: 0.577728\tR: 0.288417\n",
      "Train Epoch: 0 [39680/58829 (67%)]\tLoss: 0.577796\tR: 0.277491\n",
      "Train Epoch: 0 [40000/58829 (68%)]\tLoss: 0.907810\tR: 0.197721\n",
      "Train Epoch: 0 [40320/58829 (69%)]\tLoss: 0.843488\tR: 0.220123\n",
      "Train Epoch: 0 [40640/58829 (69%)]\tLoss: 0.725596\tR: 0.026542\n",
      "Train Epoch: 0 [40960/58829 (70%)]\tLoss: 1.839435\tR: 0.113215\n",
      "Train Epoch: 0 [41280/58829 (70%)]\tLoss: 1.578660\tR: 0.238257\n",
      "Train Epoch: 0 [41600/58829 (71%)]\tLoss: 0.483220\tR: 0.296360\n",
      "Train Epoch: 0 [41920/58829 (71%)]\tLoss: 1.471416\tR: 0.045988\n",
      "Train Epoch: 0 [42240/58829 (72%)]\tLoss: 1.603935\tR: -0.025167\n",
      "Train Epoch: 0 [42560/58829 (72%)]\tLoss: 0.687224\tR: -0.156927\n",
      "Train Epoch: 0 [42880/58829 (73%)]\tLoss: 0.497527\tR: 0.349032\n",
      "Train Epoch: 0 [43200/58829 (73%)]\tLoss: 1.220071\tR: 0.414421\n",
      "Train Epoch: 0 [43520/58829 (74%)]\tLoss: 0.733648\tR: 0.131432\n",
      "Train Epoch: 0 [43840/58829 (75%)]\tLoss: 1.522331\tR: 0.121377\n",
      "Train Epoch: 0 [44160/58829 (75%)]\tLoss: 1.236496\tR: 0.207685\n",
      "Train Epoch: 0 [44480/58829 (76%)]\tLoss: 1.387545\tR: 0.091534\n",
      "Train Epoch: 0 [44800/58829 (76%)]\tLoss: 1.294287\tR: 0.196318\n",
      "Train Epoch: 0 [45120/58829 (77%)]\tLoss: 1.239892\tR: 0.467502\n",
      "Train Epoch: 0 [45440/58829 (77%)]\tLoss: 1.002571\tR: 0.127456\n",
      "Train Epoch: 0 [45760/58829 (78%)]\tLoss: 0.427658\tR: -0.307839\n",
      "Train Epoch: 0 [46080/58829 (78%)]\tLoss: 1.732442\tR: 0.277034\n",
      "Train Epoch: 0 [46400/58829 (79%)]\tLoss: 0.675294\tR: 0.186541\n",
      "Train Epoch: 0 [46720/58829 (79%)]\tLoss: 1.698500\tR: 0.089565\n",
      "Train Epoch: 0 [47040/58829 (80%)]\tLoss: 0.368459\tR: 0.648331\n",
      "Train Epoch: 0 [47360/58829 (81%)]\tLoss: 0.646481\tR: 0.235329\n",
      "Train Epoch: 0 [47680/58829 (81%)]\tLoss: 0.335543\tR: 0.072383\n",
      "Train Epoch: 0 [48000/58829 (82%)]\tLoss: 0.673550\tR: 0.228015\n",
      "Train Epoch: 0 [48320/58829 (82%)]\tLoss: 1.326219\tR: 0.196395\n",
      "Train Epoch: 0 [48640/58829 (83%)]\tLoss: 0.491029\tR: 0.524706\n",
      "Train Epoch: 0 [48960/58829 (83%)]\tLoss: 0.358630\tR: 0.228555\n",
      "Train Epoch: 0 [49280/58829 (84%)]\tLoss: 0.281337\tR: 0.267390\n",
      "Train Epoch: 0 [49600/58829 (84%)]\tLoss: 0.332778\tR: 0.449288\n",
      "Train Epoch: 0 [49920/58829 (85%)]\tLoss: 0.558358\tR: -0.016363\n",
      "Train Epoch: 0 [50240/58829 (85%)]\tLoss: 1.429994\tR: 0.379803\n",
      "Train Epoch: 0 [50560/58829 (86%)]\tLoss: 0.418507\tR: 0.241214\n",
      "Train Epoch: 0 [50880/58829 (86%)]\tLoss: 1.511740\tR: 0.249392\n",
      "Train Epoch: 0 [51200/58829 (87%)]\tLoss: 0.350107\tR: 0.654136\n",
      "Train Epoch: 0 [51520/58829 (88%)]\tLoss: 2.599612\tR: 0.024901\n",
      "Train Epoch: 0 [51840/58829 (88%)]\tLoss: 0.658291\tR: 0.259295\n",
      "Train Epoch: 0 [52160/58829 (89%)]\tLoss: 0.318327\tR: 0.286600\n",
      "Train Epoch: 0 [52480/58829 (89%)]\tLoss: 0.438114\tR: 0.062676\n",
      "Train Epoch: 0 [52800/58829 (90%)]\tLoss: 0.336761\tR: 0.471432\n",
      "Train Epoch: 0 [53120/58829 (90%)]\tLoss: 1.456004\tR: 0.281571\n",
      "Train Epoch: 0 [53440/58829 (91%)]\tLoss: 1.314500\tR: 0.205860\n",
      "Train Epoch: 0 [53760/58829 (91%)]\tLoss: 0.556171\tR: 0.345450\n",
      "Train Epoch: 0 [54080/58829 (92%)]\tLoss: 0.404642\tR: 0.428780\n",
      "Train Epoch: 0 [54400/58829 (92%)]\tLoss: 1.530903\tR: 0.029507\n",
      "Train Epoch: 0 [54720/58829 (93%)]\tLoss: 0.451733\tR: 0.406242\n",
      "Train Epoch: 0 [55040/58829 (94%)]\tLoss: 0.471089\tR: 0.146496\n",
      "Train Epoch: 0 [55360/58829 (94%)]\tLoss: 0.390238\tR: 0.266929\n",
      "Train Epoch: 0 [55680/58829 (95%)]\tLoss: 0.688355\tR: -0.060299\n",
      "Train Epoch: 0 [56000/58829 (95%)]\tLoss: 0.565754\tR: 0.327057\n",
      "Train Epoch: 0 [56320/58829 (96%)]\tLoss: 0.247343\tR: 0.426948\n",
      "Train Epoch: 0 [56640/58829 (96%)]\tLoss: 0.670499\tR: 0.331389\n",
      "Train Epoch: 0 [56960/58829 (97%)]\tLoss: 1.293759\tR: 0.544593\n",
      "Train Epoch: 0 [57280/58829 (97%)]\tLoss: 1.449424\tR: 0.226529\n",
      "Train Epoch: 0 [57600/58829 (98%)]\tLoss: 1.107231\tR: 0.651525\n",
      "Train Epoch: 0 [57920/58829 (98%)]\tLoss: 0.580342\tR: 0.388137\n",
      "Train Epoch: 0 [58240/58829 (99%)]\tLoss: 4.352876\tR: 0.232289\n",
      "Train Epoch: 0 [58560/58829 (100%)]\tLoss: 0.564211\tR: 0.359678\n",
      "Validation: Loss: 0.814338\tR: 0.392161\n",
      "Best model updated.\n",
      "Train Epoch: 1 [0/58829 (0%)]\tLoss: 2.542480\tR: 0.117773\n",
      "Train Epoch: 1 [320/58829 (1%)]\tLoss: 0.757372\tR: 0.273994\n",
      "Train Epoch: 1 [640/58829 (1%)]\tLoss: 0.481097\tR: 0.506935\n",
      "Train Epoch: 1 [960/58829 (2%)]\tLoss: 1.455808\tR: 0.316334\n",
      "Train Epoch: 1 [1280/58829 (2%)]\tLoss: 0.814440\tR: -0.060057\n",
      "Train Epoch: 1 [1600/58829 (3%)]\tLoss: 0.487246\tR: -0.083995\n",
      "Train Epoch: 1 [1920/58829 (3%)]\tLoss: 0.457155\tR: 0.253259\n",
      "Train Epoch: 1 [2240/58829 (4%)]\tLoss: 0.309699\tR: 0.353557\n",
      "Train Epoch: 1 [2560/58829 (4%)]\tLoss: 0.575943\tR: 0.212999\n",
      "Train Epoch: 1 [2880/58829 (5%)]\tLoss: 0.502939\tR: 0.272912\n",
      "Train Epoch: 1 [3200/58829 (5%)]\tLoss: 0.367993\tR: 0.447285\n",
      "Train Epoch: 1 [3520/58829 (6%)]\tLoss: 2.368260\tR: 0.377021\n",
      "Train Epoch: 1 [3840/58829 (7%)]\tLoss: 0.361135\tR: 0.480459\n",
      "Train Epoch: 1 [4160/58829 (7%)]\tLoss: 0.621569\tR: 0.290452\n",
      "Train Epoch: 1 [4480/58829 (8%)]\tLoss: 0.469646\tR: 0.455127\n",
      "Train Epoch: 1 [4800/58829 (8%)]\tLoss: 1.315670\tR: 0.321410\n",
      "Train Epoch: 1 [5120/58829 (9%)]\tLoss: 0.498011\tR: 0.350650\n",
      "Train Epoch: 1 [5440/58829 (9%)]\tLoss: 0.892738\tR: 0.323005\n",
      "Train Epoch: 1 [5760/58829 (10%)]\tLoss: 2.417197\tR: 0.149091\n",
      "Train Epoch: 1 [6080/58829 (10%)]\tLoss: 0.369828\tR: 0.156379\n",
      "Train Epoch: 1 [6400/58829 (11%)]\tLoss: 1.368952\tR: 0.219505\n",
      "Train Epoch: 1 [6720/58829 (11%)]\tLoss: 0.679633\tR: 0.511225\n",
      "Train Epoch: 1 [7040/58829 (12%)]\tLoss: 0.496431\tR: -0.096520\n",
      "Train Epoch: 1 [7360/58829 (13%)]\tLoss: 0.503241\tR: 0.161264\n",
      "Train Epoch: 1 [7680/58829 (13%)]\tLoss: 1.202789\tR: -0.005899\n",
      "Train Epoch: 1 [8000/58829 (14%)]\tLoss: 0.527007\tR: 0.352702\n",
      "Train Epoch: 1 [8320/58829 (14%)]\tLoss: 1.428014\tR: 0.272742\n",
      "Train Epoch: 1 [8640/58829 (15%)]\tLoss: 0.541425\tR: 0.341985\n",
      "Train Epoch: 1 [8960/58829 (15%)]\tLoss: 0.479727\tR: 0.400653\n",
      "Train Epoch: 1 [9280/58829 (16%)]\tLoss: 0.520506\tR: 0.117683\n",
      "Train Epoch: 1 [9600/58829 (16%)]\tLoss: 0.821728\tR: -0.280771\n",
      "Train Epoch: 1 [9920/58829 (17%)]\tLoss: 0.767799\tR: 0.347379\n",
      "Train Epoch: 1 [10240/58829 (17%)]\tLoss: 1.762061\tR: 0.081450\n",
      "Train Epoch: 1 [10560/58829 (18%)]\tLoss: 0.449033\tR: 0.411113\n",
      "Train Epoch: 1 [10880/58829 (18%)]\tLoss: 0.600746\tR: 0.276982\n",
      "Train Epoch: 1 [11200/58829 (19%)]\tLoss: 0.640211\tR: 0.196211\n",
      "Train Epoch: 1 [11520/58829 (20%)]\tLoss: 0.923399\tR: 0.274886\n",
      "Train Epoch: 1 [11840/58829 (20%)]\tLoss: 0.431030\tR: 0.355436\n",
      "Train Epoch: 1 [12160/58829 (21%)]\tLoss: 1.337304\tR: 0.621015\n",
      "Train Epoch: 1 [12480/58829 (21%)]\tLoss: 0.678032\tR: -0.021470\n",
      "Train Epoch: 1 [12800/58829 (22%)]\tLoss: 0.733652\tR: 0.515672\n",
      "Train Epoch: 1 [13120/58829 (22%)]\tLoss: 0.781907\tR: 0.078250\n",
      "Train Epoch: 1 [13440/58829 (23%)]\tLoss: 0.404610\tR: 0.024371\n",
      "Train Epoch: 1 [13760/58829 (23%)]\tLoss: 1.336612\tR: 0.301217\n",
      "Train Epoch: 1 [14080/58829 (24%)]\tLoss: 0.635327\tR: 0.271435\n",
      "Train Epoch: 1 [14400/58829 (24%)]\tLoss: 0.645310\tR: 0.349595\n",
      "Train Epoch: 1 [14720/58829 (25%)]\tLoss: 1.360037\tR: 0.255436\n",
      "Train Epoch: 1 [15040/58829 (26%)]\tLoss: 1.653897\tR: 0.554224\n",
      "Train Epoch: 1 [15360/58829 (26%)]\tLoss: 0.504550\tR: 0.591230\n",
      "Train Epoch: 1 [15680/58829 (27%)]\tLoss: 0.841302\tR: 0.185178\n",
      "Train Epoch: 1 [16000/58829 (27%)]\tLoss: 0.569273\tR: 0.232070\n",
      "Train Epoch: 1 [16320/58829 (28%)]\tLoss: 0.498009\tR: 0.442082\n",
      "Train Epoch: 1 [16640/58829 (28%)]\tLoss: 1.341840\tR: 0.377600\n",
      "Train Epoch: 1 [16960/58829 (29%)]\tLoss: 0.194960\tR: 0.442657\n",
      "Train Epoch: 1 [17280/58829 (29%)]\tLoss: 0.814514\tR: 0.050910\n",
      "Train Epoch: 1 [17600/58829 (30%)]\tLoss: 0.845565\tR: 0.039292\n",
      "Train Epoch: 1 [17920/58829 (30%)]\tLoss: 0.738223\tR: 0.448623\n",
      "Train Epoch: 1 [18240/58829 (31%)]\tLoss: 0.322823\tR: 0.373479\n",
      "Train Epoch: 1 [18560/58829 (32%)]\tLoss: 0.454780\tR: 0.382117\n",
      "Train Epoch: 1 [18880/58829 (32%)]\tLoss: 0.514707\tR: 0.272069\n",
      "Train Epoch: 1 [19200/58829 (33%)]\tLoss: 1.026157\tR: 0.317564\n",
      "Train Epoch: 1 [19520/58829 (33%)]\tLoss: 1.290281\tR: 0.132855\n",
      "Train Epoch: 1 [19840/58829 (34%)]\tLoss: 0.608881\tR: -0.036134\n",
      "Train Epoch: 1 [20160/58829 (34%)]\tLoss: 1.538759\tR: 0.191627\n",
      "Train Epoch: 1 [20480/58829 (35%)]\tLoss: 2.223994\tR: 0.373495\n",
      "Train Epoch: 1 [20800/58829 (35%)]\tLoss: 1.500628\tR: -0.004969\n",
      "Train Epoch: 1 [21120/58829 (36%)]\tLoss: 1.829073\tR: 0.191323\n",
      "Train Epoch: 1 [21440/58829 (36%)]\tLoss: 0.352102\tR: 0.483200\n",
      "Train Epoch: 1 [21760/58829 (37%)]\tLoss: 0.299868\tR: 0.422276\n",
      "Train Epoch: 1 [22080/58829 (38%)]\tLoss: 1.746235\tR: 0.092661\n",
      "Train Epoch: 1 [22400/58829 (38%)]\tLoss: 0.395574\tR: 0.096286\n",
      "Train Epoch: 1 [22720/58829 (39%)]\tLoss: 0.624577\tR: 0.139701\n",
      "Train Epoch: 1 [23040/58829 (39%)]\tLoss: 1.313705\tR: 0.309160\n",
      "Train Epoch: 1 [23360/58829 (40%)]\tLoss: 0.826583\tR: 0.233644\n",
      "Train Epoch: 1 [23680/58829 (40%)]\tLoss: 0.286619\tR: 0.153522\n",
      "Train Epoch: 1 [24000/58829 (41%)]\tLoss: 0.488916\tR: 0.357781\n",
      "Train Epoch: 1 [24320/58829 (41%)]\tLoss: 0.746948\tR: 0.253292\n",
      "Train Epoch: 1 [24640/58829 (42%)]\tLoss: 0.787626\tR: 0.160121\n",
      "Train Epoch: 1 [24960/58829 (42%)]\tLoss: 0.736526\tR: 0.196087\n",
      "Train Epoch: 1 [25280/58829 (43%)]\tLoss: 1.672593\tR: 0.224092\n",
      "Train Epoch: 1 [25600/58829 (44%)]\tLoss: 0.587933\tR: 0.174908\n",
      "Train Epoch: 1 [25920/58829 (44%)]\tLoss: 0.483358\tR: 0.538240\n",
      "Train Epoch: 1 [26240/58829 (45%)]\tLoss: 0.674398\tR: 0.162573\n",
      "Train Epoch: 1 [26560/58829 (45%)]\tLoss: 1.291686\tR: 0.051357\n",
      "Train Epoch: 1 [26880/58829 (46%)]\tLoss: 0.673720\tR: 0.128852\n",
      "Train Epoch: 1 [27200/58829 (46%)]\tLoss: 0.638143\tR: 0.353056\n",
      "Train Epoch: 1 [27520/58829 (47%)]\tLoss: 1.242552\tR: 0.248890\n",
      "Train Epoch: 1 [27840/58829 (47%)]\tLoss: 0.436702\tR: 0.461752\n",
      "Train Epoch: 1 [28160/58829 (48%)]\tLoss: 0.280388\tR: 0.476595\n",
      "Train Epoch: 1 [28480/58829 (48%)]\tLoss: 1.458405\tR: 0.321134\n",
      "Train Epoch: 1 [28800/58829 (49%)]\tLoss: 0.533899\tR: 0.298391\n",
      "Train Epoch: 1 [29120/58829 (49%)]\tLoss: 0.543078\tR: 0.472694\n",
      "Train Epoch: 1 [29440/58829 (50%)]\tLoss: 0.498581\tR: 0.004322\n",
      "Train Epoch: 1 [29760/58829 (51%)]\tLoss: 0.733312\tR: 0.187325\n",
      "Train Epoch: 1 [30080/58829 (51%)]\tLoss: 0.865356\tR: 0.124186\n",
      "Train Epoch: 1 [30400/58829 (52%)]\tLoss: 2.704661\tR: 0.191413\n",
      "Train Epoch: 1 [30720/58829 (52%)]\tLoss: 0.351251\tR: 0.410890\n",
      "Train Epoch: 1 [31040/58829 (53%)]\tLoss: 1.397248\tR: 0.225182\n",
      "Train Epoch: 1 [31360/58829 (53%)]\tLoss: 0.548791\tR: 0.178968\n",
      "Train Epoch: 1 [31680/58829 (54%)]\tLoss: 0.499361\tR: 0.331133\n",
      "Train Epoch: 1 [32000/58829 (54%)]\tLoss: 0.761833\tR: 0.203541\n",
      "Train Epoch: 1 [32320/58829 (55%)]\tLoss: 0.318577\tR: 0.509036\n",
      "Train Epoch: 1 [32640/58829 (55%)]\tLoss: 0.474850\tR: 0.206490\n",
      "Train Epoch: 1 [32960/58829 (56%)]\tLoss: 0.918503\tR: 0.210573\n",
      "Train Epoch: 1 [33280/58829 (57%)]\tLoss: 0.449500\tR: 0.467296\n",
      "Train Epoch: 1 [33600/58829 (57%)]\tLoss: 1.336720\tR: 0.396327\n",
      "Train Epoch: 1 [33920/58829 (58%)]\tLoss: 0.309131\tR: 0.578781\n",
      "Train Epoch: 1 [34240/58829 (58%)]\tLoss: 0.488608\tR: -0.001921\n",
      "Train Epoch: 1 [34560/58829 (59%)]\tLoss: 0.892031\tR: 0.061774\n",
      "Train Epoch: 1 [34880/58829 (59%)]\tLoss: 0.838072\tR: 0.315708\n",
      "Train Epoch: 1 [35200/58829 (60%)]\tLoss: 0.421225\tR: 0.349868\n",
      "Train Epoch: 1 [35520/58829 (60%)]\tLoss: 0.474757\tR: 0.360588\n",
      "Train Epoch: 1 [35840/58829 (61%)]\tLoss: 0.519292\tR: 0.478261\n",
      "Train Epoch: 1 [36160/58829 (61%)]\tLoss: 0.473249\tR: 0.287837\n",
      "Train Epoch: 1 [36480/58829 (62%)]\tLoss: 0.308388\tR: 0.482679\n",
      "Train Epoch: 1 [36800/58829 (63%)]\tLoss: 0.370729\tR: 0.312638\n",
      "Train Epoch: 1 [37120/58829 (63%)]\tLoss: 0.647945\tR: -0.156217\n",
      "Train Epoch: 1 [37440/58829 (64%)]\tLoss: 0.404474\tR: 0.225925\n",
      "Train Epoch: 1 [37760/58829 (64%)]\tLoss: 0.453436\tR: 0.431114\n",
      "Train Epoch: 1 [38080/58829 (65%)]\tLoss: 0.775339\tR: 0.083643\n",
      "Train Epoch: 1 [38400/58829 (65%)]\tLoss: 0.523733\tR: 0.055978\n",
      "Train Epoch: 1 [38720/58829 (66%)]\tLoss: 1.557585\tR: 0.300316\n",
      "Train Epoch: 1 [39040/58829 (66%)]\tLoss: 2.358850\tR: 0.137279\n",
      "Train Epoch: 1 [39360/58829 (67%)]\tLoss: 0.771809\tR: 0.327939\n",
      "Train Epoch: 1 [39680/58829 (67%)]\tLoss: 2.595112\tR: 0.295145\n",
      "Train Epoch: 1 [40000/58829 (68%)]\tLoss: 0.536054\tR: 0.376839\n",
      "Train Epoch: 1 [40320/58829 (69%)]\tLoss: 0.491314\tR: 0.383089\n",
      "Train Epoch: 1 [40640/58829 (69%)]\tLoss: 0.679371\tR: 0.065836\n",
      "Train Epoch: 1 [40960/58829 (70%)]\tLoss: 0.697567\tR: 0.248941\n",
      "Train Epoch: 1 [41280/58829 (70%)]\tLoss: 0.394394\tR: 0.371774\n",
      "Train Epoch: 1 [41600/58829 (71%)]\tLoss: 1.393185\tR: 0.266005\n",
      "Train Epoch: 1 [41920/58829 (71%)]\tLoss: 0.627304\tR: 0.339682\n",
      "Train Epoch: 1 [42240/58829 (72%)]\tLoss: 0.623574\tR: 0.371215\n",
      "Train Epoch: 1 [42560/58829 (72%)]\tLoss: 0.547196\tR: 0.169987\n",
      "Train Epoch: 1 [42880/58829 (73%)]\tLoss: 0.851038\tR: -0.005287\n",
      "Train Epoch: 1 [43200/58829 (73%)]\tLoss: 0.878967\tR: 0.303613\n",
      "Train Epoch: 1 [43520/58829 (74%)]\tLoss: 0.646532\tR: 0.346686\n",
      "Train Epoch: 1 [43840/58829 (75%)]\tLoss: 0.411996\tR: 0.232146\n",
      "Train Epoch: 1 [44160/58829 (75%)]\tLoss: 0.277467\tR: 0.654250\n",
      "Train Epoch: 1 [44480/58829 (76%)]\tLoss: 0.329593\tR: 0.400487\n",
      "Train Epoch: 1 [44800/58829 (76%)]\tLoss: 1.406073\tR: 0.201708\n",
      "Train Epoch: 1 [45120/58829 (77%)]\tLoss: 0.603558\tR: 0.324905\n",
      "Train Epoch: 1 [45440/58829 (77%)]\tLoss: 0.359056\tR: 0.374170\n",
      "Train Epoch: 1 [45760/58829 (78%)]\tLoss: 2.420120\tR: 0.281451\n",
      "Train Epoch: 1 [46080/58829 (78%)]\tLoss: 1.202428\tR: 0.170350\n",
      "Train Epoch: 1 [46400/58829 (79%)]\tLoss: 0.949547\tR: 0.203098\n",
      "Train Epoch: 1 [46720/58829 (79%)]\tLoss: 0.864072\tR: 0.232292\n",
      "Train Epoch: 1 [47040/58829 (80%)]\tLoss: 0.590378\tR: 0.271360\n",
      "Train Epoch: 1 [47360/58829 (81%)]\tLoss: 2.462522\tR: 0.022083\n",
      "Train Epoch: 1 [47680/58829 (81%)]\tLoss: 0.322084\tR: 0.481406\n",
      "Train Epoch: 1 [48000/58829 (82%)]\tLoss: 2.707726\tR: 0.226298\n",
      "Train Epoch: 1 [48320/58829 (82%)]\tLoss: 0.426292\tR: 0.480987\n",
      "Train Epoch: 1 [48640/58829 (83%)]\tLoss: 1.511911\tR: 0.232579\n",
      "Train Epoch: 1 [48960/58829 (83%)]\tLoss: 1.316456\tR: 0.443201\n",
      "Train Epoch: 1 [49280/58829 (84%)]\tLoss: 0.503325\tR: 0.425933\n",
      "Train Epoch: 1 [49600/58829 (84%)]\tLoss: 0.750233\tR: -0.125386\n",
      "Train Epoch: 1 [49920/58829 (85%)]\tLoss: 0.489291\tR: 0.536597\n",
      "Train Epoch: 1 [50240/58829 (85%)]\tLoss: 1.347204\tR: 0.249723\n",
      "Train Epoch: 1 [50560/58829 (86%)]\tLoss: 0.496338\tR: 0.521934\n",
      "Train Epoch: 1 [50880/58829 (86%)]\tLoss: 0.595394\tR: 0.227342\n",
      "Train Epoch: 1 [51200/58829 (87%)]\tLoss: 3.193090\tR: 0.408025\n",
      "Train Epoch: 1 [51520/58829 (88%)]\tLoss: 1.368916\tR: 0.223678\n",
      "Train Epoch: 1 [51840/58829 (88%)]\tLoss: 1.739415\tR: 0.215981\n",
      "Train Epoch: 1 [52160/58829 (89%)]\tLoss: 0.425407\tR: 0.549119\n",
      "Train Epoch: 1 [52480/58829 (89%)]\tLoss: 0.636099\tR: 0.434903\n",
      "Train Epoch: 1 [52800/58829 (90%)]\tLoss: 0.563558\tR: 0.277084\n",
      "Train Epoch: 1 [53120/58829 (90%)]\tLoss: 0.367562\tR: 0.636875\n",
      "Train Epoch: 1 [53440/58829 (91%)]\tLoss: 0.649443\tR: 0.321668\n",
      "Train Epoch: 1 [53760/58829 (91%)]\tLoss: 0.510861\tR: 0.254154\n",
      "Train Epoch: 1 [54080/58829 (92%)]\tLoss: 0.438464\tR: 0.182101\n",
      "Train Epoch: 1 [54400/58829 (92%)]\tLoss: 0.317738\tR: 0.697195\n",
      "Train Epoch: 1 [54720/58829 (93%)]\tLoss: 0.464356\tR: 0.487420\n",
      "Train Epoch: 1 [55040/58829 (94%)]\tLoss: 0.471679\tR: 0.397171\n",
      "Train Epoch: 1 [55360/58829 (94%)]\tLoss: 1.305015\tR: 0.496871\n",
      "Train Epoch: 1 [55680/58829 (95%)]\tLoss: 1.687130\tR: 0.242474\n",
      "Train Epoch: 1 [56000/58829 (95%)]\tLoss: 1.658246\tR: -0.023021\n",
      "Train Epoch: 1 [56320/58829 (96%)]\tLoss: 1.634832\tR: 0.112243\n",
      "Train Epoch: 1 [56640/58829 (96%)]\tLoss: 0.601817\tR: 0.316819\n",
      "Train Epoch: 1 [56960/58829 (97%)]\tLoss: 0.626921\tR: 0.330884\n",
      "Train Epoch: 1 [57280/58829 (97%)]\tLoss: 0.456714\tR: 0.218214\n",
      "Train Epoch: 1 [57600/58829 (98%)]\tLoss: 0.826969\tR: 0.305357\n",
      "Train Epoch: 1 [57920/58829 (98%)]\tLoss: 1.277648\tR: 0.377514\n",
      "Train Epoch: 1 [58240/58829 (99%)]\tLoss: 0.589210\tR: -0.025289\n",
      "Train Epoch: 1 [58560/58829 (100%)]\tLoss: 0.426864\tR: 0.609496\n",
      "Validation: Loss: 0.804377\tR: 0.423977\n",
      "Best model updated.\n",
      "Train Epoch: 2 [0/58829 (0%)]\tLoss: 0.708320\tR: 0.017477\n",
      "Train Epoch: 2 [320/58829 (1%)]\tLoss: 0.551653\tR: 0.332689\n",
      "Train Epoch: 2 [640/58829 (1%)]\tLoss: 1.429487\tR: 0.353322\n",
      "Train Epoch: 2 [960/58829 (2%)]\tLoss: 0.697011\tR: 0.382666\n",
      "Train Epoch: 2 [1280/58829 (2%)]\tLoss: 0.462188\tR: 0.287117\n",
      "Train Epoch: 2 [1600/58829 (3%)]\tLoss: 1.381413\tR: 0.214695\n",
      "Train Epoch: 2 [1920/58829 (3%)]\tLoss: 0.519442\tR: 0.212847\n",
      "Train Epoch: 2 [2240/58829 (4%)]\tLoss: 0.436579\tR: 0.356019\n",
      "Train Epoch: 2 [2560/58829 (4%)]\tLoss: 0.335277\tR: 0.535678\n",
      "Train Epoch: 2 [2880/58829 (5%)]\tLoss: 0.296784\tR: 0.304142\n",
      "Train Epoch: 2 [3200/58829 (5%)]\tLoss: 0.435820\tR: 0.223588\n",
      "Train Epoch: 2 [3520/58829 (6%)]\tLoss: 0.587928\tR: 0.554488\n",
      "Train Epoch: 2 [3840/58829 (7%)]\tLoss: 1.467565\tR: 0.395597\n",
      "Train Epoch: 2 [4160/58829 (7%)]\tLoss: 1.124148\tR: 0.632084\n",
      "Train Epoch: 2 [4480/58829 (8%)]\tLoss: 0.644211\tR: 0.228007\n",
      "Train Epoch: 2 [4800/58829 (8%)]\tLoss: 0.434600\tR: 0.353312\n",
      "Train Epoch: 2 [5120/58829 (9%)]\tLoss: 1.774217\tR: 0.338553\n",
      "Train Epoch: 2 [5440/58829 (9%)]\tLoss: 1.852472\tR: -0.023997\n",
      "Train Epoch: 2 [5760/58829 (10%)]\tLoss: 0.525226\tR: 0.353903\n",
      "Train Epoch: 2 [6080/58829 (10%)]\tLoss: 0.662967\tR: 0.362282\n",
      "Train Epoch: 2 [6400/58829 (11%)]\tLoss: 0.436424\tR: 0.554636\n",
      "Train Epoch: 2 [6720/58829 (11%)]\tLoss: 0.326615\tR: 0.343033\n",
      "Train Epoch: 2 [7040/58829 (12%)]\tLoss: 0.572364\tR: 0.400381\n",
      "Train Epoch: 2 [7360/58829 (13%)]\tLoss: 0.577438\tR: 0.078199\n",
      "Train Epoch: 2 [7680/58829 (13%)]\tLoss: 2.139700\tR: 0.393356\n",
      "Train Epoch: 2 [8000/58829 (14%)]\tLoss: 0.400286\tR: 0.140861\n",
      "Train Epoch: 2 [8320/58829 (14%)]\tLoss: 0.371464\tR: 0.225666\n",
      "Train Epoch: 2 [8640/58829 (15%)]\tLoss: 0.880749\tR: 0.040209\n",
      "Train Epoch: 2 [8960/58829 (15%)]\tLoss: 0.439914\tR: 0.411138\n",
      "Train Epoch: 2 [9280/58829 (16%)]\tLoss: 1.400088\tR: 0.259589\n",
      "Train Epoch: 2 [9600/58829 (16%)]\tLoss: 0.546752\tR: 0.112494\n",
      "Train Epoch: 2 [9920/58829 (17%)]\tLoss: 1.430221\tR: 0.374496\n",
      "Train Epoch: 2 [10240/58829 (17%)]\tLoss: 0.426595\tR: 0.332407\n",
      "Train Epoch: 2 [10560/58829 (18%)]\tLoss: 2.508956\tR: 0.416751\n",
      "Train Epoch: 2 [10880/58829 (18%)]\tLoss: 0.674502\tR: -0.018463\n",
      "Train Epoch: 2 [11200/58829 (19%)]\tLoss: 0.498246\tR: 0.207343\n",
      "Train Epoch: 2 [11520/58829 (20%)]\tLoss: 0.408975\tR: 0.188551\n",
      "Train Epoch: 2 [11840/58829 (20%)]\tLoss: 0.489358\tR: 0.179141\n",
      "Train Epoch: 2 [12160/58829 (21%)]\tLoss: 0.555624\tR: 0.091608\n",
      "Train Epoch: 2 [12480/58829 (21%)]\tLoss: 1.377153\tR: 0.453084\n",
      "Train Epoch: 2 [12800/58829 (22%)]\tLoss: 1.233438\tR: 0.415714\n",
      "Train Epoch: 2 [13120/58829 (22%)]\tLoss: 0.541589\tR: 0.425390\n",
      "Train Epoch: 2 [13440/58829 (23%)]\tLoss: 1.334532\tR: 0.351966\n",
      "Train Epoch: 2 [13760/58829 (23%)]\tLoss: 0.921118\tR: 0.259258\n",
      "Train Epoch: 2 [14080/58829 (24%)]\tLoss: 0.706940\tR: 0.454704\n",
      "Train Epoch: 2 [14400/58829 (24%)]\tLoss: 1.593992\tR: 0.207068\n",
      "Train Epoch: 2 [14720/58829 (25%)]\tLoss: 1.490736\tR: 0.118966\n",
      "Train Epoch: 2 [15040/58829 (26%)]\tLoss: 0.566460\tR: 0.176620\n",
      "Train Epoch: 2 [15360/58829 (26%)]\tLoss: 2.097240\tR: 0.303267\n",
      "Train Epoch: 2 [15680/58829 (27%)]\tLoss: 0.256060\tR: 0.532328\n",
      "Train Epoch: 2 [16000/58829 (27%)]\tLoss: 0.463153\tR: 0.586772\n",
      "Train Epoch: 2 [16320/58829 (28%)]\tLoss: 0.405512\tR: 0.418074\n",
      "Train Epoch: 2 [16640/58829 (28%)]\tLoss: 0.842770\tR: 0.228879\n",
      "Train Epoch: 2 [16960/58829 (29%)]\tLoss: 0.549120\tR: 0.351561\n",
      "Train Epoch: 2 [17280/58829 (29%)]\tLoss: 1.511963\tR: 0.365112\n",
      "Train Epoch: 2 [17600/58829 (30%)]\tLoss: 0.314977\tR: 0.504833\n",
      "Train Epoch: 2 [17920/58829 (30%)]\tLoss: 0.485061\tR: 0.485818\n",
      "Train Epoch: 2 [18240/58829 (31%)]\tLoss: 0.928608\tR: 0.197799\n",
      "Train Epoch: 2 [18560/58829 (32%)]\tLoss: 0.581236\tR: 0.252830\n",
      "Train Epoch: 2 [18880/58829 (32%)]\tLoss: 0.337410\tR: 0.541147\n",
      "Train Epoch: 2 [19200/58829 (33%)]\tLoss: 1.359989\tR: 0.295296\n",
      "Train Epoch: 2 [19520/58829 (33%)]\tLoss: 0.453083\tR: 0.042170\n",
      "Train Epoch: 2 [19840/58829 (34%)]\tLoss: 0.506210\tR: 0.382792\n",
      "Train Epoch: 2 [20160/58829 (34%)]\tLoss: 0.386513\tR: 0.263380\n",
      "Train Epoch: 2 [20480/58829 (35%)]\tLoss: 0.404409\tR: 0.565916\n",
      "Train Epoch: 2 [20800/58829 (35%)]\tLoss: 0.403240\tR: 0.682365\n",
      "Train Epoch: 2 [21120/58829 (36%)]\tLoss: 1.473537\tR: 0.150543\n",
      "Train Epoch: 2 [21440/58829 (36%)]\tLoss: 0.516041\tR: 0.405318\n",
      "Train Epoch: 2 [21760/58829 (37%)]\tLoss: 1.023789\tR: 0.626333\n",
      "Train Epoch: 2 [22080/58829 (38%)]\tLoss: 0.485263\tR: 0.327047\n",
      "Train Epoch: 2 [22400/58829 (38%)]\tLoss: 0.575985\tR: 0.360932\n",
      "Train Epoch: 2 [22720/58829 (39%)]\tLoss: 0.407752\tR: 0.129501\n",
      "Train Epoch: 2 [23040/58829 (39%)]\tLoss: 0.501623\tR: 0.288635\n",
      "Train Epoch: 2 [23360/58829 (40%)]\tLoss: 0.450534\tR: 0.470560\n",
      "Train Epoch: 2 [23680/58829 (40%)]\tLoss: 0.417350\tR: 0.517468\n",
      "Train Epoch: 2 [24000/58829 (41%)]\tLoss: 0.656195\tR: 0.206130\n",
      "Train Epoch: 2 [24320/58829 (41%)]\tLoss: 0.364639\tR: 0.205912\n",
      "Train Epoch: 2 [24640/58829 (42%)]\tLoss: 0.742687\tR: 0.078168\n",
      "Train Epoch: 2 [24960/58829 (42%)]\tLoss: 1.392561\tR: 0.577462\n",
      "Train Epoch: 2 [25280/58829 (43%)]\tLoss: 0.467484\tR: 0.459509\n",
      "Train Epoch: 2 [25600/58829 (44%)]\tLoss: 1.408953\tR: 0.485218\n",
      "Train Epoch: 2 [25920/58829 (44%)]\tLoss: 0.304645\tR: 0.574723\n",
      "Train Epoch: 2 [26240/58829 (45%)]\tLoss: 0.544565\tR: 0.250616\n",
      "Train Epoch: 2 [26560/58829 (45%)]\tLoss: 1.254475\tR: 0.548283\n",
      "Train Epoch: 2 [26880/58829 (46%)]\tLoss: 0.452686\tR: 0.320993\n",
      "Train Epoch: 2 [27200/58829 (46%)]\tLoss: 1.445735\tR: 0.138894\n",
      "Train Epoch: 2 [27520/58829 (47%)]\tLoss: 0.579046\tR: 0.324444\n",
      "Train Epoch: 2 [27840/58829 (47%)]\tLoss: 1.366978\tR: 0.168048\n",
      "Train Epoch: 2 [28160/58829 (48%)]\tLoss: 0.427255\tR: 0.414118\n",
      "Train Epoch: 2 [28480/58829 (48%)]\tLoss: 0.395548\tR: 0.604679\n",
      "Train Epoch: 2 [28800/58829 (49%)]\tLoss: 0.403897\tR: 0.232844\n",
      "Train Epoch: 2 [29120/58829 (49%)]\tLoss: 0.747103\tR: 0.491842\n",
      "Train Epoch: 2 [29440/58829 (50%)]\tLoss: 1.243191\tR: 0.313968\n",
      "Train Epoch: 2 [29760/58829 (51%)]\tLoss: 1.667778\tR: 0.222618\n",
      "Train Epoch: 2 [30080/58829 (51%)]\tLoss: 1.715278\tR: 0.347809\n",
      "Train Epoch: 2 [30400/58829 (52%)]\tLoss: 2.387359\tR: 0.181415\n",
      "Train Epoch: 2 [30720/58829 (52%)]\tLoss: 0.582360\tR: 0.599632\n",
      "Train Epoch: 2 [31040/58829 (53%)]\tLoss: 0.430051\tR: 0.505460\n",
      "Train Epoch: 2 [31360/58829 (53%)]\tLoss: 0.628997\tR: 0.194910\n",
      "Train Epoch: 2 [31680/58829 (54%)]\tLoss: 0.882777\tR: 0.357921\n",
      "Train Epoch: 2 [32000/58829 (54%)]\tLoss: 0.490194\tR: 0.377500\n",
      "Train Epoch: 2 [32320/58829 (55%)]\tLoss: 0.629506\tR: 0.490482\n",
      "Train Epoch: 2 [32640/58829 (55%)]\tLoss: 1.480063\tR: 0.095373\n",
      "Train Epoch: 2 [32960/58829 (56%)]\tLoss: 1.343648\tR: 0.387518\n",
      "Train Epoch: 2 [33280/58829 (57%)]\tLoss: 1.021790\tR: 0.355811\n",
      "Train Epoch: 2 [33600/58829 (57%)]\tLoss: 0.501732\tR: 0.319616\n",
      "Train Epoch: 2 [33920/58829 (58%)]\tLoss: 0.317820\tR: 0.208818\n",
      "Train Epoch: 2 [34240/58829 (58%)]\tLoss: 0.653172\tR: 0.239045\n",
      "Train Epoch: 2 [34560/58829 (59%)]\tLoss: 0.639369\tR: 0.168974\n",
      "Train Epoch: 2 [34880/58829 (59%)]\tLoss: 0.648374\tR: 0.326272\n",
      "Train Epoch: 2 [35200/58829 (60%)]\tLoss: 0.517040\tR: 0.220370\n",
      "Train Epoch: 2 [35520/58829 (60%)]\tLoss: 0.344287\tR: 0.201433\n",
      "Train Epoch: 2 [35840/58829 (61%)]\tLoss: 0.716109\tR: 0.323821\n",
      "Train Epoch: 2 [36160/58829 (61%)]\tLoss: 0.378759\tR: 0.444467\n",
      "Train Epoch: 2 [36480/58829 (62%)]\tLoss: 1.067055\tR: 0.417141\n",
      "Train Epoch: 2 [36800/58829 (63%)]\tLoss: 1.639548\tR: 0.203942\n",
      "Train Epoch: 2 [37120/58829 (63%)]\tLoss: 0.469438\tR: 0.341709\n",
      "Train Epoch: 2 [37440/58829 (64%)]\tLoss: 1.039881\tR: 0.275937\n",
      "Train Epoch: 2 [37760/58829 (64%)]\tLoss: 1.323177\tR: 0.464231\n",
      "Train Epoch: 2 [38080/58829 (65%)]\tLoss: 1.575691\tR: 0.199794\n",
      "Train Epoch: 2 [38400/58829 (65%)]\tLoss: 0.760012\tR: 0.141471\n",
      "Train Epoch: 2 [38720/58829 (66%)]\tLoss: 0.627147\tR: 0.313422\n",
      "Train Epoch: 2 [39040/58829 (66%)]\tLoss: 0.419151\tR: 0.598894\n",
      "Train Epoch: 2 [39360/58829 (67%)]\tLoss: 0.456018\tR: 0.478002\n",
      "Train Epoch: 2 [39680/58829 (67%)]\tLoss: 0.419474\tR: 0.393639\n",
      "Train Epoch: 2 [40000/58829 (68%)]\tLoss: 0.574658\tR: 0.412070\n",
      "Train Epoch: 2 [40320/58829 (69%)]\tLoss: 0.428602\tR: 0.153735\n",
      "Train Epoch: 2 [40640/58829 (69%)]\tLoss: 0.635581\tR: 0.328840\n",
      "Train Epoch: 2 [40960/58829 (70%)]\tLoss: 0.443966\tR: 0.582849\n",
      "Train Epoch: 2 [41280/58829 (70%)]\tLoss: 0.503152\tR: 0.198084\n",
      "Train Epoch: 2 [41600/58829 (71%)]\tLoss: 0.464909\tR: 0.375493\n",
      "Train Epoch: 2 [41920/58829 (71%)]\tLoss: 0.447178\tR: 0.450279\n",
      "Train Epoch: 2 [42240/58829 (72%)]\tLoss: 0.957603\tR: 0.400848\n",
      "Train Epoch: 2 [42560/58829 (72%)]\tLoss: 0.547329\tR: 0.474345\n",
      "Train Epoch: 2 [42880/58829 (73%)]\tLoss: 0.468717\tR: 0.540644\n",
      "Train Epoch: 2 [43200/58829 (73%)]\tLoss: 0.358120\tR: 0.521266\n",
      "Train Epoch: 2 [43520/58829 (74%)]\tLoss: 0.921702\tR: 0.164222\n",
      "Train Epoch: 2 [43840/58829 (75%)]\tLoss: 0.941674\tR: 0.455133\n",
      "Train Epoch: 2 [44160/58829 (75%)]\tLoss: 1.730458\tR: 0.176421\n",
      "Train Epoch: 2 [44480/58829 (76%)]\tLoss: 0.672923\tR: 0.409657\n",
      "Train Epoch: 2 [44800/58829 (76%)]\tLoss: 0.646805\tR: 0.254277\n",
      "Train Epoch: 2 [45120/58829 (77%)]\tLoss: 0.438657\tR: 0.181790\n",
      "Train Epoch: 2 [45440/58829 (77%)]\tLoss: 0.507947\tR: 0.592689\n",
      "Train Epoch: 2 [45760/58829 (78%)]\tLoss: 0.770228\tR: 0.340189\n",
      "Train Epoch: 2 [46080/58829 (78%)]\tLoss: 0.442253\tR: 0.335287\n",
      "Train Epoch: 2 [46400/58829 (79%)]\tLoss: 0.771915\tR: 0.359571\n",
      "Train Epoch: 2 [46720/58829 (79%)]\tLoss: 0.471958\tR: 0.450713\n",
      "Train Epoch: 2 [47040/58829 (80%)]\tLoss: 0.318390\tR: 0.513953\n",
      "Train Epoch: 2 [47360/58829 (81%)]\tLoss: 2.092201\tR: 0.361580\n",
      "Train Epoch: 2 [47680/58829 (81%)]\tLoss: 0.494317\tR: 0.267882\n",
      "Train Epoch: 2 [48000/58829 (82%)]\tLoss: 1.674760\tR: 0.522816\n",
      "Train Epoch: 2 [48320/58829 (82%)]\tLoss: 0.555350\tR: 0.494514\n",
      "Train Epoch: 2 [48640/58829 (83%)]\tLoss: 0.375287\tR: 0.356829\n",
      "Train Epoch: 2 [48960/58829 (83%)]\tLoss: 1.513243\tR: 0.425034\n",
      "Train Epoch: 2 [49280/58829 (84%)]\tLoss: 0.360207\tR: 0.178789\n",
      "Train Epoch: 2 [49600/58829 (84%)]\tLoss: 1.372414\tR: 0.359519\n",
      "Train Epoch: 2 [49920/58829 (85%)]\tLoss: 0.571739\tR: 0.334180\n",
      "Train Epoch: 2 [50240/58829 (85%)]\tLoss: 0.616516\tR: 0.338635\n",
      "Train Epoch: 2 [50560/58829 (86%)]\tLoss: 2.108054\tR: 0.474912\n",
      "Train Epoch: 2 [50880/58829 (86%)]\tLoss: 0.569136\tR: 0.342387\n",
      "Train Epoch: 2 [51200/58829 (87%)]\tLoss: 0.304624\tR: 0.325173\n",
      "Train Epoch: 2 [51520/58829 (88%)]\tLoss: 0.682842\tR: 0.410392\n",
      "Train Epoch: 2 [51840/58829 (88%)]\tLoss: 1.416184\tR: 0.281487\n",
      "Train Epoch: 2 [52160/58829 (89%)]\tLoss: 0.340002\tR: 0.421724\n",
      "Train Epoch: 2 [52480/58829 (89%)]\tLoss: 0.272009\tR: 0.321815\n",
      "Train Epoch: 2 [52800/58829 (90%)]\tLoss: 1.345429\tR: 0.313928\n",
      "Train Epoch: 2 [53120/58829 (90%)]\tLoss: 0.639525\tR: 0.250838\n",
      "Train Epoch: 2 [53440/58829 (91%)]\tLoss: 1.082299\tR: 0.201335\n",
      "Train Epoch: 2 [53760/58829 (91%)]\tLoss: 0.234294\tR: 0.576900\n",
      "Train Epoch: 2 [54080/58829 (92%)]\tLoss: 0.387539\tR: 0.291659\n",
      "Train Epoch: 2 [54400/58829 (92%)]\tLoss: 1.561166\tR: 0.513626\n",
      "Train Epoch: 2 [54720/58829 (93%)]\tLoss: 0.543862\tR: 0.045673\n",
      "Train Epoch: 2 [55040/58829 (94%)]\tLoss: 1.645302\tR: 0.198439\n",
      "Train Epoch: 2 [55360/58829 (94%)]\tLoss: 0.466560\tR: 0.531177\n",
      "Train Epoch: 2 [55680/58829 (95%)]\tLoss: 1.156561\tR: 0.540142\n",
      "Train Epoch: 2 [56000/58829 (95%)]\tLoss: 1.150851\tR: 0.393226\n",
      "Train Epoch: 2 [56320/58829 (96%)]\tLoss: 0.498148\tR: 0.537925\n",
      "Train Epoch: 2 [56640/58829 (96%)]\tLoss: 1.580449\tR: 0.344959\n",
      "Train Epoch: 2 [56960/58829 (97%)]\tLoss: 0.654189\tR: 0.493494\n",
      "Train Epoch: 2 [57280/58829 (97%)]\tLoss: 0.582548\tR: 0.081361\n",
      "Train Epoch: 2 [57600/58829 (98%)]\tLoss: 0.294222\tR: 0.386957\n",
      "Train Epoch: 2 [57920/58829 (98%)]\tLoss: 1.354639\tR: 0.266486\n",
      "Train Epoch: 2 [58240/58829 (99%)]\tLoss: 0.334792\tR: 0.448691\n",
      "Train Epoch: 2 [58560/58829 (100%)]\tLoss: 0.587091\tR: 0.740912\n",
      "Validation: Loss: 0.742358\tR: 0.492551\n",
      "Best model updated.\n",
      "Train Epoch: 3 [0/58829 (0%)]\tLoss: 0.470325\tR: 0.123296\n",
      "Train Epoch: 3 [320/58829 (1%)]\tLoss: 0.455904\tR: 0.514328\n",
      "Train Epoch: 3 [640/58829 (1%)]\tLoss: 1.337933\tR: 0.270460\n",
      "Train Epoch: 3 [960/58829 (2%)]\tLoss: 0.466250\tR: 0.200560\n",
      "Train Epoch: 3 [1280/58829 (2%)]\tLoss: 0.480442\tR: 0.533092\n",
      "Train Epoch: 3 [1600/58829 (3%)]\tLoss: 0.299740\tR: 0.667564\n",
      "Train Epoch: 3 [1920/58829 (3%)]\tLoss: 1.141845\tR: 0.452523\n",
      "Train Epoch: 3 [2240/58829 (4%)]\tLoss: 0.468943\tR: 0.569872\n",
      "Train Epoch: 3 [2560/58829 (4%)]\tLoss: 0.676148\tR: 0.282821\n",
      "Train Epoch: 3 [2880/58829 (5%)]\tLoss: 0.669264\tR: 0.255521\n",
      "Train Epoch: 3 [3200/58829 (5%)]\tLoss: 0.368444\tR: -0.033144\n",
      "Train Epoch: 3 [3520/58829 (6%)]\tLoss: 1.418976\tR: 0.170472\n",
      "Train Epoch: 3 [3840/58829 (7%)]\tLoss: 0.358579\tR: 0.483139\n",
      "Train Epoch: 3 [4160/58829 (7%)]\tLoss: 0.848500\tR: 0.167077\n",
      "Train Epoch: 3 [4480/58829 (8%)]\tLoss: 0.658373\tR: -0.027531\n",
      "Train Epoch: 3 [4800/58829 (8%)]\tLoss: 1.086937\tR: 0.507769\n",
      "Train Epoch: 3 [5120/58829 (9%)]\tLoss: 0.396611\tR: 0.553900\n",
      "Train Epoch: 3 [5440/58829 (9%)]\tLoss: 0.562241\tR: 0.474965\n",
      "Train Epoch: 3 [5760/58829 (10%)]\tLoss: 0.509476\tR: 0.608296\n",
      "Train Epoch: 3 [6080/58829 (10%)]\tLoss: 0.451176\tR: 0.548202\n",
      "Train Epoch: 3 [6400/58829 (11%)]\tLoss: 0.464381\tR: 0.059347\n",
      "Train Epoch: 3 [6720/58829 (11%)]\tLoss: 0.404740\tR: 0.572046\n",
      "Train Epoch: 3 [7040/58829 (12%)]\tLoss: 2.587952\tR: -0.017950\n",
      "Train Epoch: 3 [7360/58829 (13%)]\tLoss: 0.315313\tR: 0.641061\n",
      "Train Epoch: 3 [7680/58829 (13%)]\tLoss: 0.506324\tR: 0.606772\n",
      "Train Epoch: 3 [8000/58829 (14%)]\tLoss: 0.680563\tR: 0.439956\n",
      "Train Epoch: 3 [8320/58829 (14%)]\tLoss: 0.506406\tR: 0.576433\n",
      "Train Epoch: 3 [8640/58829 (15%)]\tLoss: 1.432281\tR: 0.135234\n",
      "Train Epoch: 3 [8960/58829 (15%)]\tLoss: 0.635506\tR: 0.368657\n",
      "Train Epoch: 3 [9280/58829 (16%)]\tLoss: 0.655586\tR: 0.156923\n",
      "Train Epoch: 3 [9600/58829 (16%)]\tLoss: 0.388332\tR: 0.461377\n",
      "Train Epoch: 3 [9920/58829 (17%)]\tLoss: 1.708983\tR: 0.109494\n",
      "Train Epoch: 3 [10240/58829 (17%)]\tLoss: 0.553357\tR: 0.506443\n",
      "Train Epoch: 3 [10560/58829 (18%)]\tLoss: 1.243599\tR: 0.489576\n",
      "Train Epoch: 3 [10880/58829 (18%)]\tLoss: 0.343576\tR: 0.469760\n",
      "Train Epoch: 3 [11200/58829 (19%)]\tLoss: 1.472806\tR: 0.151853\n",
      "Train Epoch: 3 [11520/58829 (20%)]\tLoss: 0.485555\tR: 0.419262\n",
      "Train Epoch: 3 [11840/58829 (20%)]\tLoss: 0.514475\tR: 0.434921\n",
      "Train Epoch: 3 [12160/58829 (21%)]\tLoss: 0.437721\tR: 0.049923\n",
      "Train Epoch: 3 [12480/58829 (21%)]\tLoss: 0.588760\tR: 0.172585\n",
      "Train Epoch: 3 [12800/58829 (22%)]\tLoss: 0.813566\tR: 0.045509\n",
      "Train Epoch: 3 [13120/58829 (22%)]\tLoss: 1.522573\tR: 0.238127\n",
      "Train Epoch: 3 [13440/58829 (23%)]\tLoss: 1.499134\tR: 0.332532\n",
      "Train Epoch: 3 [13760/58829 (23%)]\tLoss: 0.429759\tR: 0.368729\n",
      "Train Epoch: 3 [14080/58829 (24%)]\tLoss: 0.509715\tR: 0.322340\n",
      "Train Epoch: 3 [14400/58829 (24%)]\tLoss: 0.653999\tR: 0.422601\n",
      "Train Epoch: 3 [14720/58829 (25%)]\tLoss: 1.488803\tR: 0.392990\n",
      "Train Epoch: 3 [15040/58829 (26%)]\tLoss: 0.387059\tR: 0.199436\n",
      "Train Epoch: 3 [15360/58829 (26%)]\tLoss: 1.286205\tR: 0.162964\n",
      "Train Epoch: 3 [15680/58829 (27%)]\tLoss: 2.432506\tR: 0.329333\n",
      "Train Epoch: 3 [16000/58829 (27%)]\tLoss: 1.279527\tR: 0.166612\n",
      "Train Epoch: 3 [16320/58829 (28%)]\tLoss: 0.309515\tR: 0.605614\n",
      "Train Epoch: 3 [16640/58829 (28%)]\tLoss: 0.446632\tR: 0.071909\n",
      "Train Epoch: 3 [16960/58829 (29%)]\tLoss: 0.517266\tR: 0.095652\n",
      "Train Epoch: 3 [17280/58829 (29%)]\tLoss: 0.455158\tR: 0.563088\n",
      "Train Epoch: 3 [17600/58829 (30%)]\tLoss: 0.824445\tR: 0.285888\n",
      "Train Epoch: 3 [17920/58829 (30%)]\tLoss: 0.655935\tR: 0.468390\n",
      "Train Epoch: 3 [18240/58829 (31%)]\tLoss: 0.275214\tR: 0.132362\n",
      "Train Epoch: 3 [18560/58829 (32%)]\tLoss: 0.730360\tR: 0.371038\n",
      "Train Epoch: 3 [18880/58829 (32%)]\tLoss: 0.486424\tR: 0.497934\n",
      "Train Epoch: 3 [19200/58829 (33%)]\tLoss: 0.461659\tR: 0.393418\n",
      "Train Epoch: 3 [19520/58829 (33%)]\tLoss: 0.475070\tR: 0.474221\n",
      "Train Epoch: 3 [19840/58829 (34%)]\tLoss: 0.364409\tR: 0.520050\n",
      "Train Epoch: 3 [20160/58829 (34%)]\tLoss: 0.622933\tR: 0.385574\n",
      "Train Epoch: 3 [20480/58829 (35%)]\tLoss: 1.262514\tR: 0.404232\n",
      "Train Epoch: 3 [20800/58829 (35%)]\tLoss: 2.370004\tR: 0.370504\n",
      "Train Epoch: 3 [21120/58829 (36%)]\tLoss: 0.346560\tR: 0.360081\n",
      "Train Epoch: 3 [21440/58829 (36%)]\tLoss: 0.947840\tR: 0.089235\n",
      "Train Epoch: 3 [21760/58829 (37%)]\tLoss: 0.443151\tR: 0.621156\n",
      "Train Epoch: 3 [22080/58829 (38%)]\tLoss: 0.485578\tR: 0.511663\n",
      "Train Epoch: 3 [22400/58829 (38%)]\tLoss: 0.605472\tR: 0.495591\n",
      "Train Epoch: 3 [22720/58829 (39%)]\tLoss: 0.671369\tR: -0.062138\n",
      "Train Epoch: 3 [23040/58829 (39%)]\tLoss: 2.774646\tR: -0.177817\n",
      "Train Epoch: 3 [23360/58829 (40%)]\tLoss: 0.559719\tR: 0.152602\n",
      "Train Epoch: 3 [23680/58829 (40%)]\tLoss: 0.219157\tR: 0.699898\n",
      "Train Epoch: 3 [24000/58829 (41%)]\tLoss: 0.286499\tR: 0.339824\n",
      "Train Epoch: 3 [24320/58829 (41%)]\tLoss: 1.692418\tR: 0.433167\n",
      "Train Epoch: 3 [24640/58829 (42%)]\tLoss: 0.399191\tR: 0.609778\n",
      "Train Epoch: 3 [24960/58829 (42%)]\tLoss: 0.617731\tR: 0.625881\n",
      "Train Epoch: 3 [25280/58829 (43%)]\tLoss: 0.510459\tR: 0.320029\n",
      "Train Epoch: 3 [25600/58829 (44%)]\tLoss: 0.381696\tR: 0.400540\n",
      "Train Epoch: 3 [25920/58829 (44%)]\tLoss: 0.525790\tR: 0.544197\n",
      "Train Epoch: 3 [26240/58829 (45%)]\tLoss: 0.650293\tR: 0.220775\n",
      "Train Epoch: 3 [26560/58829 (45%)]\tLoss: 0.502458\tR: 0.175980\n",
      "Train Epoch: 3 [26880/58829 (46%)]\tLoss: 0.730851\tR: 0.267611\n",
      "Train Epoch: 3 [27200/58829 (46%)]\tLoss: 0.417006\tR: 0.445799\n",
      "Train Epoch: 3 [27520/58829 (47%)]\tLoss: 0.473737\tR: 0.320994\n",
      "Train Epoch: 3 [27840/58829 (47%)]\tLoss: 0.420872\tR: 0.369081\n",
      "Train Epoch: 3 [28160/58829 (48%)]\tLoss: 0.610224\tR: 0.435856\n",
      "Train Epoch: 3 [28480/58829 (48%)]\tLoss: 0.521408\tR: 0.506143\n",
      "Train Epoch: 3 [28800/58829 (49%)]\tLoss: 0.547747\tR: 0.349526\n",
      "Train Epoch: 3 [29120/58829 (49%)]\tLoss: 0.441170\tR: 0.422422\n",
      "Train Epoch: 3 [29440/58829 (50%)]\tLoss: 0.677179\tR: 0.456851\n",
      "Train Epoch: 3 [29760/58829 (51%)]\tLoss: 1.274769\tR: 0.720990\n",
      "Train Epoch: 3 [30080/58829 (51%)]\tLoss: 1.419434\tR: 0.131780\n",
      "Train Epoch: 3 [30400/58829 (52%)]\tLoss: 0.426962\tR: 0.438061\n",
      "Train Epoch: 3 [30720/58829 (52%)]\tLoss: 0.457890\tR: 0.430971\n",
      "Train Epoch: 3 [31040/58829 (53%)]\tLoss: 0.392207\tR: 0.415533\n",
      "Train Epoch: 3 [31360/58829 (53%)]\tLoss: 0.417472\tR: 0.591324\n",
      "Train Epoch: 3 [31680/58829 (54%)]\tLoss: 1.121931\tR: 0.594115\n",
      "Train Epoch: 3 [32000/58829 (54%)]\tLoss: 0.371363\tR: 0.309155\n",
      "Train Epoch: 3 [32320/58829 (55%)]\tLoss: 0.479765\tR: 0.596545\n",
      "Train Epoch: 3 [32640/58829 (55%)]\tLoss: 0.700550\tR: 0.263076\n",
      "Train Epoch: 3 [32960/58829 (56%)]\tLoss: 0.472508\tR: 0.251585\n",
      "Train Epoch: 3 [33280/58829 (57%)]\tLoss: 0.509172\tR: 0.428359\n",
      "Train Epoch: 3 [33600/58829 (57%)]\tLoss: 1.373106\tR: 0.243230\n",
      "Train Epoch: 3 [33920/58829 (58%)]\tLoss: 0.374398\tR: 0.798397\n",
      "Train Epoch: 3 [34240/58829 (58%)]\tLoss: 1.282412\tR: 0.437366\n",
      "Train Epoch: 3 [34560/58829 (59%)]\tLoss: 0.539021\tR: 0.304494\n",
      "Train Epoch: 3 [34880/58829 (59%)]\tLoss: 0.633233\tR: 0.101012\n",
      "Train Epoch: 3 [35200/58829 (60%)]\tLoss: 0.328562\tR: 0.299243\n",
      "Train Epoch: 3 [35520/58829 (60%)]\tLoss: 0.582201\tR: 0.544661\n",
      "Train Epoch: 3 [35840/58829 (61%)]\tLoss: 0.472995\tR: 0.376685\n",
      "Train Epoch: 3 [36160/58829 (61%)]\tLoss: 2.305874\tR: 0.263473\n",
      "Train Epoch: 3 [36480/58829 (62%)]\tLoss: 0.561979\tR: 0.154408\n",
      "Train Epoch: 3 [36800/58829 (63%)]\tLoss: 0.470647\tR: 0.531120\n",
      "Train Epoch: 3 [37120/58829 (63%)]\tLoss: 0.395483\tR: 0.348788\n",
      "Train Epoch: 3 [37440/58829 (64%)]\tLoss: 0.497460\tR: 0.299115\n",
      "Train Epoch: 3 [37760/58829 (64%)]\tLoss: 1.032881\tR: -0.001753\n",
      "Train Epoch: 3 [38080/58829 (65%)]\tLoss: 0.565631\tR: 0.488825\n",
      "Train Epoch: 3 [38400/58829 (65%)]\tLoss: 1.440994\tR: 0.254885\n",
      "Train Epoch: 3 [38720/58829 (66%)]\tLoss: 0.376908\tR: 0.419453\n",
      "Train Epoch: 3 [39040/58829 (66%)]\tLoss: 1.346098\tR: 0.377492\n",
      "Train Epoch: 3 [39360/58829 (67%)]\tLoss: 0.549574\tR: 0.526723\n",
      "Train Epoch: 3 [39680/58829 (67%)]\tLoss: 1.443553\tR: 0.511607\n",
      "Train Epoch: 3 [40000/58829 (68%)]\tLoss: 1.289675\tR: 0.602156\n",
      "Train Epoch: 3 [40320/58829 (69%)]\tLoss: 1.004258\tR: 0.598292\n",
      "Train Epoch: 3 [40640/58829 (69%)]\tLoss: 1.566548\tR: 0.014952\n",
      "Train Epoch: 3 [40960/58829 (70%)]\tLoss: 0.486333\tR: 0.372345\n",
      "Train Epoch: 3 [41280/58829 (70%)]\tLoss: 1.451708\tR: -0.016288\n",
      "Train Epoch: 3 [41600/58829 (71%)]\tLoss: 0.401566\tR: 0.092412\n",
      "Train Epoch: 3 [41920/58829 (71%)]\tLoss: 0.631912\tR: 0.374838\n",
      "Train Epoch: 3 [42240/58829 (72%)]\tLoss: 0.224394\tR: 0.538151\n",
      "Train Epoch: 3 [42560/58829 (72%)]\tLoss: 1.494325\tR: 0.298285\n",
      "Train Epoch: 3 [42880/58829 (73%)]\tLoss: 0.326673\tR: 0.520978\n",
      "Train Epoch: 3 [43200/58829 (73%)]\tLoss: 0.404866\tR: 0.468818\n",
      "Train Epoch: 3 [43520/58829 (74%)]\tLoss: 0.495281\tR: 0.186983\n",
      "Train Epoch: 3 [43840/58829 (75%)]\tLoss: 0.663292\tR: 0.555412\n",
      "Train Epoch: 3 [44160/58829 (75%)]\tLoss: 0.835729\tR: 0.232935\n",
      "Train Epoch: 3 [44480/58829 (76%)]\tLoss: 0.884468\tR: 0.104151\n",
      "Train Epoch: 3 [44800/58829 (76%)]\tLoss: 0.825650\tR: 0.220214\n",
      "Train Epoch: 3 [45120/58829 (77%)]\tLoss: 1.838524\tR: 0.043437\n",
      "Train Epoch: 3 [45440/58829 (77%)]\tLoss: 1.137798\tR: 0.218702\n",
      "Train Epoch: 3 [45760/58829 (78%)]\tLoss: 0.623884\tR: 0.485253\n",
      "Train Epoch: 3 [46080/58829 (78%)]\tLoss: 0.401170\tR: 0.367085\n",
      "Train Epoch: 3 [46400/58829 (79%)]\tLoss: 0.294173\tR: 0.441705\n",
      "Train Epoch: 3 [46720/58829 (79%)]\tLoss: 0.424286\tR: 0.370152\n",
      "Train Epoch: 3 [47040/58829 (80%)]\tLoss: 0.409851\tR: 0.506329\n",
      "Train Epoch: 3 [47360/58829 (81%)]\tLoss: 2.220593\tR: 0.450293\n",
      "Train Epoch: 3 [47680/58829 (81%)]\tLoss: 0.470929\tR: 0.160025\n",
      "Train Epoch: 3 [48000/58829 (82%)]\tLoss: 0.366466\tR: 0.446124\n",
      "Train Epoch: 3 [48320/58829 (82%)]\tLoss: 0.450428\tR: 0.453698\n",
      "Train Epoch: 3 [48640/58829 (83%)]\tLoss: 0.372092\tR: -0.069754\n",
      "Train Epoch: 3 [48960/58829 (83%)]\tLoss: 0.322783\tR: 0.589394\n",
      "Train Epoch: 3 [49280/58829 (84%)]\tLoss: 0.519212\tR: 0.392615\n",
      "Train Epoch: 3 [49600/58829 (84%)]\tLoss: 1.388760\tR: 0.133515\n",
      "Train Epoch: 3 [49920/58829 (85%)]\tLoss: 0.387989\tR: 0.396855\n",
      "Train Epoch: 3 [50240/58829 (85%)]\tLoss: 0.525180\tR: -0.085580\n",
      "Train Epoch: 3 [50560/58829 (86%)]\tLoss: 0.371177\tR: 0.541322\n",
      "Train Epoch: 3 [50880/58829 (86%)]\tLoss: 0.553457\tR: 0.422967\n",
      "Train Epoch: 3 [51200/58829 (87%)]\tLoss: 0.436112\tR: 0.458421\n",
      "Train Epoch: 3 [51520/58829 (88%)]\tLoss: 1.322400\tR: 0.430790\n",
      "Train Epoch: 3 [51840/58829 (88%)]\tLoss: 0.479409\tR: 0.314677\n",
      "Train Epoch: 3 [52160/58829 (89%)]\tLoss: 1.618059\tR: -0.019504\n",
      "Train Epoch: 3 [52480/58829 (89%)]\tLoss: 0.646690\tR: 0.377944\n",
      "Train Epoch: 3 [52800/58829 (90%)]\tLoss: 0.471789\tR: 0.443595\n",
      "Train Epoch: 3 [53120/58829 (90%)]\tLoss: 1.408740\tR: 0.346063\n",
      "Train Epoch: 3 [53440/58829 (91%)]\tLoss: 0.331077\tR: 0.394801\n",
      "Train Epoch: 3 [53760/58829 (91%)]\tLoss: 0.371857\tR: 0.445703\n",
      "Train Epoch: 3 [54080/58829 (92%)]\tLoss: 0.627531\tR: 0.377774\n",
      "Train Epoch: 3 [54400/58829 (92%)]\tLoss: 0.788078\tR: 0.406431\n",
      "Train Epoch: 3 [54720/58829 (93%)]\tLoss: 0.260513\tR: 0.283131\n",
      "Train Epoch: 3 [55040/58829 (94%)]\tLoss: 0.502236\tR: 0.329506\n",
      "Train Epoch: 3 [55360/58829 (94%)]\tLoss: 0.571581\tR: 0.476290\n",
      "Train Epoch: 3 [55680/58829 (95%)]\tLoss: 0.598816\tR: 0.470536\n",
      "Train Epoch: 3 [56000/58829 (95%)]\tLoss: 0.720080\tR: 0.534822\n",
      "Train Epoch: 3 [56320/58829 (96%)]\tLoss: 0.408815\tR: 0.367604\n",
      "Train Epoch: 3 [56640/58829 (96%)]\tLoss: 1.093450\tR: 0.537342\n",
      "Train Epoch: 3 [56960/58829 (97%)]\tLoss: 1.764124\tR: 0.160715\n",
      "Train Epoch: 3 [57280/58829 (97%)]\tLoss: 1.035223\tR: 0.749738\n",
      "Train Epoch: 3 [57600/58829 (98%)]\tLoss: 0.523432\tR: 0.466790\n",
      "Train Epoch: 3 [57920/58829 (98%)]\tLoss: 0.583716\tR: 0.418617\n",
      "Train Epoch: 3 [58240/58829 (99%)]\tLoss: 2.147500\tR: 0.405993\n",
      "Train Epoch: 3 [58560/58829 (100%)]\tLoss: 0.444844\tR: 0.338439\n",
      "Validation: Loss: 0.716362\tR: 0.512952\n",
      "Best model updated.\n",
      "Train Epoch: 4 [0/58829 (0%)]\tLoss: 0.351576\tR: 0.393565\n",
      "Train Epoch: 4 [320/58829 (1%)]\tLoss: 0.317956\tR: 0.436623\n",
      "Train Epoch: 4 [640/58829 (1%)]\tLoss: 1.217417\tR: 0.691912\n",
      "Train Epoch: 4 [960/58829 (2%)]\tLoss: 0.939322\tR: 0.171335\n",
      "Train Epoch: 4 [1280/58829 (2%)]\tLoss: 0.397621\tR: 0.285854\n",
      "Train Epoch: 4 [1600/58829 (3%)]\tLoss: 0.448466\tR: 0.391863\n",
      "Train Epoch: 4 [1920/58829 (3%)]\tLoss: 0.511954\tR: 0.415633\n",
      "Train Epoch: 4 [2240/58829 (4%)]\tLoss: 0.322936\tR: 0.219561\n",
      "Train Epoch: 4 [2560/58829 (4%)]\tLoss: 1.492067\tR: 0.147121\n",
      "Train Epoch: 4 [2880/58829 (5%)]\tLoss: 0.471593\tR: 0.311225\n",
      "Train Epoch: 4 [3200/58829 (5%)]\tLoss: 0.570548\tR: 0.379307\n",
      "Train Epoch: 4 [3520/58829 (6%)]\tLoss: 1.466111\tR: 0.288375\n",
      "Train Epoch: 4 [3840/58829 (7%)]\tLoss: 0.380907\tR: 0.549416\n",
      "Train Epoch: 4 [4160/58829 (7%)]\tLoss: 0.345558\tR: 0.398397\n",
      "Train Epoch: 4 [4480/58829 (8%)]\tLoss: 0.438179\tR: 0.589472\n",
      "Train Epoch: 4 [4800/58829 (8%)]\tLoss: 0.376780\tR: 0.668154\n",
      "Train Epoch: 4 [5120/58829 (9%)]\tLoss: 0.417895\tR: 0.442441\n",
      "Train Epoch: 4 [5440/58829 (9%)]\tLoss: 0.578760\tR: 0.608337\n",
      "Train Epoch: 4 [5760/58829 (10%)]\tLoss: 0.328185\tR: 0.639715\n",
      "Train Epoch: 4 [6080/58829 (10%)]\tLoss: 0.658863\tR: 0.463440\n",
      "Train Epoch: 4 [6400/58829 (11%)]\tLoss: 0.369948\tR: 0.520099\n",
      "Train Epoch: 4 [6720/58829 (11%)]\tLoss: 0.905631\tR: 0.395376\n",
      "Train Epoch: 4 [7040/58829 (12%)]\tLoss: 0.463069\tR: 0.315327\n",
      "Train Epoch: 4 [7360/58829 (13%)]\tLoss: 0.668945\tR: 0.342203\n",
      "Train Epoch: 4 [7680/58829 (13%)]\tLoss: 0.418977\tR: 0.351736\n",
      "Train Epoch: 4 [8000/58829 (14%)]\tLoss: 0.550479\tR: 0.208582\n",
      "Train Epoch: 4 [8320/58829 (14%)]\tLoss: 0.436605\tR: 0.557638\n",
      "Train Epoch: 4 [8640/58829 (15%)]\tLoss: 0.335627\tR: 0.504005\n",
      "Train Epoch: 4 [8960/58829 (15%)]\tLoss: 0.550060\tR: 0.455111\n",
      "Train Epoch: 4 [9280/58829 (16%)]\tLoss: 0.641306\tR: 0.235058\n",
      "Train Epoch: 4 [9600/58829 (16%)]\tLoss: 1.477137\tR: 0.336010\n",
      "Train Epoch: 4 [9920/58829 (17%)]\tLoss: 4.686741\tR: 0.035444\n",
      "Train Epoch: 4 [10240/58829 (17%)]\tLoss: 1.327844\tR: 0.368072\n",
      "Train Epoch: 4 [10560/58829 (18%)]\tLoss: 0.724225\tR: 0.318321\n",
      "Train Epoch: 4 [10880/58829 (18%)]\tLoss: 0.311805\tR: 0.215453\n",
      "Train Epoch: 4 [11200/58829 (19%)]\tLoss: 1.280596\tR: 0.523306\n",
      "Train Epoch: 4 [11520/58829 (20%)]\tLoss: 1.404017\tR: 0.127540\n",
      "Train Epoch: 4 [11840/58829 (20%)]\tLoss: 1.150681\tR: 0.547667\n",
      "Train Epoch: 4 [12160/58829 (21%)]\tLoss: 0.406204\tR: 0.377843\n",
      "Train Epoch: 4 [12480/58829 (21%)]\tLoss: 1.190339\tR: 0.366219\n",
      "Train Epoch: 4 [12800/58829 (22%)]\tLoss: 1.366379\tR: 0.313423\n",
      "Train Epoch: 4 [13120/58829 (22%)]\tLoss: 1.270618\tR: 0.520108\n",
      "Train Epoch: 4 [13440/58829 (23%)]\tLoss: 1.113169\tR: 0.505823\n",
      "Train Epoch: 4 [13760/58829 (23%)]\tLoss: 0.376527\tR: 0.437033\n",
      "Train Epoch: 4 [14080/58829 (24%)]\tLoss: 1.652112\tR: 0.152535\n",
      "Train Epoch: 4 [14400/58829 (24%)]\tLoss: 0.267494\tR: 0.543075\n",
      "Train Epoch: 4 [14720/58829 (25%)]\tLoss: 0.488229\tR: 0.557164\n",
      "Train Epoch: 4 [15040/58829 (26%)]\tLoss: 0.223927\tR: 0.429067\n",
      "Train Epoch: 4 [15360/58829 (26%)]\tLoss: 0.367085\tR: 0.225023\n",
      "Train Epoch: 4 [15680/58829 (27%)]\tLoss: 2.328793\tR: 0.269383\n",
      "Train Epoch: 4 [16000/58829 (27%)]\tLoss: 0.445206\tR: 0.459341\n",
      "Train Epoch: 4 [16320/58829 (28%)]\tLoss: 0.349811\tR: 0.376761\n",
      "Train Epoch: 4 [16640/58829 (28%)]\tLoss: 0.761366\tR: 0.312190\n",
      "Train Epoch: 4 [16960/58829 (29%)]\tLoss: 0.410801\tR: 0.341949\n",
      "Train Epoch: 4 [17280/58829 (29%)]\tLoss: 0.423856\tR: 0.609996\n",
      "Train Epoch: 4 [17600/58829 (30%)]\tLoss: 0.402829\tR: 0.410926\n",
      "Train Epoch: 4 [17920/58829 (30%)]\tLoss: 0.538985\tR: 0.435492\n",
      "Train Epoch: 4 [18240/58829 (31%)]\tLoss: 1.265547\tR: 0.244997\n",
      "Train Epoch: 4 [18560/58829 (32%)]\tLoss: 0.804753\tR: 0.219056\n",
      "Train Epoch: 4 [18880/58829 (32%)]\tLoss: 0.480810\tR: 0.368404\n",
      "Train Epoch: 4 [19200/58829 (33%)]\tLoss: 0.312764\tR: 0.562022\n",
      "Train Epoch: 4 [19520/58829 (33%)]\tLoss: 0.492405\tR: 0.415899\n",
      "Train Epoch: 4 [19840/58829 (34%)]\tLoss: 1.314911\tR: 0.598486\n",
      "Train Epoch: 4 [20160/58829 (34%)]\tLoss: 0.526150\tR: 0.461349\n",
      "Train Epoch: 4 [20480/58829 (35%)]\tLoss: 0.721465\tR: 0.470658\n",
      "Train Epoch: 4 [20800/58829 (35%)]\tLoss: 1.295619\tR: 0.243496\n",
      "Train Epoch: 4 [21120/58829 (36%)]\tLoss: 0.754771\tR: 0.327906\n",
      "Train Epoch: 4 [21440/58829 (36%)]\tLoss: 0.508320\tR: 0.059256\n",
      "Train Epoch: 4 [21760/58829 (37%)]\tLoss: 1.293649\tR: 0.223064\n",
      "Train Epoch: 4 [22080/58829 (38%)]\tLoss: 0.480679\tR: 0.449418\n",
      "Train Epoch: 4 [22400/58829 (38%)]\tLoss: 0.464421\tR: 0.363524\n",
      "Train Epoch: 4 [22720/58829 (39%)]\tLoss: 0.378368\tR: 0.742667\n",
      "Train Epoch: 4 [23040/58829 (39%)]\tLoss: 0.375988\tR: 0.551913\n",
      "Train Epoch: 4 [23360/58829 (40%)]\tLoss: 1.446674\tR: 0.339207\n",
      "Train Epoch: 4 [23680/58829 (40%)]\tLoss: 1.383151\tR: 0.521226\n",
      "Train Epoch: 4 [24000/58829 (41%)]\tLoss: 0.479842\tR: 0.577788\n",
      "Train Epoch: 4 [24320/58829 (41%)]\tLoss: 0.580082\tR: 0.587621\n",
      "Train Epoch: 4 [24640/58829 (42%)]\tLoss: 2.382238\tR: 0.244014\n",
      "Train Epoch: 4 [24960/58829 (42%)]\tLoss: 0.529196\tR: 0.298348\n",
      "Train Epoch: 4 [25280/58829 (43%)]\tLoss: 1.458154\tR: 0.141994\n",
      "Train Epoch: 4 [25600/58829 (44%)]\tLoss: 0.545561\tR: 0.386423\n",
      "Train Epoch: 4 [25920/58829 (44%)]\tLoss: 0.197694\tR: 0.577173\n",
      "Train Epoch: 4 [26240/58829 (45%)]\tLoss: 0.431480\tR: 0.499370\n",
      "Train Epoch: 4 [26560/58829 (45%)]\tLoss: 0.440693\tR: 0.350754\n",
      "Train Epoch: 4 [26880/58829 (46%)]\tLoss: 0.307552\tR: 0.539335\n",
      "Train Epoch: 4 [27200/58829 (46%)]\tLoss: 0.394656\tR: 0.680122\n",
      "Train Epoch: 4 [27520/58829 (47%)]\tLoss: 0.393195\tR: 0.489598\n",
      "Train Epoch: 4 [27840/58829 (47%)]\tLoss: 0.533604\tR: 0.646706\n",
      "Train Epoch: 4 [28160/58829 (48%)]\tLoss: 0.812502\tR: 0.473550\n",
      "Train Epoch: 4 [28480/58829 (48%)]\tLoss: 1.531262\tR: 0.304165\n",
      "Train Epoch: 4 [28800/58829 (49%)]\tLoss: 0.301391\tR: 0.545205\n",
      "Train Epoch: 4 [29120/58829 (49%)]\tLoss: 0.381289\tR: 0.598901\n",
      "Train Epoch: 4 [29440/58829 (50%)]\tLoss: 0.507396\tR: 0.532587\n",
      "Train Epoch: 4 [29760/58829 (51%)]\tLoss: 1.450662\tR: 0.249920\n",
      "Train Epoch: 4 [30080/58829 (51%)]\tLoss: 1.471730\tR: -0.121305\n",
      "Train Epoch: 4 [30400/58829 (52%)]\tLoss: 0.260331\tR: 0.577969\n",
      "Train Epoch: 4 [30720/58829 (52%)]\tLoss: 0.498669\tR: 0.550061\n",
      "Train Epoch: 4 [31040/58829 (53%)]\tLoss: 1.346415\tR: 0.652261\n",
      "Train Epoch: 4 [31360/58829 (53%)]\tLoss: 0.422099\tR: 0.240223\n",
      "Train Epoch: 4 [31680/58829 (54%)]\tLoss: 0.637734\tR: 0.407525\n",
      "Train Epoch: 4 [32000/58829 (54%)]\tLoss: 1.281955\tR: 0.639906\n",
      "Train Epoch: 4 [32320/58829 (55%)]\tLoss: 1.153189\tR: 0.095175\n",
      "Train Epoch: 4 [32640/58829 (55%)]\tLoss: 0.454944\tR: 0.490143\n",
      "Train Epoch: 4 [32960/58829 (56%)]\tLoss: 0.340050\tR: 0.527844\n",
      "Train Epoch: 4 [33280/58829 (57%)]\tLoss: 0.377030\tR: 0.681011\n",
      "Train Epoch: 4 [33600/58829 (57%)]\tLoss: 0.374734\tR: 0.539600\n",
      "Train Epoch: 4 [33920/58829 (58%)]\tLoss: 0.257381\tR: 0.622238\n",
      "Train Epoch: 4 [34240/58829 (58%)]\tLoss: 1.509123\tR: 0.118755\n",
      "Train Epoch: 4 [34560/58829 (59%)]\tLoss: 0.470905\tR: 0.451436\n",
      "Train Epoch: 4 [34880/58829 (59%)]\tLoss: 0.654503\tR: 0.234145\n",
      "Train Epoch: 4 [35200/58829 (60%)]\tLoss: 0.508067\tR: 0.381935\n",
      "Train Epoch: 4 [35520/58829 (60%)]\tLoss: 1.398403\tR: 0.292698\n",
      "Train Epoch: 4 [35840/58829 (61%)]\tLoss: 0.434893\tR: 0.360441\n",
      "Train Epoch: 4 [36160/58829 (61%)]\tLoss: 0.464702\tR: 0.519265\n",
      "Train Epoch: 4 [36480/58829 (62%)]\tLoss: 0.461872\tR: 0.504761\n",
      "Train Epoch: 4 [36800/58829 (63%)]\tLoss: 0.572374\tR: 0.494450\n",
      "Train Epoch: 4 [37120/58829 (63%)]\tLoss: 1.365063\tR: 0.318747\n",
      "Train Epoch: 4 [37440/58829 (64%)]\tLoss: 0.511824\tR: 0.099571\n",
      "Train Epoch: 4 [37760/58829 (64%)]\tLoss: 0.412545\tR: 0.608121\n",
      "Train Epoch: 4 [38080/58829 (65%)]\tLoss: 0.357920\tR: 0.687749\n",
      "Train Epoch: 4 [38400/58829 (65%)]\tLoss: 0.721830\tR: 0.469330\n",
      "Train Epoch: 4 [38720/58829 (66%)]\tLoss: 1.250744\tR: 0.544891\n",
      "Train Epoch: 4 [39040/58829 (66%)]\tLoss: 0.672746\tR: 0.431453\n",
      "Train Epoch: 4 [39360/58829 (67%)]\tLoss: 1.447310\tR: 0.433836\n",
      "Train Epoch: 4 [39680/58829 (67%)]\tLoss: 0.386104\tR: 0.532266\n",
      "Train Epoch: 4 [40000/58829 (68%)]\tLoss: 0.505299\tR: 0.294402\n",
      "Train Epoch: 4 [40320/58829 (69%)]\tLoss: 0.585631\tR: 0.405828\n",
      "Train Epoch: 4 [40640/58829 (69%)]\tLoss: 0.372285\tR: 0.520426\n",
      "Train Epoch: 4 [40960/58829 (70%)]\tLoss: 1.765858\tR: 0.254627\n",
      "Train Epoch: 4 [41280/58829 (70%)]\tLoss: 0.509075\tR: 0.404962\n",
      "Train Epoch: 4 [41600/58829 (71%)]\tLoss: 1.450915\tR: 0.290342\n",
      "Train Epoch: 4 [41920/58829 (71%)]\tLoss: 0.457064\tR: 0.596389\n",
      "Train Epoch: 4 [42240/58829 (72%)]\tLoss: 0.668335\tR: 0.220966\n",
      "Train Epoch: 4 [42560/58829 (72%)]\tLoss: 0.659018\tR: 0.363923\n",
      "Train Epoch: 4 [42880/58829 (73%)]\tLoss: 0.814973\tR: 0.298231\n",
      "Train Epoch: 4 [43200/58829 (73%)]\tLoss: 0.345152\tR: 0.532330\n",
      "Train Epoch: 4 [43520/58829 (74%)]\tLoss: 0.375278\tR: 0.440423\n",
      "Train Epoch: 4 [43840/58829 (75%)]\tLoss: 1.200379\tR: 0.359799\n",
      "Train Epoch: 4 [44160/58829 (75%)]\tLoss: 0.590826\tR: 0.522351\n",
      "Train Epoch: 4 [44480/58829 (76%)]\tLoss: 0.528931\tR: 0.533208\n",
      "Train Epoch: 4 [44800/58829 (76%)]\tLoss: 0.376769\tR: 0.490326\n",
      "Train Epoch: 4 [45120/58829 (77%)]\tLoss: 0.585186\tR: 0.465331\n",
      "Train Epoch: 4 [45440/58829 (77%)]\tLoss: 0.442183\tR: 0.494018\n",
      "Train Epoch: 4 [45760/58829 (78%)]\tLoss: 0.294585\tR: 0.488315\n",
      "Train Epoch: 4 [46080/58829 (78%)]\tLoss: 0.397563\tR: 0.525041\n",
      "Train Epoch: 4 [46400/58829 (79%)]\tLoss: 0.289326\tR: 0.441542\n",
      "Train Epoch: 4 [46720/58829 (79%)]\tLoss: 0.577958\tR: 0.174281\n",
      "Train Epoch: 4 [47040/58829 (80%)]\tLoss: 0.444136\tR: 0.443587\n",
      "Train Epoch: 4 [47360/58829 (81%)]\tLoss: 0.670834\tR: 0.168075\n",
      "Train Epoch: 4 [47680/58829 (81%)]\tLoss: 1.277788\tR: 0.278859\n",
      "Train Epoch: 4 [48000/58829 (82%)]\tLoss: 1.290026\tR: 0.299901\n",
      "Train Epoch: 4 [48320/58829 (82%)]\tLoss: 1.350204\tR: 0.088392\n",
      "Train Epoch: 4 [48640/58829 (83%)]\tLoss: 1.281275\tR: 0.361741\n",
      "Train Epoch: 4 [48960/58829 (83%)]\tLoss: 0.570015\tR: 0.184578\n",
      "Train Epoch: 4 [49280/58829 (84%)]\tLoss: 1.261151\tR: 0.206837\n",
      "Train Epoch: 4 [49600/58829 (84%)]\tLoss: 0.429798\tR: 0.651319\n",
      "Train Epoch: 4 [49920/58829 (85%)]\tLoss: 0.433847\tR: 0.685025\n",
      "Train Epoch: 4 [50240/58829 (85%)]\tLoss: 0.759479\tR: 0.205671\n",
      "Train Epoch: 4 [50560/58829 (86%)]\tLoss: 0.560614\tR: 0.264849\n",
      "Train Epoch: 4 [50880/58829 (86%)]\tLoss: 1.471571\tR: 0.418474\n",
      "Train Epoch: 4 [51200/58829 (87%)]\tLoss: 0.558355\tR: 0.616779\n",
      "Train Epoch: 4 [51520/58829 (88%)]\tLoss: 0.696545\tR: 0.399554\n",
      "Train Epoch: 4 [51840/58829 (88%)]\tLoss: 0.273279\tR: 0.584622\n",
      "Train Epoch: 4 [52160/58829 (89%)]\tLoss: 0.882725\tR: 0.160949\n",
      "Train Epoch: 4 [52480/58829 (89%)]\tLoss: 0.403487\tR: 0.292431\n",
      "Train Epoch: 4 [52800/58829 (90%)]\tLoss: 0.618880\tR: 0.003895\n",
      "Train Epoch: 4 [53120/58829 (90%)]\tLoss: 0.670564\tR: 0.298524\n",
      "Train Epoch: 4 [53440/58829 (91%)]\tLoss: 0.518684\tR: 0.484126\n",
      "Train Epoch: 4 [53760/58829 (91%)]\tLoss: 1.362963\tR: 0.159280\n",
      "Train Epoch: 4 [54080/58829 (92%)]\tLoss: 0.426812\tR: 0.338724\n",
      "Train Epoch: 4 [54400/58829 (92%)]\tLoss: 1.437663\tR: 0.109384\n",
      "Train Epoch: 4 [54720/58829 (93%)]\tLoss: 1.374290\tR: 0.613672\n",
      "Train Epoch: 4 [55040/58829 (94%)]\tLoss: 1.181209\tR: 0.298642\n",
      "Train Epoch: 4 [55360/58829 (94%)]\tLoss: 0.402362\tR: 0.441253\n",
      "Train Epoch: 4 [55680/58829 (95%)]\tLoss: 0.556506\tR: 0.517539\n",
      "Train Epoch: 4 [56000/58829 (95%)]\tLoss: 1.310305\tR: 0.463982\n",
      "Train Epoch: 4 [56320/58829 (96%)]\tLoss: 0.733737\tR: 0.461786\n",
      "Train Epoch: 4 [56640/58829 (96%)]\tLoss: 0.451867\tR: 0.558665\n",
      "Train Epoch: 4 [56960/58829 (97%)]\tLoss: 0.503127\tR: 0.441987\n",
      "Train Epoch: 4 [57280/58829 (97%)]\tLoss: 1.028624\tR: 0.078730\n",
      "Train Epoch: 4 [57600/58829 (98%)]\tLoss: 1.295255\tR: 0.232266\n",
      "Train Epoch: 4 [57920/58829 (98%)]\tLoss: 2.680270\tR: 0.004103\n",
      "Train Epoch: 4 [58240/58829 (99%)]\tLoss: 1.519951\tR: 0.179611\n",
      "Train Epoch: 4 [58560/58829 (100%)]\tLoss: 0.362783\tR: 0.459016\n",
      "Validation: Loss: 0.720951\tR: 0.478399\n",
      "Train Epoch: 5 [0/58829 (0%)]\tLoss: 0.541964\tR: 0.293534\n",
      "Train Epoch: 5 [320/58829 (1%)]\tLoss: 0.559818\tR: 0.459821\n",
      "Train Epoch: 5 [640/58829 (1%)]\tLoss: 0.277772\tR: 0.337616\n",
      "Train Epoch: 5 [960/58829 (2%)]\tLoss: 0.508260\tR: 0.377944\n",
      "Train Epoch: 5 [1280/58829 (2%)]\tLoss: 0.743795\tR: 0.165598\n",
      "Train Epoch: 5 [1600/58829 (3%)]\tLoss: 0.388462\tR: 0.290863\n",
      "Train Epoch: 5 [1920/58829 (3%)]\tLoss: 1.491930\tR: 0.323402\n",
      "Train Epoch: 5 [2240/58829 (4%)]\tLoss: 0.443330\tR: 0.528050\n",
      "Train Epoch: 5 [2560/58829 (4%)]\tLoss: 0.330244\tR: 0.576107\n",
      "Train Epoch: 5 [2880/58829 (5%)]\tLoss: 1.250331\tR: 0.377625\n",
      "Train Epoch: 5 [3200/58829 (5%)]\tLoss: 0.668598\tR: 0.228029\n",
      "Train Epoch: 5 [3520/58829 (6%)]\tLoss: 1.495003\tR: 0.424281\n",
      "Train Epoch: 5 [3840/58829 (7%)]\tLoss: 0.419025\tR: 0.511551\n",
      "Train Epoch: 5 [4160/58829 (7%)]\tLoss: 0.747921\tR: 0.578792\n",
      "Train Epoch: 5 [4480/58829 (8%)]\tLoss: 0.518881\tR: 0.551448\n",
      "Train Epoch: 5 [4800/58829 (8%)]\tLoss: 0.489239\tR: 0.534542\n",
      "Train Epoch: 5 [5120/58829 (9%)]\tLoss: 3.406114\tR: 0.133129\n",
      "Train Epoch: 5 [5440/58829 (9%)]\tLoss: 1.422217\tR: 0.219883\n",
      "Train Epoch: 5 [5760/58829 (10%)]\tLoss: 0.445368\tR: 0.419543\n",
      "Train Epoch: 5 [6080/58829 (10%)]\tLoss: 0.494201\tR: 0.068523\n",
      "Train Epoch: 5 [6400/58829 (11%)]\tLoss: 0.387366\tR: 0.578447\n",
      "Train Epoch: 5 [6720/58829 (11%)]\tLoss: 1.221712\tR: 0.300160\n",
      "Train Epoch: 5 [7040/58829 (12%)]\tLoss: 0.357738\tR: 0.639877\n",
      "Train Epoch: 5 [7360/58829 (13%)]\tLoss: 0.690874\tR: 0.099821\n",
      "Train Epoch: 5 [7680/58829 (13%)]\tLoss: 1.470526\tR: 0.309880\n",
      "Train Epoch: 5 [8000/58829 (14%)]\tLoss: 0.502795\tR: 0.392915\n",
      "Train Epoch: 5 [8320/58829 (14%)]\tLoss: 1.807656\tR: 0.188516\n",
      "Train Epoch: 5 [8640/58829 (15%)]\tLoss: 0.516343\tR: 0.352846\n",
      "Train Epoch: 5 [8960/58829 (15%)]\tLoss: 1.637988\tR: 0.073195\n",
      "Train Epoch: 5 [9280/58829 (16%)]\tLoss: 0.418651\tR: 0.153284\n",
      "Train Epoch: 5 [9600/58829 (16%)]\tLoss: 0.519541\tR: 0.320718\n",
      "Train Epoch: 5 [9920/58829 (17%)]\tLoss: 0.502741\tR: 0.558886\n",
      "Train Epoch: 5 [10240/58829 (17%)]\tLoss: 1.129352\tR: 0.542889\n",
      "Train Epoch: 5 [10560/58829 (18%)]\tLoss: 0.535717\tR: 0.425222\n",
      "Train Epoch: 5 [10880/58829 (18%)]\tLoss: 0.332137\tR: 0.487646\n",
      "Train Epoch: 5 [11200/58829 (19%)]\tLoss: 0.541750\tR: 0.485762\n",
      "Train Epoch: 5 [11520/58829 (20%)]\tLoss: 1.414852\tR: 0.066856\n",
      "Train Epoch: 5 [11840/58829 (20%)]\tLoss: 0.406559\tR: 0.373395\n",
      "Train Epoch: 5 [12160/58829 (21%)]\tLoss: 0.332506\tR: 0.329752\n",
      "Train Epoch: 5 [12480/58829 (21%)]\tLoss: 1.167255\tR: 0.485966\n",
      "Train Epoch: 5 [12800/58829 (22%)]\tLoss: 0.445257\tR: 0.098224\n",
      "Train Epoch: 5 [13120/58829 (22%)]\tLoss: 0.508441\tR: 0.345000\n",
      "Train Epoch: 5 [13440/58829 (23%)]\tLoss: 0.541701\tR: 0.561068\n",
      "Train Epoch: 5 [13760/58829 (23%)]\tLoss: 1.749249\tR: 0.185075\n",
      "Train Epoch: 5 [14080/58829 (24%)]\tLoss: 0.355395\tR: 0.404925\n",
      "Train Epoch: 5 [14400/58829 (24%)]\tLoss: 1.454027\tR: 0.260719\n",
      "Train Epoch: 5 [14720/58829 (25%)]\tLoss: 0.432896\tR: 0.415685\n",
      "Train Epoch: 5 [15040/58829 (26%)]\tLoss: 0.386034\tR: 0.523296\n",
      "Train Epoch: 5 [15360/58829 (26%)]\tLoss: 0.775763\tR: 0.377366\n",
      "Train Epoch: 5 [15680/58829 (27%)]\tLoss: 2.416761\tR: 0.328967\n",
      "Train Epoch: 5 [16000/58829 (27%)]\tLoss: 0.448209\tR: 0.573044\n",
      "Train Epoch: 5 [16320/58829 (28%)]\tLoss: 0.470588\tR: 0.160897\n",
      "Train Epoch: 5 [16640/58829 (28%)]\tLoss: 1.652849\tR: 0.343964\n",
      "Train Epoch: 5 [16960/58829 (29%)]\tLoss: 0.525703\tR: 0.558444\n",
      "Train Epoch: 5 [17280/58829 (29%)]\tLoss: 0.955480\tR: 0.203626\n",
      "Train Epoch: 5 [17600/58829 (30%)]\tLoss: 0.754573\tR: 0.312542\n",
      "Train Epoch: 5 [17920/58829 (30%)]\tLoss: 0.595119\tR: 0.501470\n",
      "Train Epoch: 5 [18240/58829 (31%)]\tLoss: 0.310657\tR: 0.626662\n",
      "Train Epoch: 5 [18560/58829 (32%)]\tLoss: 0.625634\tR: 0.476272\n",
      "Train Epoch: 5 [18880/58829 (32%)]\tLoss: 0.298508\tR: 0.552077\n",
      "Train Epoch: 5 [19200/58829 (33%)]\tLoss: 0.676728\tR: -0.051418\n",
      "Train Epoch: 5 [19520/58829 (33%)]\tLoss: 0.392499\tR: 0.328682\n",
      "Train Epoch: 5 [19840/58829 (34%)]\tLoss: 0.282749\tR: 0.447662\n",
      "Train Epoch: 5 [20160/58829 (34%)]\tLoss: 0.761175\tR: 0.365181\n",
      "Train Epoch: 5 [20480/58829 (35%)]\tLoss: 0.754366\tR: 0.114139\n",
      "Train Epoch: 5 [20800/58829 (35%)]\tLoss: 1.212826\tR: 0.304260\n",
      "Train Epoch: 5 [21120/58829 (36%)]\tLoss: 0.353156\tR: 0.611217\n",
      "Train Epoch: 5 [21440/58829 (36%)]\tLoss: 0.575466\tR: 0.244461\n",
      "Train Epoch: 5 [21760/58829 (37%)]\tLoss: 0.521554\tR: 0.447827\n",
      "Train Epoch: 5 [22080/58829 (38%)]\tLoss: 0.178430\tR: 0.578831\n",
      "Train Epoch: 5 [22400/58829 (38%)]\tLoss: 0.530777\tR: 0.424324\n",
      "Train Epoch: 5 [22720/58829 (39%)]\tLoss: 0.466447\tR: 0.598637\n",
      "Train Epoch: 5 [23040/58829 (39%)]\tLoss: 1.220327\tR: 0.319775\n",
      "Train Epoch: 5 [23360/58829 (40%)]\tLoss: 0.353811\tR: 0.403630\n",
      "Train Epoch: 5 [23680/58829 (40%)]\tLoss: 0.481364\tR: 0.351763\n",
      "Train Epoch: 5 [24000/58829 (41%)]\tLoss: 0.316855\tR: 0.684478\n",
      "Train Epoch: 5 [24320/58829 (41%)]\tLoss: 0.374443\tR: 0.584322\n",
      "Train Epoch: 5 [24640/58829 (42%)]\tLoss: 0.577047\tR: 0.485618\n",
      "Train Epoch: 5 [24960/58829 (42%)]\tLoss: 1.080108\tR: 0.584967\n",
      "Train Epoch: 5 [25280/58829 (43%)]\tLoss: 0.497292\tR: 0.560754\n",
      "Train Epoch: 5 [25600/58829 (44%)]\tLoss: 0.522549\tR: 0.323591\n",
      "Train Epoch: 5 [25920/58829 (44%)]\tLoss: 0.499165\tR: 0.651920\n",
      "Train Epoch: 5 [26240/58829 (45%)]\tLoss: 0.368392\tR: 0.382153\n",
      "Train Epoch: 5 [26560/58829 (45%)]\tLoss: 0.579643\tR: 0.468422\n",
      "Train Epoch: 5 [26880/58829 (46%)]\tLoss: 1.453762\tR: 0.434908\n",
      "Train Epoch: 5 [27200/58829 (46%)]\tLoss: 0.419213\tR: 0.291114\n",
      "Train Epoch: 5 [27520/58829 (47%)]\tLoss: 1.046614\tR: 0.511765\n",
      "Train Epoch: 5 [27840/58829 (47%)]\tLoss: 0.441570\tR: 0.277976\n",
      "Train Epoch: 5 [28160/58829 (48%)]\tLoss: 1.113711\tR: 0.528334\n",
      "Train Epoch: 5 [28480/58829 (48%)]\tLoss: 0.270480\tR: 0.418531\n",
      "Train Epoch: 5 [28800/58829 (49%)]\tLoss: 0.810039\tR: 0.307883\n",
      "Train Epoch: 5 [29120/58829 (49%)]\tLoss: 2.235676\tR: 0.419385\n",
      "Train Epoch: 5 [29440/58829 (50%)]\tLoss: 1.405331\tR: 0.255440\n",
      "Train Epoch: 5 [29760/58829 (51%)]\tLoss: 1.454189\tR: 0.335738\n",
      "Train Epoch: 5 [30080/58829 (51%)]\tLoss: 0.352334\tR: 0.644440\n",
      "Train Epoch: 5 [30400/58829 (52%)]\tLoss: 0.426685\tR: 0.586271\n",
      "Train Epoch: 5 [30720/58829 (52%)]\tLoss: 0.460843\tR: 0.276512\n",
      "Train Epoch: 5 [31040/58829 (53%)]\tLoss: 0.647915\tR: 0.378526\n",
      "Train Epoch: 5 [31360/58829 (53%)]\tLoss: 1.825190\tR: 0.318844\n",
      "Train Epoch: 5 [31680/58829 (54%)]\tLoss: 1.533428\tR: 0.431637\n",
      "Train Epoch: 5 [32000/58829 (54%)]\tLoss: 0.360179\tR: 0.468726\n",
      "Train Epoch: 5 [32320/58829 (55%)]\tLoss: 2.933756\tR: 0.451404\n",
      "Train Epoch: 5 [32640/58829 (55%)]\tLoss: 0.579403\tR: 0.557346\n",
      "Train Epoch: 5 [32960/58829 (56%)]\tLoss: 2.331044\tR: 0.469778\n",
      "Train Epoch: 5 [33280/58829 (57%)]\tLoss: 0.346700\tR: 0.309052\n",
      "Train Epoch: 5 [33600/58829 (57%)]\tLoss: 0.270432\tR: 0.634771\n",
      "Train Epoch: 5 [33920/58829 (58%)]\tLoss: 2.261008\tR: 0.139956\n",
      "Train Epoch: 5 [34240/58829 (58%)]\tLoss: 0.680710\tR: 0.486525\n",
      "Train Epoch: 5 [34560/58829 (59%)]\tLoss: 0.477780\tR: 0.576892\n",
      "Train Epoch: 5 [34880/58829 (59%)]\tLoss: 0.457913\tR: 0.332570\n",
      "Train Epoch: 5 [35200/58829 (60%)]\tLoss: 0.599779\tR: 0.481945\n",
      "Train Epoch: 5 [35520/58829 (60%)]\tLoss: 0.737686\tR: 0.451819\n",
      "Train Epoch: 5 [35840/58829 (61%)]\tLoss: 1.200237\tR: 0.413115\n",
      "Train Epoch: 5 [36160/58829 (61%)]\tLoss: 0.787311\tR: 0.361633\n",
      "Train Epoch: 5 [36480/58829 (62%)]\tLoss: 0.834203\tR: 0.141363\n",
      "Train Epoch: 5 [36800/58829 (63%)]\tLoss: 1.698893\tR: 0.491771\n",
      "Train Epoch: 5 [37120/58829 (63%)]\tLoss: 0.580897\tR: 0.531315\n",
      "Train Epoch: 5 [37440/58829 (64%)]\tLoss: 0.435818\tR: 0.451282\n",
      "Train Epoch: 5 [37760/58829 (64%)]\tLoss: 0.337486\tR: 0.574507\n",
      "Train Epoch: 5 [38080/58829 (65%)]\tLoss: 0.708449\tR: 0.530208\n",
      "Train Epoch: 5 [38400/58829 (65%)]\tLoss: 0.995039\tR: 0.333582\n",
      "Train Epoch: 5 [38720/58829 (66%)]\tLoss: 0.648639\tR: 0.338256\n",
      "Train Epoch: 5 [39040/58829 (66%)]\tLoss: 0.540380\tR: 0.551733\n",
      "Train Epoch: 5 [39360/58829 (67%)]\tLoss: 0.424804\tR: 0.462006\n",
      "Train Epoch: 5 [39680/58829 (67%)]\tLoss: 0.437528\tR: 0.223511\n",
      "Train Epoch: 5 [40000/58829 (68%)]\tLoss: 1.360003\tR: 0.193120\n",
      "Train Epoch: 5 [40320/58829 (69%)]\tLoss: 0.257839\tR: 0.668018\n",
      "Train Epoch: 5 [40640/58829 (69%)]\tLoss: 1.309613\tR: 0.282213\n",
      "Train Epoch: 5 [40960/58829 (70%)]\tLoss: 1.040074\tR: 0.354727\n",
      "Train Epoch: 5 [41280/58829 (70%)]\tLoss: 0.572358\tR: 0.517429\n",
      "Train Epoch: 5 [41600/58829 (71%)]\tLoss: 0.654683\tR: 0.495682\n",
      "Train Epoch: 5 [41920/58829 (71%)]\tLoss: 0.533193\tR: 0.252523\n",
      "Train Epoch: 5 [42240/58829 (72%)]\tLoss: 0.369106\tR: 0.618762\n",
      "Train Epoch: 5 [42560/58829 (72%)]\tLoss: 1.187306\tR: 0.070388\n",
      "Train Epoch: 5 [42880/58829 (73%)]\tLoss: 0.655759\tR: 0.136002\n",
      "Train Epoch: 5 [43200/58829 (73%)]\tLoss: 0.276404\tR: 0.565016\n",
      "Train Epoch: 5 [43520/58829 (74%)]\tLoss: 1.629397\tR: 0.288165\n",
      "Train Epoch: 5 [43840/58829 (75%)]\tLoss: 0.415233\tR: 0.210406\n",
      "Train Epoch: 5 [44160/58829 (75%)]\tLoss: 0.291128\tR: 0.673939\n",
      "Train Epoch: 5 [44480/58829 (76%)]\tLoss: 1.353379\tR: 0.225693\n",
      "Train Epoch: 5 [44800/58829 (76%)]\tLoss: 0.801442\tR: 0.355577\n",
      "Train Epoch: 5 [45120/58829 (77%)]\tLoss: 0.553594\tR: 0.413748\n",
      "Train Epoch: 5 [45440/58829 (77%)]\tLoss: 0.248625\tR: 0.620087\n",
      "Train Epoch: 5 [45760/58829 (78%)]\tLoss: 1.329022\tR: 0.244207\n",
      "Train Epoch: 5 [46080/58829 (78%)]\tLoss: 0.405990\tR: 0.620682\n",
      "Train Epoch: 5 [46400/58829 (79%)]\tLoss: 0.300454\tR: 0.636813\n",
      "Train Epoch: 5 [46720/58829 (79%)]\tLoss: 0.620500\tR: 0.456490\n",
      "Train Epoch: 5 [47040/58829 (80%)]\tLoss: 0.388732\tR: 0.345083\n",
      "Train Epoch: 5 [47360/58829 (81%)]\tLoss: 0.705448\tR: 0.253769\n",
      "Train Epoch: 5 [47680/58829 (81%)]\tLoss: 1.256096\tR: 0.469696\n",
      "Train Epoch: 5 [48000/58829 (82%)]\tLoss: 1.395438\tR: 0.432075\n",
      "Train Epoch: 5 [48320/58829 (82%)]\tLoss: 1.429698\tR: 0.353175\n",
      "Train Epoch: 5 [48640/58829 (83%)]\tLoss: 2.307723\tR: 0.255137\n",
      "Train Epoch: 5 [48960/58829 (83%)]\tLoss: 0.812391\tR: 0.457139\n",
      "Train Epoch: 5 [49280/58829 (84%)]\tLoss: 0.323271\tR: 0.239295\n",
      "Train Epoch: 5 [49600/58829 (84%)]\tLoss: 1.269198\tR: 0.465234\n",
      "Train Epoch: 5 [49920/58829 (85%)]\tLoss: 1.555021\tR: 0.342987\n",
      "Train Epoch: 5 [50240/58829 (85%)]\tLoss: 0.576350\tR: 0.295057\n",
      "Train Epoch: 5 [50560/58829 (86%)]\tLoss: 2.253818\tR: 0.253015\n",
      "Train Epoch: 5 [50880/58829 (86%)]\tLoss: 0.632668\tR: 0.521061\n",
      "Train Epoch: 5 [51200/58829 (87%)]\tLoss: 0.446289\tR: 0.601128\n",
      "Train Epoch: 5 [51520/58829 (88%)]\tLoss: 0.439299\tR: 0.459449\n",
      "Train Epoch: 5 [51840/58829 (88%)]\tLoss: 0.538454\tR: 0.538388\n",
      "Train Epoch: 5 [52160/58829 (89%)]\tLoss: 0.361925\tR: 0.167231\n",
      "Train Epoch: 5 [52480/58829 (89%)]\tLoss: 0.405239\tR: 0.445472\n",
      "Train Epoch: 5 [52800/58829 (90%)]\tLoss: 0.407335\tR: 0.540976\n",
      "Train Epoch: 5 [53120/58829 (90%)]\tLoss: 0.368633\tR: 0.566574\n",
      "Train Epoch: 5 [53440/58829 (91%)]\tLoss: 0.353846\tR: 0.686228\n",
      "Train Epoch: 5 [53760/58829 (91%)]\tLoss: 0.577573\tR: 0.155596\n",
      "Train Epoch: 5 [54080/58829 (92%)]\tLoss: 0.430820\tR: 0.325290\n",
      "Train Epoch: 5 [54400/58829 (92%)]\tLoss: 0.288549\tR: 0.659441\n",
      "Train Epoch: 5 [54720/58829 (93%)]\tLoss: 1.528333\tR: 0.349747\n",
      "Train Epoch: 5 [55040/58829 (94%)]\tLoss: 0.407068\tR: 0.520135\n",
      "Train Epoch: 5 [55360/58829 (94%)]\tLoss: 2.451425\tR: 0.353359\n",
      "Train Epoch: 5 [55680/58829 (95%)]\tLoss: 0.386257\tR: 0.642244\n",
      "Train Epoch: 5 [56000/58829 (95%)]\tLoss: 3.583656\tR: 0.161554\n",
      "Train Epoch: 5 [56320/58829 (96%)]\tLoss: 1.350124\tR: 0.489179\n",
      "Train Epoch: 5 [56640/58829 (96%)]\tLoss: 0.711272\tR: 0.361525\n",
      "Train Epoch: 5 [56960/58829 (97%)]\tLoss: 0.431050\tR: 0.338798\n",
      "Train Epoch: 5 [57280/58829 (97%)]\tLoss: 1.305999\tR: 0.400887\n",
      "Train Epoch: 5 [57600/58829 (98%)]\tLoss: 0.357285\tR: 0.529777\n",
      "Train Epoch: 5 [57920/58829 (98%)]\tLoss: 0.238479\tR: 0.540535\n",
      "Train Epoch: 5 [58240/58829 (99%)]\tLoss: 0.628391\tR: 0.338099\n",
      "Train Epoch: 5 [58560/58829 (100%)]\tLoss: 0.332243\tR: 0.288961\n",
      "Validation: Loss: 0.700119\tR: 0.551418\n",
      "Best model updated.\n",
      "Train Epoch: 6 [0/58829 (0%)]\tLoss: 1.235660\tR: 0.369755\n",
      "Train Epoch: 6 [320/58829 (1%)]\tLoss: 0.938650\tR: 0.057436\n",
      "Train Epoch: 6 [640/58829 (1%)]\tLoss: 0.590248\tR: 0.321920\n",
      "Train Epoch: 6 [960/58829 (2%)]\tLoss: 0.344577\tR: 0.400164\n",
      "Train Epoch: 6 [1280/58829 (2%)]\tLoss: 0.485643\tR: 0.570340\n",
      "Train Epoch: 6 [1600/58829 (3%)]\tLoss: 1.125898\tR: 0.392644\n",
      "Train Epoch: 6 [1920/58829 (3%)]\tLoss: 0.267086\tR: 0.493005\n",
      "Train Epoch: 6 [2240/58829 (4%)]\tLoss: 1.493213\tR: 0.376918\n",
      "Train Epoch: 6 [2560/58829 (4%)]\tLoss: 0.706657\tR: 0.634814\n",
      "Train Epoch: 6 [2880/58829 (5%)]\tLoss: 0.560666\tR: 0.411244\n",
      "Train Epoch: 6 [3200/58829 (5%)]\tLoss: 0.528581\tR: 0.326003\n",
      "Train Epoch: 6 [3520/58829 (6%)]\tLoss: 0.437173\tR: 0.431364\n",
      "Train Epoch: 6 [3840/58829 (7%)]\tLoss: 0.614123\tR: 0.467479\n",
      "Train Epoch: 6 [4160/58829 (7%)]\tLoss: 0.408274\tR: 0.597682\n",
      "Train Epoch: 6 [4480/58829 (8%)]\tLoss: 2.114200\tR: 0.333793\n",
      "Train Epoch: 6 [4800/58829 (8%)]\tLoss: 1.415137\tR: 0.575548\n",
      "Train Epoch: 6 [5120/58829 (9%)]\tLoss: 2.101635\tR: 0.427329\n",
      "Train Epoch: 6 [5440/58829 (9%)]\tLoss: 0.313846\tR: 0.460186\n",
      "Train Epoch: 6 [5760/58829 (10%)]\tLoss: 0.576163\tR: 0.596193\n",
      "Train Epoch: 6 [6080/58829 (10%)]\tLoss: 0.285780\tR: 0.591096\n",
      "Train Epoch: 6 [6400/58829 (11%)]\tLoss: 0.405098\tR: 0.345296\n",
      "Train Epoch: 6 [6720/58829 (11%)]\tLoss: 0.477706\tR: 0.544162\n",
      "Train Epoch: 6 [7040/58829 (12%)]\tLoss: 0.606260\tR: 0.472565\n",
      "Train Epoch: 6 [7360/58829 (13%)]\tLoss: 1.339536\tR: 0.329361\n",
      "Train Epoch: 6 [7680/58829 (13%)]\tLoss: 1.303800\tR: 0.317989\n",
      "Train Epoch: 6 [8000/58829 (14%)]\tLoss: 0.558140\tR: 0.396879\n",
      "Train Epoch: 6 [8320/58829 (14%)]\tLoss: 0.982222\tR: 0.343722\n",
      "Train Epoch: 6 [8640/58829 (15%)]\tLoss: 0.513547\tR: 0.577919\n",
      "Train Epoch: 6 [8960/58829 (15%)]\tLoss: 0.725771\tR: 0.396710\n",
      "Train Epoch: 6 [9280/58829 (16%)]\tLoss: 0.301445\tR: 0.652413\n",
      "Train Epoch: 6 [9600/58829 (16%)]\tLoss: 0.885269\tR: 0.734276\n",
      "Train Epoch: 6 [9920/58829 (17%)]\tLoss: 0.329220\tR: 0.573925\n",
      "Train Epoch: 6 [10240/58829 (17%)]\tLoss: 0.415934\tR: 0.440594\n",
      "Train Epoch: 6 [10560/58829 (18%)]\tLoss: 0.312573\tR: 0.098575\n",
      "Train Epoch: 6 [10880/58829 (18%)]\tLoss: 0.428958\tR: 0.607478\n",
      "Train Epoch: 6 [11200/58829 (19%)]\tLoss: 0.441023\tR: 0.617272\n",
      "Train Epoch: 6 [11520/58829 (20%)]\tLoss: 1.365662\tR: 0.484283\n",
      "Train Epoch: 6 [11840/58829 (20%)]\tLoss: 0.420262\tR: 0.415280\n",
      "Train Epoch: 6 [12160/58829 (21%)]\tLoss: 0.441871\tR: 0.611462\n",
      "Train Epoch: 6 [12480/58829 (21%)]\tLoss: 1.577167\tR: 0.770365\n",
      "Train Epoch: 6 [12800/58829 (22%)]\tLoss: 0.390851\tR: 0.564722\n",
      "Train Epoch: 6 [13120/58829 (22%)]\tLoss: 0.623727\tR: 0.346998\n",
      "Train Epoch: 6 [13440/58829 (23%)]\tLoss: 0.378499\tR: 0.743290\n",
      "Train Epoch: 6 [13760/58829 (23%)]\tLoss: 0.429563\tR: 0.285290\n",
      "Train Epoch: 6 [14080/58829 (24%)]\tLoss: 0.383679\tR: 0.590764\n",
      "Train Epoch: 6 [14400/58829 (24%)]\tLoss: 1.332383\tR: 0.488970\n",
      "Train Epoch: 6 [14720/58829 (25%)]\tLoss: 0.414114\tR: 0.508716\n",
      "Train Epoch: 6 [15040/58829 (26%)]\tLoss: 0.457724\tR: 0.593576\n",
      "Train Epoch: 6 [15360/58829 (26%)]\tLoss: 1.415515\tR: 0.331780\n",
      "Train Epoch: 6 [15680/58829 (27%)]\tLoss: 0.479677\tR: 0.590496\n",
      "Train Epoch: 6 [16000/58829 (27%)]\tLoss: 0.377583\tR: 0.645516\n",
      "Train Epoch: 6 [16320/58829 (28%)]\tLoss: 0.563765\tR: 0.494914\n",
      "Train Epoch: 6 [16640/58829 (28%)]\tLoss: 0.498403\tR: 0.632963\n",
      "Train Epoch: 6 [16960/58829 (29%)]\tLoss: 0.399422\tR: 0.443613\n",
      "Train Epoch: 6 [17280/58829 (29%)]\tLoss: 1.357785\tR: 0.203484\n",
      "Train Epoch: 6 [17600/58829 (30%)]\tLoss: 0.590785\tR: 0.459919\n",
      "Train Epoch: 6 [17920/58829 (30%)]\tLoss: 0.551485\tR: 0.731528\n",
      "Train Epoch: 6 [18240/58829 (31%)]\tLoss: 0.759364\tR: 0.319294\n",
      "Train Epoch: 6 [18560/58829 (32%)]\tLoss: 0.637538\tR: 0.456161\n",
      "Train Epoch: 6 [18880/58829 (32%)]\tLoss: 0.612846\tR: 0.528340\n",
      "Train Epoch: 6 [19200/58829 (33%)]\tLoss: 1.086083\tR: 0.513583\n",
      "Train Epoch: 6 [19520/58829 (33%)]\tLoss: 1.532911\tR: 0.375253\n",
      "Train Epoch: 6 [19840/58829 (34%)]\tLoss: 0.341698\tR: 0.544333\n",
      "Train Epoch: 6 [20160/58829 (34%)]\tLoss: 0.338571\tR: 0.658221\n",
      "Train Epoch: 6 [20480/58829 (35%)]\tLoss: 0.300505\tR: 0.620442\n",
      "Train Epoch: 6 [20800/58829 (35%)]\tLoss: 0.590105\tR: 0.324212\n",
      "Train Epoch: 6 [21120/58829 (36%)]\tLoss: 0.674148\tR: 0.282907\n",
      "Train Epoch: 6 [21440/58829 (36%)]\tLoss: 0.528554\tR: 0.548809\n",
      "Train Epoch: 6 [21760/58829 (37%)]\tLoss: 0.987111\tR: 0.415749\n",
      "Train Epoch: 6 [22080/58829 (38%)]\tLoss: 0.317747\tR: 0.571857\n",
      "Train Epoch: 6 [22400/58829 (38%)]\tLoss: 0.414408\tR: 0.514031\n",
      "Train Epoch: 6 [22720/58829 (39%)]\tLoss: 0.293708\tR: 0.446670\n",
      "Train Epoch: 6 [23040/58829 (39%)]\tLoss: 1.572302\tR: 0.490741\n",
      "Train Epoch: 6 [23360/58829 (40%)]\tLoss: 0.442546\tR: 0.651206\n",
      "Train Epoch: 6 [23680/58829 (40%)]\tLoss: 0.339776\tR: 0.798767\n",
      "Train Epoch: 6 [24000/58829 (41%)]\tLoss: 0.346113\tR: 0.666396\n",
      "Train Epoch: 6 [24320/58829 (41%)]\tLoss: 2.395116\tR: 0.309493\n",
      "Train Epoch: 6 [24640/58829 (42%)]\tLoss: 0.205334\tR: 0.739117\n",
      "Train Epoch: 6 [24960/58829 (42%)]\tLoss: 0.322398\tR: 0.348626\n",
      "Train Epoch: 6 [25280/58829 (43%)]\tLoss: 1.315164\tR: 0.553832\n",
      "Train Epoch: 6 [25600/58829 (44%)]\tLoss: 0.329052\tR: 0.735269\n",
      "Train Epoch: 6 [25920/58829 (44%)]\tLoss: 0.294347\tR: 0.701833\n",
      "Train Epoch: 6 [26240/58829 (45%)]\tLoss: 0.532857\tR: 0.673816\n",
      "Train Epoch: 6 [26560/58829 (45%)]\tLoss: 0.348207\tR: 0.392900\n",
      "Train Epoch: 6 [26880/58829 (46%)]\tLoss: 0.308419\tR: 0.726021\n",
      "Train Epoch: 6 [27200/58829 (46%)]\tLoss: 1.274972\tR: 0.342194\n",
      "Train Epoch: 6 [27520/58829 (47%)]\tLoss: 0.305433\tR: 0.445663\n",
      "Train Epoch: 6 [27840/58829 (47%)]\tLoss: 0.590466\tR: 0.493540\n",
      "Train Epoch: 6 [28160/58829 (48%)]\tLoss: 1.234353\tR: 0.300325\n",
      "Train Epoch: 6 [28480/58829 (48%)]\tLoss: 1.163785\tR: 0.436903\n",
      "Train Epoch: 6 [28800/58829 (49%)]\tLoss: 0.610031\tR: 0.432035\n",
      "Train Epoch: 6 [29120/58829 (49%)]\tLoss: 2.010053\tR: 0.415744\n",
      "Train Epoch: 6 [29440/58829 (50%)]\tLoss: 0.553848\tR: 0.182779\n",
      "Train Epoch: 6 [29760/58829 (51%)]\tLoss: 0.752282\tR: 0.244573\n",
      "Train Epoch: 6 [30080/58829 (51%)]\tLoss: 2.032315\tR: 0.569789\n",
      "Train Epoch: 6 [30400/58829 (52%)]\tLoss: 2.176903\tR: 0.384866\n",
      "Train Epoch: 6 [30720/58829 (52%)]\tLoss: 0.455882\tR: 0.553344\n",
      "Train Epoch: 6 [31040/58829 (53%)]\tLoss: 0.389695\tR: 0.617070\n",
      "Train Epoch: 6 [31360/58829 (53%)]\tLoss: 0.513116\tR: 0.164205\n",
      "Train Epoch: 6 [31680/58829 (54%)]\tLoss: 0.442866\tR: 0.374341\n",
      "Train Epoch: 6 [32000/58829 (54%)]\tLoss: 0.418938\tR: 0.231821\n",
      "Train Epoch: 6 [32320/58829 (55%)]\tLoss: 0.645865\tR: 0.208667\n",
      "Train Epoch: 6 [32640/58829 (55%)]\tLoss: 1.378530\tR: 0.474354\n",
      "Train Epoch: 6 [32960/58829 (56%)]\tLoss: 1.070014\tR: 0.588235\n",
      "Train Epoch: 6 [33280/58829 (57%)]\tLoss: 0.612511\tR: 0.225171\n",
      "Train Epoch: 6 [33600/58829 (57%)]\tLoss: 1.074090\tR: 0.563704\n",
      "Train Epoch: 6 [33920/58829 (58%)]\tLoss: 0.616361\tR: 0.310621\n",
      "Train Epoch: 6 [34240/58829 (58%)]\tLoss: 0.581919\tR: 0.435671\n",
      "Train Epoch: 6 [34560/58829 (59%)]\tLoss: 0.449916\tR: 0.522108\n",
      "Train Epoch: 6 [34880/58829 (59%)]\tLoss: 0.613515\tR: 0.530408\n",
      "Train Epoch: 6 [35200/58829 (60%)]\tLoss: 0.314774\tR: 0.679709\n",
      "Train Epoch: 6 [35520/58829 (60%)]\tLoss: 0.382258\tR: 0.535618\n",
      "Train Epoch: 6 [35840/58829 (61%)]\tLoss: 1.068655\tR: 0.537023\n",
      "Train Epoch: 6 [36160/58829 (61%)]\tLoss: 0.435875\tR: 0.373224\n",
      "Train Epoch: 6 [36480/58829 (62%)]\tLoss: 0.555178\tR: 0.331351\n",
      "Train Epoch: 6 [36800/58829 (63%)]\tLoss: 0.465171\tR: 0.308955\n",
      "Train Epoch: 6 [37120/58829 (63%)]\tLoss: 0.375190\tR: 0.505297\n",
      "Train Epoch: 6 [37440/58829 (64%)]\tLoss: 0.322929\tR: 0.579065\n",
      "Train Epoch: 6 [37760/58829 (64%)]\tLoss: 1.112477\tR: 0.018569\n",
      "Train Epoch: 6 [38080/58829 (65%)]\tLoss: 1.419614\tR: 0.458668\n",
      "Train Epoch: 6 [38400/58829 (65%)]\tLoss: 0.332486\tR: 0.661455\n",
      "Train Epoch: 6 [38720/58829 (66%)]\tLoss: 1.758284\tR: 0.323758\n",
      "Train Epoch: 6 [39040/58829 (66%)]\tLoss: 0.201130\tR: 0.722215\n",
      "Train Epoch: 6 [39360/58829 (67%)]\tLoss: 0.539081\tR: 0.649520\n",
      "Train Epoch: 6 [39680/58829 (67%)]\tLoss: 0.711647\tR: 0.523228\n",
      "Train Epoch: 6 [40000/58829 (68%)]\tLoss: 0.421805\tR: 0.471736\n",
      "Train Epoch: 6 [40320/58829 (69%)]\tLoss: 0.367512\tR: 0.661642\n",
      "Train Epoch: 6 [40640/58829 (69%)]\tLoss: 0.924448\tR: 0.348536\n",
      "Train Epoch: 6 [40960/58829 (70%)]\tLoss: 0.345226\tR: 0.563385\n",
      "Train Epoch: 6 [41280/58829 (70%)]\tLoss: 0.355587\tR: 0.487770\n",
      "Train Epoch: 6 [41600/58829 (71%)]\tLoss: 0.266445\tR: 0.374316\n",
      "Train Epoch: 6 [41920/58829 (71%)]\tLoss: 0.467881\tR: 0.464665\n",
      "Train Epoch: 6 [42240/58829 (72%)]\tLoss: 1.305557\tR: 0.382678\n",
      "Train Epoch: 6 [42560/58829 (72%)]\tLoss: 1.200945\tR: 0.501604\n",
      "Train Epoch: 6 [42880/58829 (73%)]\tLoss: 0.476732\tR: 0.328815\n",
      "Train Epoch: 6 [43200/58829 (73%)]\tLoss: 1.312940\tR: 0.304925\n",
      "Train Epoch: 6 [43520/58829 (74%)]\tLoss: 1.322540\tR: 0.329974\n",
      "Train Epoch: 6 [43840/58829 (75%)]\tLoss: 0.326700\tR: 0.570669\n",
      "Train Epoch: 6 [44160/58829 (75%)]\tLoss: 1.208540\tR: 0.330634\n",
      "Train Epoch: 6 [44480/58829 (76%)]\tLoss: 0.448670\tR: 0.460992\n",
      "Train Epoch: 6 [44800/58829 (76%)]\tLoss: 0.335226\tR: 0.591312\n",
      "Train Epoch: 6 [45120/58829 (77%)]\tLoss: 0.289862\tR: 0.457093\n",
      "Train Epoch: 6 [45440/58829 (77%)]\tLoss: 0.293028\tR: 0.625366\n",
      "Train Epoch: 6 [45760/58829 (78%)]\tLoss: 1.378967\tR: 0.409980\n",
      "Train Epoch: 6 [46080/58829 (78%)]\tLoss: 1.271177\tR: 0.436498\n",
      "Train Epoch: 6 [46400/58829 (79%)]\tLoss: 1.363281\tR: 0.436925\n",
      "Train Epoch: 6 [46720/58829 (79%)]\tLoss: 0.513597\tR: 0.447604\n",
      "Train Epoch: 6 [47040/58829 (80%)]\tLoss: 1.424217\tR: 0.184707\n",
      "Train Epoch: 6 [47360/58829 (81%)]\tLoss: 0.540455\tR: 0.354290\n",
      "Train Epoch: 6 [47680/58829 (81%)]\tLoss: 0.765726\tR: 0.320706\n",
      "Train Epoch: 6 [48000/58829 (82%)]\tLoss: 0.654208\tR: 0.586764\n",
      "Train Epoch: 6 [48320/58829 (82%)]\tLoss: 1.874880\tR: -0.040467\n",
      "Train Epoch: 6 [48640/58829 (83%)]\tLoss: 0.798717\tR: 0.349954\n",
      "Train Epoch: 6 [48960/58829 (83%)]\tLoss: 0.471579\tR: 0.481172\n",
      "Train Epoch: 6 [49280/58829 (84%)]\tLoss: 0.759313\tR: 0.420350\n",
      "Train Epoch: 6 [49600/58829 (84%)]\tLoss: 1.302774\tR: 0.280670\n",
      "Train Epoch: 6 [49920/58829 (85%)]\tLoss: 0.374047\tR: 0.594846\n",
      "Train Epoch: 6 [50240/58829 (85%)]\tLoss: 0.350978\tR: 0.706097\n",
      "Train Epoch: 6 [50560/58829 (86%)]\tLoss: 0.295317\tR: 0.627002\n",
      "Train Epoch: 6 [50880/58829 (86%)]\tLoss: 0.594271\tR: 0.721759\n",
      "Train Epoch: 6 [51200/58829 (87%)]\tLoss: 0.374876\tR: 0.448839\n",
      "Train Epoch: 6 [51520/58829 (88%)]\tLoss: 0.446738\tR: 0.526583\n",
      "Train Epoch: 6 [51840/58829 (88%)]\tLoss: 1.329659\tR: 0.618675\n",
      "Train Epoch: 6 [52160/58829 (89%)]\tLoss: 0.727297\tR: 0.642307\n",
      "Train Epoch: 6 [52480/58829 (89%)]\tLoss: 0.486203\tR: 0.404392\n",
      "Train Epoch: 6 [52800/58829 (90%)]\tLoss: 0.677835\tR: 0.439398\n",
      "Train Epoch: 6 [53120/58829 (90%)]\tLoss: 0.467299\tR: 0.527100\n",
      "Train Epoch: 6 [53440/58829 (91%)]\tLoss: 0.605069\tR: 0.581672\n",
      "Train Epoch: 6 [53760/58829 (91%)]\tLoss: 0.707441\tR: 0.617509\n",
      "Train Epoch: 6 [54080/58829 (92%)]\tLoss: 1.484481\tR: 0.219951\n",
      "Train Epoch: 6 [54400/58829 (92%)]\tLoss: 0.332073\tR: 0.408955\n",
      "Train Epoch: 6 [54720/58829 (93%)]\tLoss: 0.556790\tR: 0.403590\n",
      "Train Epoch: 6 [55040/58829 (94%)]\tLoss: 0.324513\tR: 0.471173\n",
      "Train Epoch: 6 [55360/58829 (94%)]\tLoss: 0.209898\tR: 0.572939\n",
      "Train Epoch: 6 [55680/58829 (95%)]\tLoss: 0.397454\tR: 0.603176\n",
      "Train Epoch: 6 [56000/58829 (95%)]\tLoss: 0.433613\tR: 0.552292\n",
      "Train Epoch: 6 [56320/58829 (96%)]\tLoss: 1.596280\tR: 0.061278\n",
      "Train Epoch: 6 [56640/58829 (96%)]\tLoss: 1.374397\tR: 0.063615\n",
      "Train Epoch: 6 [56960/58829 (97%)]\tLoss: 1.516732\tR: 0.378619\n",
      "Train Epoch: 6 [57280/58829 (97%)]\tLoss: 1.021585\tR: 0.561181\n",
      "Train Epoch: 6 [57600/58829 (98%)]\tLoss: 0.346346\tR: 0.677633\n",
      "Train Epoch: 6 [57920/58829 (98%)]\tLoss: 0.391290\tR: 0.438335\n",
      "Train Epoch: 6 [58240/58829 (99%)]\tLoss: 1.400915\tR: 0.595303\n",
      "Train Epoch: 6 [58560/58829 (100%)]\tLoss: 1.198546\tR: 0.213896\n",
      "Validation: Loss: 0.693111\tR: 0.561540\n",
      "Best model updated.\n",
      "Train Epoch: 7 [0/58829 (0%)]\tLoss: 0.305248\tR: 0.494327\n",
      "Train Epoch: 7 [320/58829 (1%)]\tLoss: 0.752986\tR: 0.393472\n",
      "Train Epoch: 7 [640/58829 (1%)]\tLoss: 0.562296\tR: 0.539603\n",
      "Train Epoch: 7 [960/58829 (2%)]\tLoss: 1.436998\tR: 0.225614\n",
      "Train Epoch: 7 [1280/58829 (2%)]\tLoss: 1.512990\tR: 0.174424\n",
      "Train Epoch: 7 [1600/58829 (3%)]\tLoss: 0.406663\tR: 0.512596\n",
      "Train Epoch: 7 [1920/58829 (3%)]\tLoss: 2.434786\tR: 0.293442\n",
      "Train Epoch: 7 [2240/58829 (4%)]\tLoss: 0.387501\tR: 0.615771\n",
      "Train Epoch: 7 [2560/58829 (4%)]\tLoss: 0.591365\tR: 0.541051\n",
      "Train Epoch: 7 [2880/58829 (5%)]\tLoss: 0.467463\tR: 0.499276\n",
      "Train Epoch: 7 [3200/58829 (5%)]\tLoss: 0.298851\tR: 0.592155\n",
      "Train Epoch: 7 [3520/58829 (6%)]\tLoss: 1.252212\tR: 0.525343\n",
      "Train Epoch: 7 [3840/58829 (7%)]\tLoss: 0.613777\tR: 0.539575\n",
      "Train Epoch: 7 [4160/58829 (7%)]\tLoss: 0.803798\tR: 0.349750\n",
      "Train Epoch: 7 [4480/58829 (8%)]\tLoss: 0.511585\tR: 0.512527\n",
      "Train Epoch: 7 [4800/58829 (8%)]\tLoss: 0.429623\tR: 0.548149\n",
      "Train Epoch: 7 [5120/58829 (9%)]\tLoss: 1.432383\tR: 0.432234\n",
      "Train Epoch: 7 [5440/58829 (9%)]\tLoss: 0.733568\tR: 0.631411\n",
      "Train Epoch: 7 [5760/58829 (10%)]\tLoss: 0.461386\tR: 0.519683\n",
      "Train Epoch: 7 [6080/58829 (10%)]\tLoss: 1.318064\tR: 0.478059\n",
      "Train Epoch: 7 [6400/58829 (11%)]\tLoss: 0.418386\tR: 0.657888\n",
      "Train Epoch: 7 [6720/58829 (11%)]\tLoss: 0.731146\tR: 0.535715\n",
      "Train Epoch: 7 [7040/58829 (12%)]\tLoss: 1.210559\tR: 0.439280\n",
      "Train Epoch: 7 [7360/58829 (13%)]\tLoss: 1.536343\tR: 0.363968\n",
      "Train Epoch: 7 [7680/58829 (13%)]\tLoss: 1.300613\tR: 0.431600\n",
      "Train Epoch: 7 [8000/58829 (14%)]\tLoss: 0.323615\tR: 0.510418\n",
      "Train Epoch: 7 [8320/58829 (14%)]\tLoss: 1.314569\tR: 0.238469\n",
      "Train Epoch: 7 [8640/58829 (15%)]\tLoss: 0.553510\tR: 0.307901\n",
      "Train Epoch: 7 [8960/58829 (15%)]\tLoss: 1.232414\tR: 0.411039\n",
      "Train Epoch: 7 [9280/58829 (16%)]\tLoss: 1.478053\tR: 0.333564\n",
      "Train Epoch: 7 [9600/58829 (16%)]\tLoss: 0.948226\tR: 0.736510\n",
      "Train Epoch: 7 [9920/58829 (17%)]\tLoss: 0.526590\tR: 0.591261\n",
      "Train Epoch: 7 [10240/58829 (17%)]\tLoss: 0.262389\tR: 0.776263\n",
      "Train Epoch: 7 [10560/58829 (18%)]\tLoss: 1.151514\tR: 0.440090\n",
      "Train Epoch: 7 [10880/58829 (18%)]\tLoss: 1.227941\tR: 0.542688\n",
      "Train Epoch: 7 [11200/58829 (19%)]\tLoss: 0.536355\tR: 0.396522\n",
      "Train Epoch: 7 [11520/58829 (20%)]\tLoss: 0.287807\tR: 0.598478\n",
      "Train Epoch: 7 [11840/58829 (20%)]\tLoss: 1.334387\tR: 0.383871\n",
      "Train Epoch: 7 [12160/58829 (21%)]\tLoss: 0.360534\tR: 0.728356\n",
      "Train Epoch: 7 [12480/58829 (21%)]\tLoss: 0.514340\tR: 0.455166\n",
      "Train Epoch: 7 [12800/58829 (22%)]\tLoss: 1.103102\tR: 0.670010\n",
      "Train Epoch: 7 [13120/58829 (22%)]\tLoss: 0.454933\tR: 0.717315\n",
      "Train Epoch: 7 [13440/58829 (23%)]\tLoss: 1.362088\tR: 0.280073\n",
      "Train Epoch: 7 [13760/58829 (23%)]\tLoss: 0.650123\tR: 0.623109\n",
      "Train Epoch: 7 [14080/58829 (24%)]\tLoss: 0.560733\tR: 0.498366\n",
      "Train Epoch: 7 [14400/58829 (24%)]\tLoss: 2.120869\tR: 0.683269\n",
      "Train Epoch: 7 [14720/58829 (25%)]\tLoss: 0.607530\tR: 0.517017\n",
      "Train Epoch: 7 [15040/58829 (26%)]\tLoss: 0.795520\tR: 0.521976\n",
      "Train Epoch: 7 [15360/58829 (26%)]\tLoss: 0.410284\tR: 0.486270\n",
      "Train Epoch: 7 [15680/58829 (27%)]\tLoss: 0.275863\tR: 0.559488\n",
      "Train Epoch: 7 [16000/58829 (27%)]\tLoss: 0.573744\tR: 0.361630\n",
      "Train Epoch: 7 [16320/58829 (28%)]\tLoss: 0.447745\tR: 0.804032\n",
      "Train Epoch: 7 [16640/58829 (28%)]\tLoss: 1.212194\tR: 0.294595\n",
      "Train Epoch: 7 [16960/58829 (29%)]\tLoss: 1.197990\tR: 0.519479\n",
      "Train Epoch: 7 [17280/58829 (29%)]\tLoss: 0.605707\tR: 0.353618\n",
      "Train Epoch: 7 [17600/58829 (30%)]\tLoss: 1.325056\tR: 0.278076\n",
      "Train Epoch: 7 [17920/58829 (30%)]\tLoss: 0.544767\tR: 0.530207\n",
      "Train Epoch: 7 [18240/58829 (31%)]\tLoss: 0.976855\tR: 0.555334\n",
      "Train Epoch: 7 [18560/58829 (32%)]\tLoss: 0.233825\tR: 0.494022\n",
      "Train Epoch: 7 [18880/58829 (32%)]\tLoss: 0.457134\tR: 0.500216\n",
      "Train Epoch: 7 [19200/58829 (33%)]\tLoss: 0.986066\tR: 0.809561\n",
      "Train Epoch: 7 [19520/58829 (33%)]\tLoss: 0.523494\tR: 0.413848\n",
      "Train Epoch: 7 [19840/58829 (34%)]\tLoss: 0.493554\tR: 0.592532\n",
      "Train Epoch: 7 [20160/58829 (34%)]\tLoss: 1.325483\tR: 0.480951\n",
      "Train Epoch: 7 [20480/58829 (35%)]\tLoss: 0.462521\tR: 0.554937\n",
      "Train Epoch: 7 [20800/58829 (35%)]\tLoss: 0.764711\tR: 0.245572\n",
      "Train Epoch: 7 [21120/58829 (36%)]\tLoss: 1.493273\tR: 0.301843\n",
      "Train Epoch: 7 [21440/58829 (36%)]\tLoss: 0.573990\tR: 0.468480\n",
      "Train Epoch: 7 [21760/58829 (37%)]\tLoss: 1.351955\tR: 0.303731\n",
      "Train Epoch: 7 [22080/58829 (38%)]\tLoss: 0.657555\tR: 0.417253\n",
      "Train Epoch: 7 [22400/58829 (38%)]\tLoss: 0.382448\tR: 0.316946\n",
      "Train Epoch: 7 [22720/58829 (39%)]\tLoss: 1.566405\tR: 0.327889\n",
      "Train Epoch: 7 [23040/58829 (39%)]\tLoss: 0.336040\tR: 0.451900\n",
      "Train Epoch: 7 [23360/58829 (40%)]\tLoss: 0.342511\tR: 0.559474\n",
      "Train Epoch: 7 [23680/58829 (40%)]\tLoss: 0.678294\tR: 0.466523\n",
      "Train Epoch: 7 [24000/58829 (41%)]\tLoss: 0.375615\tR: 0.585436\n",
      "Train Epoch: 7 [24320/58829 (41%)]\tLoss: 1.881789\tR: 0.271130\n",
      "Train Epoch: 7 [24640/58829 (42%)]\tLoss: 0.499008\tR: 0.388767\n",
      "Train Epoch: 7 [24960/58829 (42%)]\tLoss: 0.451373\tR: 0.524348\n",
      "Train Epoch: 7 [25280/58829 (43%)]\tLoss: 0.372912\tR: 0.497199\n",
      "Train Epoch: 7 [25600/58829 (44%)]\tLoss: 0.968749\tR: 0.570116\n",
      "Train Epoch: 7 [25920/58829 (44%)]\tLoss: 0.447170\tR: 0.381654\n",
      "Train Epoch: 7 [26240/58829 (45%)]\tLoss: 1.651360\tR: 0.321476\n",
      "Train Epoch: 7 [26560/58829 (45%)]\tLoss: 0.228415\tR: 0.684091\n",
      "Train Epoch: 7 [26880/58829 (46%)]\tLoss: 0.303350\tR: 0.437374\n",
      "Train Epoch: 7 [27200/58829 (46%)]\tLoss: 0.582875\tR: 0.504398\n",
      "Train Epoch: 7 [27520/58829 (47%)]\tLoss: 0.407264\tR: 0.115354\n",
      "Train Epoch: 7 [27840/58829 (47%)]\tLoss: 1.709033\tR: 0.555997\n",
      "Train Epoch: 7 [28160/58829 (48%)]\tLoss: 1.101578\tR: 0.372316\n",
      "Train Epoch: 7 [28480/58829 (48%)]\tLoss: 0.372557\tR: 0.733626\n",
      "Train Epoch: 7 [28800/58829 (49%)]\tLoss: 0.400949\tR: 0.455236\n",
      "Train Epoch: 7 [29120/58829 (49%)]\tLoss: 0.500323\tR: 0.565597\n",
      "Train Epoch: 7 [29440/58829 (50%)]\tLoss: 1.295513\tR: 0.566410\n",
      "Train Epoch: 7 [29760/58829 (51%)]\tLoss: 0.533686\tR: 0.522842\n",
      "Train Epoch: 7 [30080/58829 (51%)]\tLoss: 0.358068\tR: 0.395289\n",
      "Train Epoch: 7 [30400/58829 (52%)]\tLoss: 0.137704\tR: 0.638839\n",
      "Train Epoch: 7 [30720/58829 (52%)]\tLoss: 1.338024\tR: 0.396172\n",
      "Train Epoch: 7 [31040/58829 (53%)]\tLoss: 0.559196\tR: 0.414823\n",
      "Train Epoch: 7 [31360/58829 (53%)]\tLoss: 1.189868\tR: 0.581040\n",
      "Train Epoch: 7 [31680/58829 (54%)]\tLoss: 0.457748\tR: 0.555854\n",
      "Train Epoch: 7 [32000/58829 (54%)]\tLoss: 0.349470\tR: 0.566957\n",
      "Train Epoch: 7 [32320/58829 (55%)]\tLoss: 0.387125\tR: 0.689191\n",
      "Train Epoch: 7 [32640/58829 (55%)]\tLoss: 0.457195\tR: 0.473960\n",
      "Train Epoch: 7 [32960/58829 (56%)]\tLoss: 0.943619\tR: 0.767161\n",
      "Train Epoch: 7 [33280/58829 (57%)]\tLoss: 1.168132\tR: 0.500186\n",
      "Train Epoch: 7 [33600/58829 (57%)]\tLoss: 0.410611\tR: 0.557112\n",
      "Train Epoch: 7 [33920/58829 (58%)]\tLoss: 0.307475\tR: 0.463180\n",
      "Train Epoch: 7 [34240/58829 (58%)]\tLoss: 0.468437\tR: 0.565729\n",
      "Train Epoch: 7 [34560/58829 (59%)]\tLoss: 1.347573\tR: 0.384164\n",
      "Train Epoch: 7 [34880/58829 (59%)]\tLoss: 0.517202\tR: 0.796627\n",
      "Train Epoch: 7 [35200/58829 (60%)]\tLoss: 0.349185\tR: 0.607310\n",
      "Train Epoch: 7 [35520/58829 (60%)]\tLoss: 0.674807\tR: 0.345721\n",
      "Train Epoch: 7 [35840/58829 (61%)]\tLoss: 0.759445\tR: 0.435358\n",
      "Train Epoch: 7 [36160/58829 (61%)]\tLoss: 0.343805\tR: 0.668729\n",
      "Train Epoch: 7 [36480/58829 (62%)]\tLoss: 0.431030\tR: 0.266997\n",
      "Train Epoch: 7 [36800/58829 (63%)]\tLoss: 1.524023\tR: 0.331079\n",
      "Train Epoch: 7 [37120/58829 (63%)]\tLoss: 0.357943\tR: 0.314107\n",
      "Train Epoch: 7 [37440/58829 (64%)]\tLoss: 0.244313\tR: 0.559326\n",
      "Train Epoch: 7 [37760/58829 (64%)]\tLoss: 0.709710\tR: 0.516180\n",
      "Train Epoch: 7 [38080/58829 (65%)]\tLoss: 1.167883\tR: 0.453974\n",
      "Train Epoch: 7 [38400/58829 (65%)]\tLoss: 0.504542\tR: 0.361517\n",
      "Train Epoch: 7 [38720/58829 (66%)]\tLoss: 0.469341\tR: 0.558147\n",
      "Train Epoch: 7 [39040/58829 (66%)]\tLoss: 0.515021\tR: 0.496049\n",
      "Train Epoch: 7 [39360/58829 (67%)]\tLoss: 0.336884\tR: 0.673951\n",
      "Train Epoch: 7 [39680/58829 (67%)]\tLoss: 0.425301\tR: 0.643096\n",
      "Train Epoch: 7 [40000/58829 (68%)]\tLoss: 1.589293\tR: 0.215407\n",
      "Train Epoch: 7 [40320/58829 (69%)]\tLoss: 1.176138\tR: 0.494321\n",
      "Train Epoch: 7 [40640/58829 (69%)]\tLoss: 2.337581\tR: 0.186022\n",
      "Train Epoch: 7 [40960/58829 (70%)]\tLoss: 0.231456\tR: 0.658932\n",
      "Train Epoch: 7 [41280/58829 (70%)]\tLoss: 0.335041\tR: 0.513917\n",
      "Train Epoch: 7 [41600/58829 (71%)]\tLoss: 0.422111\tR: 0.682614\n",
      "Train Epoch: 7 [41920/58829 (71%)]\tLoss: 1.140469\tR: 0.605701\n",
      "Train Epoch: 7 [42240/58829 (72%)]\tLoss: 0.559720\tR: 0.301970\n",
      "Train Epoch: 7 [42560/58829 (72%)]\tLoss: 1.495750\tR: 0.394540\n",
      "Train Epoch: 7 [42880/58829 (73%)]\tLoss: 1.445981\tR: 0.374470\n",
      "Train Epoch: 7 [43200/58829 (73%)]\tLoss: 1.203357\tR: 0.515152\n",
      "Train Epoch: 7 [43520/58829 (74%)]\tLoss: 0.309433\tR: 0.623606\n",
      "Train Epoch: 7 [43840/58829 (75%)]\tLoss: 1.998654\tR: 0.251684\n",
      "Train Epoch: 7 [44160/58829 (75%)]\tLoss: 0.536770\tR: 0.579188\n",
      "Train Epoch: 7 [44480/58829 (76%)]\tLoss: 0.596195\tR: 0.372549\n",
      "Train Epoch: 7 [44800/58829 (76%)]\tLoss: 0.460232\tR: 0.603308\n",
      "Train Epoch: 7 [45120/58829 (77%)]\tLoss: 2.229790\tR: 0.464020\n",
      "Train Epoch: 7 [45440/58829 (77%)]\tLoss: 0.499272\tR: 0.519369\n",
      "Train Epoch: 7 [45760/58829 (78%)]\tLoss: 0.348660\tR: 0.596269\n",
      "Train Epoch: 7 [46080/58829 (78%)]\tLoss: 0.387858\tR: 0.510550\n",
      "Train Epoch: 7 [46400/58829 (79%)]\tLoss: 0.329759\tR: 0.702073\n",
      "Train Epoch: 7 [46720/58829 (79%)]\tLoss: 0.573798\tR: 0.500586\n",
      "Train Epoch: 7 [47040/58829 (80%)]\tLoss: 0.452562\tR: 0.509567\n",
      "Train Epoch: 7 [47360/58829 (81%)]\tLoss: 1.389592\tR: 0.283651\n",
      "Train Epoch: 7 [47680/58829 (81%)]\tLoss: 0.500895\tR: 0.358819\n",
      "Train Epoch: 7 [48000/58829 (82%)]\tLoss: 0.344046\tR: 0.530848\n",
      "Train Epoch: 7 [48320/58829 (82%)]\tLoss: 1.153717\tR: 0.436668\n",
      "Train Epoch: 7 [48640/58829 (83%)]\tLoss: 1.207987\tR: 0.545288\n",
      "Train Epoch: 7 [48960/58829 (83%)]\tLoss: 0.407855\tR: 0.348338\n",
      "Train Epoch: 7 [49280/58829 (84%)]\tLoss: 0.166829\tR: 0.783334\n",
      "Train Epoch: 7 [49600/58829 (84%)]\tLoss: 0.476057\tR: 0.421842\n",
      "Train Epoch: 7 [49920/58829 (85%)]\tLoss: 1.334459\tR: 0.442735\n",
      "Train Epoch: 7 [50240/58829 (85%)]\tLoss: 1.406410\tR: 0.211170\n",
      "Train Epoch: 7 [50560/58829 (86%)]\tLoss: 1.414815\tR: 0.279434\n",
      "Train Epoch: 7 [50880/58829 (86%)]\tLoss: 0.377611\tR: 0.595482\n",
      "Train Epoch: 7 [51200/58829 (87%)]\tLoss: 0.372882\tR: 0.454496\n",
      "Train Epoch: 7 [51520/58829 (88%)]\tLoss: 0.851319\tR: -0.016872\n",
      "Train Epoch: 7 [51840/58829 (88%)]\tLoss: 0.369331\tR: 0.680141\n",
      "Train Epoch: 7 [52160/58829 (89%)]\tLoss: 0.251580\tR: 0.648660\n",
      "Train Epoch: 7 [52480/58829 (89%)]\tLoss: 1.686495\tR: 0.209489\n",
      "Train Epoch: 7 [52800/58829 (90%)]\tLoss: 0.488045\tR: 0.383162\n",
      "Train Epoch: 7 [53120/58829 (90%)]\tLoss: 0.607689\tR: 0.447622\n",
      "Train Epoch: 7 [53440/58829 (91%)]\tLoss: 0.181792\tR: 0.532218\n",
      "Train Epoch: 7 [53760/58829 (91%)]\tLoss: 0.420654\tR: 0.514560\n",
      "Train Epoch: 7 [54080/58829 (92%)]\tLoss: 0.660534\tR: 0.402235\n",
      "Train Epoch: 7 [54400/58829 (92%)]\tLoss: 1.173759\tR: 0.751455\n",
      "Train Epoch: 7 [54720/58829 (93%)]\tLoss: 1.144434\tR: 0.189040\n",
      "Train Epoch: 7 [55040/58829 (94%)]\tLoss: 0.424255\tR: 0.582838\n",
      "Train Epoch: 7 [55360/58829 (94%)]\tLoss: 0.474387\tR: 0.594426\n",
      "Train Epoch: 7 [55680/58829 (95%)]\tLoss: 0.852441\tR: 0.529030\n",
      "Train Epoch: 7 [56000/58829 (95%)]\tLoss: 0.360067\tR: 0.675372\n",
      "Train Epoch: 7 [56320/58829 (96%)]\tLoss: 0.415724\tR: 0.427047\n",
      "Train Epoch: 7 [56640/58829 (96%)]\tLoss: 0.584376\tR: 0.590960\n",
      "Train Epoch: 7 [56960/58829 (97%)]\tLoss: 0.582123\tR: 0.072859\n",
      "Train Epoch: 7 [57280/58829 (97%)]\tLoss: 1.435893\tR: 0.147606\n",
      "Train Epoch: 7 [57600/58829 (98%)]\tLoss: 0.959840\tR: 0.244957\n",
      "Train Epoch: 7 [57920/58829 (98%)]\tLoss: 0.506860\tR: 0.571953\n",
      "Train Epoch: 7 [58240/58829 (99%)]\tLoss: 0.262093\tR: 0.650111\n",
      "Train Epoch: 7 [58560/58829 (100%)]\tLoss: 0.503281\tR: 0.465518\n",
      "Validation: Loss: 0.722671\tR: 0.547316\n",
      "Train Epoch: 8 [0/58829 (0%)]\tLoss: 0.280903\tR: 0.622624\n",
      "Train Epoch: 8 [320/58829 (1%)]\tLoss: 1.442002\tR: 0.398028\n",
      "Train Epoch: 8 [640/58829 (1%)]\tLoss: 0.404801\tR: 0.689324\n",
      "Train Epoch: 8 [960/58829 (2%)]\tLoss: 1.292268\tR: 0.361795\n",
      "Train Epoch: 8 [1280/58829 (2%)]\tLoss: 0.704049\tR: 0.434174\n",
      "Train Epoch: 8 [1600/58829 (3%)]\tLoss: 0.727645\tR: 0.449606\n",
      "Train Epoch: 8 [1920/58829 (3%)]\tLoss: 0.383007\tR: 0.626593\n",
      "Train Epoch: 8 [2240/58829 (4%)]\tLoss: 0.409274\tR: 0.304162\n",
      "Train Epoch: 8 [2560/58829 (4%)]\tLoss: 0.858344\tR: 0.742323\n",
      "Train Epoch: 8 [2880/58829 (5%)]\tLoss: 0.305552\tR: 0.487359\n",
      "Train Epoch: 8 [3200/58829 (5%)]\tLoss: 0.443394\tR: 0.645794\n",
      "Train Epoch: 8 [3520/58829 (6%)]\tLoss: 0.488843\tR: 0.616684\n",
      "Train Epoch: 8 [3840/58829 (7%)]\tLoss: 1.000408\tR: 0.695864\n",
      "Train Epoch: 8 [4160/58829 (7%)]\tLoss: 0.245376\tR: 0.539777\n",
      "Train Epoch: 8 [4480/58829 (8%)]\tLoss: 0.328152\tR: 0.429191\n",
      "Train Epoch: 8 [4800/58829 (8%)]\tLoss: 0.352544\tR: 0.674277\n",
      "Train Epoch: 8 [5120/58829 (9%)]\tLoss: 0.318749\tR: 0.497795\n",
      "Train Epoch: 8 [5440/58829 (9%)]\tLoss: 0.328636\tR: 0.500654\n",
      "Train Epoch: 8 [5760/58829 (10%)]\tLoss: 0.614725\tR: 0.383800\n",
      "Train Epoch: 8 [6080/58829 (10%)]\tLoss: 1.024257\tR: 0.534738\n",
      "Train Epoch: 8 [6400/58829 (11%)]\tLoss: 0.416864\tR: 0.628496\n",
      "Train Epoch: 8 [6720/58829 (11%)]\tLoss: 1.779905\tR: 0.316648\n",
      "Train Epoch: 8 [7040/58829 (12%)]\tLoss: 0.461059\tR: 0.524840\n",
      "Train Epoch: 8 [7360/58829 (13%)]\tLoss: 1.170210\tR: 0.573963\n",
      "Train Epoch: 8 [7680/58829 (13%)]\tLoss: 0.436657\tR: 0.361914\n",
      "Train Epoch: 8 [8000/58829 (14%)]\tLoss: 0.304475\tR: 0.715735\n",
      "Train Epoch: 8 [8320/58829 (14%)]\tLoss: 0.486819\tR: 0.543707\n",
      "Train Epoch: 8 [8640/58829 (15%)]\tLoss: 2.569304\tR: 0.084305\n",
      "Train Epoch: 8 [8960/58829 (15%)]\tLoss: 0.442154\tR: 0.577340\n",
      "Train Epoch: 8 [9280/58829 (16%)]\tLoss: 0.248245\tR: 0.738292\n",
      "Train Epoch: 8 [9600/58829 (16%)]\tLoss: 0.383164\tR: 0.627392\n",
      "Train Epoch: 8 [9920/58829 (17%)]\tLoss: 0.312879\tR: 0.633546\n",
      "Train Epoch: 8 [10240/58829 (17%)]\tLoss: 0.252335\tR: 0.738485\n",
      "Train Epoch: 8 [10560/58829 (18%)]\tLoss: 0.340015\tR: 0.320540\n",
      "Train Epoch: 8 [10880/58829 (18%)]\tLoss: 0.256659\tR: 0.724239\n",
      "Train Epoch: 8 [11200/58829 (19%)]\tLoss: 2.222342\tR: -0.220956\n",
      "Train Epoch: 8 [11520/58829 (20%)]\tLoss: 0.279999\tR: 0.408401\n",
      "Train Epoch: 8 [11840/58829 (20%)]\tLoss: 0.846116\tR: 0.051702\n",
      "Train Epoch: 8 [12160/58829 (21%)]\tLoss: 0.480495\tR: 0.492691\n",
      "Train Epoch: 8 [12480/58829 (21%)]\tLoss: 0.779182\tR: 0.301614\n",
      "Train Epoch: 8 [12800/58829 (22%)]\tLoss: 0.265117\tR: 0.641358\n",
      "Train Epoch: 8 [13120/58829 (22%)]\tLoss: 0.589675\tR: 0.494613\n",
      "Train Epoch: 8 [13440/58829 (23%)]\tLoss: 1.990421\tR: 0.512561\n",
      "Train Epoch: 8 [13760/58829 (23%)]\tLoss: 0.330744\tR: 0.633525\n",
      "Train Epoch: 8 [14080/58829 (24%)]\tLoss: 0.378318\tR: 0.613459\n",
      "Train Epoch: 8 [14400/58829 (24%)]\tLoss: 0.705362\tR: 0.358429\n",
      "Train Epoch: 8 [14720/58829 (25%)]\tLoss: 0.542137\tR: 0.423547\n",
      "Train Epoch: 8 [15040/58829 (26%)]\tLoss: 0.566992\tR: 0.488397\n",
      "Train Epoch: 8 [15360/58829 (26%)]\tLoss: 1.064611\tR: 0.605892\n",
      "Train Epoch: 8 [15680/58829 (27%)]\tLoss: 0.402031\tR: 0.541628\n",
      "Train Epoch: 8 [16000/58829 (27%)]\tLoss: 0.530733\tR: 0.124706\n",
      "Train Epoch: 8 [16320/58829 (28%)]\tLoss: 0.785323\tR: 0.728847\n",
      "Train Epoch: 8 [16640/58829 (28%)]\tLoss: 0.648464\tR: 0.426736\n",
      "Train Epoch: 8 [16960/58829 (29%)]\tLoss: 1.333878\tR: 0.318007\n",
      "Train Epoch: 8 [17280/58829 (29%)]\tLoss: 0.334298\tR: 0.439640\n",
      "Train Epoch: 8 [17600/58829 (30%)]\tLoss: 0.567152\tR: 0.305892\n",
      "Train Epoch: 8 [17920/58829 (30%)]\tLoss: 0.295041\tR: 0.516582\n",
      "Train Epoch: 8 [18240/58829 (31%)]\tLoss: 0.664492\tR: 0.297789\n",
      "Train Epoch: 8 [18560/58829 (32%)]\tLoss: 1.334225\tR: 0.537445\n",
      "Train Epoch: 8 [18880/58829 (32%)]\tLoss: 1.338908\tR: 0.373146\n",
      "Train Epoch: 8 [19200/58829 (33%)]\tLoss: 1.749385\tR: 0.574125\n",
      "Train Epoch: 8 [19520/58829 (33%)]\tLoss: 0.428134\tR: 0.390687\n",
      "Train Epoch: 8 [19840/58829 (34%)]\tLoss: 0.643944\tR: 0.521322\n",
      "Train Epoch: 8 [20160/58829 (34%)]\tLoss: 0.305047\tR: 0.644120\n",
      "Train Epoch: 8 [20480/58829 (35%)]\tLoss: 0.300615\tR: 0.566783\n",
      "Train Epoch: 8 [20800/58829 (35%)]\tLoss: 0.958446\tR: 0.486507\n",
      "Train Epoch: 8 [21120/58829 (36%)]\tLoss: 2.083911\tR: 0.440773\n",
      "Train Epoch: 8 [21440/58829 (36%)]\tLoss: 1.259231\tR: 0.597112\n",
      "Train Epoch: 8 [21760/58829 (37%)]\tLoss: 0.642760\tR: 0.543391\n",
      "Train Epoch: 8 [22080/58829 (38%)]\tLoss: 0.560281\tR: 0.268896\n",
      "Train Epoch: 8 [22400/58829 (38%)]\tLoss: 1.171812\tR: 0.295517\n",
      "Train Epoch: 8 [22720/58829 (39%)]\tLoss: 0.632339\tR: 0.266803\n",
      "Train Epoch: 8 [23040/58829 (39%)]\tLoss: 1.272042\tR: 0.278652\n",
      "Train Epoch: 8 [23360/58829 (40%)]\tLoss: 0.589600\tR: 0.463442\n",
      "Train Epoch: 8 [23680/58829 (40%)]\tLoss: 1.462119\tR: 0.206071\n",
      "Train Epoch: 8 [24000/58829 (41%)]\tLoss: 0.313743\tR: 0.610400\n",
      "Train Epoch: 8 [24320/58829 (41%)]\tLoss: 0.525301\tR: 0.193121\n",
      "Train Epoch: 8 [24640/58829 (42%)]\tLoss: 0.612659\tR: 0.600049\n",
      "Train Epoch: 8 [24960/58829 (42%)]\tLoss: 0.342350\tR: 0.614420\n",
      "Train Epoch: 8 [25280/58829 (43%)]\tLoss: 1.278067\tR: 0.429115\n",
      "Train Epoch: 8 [25600/58829 (44%)]\tLoss: 0.299626\tR: 0.497634\n",
      "Train Epoch: 8 [25920/58829 (44%)]\tLoss: 0.393365\tR: 0.672331\n",
      "Train Epoch: 8 [26240/58829 (45%)]\tLoss: 0.357316\tR: 0.328213\n",
      "Train Epoch: 8 [26560/58829 (45%)]\tLoss: 1.350680\tR: 0.235900\n",
      "Train Epoch: 8 [26880/58829 (46%)]\tLoss: 0.304010\tR: 0.317375\n",
      "Train Epoch: 8 [27200/58829 (46%)]\tLoss: 0.534040\tR: 0.444938\n",
      "Train Epoch: 8 [27520/58829 (47%)]\tLoss: 0.944201\tR: 0.306966\n",
      "Train Epoch: 8 [27840/58829 (47%)]\tLoss: 0.312533\tR: 0.590069\n",
      "Train Epoch: 8 [28160/58829 (48%)]\tLoss: 1.350610\tR: 0.509245\n",
      "Train Epoch: 8 [28480/58829 (48%)]\tLoss: 1.368722\tR: 0.405885\n",
      "Train Epoch: 8 [28800/58829 (49%)]\tLoss: 1.191502\tR: 0.509172\n",
      "Train Epoch: 8 [29120/58829 (49%)]\tLoss: 0.312627\tR: 0.373839\n",
      "Train Epoch: 8 [29440/58829 (50%)]\tLoss: 0.232867\tR: 0.807259\n",
      "Train Epoch: 8 [29760/58829 (51%)]\tLoss: 0.501317\tR: 0.444982\n",
      "Train Epoch: 8 [30080/58829 (51%)]\tLoss: 0.396666\tR: 0.661250\n",
      "Train Epoch: 8 [30400/58829 (52%)]\tLoss: 0.742885\tR: 0.355845\n",
      "Train Epoch: 8 [30720/58829 (52%)]\tLoss: 0.466301\tR: 0.540540\n",
      "Train Epoch: 8 [31040/58829 (53%)]\tLoss: 1.257549\tR: 0.283755\n",
      "Train Epoch: 8 [31360/58829 (53%)]\tLoss: 0.468776\tR: 0.494792\n",
      "Train Epoch: 8 [31680/58829 (54%)]\tLoss: 0.178188\tR: 0.678557\n",
      "Train Epoch: 8 [32000/58829 (54%)]\tLoss: 0.347732\tR: 0.627236\n",
      "Train Epoch: 8 [32320/58829 (55%)]\tLoss: 0.249455\tR: 0.634204\n",
      "Train Epoch: 8 [32640/58829 (55%)]\tLoss: 0.248833\tR: 0.373287\n",
      "Train Epoch: 8 [32960/58829 (56%)]\tLoss: 1.256208\tR: 0.355379\n",
      "Train Epoch: 8 [33280/58829 (57%)]\tLoss: 0.556555\tR: 0.508291\n",
      "Train Epoch: 8 [33600/58829 (57%)]\tLoss: 0.538553\tR: 0.513417\n",
      "Train Epoch: 8 [33920/58829 (58%)]\tLoss: 0.240182\tR: 0.668083\n",
      "Train Epoch: 8 [34240/58829 (58%)]\tLoss: 0.460768\tR: 0.498367\n",
      "Train Epoch: 8 [34560/58829 (59%)]\tLoss: 0.450925\tR: 0.502438\n",
      "Train Epoch: 8 [34880/58829 (59%)]\tLoss: 0.566026\tR: 0.421344\n",
      "Train Epoch: 8 [35200/58829 (60%)]\tLoss: 1.224602\tR: 0.326582\n",
      "Train Epoch: 8 [35520/58829 (60%)]\tLoss: 0.695581\tR: 0.433031\n",
      "Train Epoch: 8 [35840/58829 (61%)]\tLoss: 0.505545\tR: 0.535322\n",
      "Train Epoch: 8 [36160/58829 (61%)]\tLoss: 0.421721\tR: 0.574085\n",
      "Train Epoch: 8 [36480/58829 (62%)]\tLoss: 0.224678\tR: 0.665623\n",
      "Train Epoch: 8 [36800/58829 (63%)]\tLoss: 0.413435\tR: 0.280023\n",
      "Train Epoch: 8 [37120/58829 (63%)]\tLoss: 0.206564\tR: 0.480391\n",
      "Train Epoch: 8 [37440/58829 (64%)]\tLoss: 0.604484\tR: 0.202413\n",
      "Train Epoch: 8 [37760/58829 (64%)]\tLoss: 1.173151\tR: 0.383080\n",
      "Train Epoch: 8 [38080/58829 (65%)]\tLoss: 1.032514\tR: 0.543750\n",
      "Train Epoch: 8 [38400/58829 (65%)]\tLoss: 0.376905\tR: 0.479727\n",
      "Train Epoch: 8 [38720/58829 (66%)]\tLoss: 0.393293\tR: 0.617872\n",
      "Train Epoch: 8 [39040/58829 (66%)]\tLoss: 0.339673\tR: 0.478378\n",
      "Train Epoch: 8 [39360/58829 (67%)]\tLoss: 0.264247\tR: 0.788757\n",
      "Train Epoch: 8 [39680/58829 (67%)]\tLoss: 1.537800\tR: 0.325588\n",
      "Train Epoch: 8 [40000/58829 (68%)]\tLoss: 0.613331\tR: 0.699433\n",
      "Train Epoch: 8 [40320/58829 (69%)]\tLoss: 0.360795\tR: 0.705856\n",
      "Train Epoch: 8 [40640/58829 (69%)]\tLoss: 1.039841\tR: 0.578761\n",
      "Train Epoch: 8 [40960/58829 (70%)]\tLoss: 1.470786\tR: 0.353841\n",
      "Train Epoch: 8 [41280/58829 (70%)]\tLoss: 0.266953\tR: 0.560382\n",
      "Train Epoch: 8 [41600/58829 (71%)]\tLoss: 1.389502\tR: 0.360946\n",
      "Train Epoch: 8 [41920/58829 (71%)]\tLoss: 0.744106\tR: 0.278016\n",
      "Train Epoch: 8 [42240/58829 (72%)]\tLoss: 0.399639\tR: 0.543004\n",
      "Train Epoch: 8 [42560/58829 (72%)]\tLoss: 0.724730\tR: 0.423283\n",
      "Train Epoch: 8 [42880/58829 (73%)]\tLoss: 0.420948\tR: 0.380754\n",
      "Train Epoch: 8 [43200/58829 (73%)]\tLoss: 1.451576\tR: 0.284606\n",
      "Train Epoch: 8 [43520/58829 (74%)]\tLoss: 1.206937\tR: 0.437862\n",
      "Train Epoch: 8 [43840/58829 (75%)]\tLoss: 0.448068\tR: 0.473000\n",
      "Train Epoch: 8 [44160/58829 (75%)]\tLoss: 0.605431\tR: 0.593731\n",
      "Train Epoch: 8 [44480/58829 (76%)]\tLoss: 0.395810\tR: 0.524069\n",
      "Train Epoch: 8 [44800/58829 (76%)]\tLoss: 1.152989\tR: 0.320928\n",
      "Train Epoch: 8 [45120/58829 (77%)]\tLoss: 0.377273\tR: 0.692038\n",
      "Train Epoch: 8 [45440/58829 (77%)]\tLoss: 0.401986\tR: 0.575270\n",
      "Train Epoch: 8 [45760/58829 (78%)]\tLoss: 0.267592\tR: 0.526761\n",
      "Train Epoch: 8 [46080/58829 (78%)]\tLoss: 0.768630\tR: 0.274183\n",
      "Train Epoch: 8 [46400/58829 (79%)]\tLoss: 0.507958\tR: 0.366314\n",
      "Train Epoch: 8 [46720/58829 (79%)]\tLoss: 1.392815\tR: 0.242347\n",
      "Train Epoch: 8 [47040/58829 (80%)]\tLoss: 1.141702\tR: 0.632225\n",
      "Train Epoch: 8 [47360/58829 (81%)]\tLoss: 0.188524\tR: 0.424471\n",
      "Train Epoch: 8 [47680/58829 (81%)]\tLoss: 1.523906\tR: 0.155568\n",
      "Train Epoch: 8 [48000/58829 (82%)]\tLoss: 0.304039\tR: 0.548536\n",
      "Train Epoch: 8 [48320/58829 (82%)]\tLoss: 1.463538\tR: 0.204884\n",
      "Train Epoch: 8 [48640/58829 (83%)]\tLoss: 0.582026\tR: 0.240678\n",
      "Train Epoch: 8 [48960/58829 (83%)]\tLoss: 0.484687\tR: 0.572303\n",
      "Train Epoch: 8 [49280/58829 (84%)]\tLoss: 0.369819\tR: 0.571035\n",
      "Train Epoch: 8 [49600/58829 (84%)]\tLoss: 1.234567\tR: 0.502416\n",
      "Train Epoch: 8 [49920/58829 (85%)]\tLoss: 0.410198\tR: 0.551642\n",
      "Train Epoch: 8 [50240/58829 (85%)]\tLoss: 0.402850\tR: 0.580126\n",
      "Train Epoch: 8 [50560/58829 (86%)]\tLoss: 0.230900\tR: 0.643428\n",
      "Train Epoch: 8 [50880/58829 (86%)]\tLoss: 0.473032\tR: 0.511113\n",
      "Train Epoch: 8 [51200/58829 (87%)]\tLoss: 1.228236\tR: 0.664885\n",
      "Train Epoch: 8 [51520/58829 (88%)]\tLoss: 0.737113\tR: 0.826986\n",
      "Train Epoch: 8 [51840/58829 (88%)]\tLoss: 0.378157\tR: 0.548682\n",
      "Train Epoch: 8 [52160/58829 (89%)]\tLoss: 0.289083\tR: 0.692471\n",
      "Train Epoch: 8 [52480/58829 (89%)]\tLoss: 0.426910\tR: 0.424304\n",
      "Train Epoch: 8 [52800/58829 (90%)]\tLoss: 0.336423\tR: 0.676864\n",
      "Train Epoch: 8 [53120/58829 (90%)]\tLoss: 1.252825\tR: 0.347568\n",
      "Train Epoch: 8 [53440/58829 (91%)]\tLoss: 0.329060\tR: 0.454017\n",
      "Train Epoch: 8 [53760/58829 (91%)]\tLoss: 0.673096\tR: 0.388467\n",
      "Train Epoch: 8 [54080/58829 (92%)]\tLoss: 0.759077\tR: 0.306068\n",
      "Train Epoch: 8 [54400/58829 (92%)]\tLoss: 0.493492\tR: 0.397350\n",
      "Train Epoch: 8 [54720/58829 (93%)]\tLoss: 0.569463\tR: 0.448854\n",
      "Train Epoch: 8 [55040/58829 (94%)]\tLoss: 0.376274\tR: 0.445146\n",
      "Train Epoch: 8 [55360/58829 (94%)]\tLoss: 1.049847\tR: 0.690976\n",
      "Train Epoch: 8 [55680/58829 (95%)]\tLoss: 0.318940\tR: 0.603079\n",
      "Train Epoch: 8 [56000/58829 (95%)]\tLoss: 0.412671\tR: 0.518394\n",
      "Train Epoch: 8 [56320/58829 (96%)]\tLoss: 1.214794\tR: 0.429032\n",
      "Train Epoch: 8 [56640/58829 (96%)]\tLoss: 0.297249\tR: 0.630080\n",
      "Train Epoch: 8 [56960/58829 (97%)]\tLoss: 0.438548\tR: 0.352608\n",
      "Train Epoch: 8 [57280/58829 (97%)]\tLoss: 0.395446\tR: 0.705277\n",
      "Train Epoch: 8 [57600/58829 (98%)]\tLoss: 0.474199\tR: 0.533790\n",
      "Train Epoch: 8 [57920/58829 (98%)]\tLoss: 0.518958\tR: 0.398527\n",
      "Train Epoch: 8 [58240/58829 (99%)]\tLoss: 0.593622\tR: 0.302186\n",
      "Train Epoch: 8 [58560/58829 (100%)]\tLoss: 1.341457\tR: 0.162171\n",
      "Validation: Loss: 0.671240\tR: 0.579047\n",
      "Best model updated.\n",
      "Train Epoch: 9 [0/58829 (0%)]\tLoss: 0.578460\tR: 0.520355\n",
      "Train Epoch: 9 [320/58829 (1%)]\tLoss: 0.426996\tR: 0.591038\n",
      "Train Epoch: 9 [640/58829 (1%)]\tLoss: 1.279542\tR: 0.411175\n",
      "Train Epoch: 9 [960/58829 (2%)]\tLoss: 0.238022\tR: 0.515096\n",
      "Train Epoch: 9 [1280/58829 (2%)]\tLoss: 0.299476\tR: 0.502777\n",
      "Train Epoch: 9 [1600/58829 (3%)]\tLoss: 0.404853\tR: 0.516371\n",
      "Train Epoch: 9 [1920/58829 (3%)]\tLoss: 0.186458\tR: 0.741964\n",
      "Train Epoch: 9 [2240/58829 (4%)]\tLoss: 0.518130\tR: 0.513053\n",
      "Train Epoch: 9 [2560/58829 (4%)]\tLoss: 0.525570\tR: 0.492726\n",
      "Train Epoch: 9 [2880/58829 (5%)]\tLoss: 0.413229\tR: 0.463503\n",
      "Train Epoch: 9 [3200/58829 (5%)]\tLoss: 1.498640\tR: 0.258526\n",
      "Train Epoch: 9 [3520/58829 (6%)]\tLoss: 0.302952\tR: 0.680856\n",
      "Train Epoch: 9 [3840/58829 (7%)]\tLoss: 1.926361\tR: 0.068821\n",
      "Train Epoch: 9 [4160/58829 (7%)]\tLoss: 0.487657\tR: 0.643032\n",
      "Train Epoch: 9 [4480/58829 (8%)]\tLoss: 1.339639\tR: 0.364524\n",
      "Train Epoch: 9 [4800/58829 (8%)]\tLoss: 0.266084\tR: 0.508382\n",
      "Train Epoch: 9 [5120/58829 (9%)]\tLoss: 0.184669\tR: 0.742099\n",
      "Train Epoch: 9 [5440/58829 (9%)]\tLoss: 0.576580\tR: 0.483549\n",
      "Train Epoch: 9 [5760/58829 (10%)]\tLoss: 0.365212\tR: 0.747282\n",
      "Train Epoch: 9 [6080/58829 (10%)]\tLoss: 0.212984\tR: 0.745008\n",
      "Train Epoch: 9 [6400/58829 (11%)]\tLoss: 0.254909\tR: 0.604178\n",
      "Train Epoch: 9 [6720/58829 (11%)]\tLoss: 1.013954\tR: 0.615611\n",
      "Train Epoch: 9 [7040/58829 (12%)]\tLoss: 0.243937\tR: 0.660498\n",
      "Train Epoch: 9 [7360/58829 (13%)]\tLoss: 1.290297\tR: 0.437015\n",
      "Train Epoch: 9 [7680/58829 (13%)]\tLoss: 0.539982\tR: 0.567329\n",
      "Train Epoch: 9 [8000/58829 (14%)]\tLoss: 0.365195\tR: 0.486657\n",
      "Train Epoch: 9 [8320/58829 (14%)]\tLoss: 0.709526\tR: 0.606301\n",
      "Train Epoch: 9 [8640/58829 (15%)]\tLoss: 0.696210\tR: 0.502982\n",
      "Train Epoch: 9 [8960/58829 (15%)]\tLoss: 0.464806\tR: 0.538897\n",
      "Train Epoch: 9 [9280/58829 (16%)]\tLoss: 0.564912\tR: 0.385813\n",
      "Train Epoch: 9 [9600/58829 (16%)]\tLoss: 0.359590\tR: 0.547981\n",
      "Train Epoch: 9 [9920/58829 (17%)]\tLoss: 0.335308\tR: 0.633839\n",
      "Train Epoch: 9 [10240/58829 (17%)]\tLoss: 0.413842\tR: 0.218171\n",
      "Train Epoch: 9 [10560/58829 (18%)]\tLoss: 0.301425\tR: 0.636806\n",
      "Train Epoch: 9 [10880/58829 (18%)]\tLoss: 0.300738\tR: 0.605309\n",
      "Train Epoch: 9 [11200/58829 (19%)]\tLoss: 0.467960\tR: 0.301688\n",
      "Train Epoch: 9 [11520/58829 (20%)]\tLoss: 1.427105\tR: 0.357722\n",
      "Train Epoch: 9 [11840/58829 (20%)]\tLoss: 0.389389\tR: 0.490752\n",
      "Train Epoch: 9 [12160/58829 (21%)]\tLoss: 0.266675\tR: 0.557790\n",
      "Train Epoch: 9 [12480/58829 (21%)]\tLoss: 1.327781\tR: 0.262675\n",
      "Train Epoch: 9 [12800/58829 (22%)]\tLoss: 0.263837\tR: 0.249745\n",
      "Train Epoch: 9 [13120/58829 (22%)]\tLoss: 0.396056\tR: 0.524849\n",
      "Train Epoch: 9 [13440/58829 (23%)]\tLoss: 0.468870\tR: 0.558471\n",
      "Train Epoch: 9 [13760/58829 (23%)]\tLoss: 1.403113\tR: 0.448633\n",
      "Train Epoch: 9 [14080/58829 (24%)]\tLoss: 1.490890\tR: 0.280071\n",
      "Train Epoch: 9 [14400/58829 (24%)]\tLoss: 0.320688\tR: 0.645684\n",
      "Train Epoch: 9 [14720/58829 (25%)]\tLoss: 0.521159\tR: 0.530033\n",
      "Train Epoch: 9 [15040/58829 (26%)]\tLoss: 0.466982\tR: 0.613617\n",
      "Train Epoch: 9 [15360/58829 (26%)]\tLoss: 1.072756\tR: 0.492427\n",
      "Train Epoch: 9 [15680/58829 (27%)]\tLoss: 0.562020\tR: 0.377569\n",
      "Train Epoch: 9 [16000/58829 (27%)]\tLoss: 0.316173\tR: 0.438905\n",
      "Train Epoch: 9 [16320/58829 (28%)]\tLoss: 0.463594\tR: 0.617801\n",
      "Train Epoch: 9 [16640/58829 (28%)]\tLoss: 1.308534\tR: 0.290116\n",
      "Train Epoch: 9 [16960/58829 (29%)]\tLoss: 1.255021\tR: 0.431515\n",
      "Train Epoch: 9 [17280/58829 (29%)]\tLoss: 0.225677\tR: 0.636789\n",
      "Train Epoch: 9 [17600/58829 (30%)]\tLoss: 0.580818\tR: 0.852857\n",
      "Train Epoch: 9 [17920/58829 (30%)]\tLoss: 0.322009\tR: 0.690922\n",
      "Train Epoch: 9 [18240/58829 (31%)]\tLoss: 0.513058\tR: 0.397812\n",
      "Train Epoch: 9 [18560/58829 (32%)]\tLoss: 1.285346\tR: 0.107457\n",
      "Train Epoch: 9 [18880/58829 (32%)]\tLoss: 0.457894\tR: 0.103706\n",
      "Train Epoch: 9 [19200/58829 (33%)]\tLoss: 0.259891\tR: 0.583758\n",
      "Train Epoch: 9 [19520/58829 (33%)]\tLoss: 0.455468\tR: 0.648815\n",
      "Train Epoch: 9 [19840/58829 (34%)]\tLoss: 0.501295\tR: 0.584189\n",
      "Train Epoch: 9 [20160/58829 (34%)]\tLoss: 1.840150\tR: 0.532703\n",
      "Train Epoch: 9 [20480/58829 (35%)]\tLoss: 0.478537\tR: 0.540317\n",
      "Train Epoch: 9 [20800/58829 (35%)]\tLoss: 0.418908\tR: 0.744626\n",
      "Train Epoch: 9 [21120/58829 (36%)]\tLoss: 1.324867\tR: 0.547518\n",
      "Train Epoch: 9 [21440/58829 (36%)]\tLoss: 0.959659\tR: 0.598171\n",
      "Train Epoch: 9 [21760/58829 (37%)]\tLoss: 0.292695\tR: 0.451469\n",
      "Train Epoch: 9 [22080/58829 (38%)]\tLoss: 0.295279\tR: 0.674410\n",
      "Train Epoch: 9 [22400/58829 (38%)]\tLoss: 1.128706\tR: 0.551627\n",
      "Train Epoch: 9 [22720/58829 (39%)]\tLoss: 0.532075\tR: 0.578251\n",
      "Train Epoch: 9 [23040/58829 (39%)]\tLoss: 1.210141\tR: 0.333789\n",
      "Train Epoch: 9 [23360/58829 (40%)]\tLoss: 0.482413\tR: 0.311286\n",
      "Train Epoch: 9 [23680/58829 (40%)]\tLoss: 1.258798\tR: 0.445062\n",
      "Train Epoch: 9 [24000/58829 (41%)]\tLoss: 0.728567\tR: 0.090767\n",
      "Train Epoch: 9 [24320/58829 (41%)]\tLoss: 1.004244\tR: 0.590312\n",
      "Train Epoch: 9 [24640/58829 (42%)]\tLoss: 0.340528\tR: 0.738885\n",
      "Train Epoch: 9 [24960/58829 (42%)]\tLoss: 0.550949\tR: 0.573189\n",
      "Train Epoch: 9 [25280/58829 (43%)]\tLoss: 0.246049\tR: 0.438243\n",
      "Train Epoch: 9 [25600/58829 (44%)]\tLoss: 0.980511\tR: 0.582313\n",
      "Train Epoch: 9 [25920/58829 (44%)]\tLoss: 0.580417\tR: 0.653195\n",
      "Train Epoch: 9 [26240/58829 (45%)]\tLoss: 0.521039\tR: 0.420154\n",
      "Train Epoch: 9 [26560/58829 (45%)]\tLoss: 0.324375\tR: 0.633809\n",
      "Train Epoch: 9 [26880/58829 (46%)]\tLoss: 0.891843\tR: 0.299419\n",
      "Train Epoch: 9 [27200/58829 (46%)]\tLoss: 0.349496\tR: 0.751219\n",
      "Train Epoch: 9 [27520/58829 (47%)]\tLoss: 0.282478\tR: 0.619468\n",
      "Train Epoch: 9 [27840/58829 (47%)]\tLoss: 0.447663\tR: 0.646636\n",
      "Train Epoch: 9 [28160/58829 (48%)]\tLoss: 1.449388\tR: 0.398601\n",
      "Train Epoch: 9 [28480/58829 (48%)]\tLoss: 0.289155\tR: 0.494628\n",
      "Train Epoch: 9 [28800/58829 (49%)]\tLoss: 1.112253\tR: 0.477735\n",
      "Train Epoch: 9 [29120/58829 (49%)]\tLoss: 0.437432\tR: 0.423106\n",
      "Train Epoch: 9 [29440/58829 (50%)]\tLoss: 0.252374\tR: 0.628151\n",
      "Train Epoch: 9 [29760/58829 (51%)]\tLoss: 1.196849\tR: 0.509390\n",
      "Train Epoch: 9 [30080/58829 (51%)]\tLoss: 0.374590\tR: 0.660055\n",
      "Train Epoch: 9 [30400/58829 (52%)]\tLoss: 0.432465\tR: 0.596436\n",
      "Train Epoch: 9 [30720/58829 (52%)]\tLoss: 0.787096\tR: 0.421910\n",
      "Train Epoch: 9 [31040/58829 (53%)]\tLoss: 1.231403\tR: 0.556215\n",
      "Train Epoch: 9 [31360/58829 (53%)]\tLoss: 0.568732\tR: 0.479994\n",
      "Train Epoch: 9 [31680/58829 (54%)]\tLoss: 0.374012\tR: 0.582794\n",
      "Train Epoch: 9 [32000/58829 (54%)]\tLoss: 1.149114\tR: 0.595640\n",
      "Train Epoch: 9 [32320/58829 (55%)]\tLoss: 1.568748\tR: 0.518754\n",
      "Train Epoch: 9 [32640/58829 (55%)]\tLoss: 2.442252\tR: 0.093993\n",
      "Train Epoch: 9 [32960/58829 (56%)]\tLoss: 0.328458\tR: 0.664925\n",
      "Train Epoch: 9 [33280/58829 (57%)]\tLoss: 1.413922\tR: 0.212371\n",
      "Train Epoch: 9 [33600/58829 (57%)]\tLoss: 1.183064\tR: 0.439897\n",
      "Train Epoch: 9 [33920/58829 (58%)]\tLoss: 2.955162\tR: 0.391214\n",
      "Train Epoch: 9 [34240/58829 (58%)]\tLoss: 0.496203\tR: 0.640538\n",
      "Train Epoch: 9 [34560/58829 (59%)]\tLoss: 0.361097\tR: 0.479871\n",
      "Train Epoch: 9 [34880/58829 (59%)]\tLoss: 0.516287\tR: 0.509324\n",
      "Train Epoch: 9 [35200/58829 (60%)]\tLoss: 0.320656\tR: 0.549831\n",
      "Train Epoch: 9 [35520/58829 (60%)]\tLoss: 1.193903\tR: 0.458552\n",
      "Train Epoch: 9 [35840/58829 (61%)]\tLoss: 0.387004\tR: 0.587890\n",
      "Train Epoch: 9 [36160/58829 (61%)]\tLoss: 0.496920\tR: 0.461973\n",
      "Train Epoch: 9 [36480/58829 (62%)]\tLoss: 0.641822\tR: 0.466503\n",
      "Train Epoch: 9 [36800/58829 (63%)]\tLoss: 1.179634\tR: 0.366889\n",
      "Train Epoch: 9 [37120/58829 (63%)]\tLoss: 0.506256\tR: 0.211106\n",
      "Train Epoch: 9 [37440/58829 (64%)]\tLoss: 0.598746\tR: 0.681182\n",
      "Train Epoch: 9 [37760/58829 (64%)]\tLoss: 0.511937\tR: 0.476502\n",
      "Train Epoch: 9 [38080/58829 (65%)]\tLoss: 1.552645\tR: 0.310222\n",
      "Train Epoch: 9 [38400/58829 (65%)]\tLoss: 1.002634\tR: 0.517588\n",
      "Train Epoch: 9 [38720/58829 (66%)]\tLoss: 0.522405\tR: 0.430156\n",
      "Train Epoch: 9 [39040/58829 (66%)]\tLoss: 1.424330\tR: 0.245818\n",
      "Train Epoch: 9 [39360/58829 (67%)]\tLoss: 0.685517\tR: 0.604836\n",
      "Train Epoch: 9 [39680/58829 (67%)]\tLoss: 1.344670\tR: 0.622251\n",
      "Train Epoch: 9 [40000/58829 (68%)]\tLoss: 0.622760\tR: 0.307134\n",
      "Train Epoch: 9 [40320/58829 (69%)]\tLoss: 0.379985\tR: 0.683054\n",
      "Train Epoch: 9 [40640/58829 (69%)]\tLoss: 0.301638\tR: 0.602026\n",
      "Train Epoch: 9 [40960/58829 (70%)]\tLoss: 0.616135\tR: 0.459843\n",
      "Train Epoch: 9 [41280/58829 (70%)]\tLoss: 0.373343\tR: 0.612498\n",
      "Train Epoch: 9 [41600/58829 (71%)]\tLoss: 0.487061\tR: 0.586956\n",
      "Train Epoch: 9 [41920/58829 (71%)]\tLoss: 0.385922\tR: 0.473485\n",
      "Train Epoch: 9 [42240/58829 (72%)]\tLoss: 2.291110\tR: 0.392274\n",
      "Train Epoch: 9 [42560/58829 (72%)]\tLoss: 1.318994\tR: 0.360460\n",
      "Train Epoch: 9 [42880/58829 (73%)]\tLoss: 0.491418\tR: 0.464269\n",
      "Train Epoch: 9 [43200/58829 (73%)]\tLoss: 0.380662\tR: 0.708611\n",
      "Train Epoch: 9 [43520/58829 (74%)]\tLoss: 1.265042\tR: 0.317443\n",
      "Train Epoch: 9 [43840/58829 (75%)]\tLoss: 1.136806\tR: 0.540436\n",
      "Train Epoch: 9 [44160/58829 (75%)]\tLoss: 0.565076\tR: 0.466929\n",
      "Train Epoch: 9 [44480/58829 (76%)]\tLoss: 1.287603\tR: 0.513369\n",
      "Train Epoch: 9 [44800/58829 (76%)]\tLoss: 2.091308\tR: 0.365115\n",
      "Train Epoch: 9 [45120/58829 (77%)]\tLoss: 0.307106\tR: 0.641036\n",
      "Train Epoch: 9 [45440/58829 (77%)]\tLoss: 1.302194\tR: 0.473904\n",
      "Train Epoch: 9 [45760/58829 (78%)]\tLoss: 1.300390\tR: 0.414813\n",
      "Train Epoch: 9 [46080/58829 (78%)]\tLoss: 1.475704\tR: 0.192647\n",
      "Train Epoch: 9 [46400/58829 (79%)]\tLoss: 0.533470\tR: 0.804736\n",
      "Train Epoch: 9 [46720/58829 (79%)]\tLoss: 0.368491\tR: 0.582779\n",
      "Train Epoch: 9 [47040/58829 (80%)]\tLoss: 0.254871\tR: 0.609251\n",
      "Train Epoch: 9 [47360/58829 (81%)]\tLoss: 0.465032\tR: 0.572567\n",
      "Train Epoch: 9 [47680/58829 (81%)]\tLoss: 0.509087\tR: 0.697276\n",
      "Train Epoch: 9 [48000/58829 (82%)]\tLoss: 1.465199\tR: 0.283012\n",
      "Train Epoch: 9 [48320/58829 (82%)]\tLoss: 0.269282\tR: 0.726526\n",
      "Train Epoch: 9 [48640/58829 (83%)]\tLoss: 0.401158\tR: 0.719581\n",
      "Train Epoch: 9 [48960/58829 (83%)]\tLoss: 0.303441\tR: 0.592341\n",
      "Train Epoch: 9 [49280/58829 (84%)]\tLoss: 0.619798\tR: 0.443959\n",
      "Train Epoch: 9 [49600/58829 (84%)]\tLoss: 0.617579\tR: 0.672800\n",
      "Train Epoch: 9 [49920/58829 (85%)]\tLoss: 0.275438\tR: 0.586051\n",
      "Train Epoch: 9 [50240/58829 (85%)]\tLoss: 0.565857\tR: 0.454007\n",
      "Train Epoch: 9 [50560/58829 (86%)]\tLoss: 0.446341\tR: 0.480242\n",
      "Train Epoch: 9 [50880/58829 (86%)]\tLoss: 0.446494\tR: 0.651514\n",
      "Train Epoch: 9 [51200/58829 (87%)]\tLoss: 2.229783\tR: 0.384239\n",
      "Train Epoch: 9 [51520/58829 (88%)]\tLoss: 0.836427\tR: 0.693172\n",
      "Train Epoch: 9 [51840/58829 (88%)]\tLoss: 0.665138\tR: 0.368342\n",
      "Train Epoch: 9 [52160/58829 (89%)]\tLoss: 0.742907\tR: 0.548341\n",
      "Train Epoch: 9 [52480/58829 (89%)]\tLoss: 0.419191\tR: 0.380726\n",
      "Train Epoch: 9 [52800/58829 (90%)]\tLoss: 0.640028\tR: 0.509823\n",
      "Train Epoch: 9 [53120/58829 (90%)]\tLoss: 0.380968\tR: 0.611811\n",
      "Train Epoch: 9 [53440/58829 (91%)]\tLoss: 0.299499\tR: 0.609043\n",
      "Train Epoch: 9 [53760/58829 (91%)]\tLoss: 1.384114\tR: 0.390256\n",
      "Train Epoch: 9 [54080/58829 (92%)]\tLoss: 0.935415\tR: 0.382421\n",
      "Train Epoch: 9 [54400/58829 (92%)]\tLoss: 0.773552\tR: 0.419298\n",
      "Train Epoch: 9 [54720/58829 (93%)]\tLoss: 0.659223\tR: 0.431302\n",
      "Train Epoch: 9 [55040/58829 (94%)]\tLoss: 0.541459\tR: 0.461554\n",
      "Train Epoch: 9 [55360/58829 (94%)]\tLoss: 0.184048\tR: 0.667675\n",
      "Train Epoch: 9 [55680/58829 (95%)]\tLoss: 0.237506\tR: 0.471898\n",
      "Train Epoch: 9 [56000/58829 (95%)]\tLoss: 0.670548\tR: 0.642032\n",
      "Train Epoch: 9 [56320/58829 (96%)]\tLoss: 1.285081\tR: 0.447153\n",
      "Train Epoch: 9 [56640/58829 (96%)]\tLoss: 0.405579\tR: 0.603484\n",
      "Train Epoch: 9 [56960/58829 (97%)]\tLoss: 0.930199\tR: 0.450603\n",
      "Train Epoch: 9 [57280/58829 (97%)]\tLoss: 0.468137\tR: 0.532204\n",
      "Train Epoch: 9 [57600/58829 (98%)]\tLoss: 0.289983\tR: 0.578821\n",
      "Train Epoch: 9 [57920/58829 (98%)]\tLoss: 0.429940\tR: 0.407209\n",
      "Train Epoch: 9 [58240/58829 (99%)]\tLoss: 0.355191\tR: 0.589167\n",
      "Train Epoch: 9 [58560/58829 (100%)]\tLoss: 0.352968\tR: 0.665909\n",
      "Validation: Loss: 0.623219\tR: 0.595103\n",
      "Best model updated.\n"
     ]
    }
   ],
   "source": [
    "hist = model.train_model(train_data_loader,val_loader=valid_data_loader, epochs=10, device=device, logfile=logfile)"
   ]
  },
  {
   "cell_type": "code",
   "execution_count": 186,
   "metadata": {
    "pycharm": {
     "name": "#%%\n"
    }
   },
   "outputs": [],
   "source": [
    "model.make_trainable()"
   ]
  },
  {
   "cell_type": "code",
   "execution_count": 187,
   "metadata": {
    "collapsed": true,
    "jupyter": {
     "outputs_hidden": true
    },
    "pycharm": {
     "name": "#%%\n"
    }
   },
   "outputs": [
    {
     "name": "stdout",
     "output_type": "stream",
     "text": [
      "Train Epoch: 0 [0/58829 (0%)]\tLoss: 0.347883\tR: 0.597218\n",
      "Train Epoch: 0 [320/58829 (1%)]\tLoss: 0.792508\tR: 0.570031\n",
      "Train Epoch: 0 [640/58829 (1%)]\tLoss: 1.267023\tR: 0.252817\n",
      "Train Epoch: 0 [960/58829 (2%)]\tLoss: 1.047438\tR: 0.688190\n",
      "Train Epoch: 0 [1280/58829 (2%)]\tLoss: 1.178609\tR: 0.533514\n",
      "Train Epoch: 0 [1600/58829 (3%)]\tLoss: 0.341664\tR: 0.621005\n",
      "Train Epoch: 0 [1920/58829 (3%)]\tLoss: 0.263584\tR: 0.648135\n",
      "Train Epoch: 0 [2240/58829 (4%)]\tLoss: 0.380534\tR: 0.572607\n",
      "Train Epoch: 0 [2560/58829 (4%)]\tLoss: 0.362142\tR: 0.698806\n",
      "Train Epoch: 0 [2880/58829 (5%)]\tLoss: 0.474156\tR: 0.653404\n",
      "Train Epoch: 0 [3200/58829 (5%)]\tLoss: 1.098200\tR: 0.491482\n",
      "Train Epoch: 0 [3520/58829 (6%)]\tLoss: 1.468256\tR: 0.310023\n",
      "Train Epoch: 0 [3840/58829 (7%)]\tLoss: 1.244123\tR: 0.433663\n",
      "Train Epoch: 0 [4160/58829 (7%)]\tLoss: 0.702768\tR: 0.299223\n",
      "Train Epoch: 0 [4480/58829 (8%)]\tLoss: 0.628988\tR: 0.323006\n",
      "Train Epoch: 0 [4800/58829 (8%)]\tLoss: 0.317175\tR: 0.475369\n",
      "Train Epoch: 0 [5120/58829 (9%)]\tLoss: 1.261225\tR: 0.480471\n",
      "Train Epoch: 0 [5440/58829 (9%)]\tLoss: 0.473427\tR: 0.566833\n",
      "Train Epoch: 0 [5760/58829 (10%)]\tLoss: 0.501089\tR: 0.378568\n",
      "Train Epoch: 0 [6080/58829 (10%)]\tLoss: 0.543350\tR: 0.644897\n",
      "Train Epoch: 0 [6400/58829 (11%)]\tLoss: 0.525150\tR: 0.588547\n",
      "Train Epoch: 0 [6720/58829 (11%)]\tLoss: 0.760264\tR: 0.597813\n",
      "Train Epoch: 0 [7040/58829 (12%)]\tLoss: 1.292569\tR: 0.663831\n",
      "Train Epoch: 0 [7360/58829 (13%)]\tLoss: 1.791142\tR: 0.607379\n",
      "Train Epoch: 0 [7680/58829 (13%)]\tLoss: 0.350573\tR: 0.685650\n",
      "Train Epoch: 0 [8000/58829 (14%)]\tLoss: 0.456605\tR: 0.589106\n",
      "Train Epoch: 0 [8320/58829 (14%)]\tLoss: 0.450130\tR: 0.236454\n",
      "Train Epoch: 0 [8640/58829 (15%)]\tLoss: 0.501017\tR: 0.509784\n",
      "Train Epoch: 0 [8960/58829 (15%)]\tLoss: 1.519337\tR: 0.248349\n",
      "Train Epoch: 0 [9280/58829 (16%)]\tLoss: 0.473185\tR: 0.363337\n",
      "Train Epoch: 0 [9600/58829 (16%)]\tLoss: 1.449660\tR: 0.027492\n",
      "Train Epoch: 0 [9920/58829 (17%)]\tLoss: 0.329548\tR: 0.435315\n",
      "Train Epoch: 0 [10240/58829 (17%)]\tLoss: 2.193372\tR: 0.332994\n",
      "Train Epoch: 0 [10560/58829 (18%)]\tLoss: 0.457607\tR: 0.535889\n",
      "Train Epoch: 0 [10880/58829 (18%)]\tLoss: 1.043756\tR: 0.500188\n",
      "Train Epoch: 0 [11200/58829 (19%)]\tLoss: 0.256121\tR: 0.555110\n",
      "Train Epoch: 0 [11520/58829 (20%)]\tLoss: 0.741102\tR: 0.452665\n",
      "Train Epoch: 0 [11840/58829 (20%)]\tLoss: 0.598940\tR: 0.489818\n",
      "Train Epoch: 0 [12160/58829 (21%)]\tLoss: 0.301328\tR: 0.807122\n",
      "Train Epoch: 0 [12480/58829 (21%)]\tLoss: 2.624546\tR: 0.223843\n",
      "Train Epoch: 0 [12800/58829 (22%)]\tLoss: 0.358083\tR: 0.519212\n",
      "Train Epoch: 0 [13120/58829 (22%)]\tLoss: 1.309093\tR: 0.361798\n",
      "Train Epoch: 0 [13440/58829 (23%)]\tLoss: 0.711281\tR: 0.520746\n",
      "Train Epoch: 0 [13760/58829 (23%)]\tLoss: 1.850019\tR: 0.512678\n",
      "Train Epoch: 0 [14080/58829 (24%)]\tLoss: 0.528584\tR: 0.284008\n",
      "Train Epoch: 0 [14400/58829 (24%)]\tLoss: 0.245806\tR: 0.760903\n",
      "Train Epoch: 0 [14720/58829 (25%)]\tLoss: 0.482008\tR: 0.488034\n",
      "Train Epoch: 0 [15040/58829 (26%)]\tLoss: 0.717480\tR: 0.590702\n",
      "Train Epoch: 0 [15360/58829 (26%)]\tLoss: 1.149749\tR: 0.483441\n",
      "Train Epoch: 0 [15680/58829 (27%)]\tLoss: 0.371528\tR: 0.384763\n",
      "Train Epoch: 0 [16000/58829 (27%)]\tLoss: 0.331407\tR: 0.617618\n",
      "Train Epoch: 0 [16320/58829 (28%)]\tLoss: 0.296223\tR: 0.643634\n",
      "Train Epoch: 0 [16640/58829 (28%)]\tLoss: 1.458028\tR: -0.046413\n",
      "Train Epoch: 0 [16960/58829 (29%)]\tLoss: 0.449181\tR: 0.256579\n",
      "Train Epoch: 0 [17280/58829 (29%)]\tLoss: 0.799435\tR: 0.119437\n",
      "Train Epoch: 0 [17600/58829 (30%)]\tLoss: 0.417191\tR: 0.716273\n",
      "Train Epoch: 0 [17920/58829 (30%)]\tLoss: 0.304465\tR: 0.616408\n",
      "Train Epoch: 0 [18240/58829 (31%)]\tLoss: 1.392690\tR: 0.274479\n",
      "Train Epoch: 0 [18560/58829 (32%)]\tLoss: 0.983174\tR: 0.592620\n",
      "Train Epoch: 0 [18880/58829 (32%)]\tLoss: 0.635448\tR: 0.281436\n",
      "Train Epoch: 0 [19200/58829 (33%)]\tLoss: 0.284536\tR: 0.715057\n",
      "Train Epoch: 0 [19520/58829 (33%)]\tLoss: 0.604045\tR: 0.433137\n",
      "Train Epoch: 0 [19840/58829 (34%)]\tLoss: 0.294973\tR: 0.630971\n",
      "Train Epoch: 0 [20160/58829 (34%)]\tLoss: 0.212162\tR: 0.681717\n",
      "Train Epoch: 0 [20480/58829 (35%)]\tLoss: 0.294207\tR: 0.736687\n",
      "Train Epoch: 0 [20800/58829 (35%)]\tLoss: 1.321053\tR: 0.421561\n",
      "Train Epoch: 0 [21120/58829 (36%)]\tLoss: 0.331340\tR: 0.767745\n",
      "Train Epoch: 0 [21440/58829 (36%)]\tLoss: 1.045333\tR: 0.550233\n",
      "Train Epoch: 0 [21760/58829 (37%)]\tLoss: 0.519369\tR: 0.403816\n",
      "Train Epoch: 0 [22080/58829 (38%)]\tLoss: 0.360565\tR: 0.405559\n",
      "Train Epoch: 0 [22400/58829 (38%)]\tLoss: 0.447782\tR: 0.455900\n",
      "Train Epoch: 0 [22720/58829 (39%)]\tLoss: 0.370955\tR: 0.473388\n",
      "Train Epoch: 0 [23040/58829 (39%)]\tLoss: 1.332548\tR: 0.429909\n",
      "Train Epoch: 0 [23360/58829 (40%)]\tLoss: 0.487971\tR: 0.433519\n",
      "Train Epoch: 0 [23680/58829 (40%)]\tLoss: 0.618818\tR: 0.356661\n",
      "Train Epoch: 0 [24000/58829 (41%)]\tLoss: 0.410345\tR: 0.608251\n",
      "Train Epoch: 0 [24320/58829 (41%)]\tLoss: 1.244249\tR: 0.374451\n",
      "Train Epoch: 0 [24640/58829 (42%)]\tLoss: 1.198430\tR: 0.778137\n",
      "Train Epoch: 0 [24960/58829 (42%)]\tLoss: 1.265995\tR: 0.398853\n",
      "Train Epoch: 0 [25280/58829 (43%)]\tLoss: 0.378330\tR: 0.574295\n",
      "Train Epoch: 0 [25600/58829 (44%)]\tLoss: 0.438294\tR: 0.721150\n",
      "Train Epoch: 0 [25920/58829 (44%)]\tLoss: 0.293829\tR: 0.484001\n",
      "Train Epoch: 0 [26240/58829 (45%)]\tLoss: 1.134973\tR: 0.574788\n",
      "Train Epoch: 0 [26560/58829 (45%)]\tLoss: 1.407601\tR: 0.503333\n",
      "Train Epoch: 0 [26880/58829 (46%)]\tLoss: 0.388748\tR: 0.492272\n",
      "Train Epoch: 0 [27200/58829 (46%)]\tLoss: 0.387853\tR: 0.497470\n",
      "Train Epoch: 0 [27520/58829 (47%)]\tLoss: 1.299844\tR: 0.421034\n",
      "Train Epoch: 0 [27840/58829 (47%)]\tLoss: 0.409086\tR: 0.540915\n",
      "Train Epoch: 0 [28160/58829 (48%)]\tLoss: 2.041155\tR: -0.084059\n",
      "Train Epoch: 0 [28480/58829 (48%)]\tLoss: 0.607709\tR: 0.406455\n",
      "Train Epoch: 0 [28800/58829 (49%)]\tLoss: 0.506697\tR: 0.429687\n",
      "Train Epoch: 0 [29120/58829 (49%)]\tLoss: 0.365989\tR: 0.492197\n",
      "Train Epoch: 0 [29440/58829 (50%)]\tLoss: 0.485949\tR: 0.453044\n",
      "Train Epoch: 0 [29760/58829 (51%)]\tLoss: 0.265155\tR: 0.685597\n",
      "Train Epoch: 0 [30080/58829 (51%)]\tLoss: 1.567688\tR: 0.368978\n",
      "Train Epoch: 0 [30400/58829 (52%)]\tLoss: 0.577490\tR: 0.517528\n",
      "Train Epoch: 0 [30720/58829 (52%)]\tLoss: 1.014945\tR: 0.530728\n",
      "Train Epoch: 0 [31040/58829 (53%)]\tLoss: 0.339242\tR: 0.598476\n",
      "Train Epoch: 0 [31360/58829 (53%)]\tLoss: 0.601661\tR: 0.617485\n",
      "Train Epoch: 0 [31680/58829 (54%)]\tLoss: 1.070171\tR: 0.508318\n",
      "Train Epoch: 0 [32000/58829 (54%)]\tLoss: 0.329329\tR: 0.672047\n",
      "Train Epoch: 0 [32320/58829 (55%)]\tLoss: 0.335777\tR: 0.675002\n",
      "Train Epoch: 0 [32640/58829 (55%)]\tLoss: 0.438144\tR: 0.635546\n",
      "Train Epoch: 0 [32960/58829 (56%)]\tLoss: 0.381153\tR: 0.592867\n",
      "Train Epoch: 0 [33280/58829 (57%)]\tLoss: 0.395459\tR: 0.420089\n",
      "Train Epoch: 0 [33600/58829 (57%)]\tLoss: 1.141014\tR: 0.497141\n",
      "Train Epoch: 0 [33920/58829 (58%)]\tLoss: 0.448011\tR: 0.531642\n",
      "Train Epoch: 0 [34240/58829 (58%)]\tLoss: 0.512627\tR: 0.389877\n",
      "Train Epoch: 0 [34560/58829 (59%)]\tLoss: 0.475396\tR: 0.581372\n",
      "Train Epoch: 0 [34880/58829 (59%)]\tLoss: 0.314674\tR: 0.458041\n",
      "Train Epoch: 0 [35200/58829 (60%)]\tLoss: 1.439781\tR: 0.586087\n",
      "Train Epoch: 0 [35520/58829 (60%)]\tLoss: 1.682256\tR: 0.280444\n",
      "Train Epoch: 0 [35840/58829 (61%)]\tLoss: 0.453298\tR: 0.292644\n",
      "Train Epoch: 0 [36160/58829 (61%)]\tLoss: 0.384948\tR: 0.374315\n",
      "Train Epoch: 0 [36480/58829 (62%)]\tLoss: 0.736245\tR: 0.001167\n",
      "Train Epoch: 0 [36800/58829 (63%)]\tLoss: 1.215655\tR: 0.514135\n",
      "Train Epoch: 0 [37120/58829 (63%)]\tLoss: 0.728969\tR: 0.502805\n",
      "Train Epoch: 0 [37440/58829 (64%)]\tLoss: 0.369316\tR: 0.572619\n",
      "Train Epoch: 0 [37760/58829 (64%)]\tLoss: 0.380623\tR: 0.629640\n",
      "Train Epoch: 0 [38080/58829 (65%)]\tLoss: 0.565526\tR: 0.498058\n",
      "Train Epoch: 0 [38400/58829 (65%)]\tLoss: 1.563702\tR: 0.357698\n",
      "Train Epoch: 0 [38720/58829 (66%)]\tLoss: 0.573815\tR: 0.376190\n",
      "Train Epoch: 0 [39040/58829 (66%)]\tLoss: 0.261374\tR: 0.641196\n",
      "Train Epoch: 0 [39360/58829 (67%)]\tLoss: 1.530283\tR: 0.588954\n",
      "Train Epoch: 0 [39680/58829 (67%)]\tLoss: 0.185774\tR: 0.698605\n",
      "Train Epoch: 0 [40000/58829 (68%)]\tLoss: 1.310323\tR: 0.075867\n",
      "Train Epoch: 0 [40320/58829 (69%)]\tLoss: 0.352852\tR: 0.642200\n",
      "Train Epoch: 0 [40640/58829 (69%)]\tLoss: 0.444080\tR: 0.333289\n",
      "Train Epoch: 0 [40960/58829 (70%)]\tLoss: 1.260540\tR: 0.390457\n",
      "Train Epoch: 0 [41280/58829 (70%)]\tLoss: 1.224576\tR: 0.257652\n",
      "Train Epoch: 0 [41600/58829 (71%)]\tLoss: 0.729338\tR: 0.481120\n",
      "Train Epoch: 0 [41920/58829 (71%)]\tLoss: 0.278999\tR: 0.563304\n",
      "Train Epoch: 0 [42240/58829 (72%)]\tLoss: 0.344720\tR: 0.413579\n",
      "Train Epoch: 0 [42560/58829 (72%)]\tLoss: 0.229267\tR: 0.725531\n",
      "Train Epoch: 0 [42880/58829 (73%)]\tLoss: 0.317845\tR: 0.561150\n",
      "Train Epoch: 0 [43200/58829 (73%)]\tLoss: 0.337232\tR: 0.595564\n",
      "Train Epoch: 0 [43520/58829 (74%)]\tLoss: 1.155510\tR: 0.426086\n",
      "Train Epoch: 0 [43840/58829 (75%)]\tLoss: 0.303468\tR: 0.718624\n",
      "Train Epoch: 0 [44160/58829 (75%)]\tLoss: 0.968284\tR: 0.329668\n",
      "Train Epoch: 0 [44480/58829 (76%)]\tLoss: 0.575582\tR: 0.622941\n",
      "Train Epoch: 0 [44800/58829 (76%)]\tLoss: 1.203010\tR: 0.500608\n",
      "Train Epoch: 0 [45120/58829 (77%)]\tLoss: 0.700460\tR: 0.648101\n",
      "Train Epoch: 0 [45440/58829 (77%)]\tLoss: 0.371403\tR: 0.639678\n",
      "Train Epoch: 0 [45760/58829 (78%)]\tLoss: 0.384992\tR: 0.544388\n",
      "Train Epoch: 0 [46080/58829 (78%)]\tLoss: 0.445379\tR: 0.481531\n",
      "Train Epoch: 0 [46400/58829 (79%)]\tLoss: 0.361753\tR: 0.599331\n",
      "Train Epoch: 0 [46720/58829 (79%)]\tLoss: 1.366845\tR: 0.287665\n",
      "Train Epoch: 0 [47040/58829 (80%)]\tLoss: 0.502518\tR: 0.652885\n",
      "Train Epoch: 0 [47360/58829 (81%)]\tLoss: 0.379862\tR: 0.297174\n",
      "Train Epoch: 0 [47680/58829 (81%)]\tLoss: 1.252923\tR: 0.454623\n",
      "Train Epoch: 0 [48000/58829 (82%)]\tLoss: 0.529076\tR: 0.278924\n",
      "Train Epoch: 0 [48320/58829 (82%)]\tLoss: 1.132944\tR: 0.416705\n",
      "Train Epoch: 0 [48640/58829 (83%)]\tLoss: 1.618757\tR: 0.535729\n",
      "Train Epoch: 0 [48960/58829 (83%)]\tLoss: 1.138038\tR: 0.623520\n",
      "Train Epoch: 0 [49280/58829 (84%)]\tLoss: 0.252681\tR: 0.641691\n",
      "Train Epoch: 0 [49600/58829 (84%)]\tLoss: 0.309022\tR: 0.808732\n",
      "Train Epoch: 0 [49920/58829 (85%)]\tLoss: 0.616098\tR: 0.453243\n",
      "Train Epoch: 0 [50240/58829 (85%)]\tLoss: 1.428675\tR: 0.295636\n",
      "Train Epoch: 0 [50560/58829 (86%)]\tLoss: 1.864970\tR: 0.064156\n",
      "Train Epoch: 0 [50880/58829 (86%)]\tLoss: 0.396242\tR: 0.630687\n",
      "Train Epoch: 0 [51200/58829 (87%)]\tLoss: 0.447325\tR: 0.426651\n",
      "Train Epoch: 0 [51520/58829 (88%)]\tLoss: 0.663237\tR: 0.484125\n",
      "Train Epoch: 0 [51840/58829 (88%)]\tLoss: 2.367220\tR: 0.336263\n",
      "Train Epoch: 0 [52160/58829 (89%)]\tLoss: 0.296451\tR: 0.584420\n",
      "Train Epoch: 0 [52480/58829 (89%)]\tLoss: 0.551549\tR: 0.367575\n",
      "Train Epoch: 0 [52800/58829 (90%)]\tLoss: 0.279087\tR: 0.764868\n",
      "Train Epoch: 0 [53120/58829 (90%)]\tLoss: 0.380096\tR: 0.576031\n",
      "Train Epoch: 0 [53440/58829 (91%)]\tLoss: 0.315232\tR: 0.471179\n",
      "Train Epoch: 0 [53760/58829 (91%)]\tLoss: 0.541167\tR: 0.728877\n",
      "Train Epoch: 0 [54080/58829 (92%)]\tLoss: 0.538438\tR: 0.662040\n",
      "Train Epoch: 0 [54400/58829 (92%)]\tLoss: 0.509348\tR: 0.268847\n",
      "Train Epoch: 0 [54720/58829 (93%)]\tLoss: 0.319044\tR: 0.675896\n",
      "Train Epoch: 0 [55040/58829 (94%)]\tLoss: 0.308796\tR: 0.699953\n",
      "Train Epoch: 0 [55360/58829 (94%)]\tLoss: 2.368610\tR: 0.221255\n",
      "Train Epoch: 0 [55680/58829 (95%)]\tLoss: 1.250391\tR: 0.584550\n",
      "Train Epoch: 0 [56000/58829 (95%)]\tLoss: 1.467407\tR: 0.493555\n",
      "Train Epoch: 0 [56320/58829 (96%)]\tLoss: 1.581183\tR: 0.311289\n",
      "Train Epoch: 0 [56640/58829 (96%)]\tLoss: 0.252985\tR: 0.684894\n",
      "Train Epoch: 0 [56960/58829 (97%)]\tLoss: 0.304023\tR: 0.628151\n",
      "Train Epoch: 0 [57280/58829 (97%)]\tLoss: 0.787764\tR: 0.451464\n",
      "Train Epoch: 0 [57600/58829 (98%)]\tLoss: 0.443302\tR: 0.719913\n",
      "Train Epoch: 0 [57920/58829 (98%)]\tLoss: 0.440112\tR: 0.563589\n",
      "Train Epoch: 0 [58240/58829 (99%)]\tLoss: 0.299982\tR: 0.297167\n",
      "Train Epoch: 0 [58560/58829 (100%)]\tLoss: 0.839334\tR: 0.330876\n",
      "Validation: Loss: 0.653633\tR: 0.593451\n",
      "Best model updated.\n",
      "Train Epoch: 1 [0/58829 (0%)]\tLoss: 1.284001\tR: 0.489692\n",
      "Train Epoch: 1 [320/58829 (1%)]\tLoss: 0.420668\tR: 0.461042\n",
      "Train Epoch: 1 [640/58829 (1%)]\tLoss: 1.582064\tR: 0.339800\n",
      "Train Epoch: 1 [960/58829 (2%)]\tLoss: 1.111362\tR: 0.513043\n",
      "Train Epoch: 1 [1280/58829 (2%)]\tLoss: 0.480629\tR: 0.479203\n",
      "Train Epoch: 1 [1600/58829 (3%)]\tLoss: 0.269487\tR: 0.594793\n",
      "Train Epoch: 1 [1920/58829 (3%)]\tLoss: 1.099081\tR: 0.469955\n",
      "Train Epoch: 1 [2240/58829 (4%)]\tLoss: 0.289713\tR: 0.423150\n",
      "Train Epoch: 1 [2560/58829 (4%)]\tLoss: 0.484569\tR: 0.630255\n",
      "Train Epoch: 1 [2880/58829 (5%)]\tLoss: 0.388989\tR: 0.650347\n",
      "Train Epoch: 1 [3200/58829 (5%)]\tLoss: 1.493661\tR: 0.252522\n",
      "Train Epoch: 1 [3520/58829 (6%)]\tLoss: 1.307243\tR: 0.317417\n",
      "Train Epoch: 1 [3840/58829 (7%)]\tLoss: 1.322719\tR: 0.317360\n",
      "Train Epoch: 1 [4160/58829 (7%)]\tLoss: 0.337334\tR: 0.493309\n",
      "Train Epoch: 1 [4480/58829 (8%)]\tLoss: 1.269009\tR: 0.337652\n",
      "Train Epoch: 1 [4800/58829 (8%)]\tLoss: 0.466203\tR: 0.514151\n",
      "Train Epoch: 1 [5120/58829 (9%)]\tLoss: 0.434270\tR: 0.585711\n",
      "Train Epoch: 1 [5440/58829 (9%)]\tLoss: 1.264716\tR: 0.290445\n",
      "Train Epoch: 1 [5760/58829 (10%)]\tLoss: 1.280643\tR: 0.363413\n",
      "Train Epoch: 1 [6080/58829 (10%)]\tLoss: 0.582775\tR: 0.495960\n",
      "Train Epoch: 1 [6400/58829 (11%)]\tLoss: 0.361448\tR: 0.778363\n",
      "Train Epoch: 1 [6720/58829 (11%)]\tLoss: 0.422397\tR: 0.536743\n",
      "Train Epoch: 1 [7040/58829 (12%)]\tLoss: 0.368142\tR: 0.511653\n",
      "Train Epoch: 1 [7360/58829 (13%)]\tLoss: 0.985412\tR: 0.542923\n",
      "Train Epoch: 1 [7680/58829 (13%)]\tLoss: 0.242573\tR: 0.672295\n",
      "Train Epoch: 1 [8000/58829 (14%)]\tLoss: 0.557808\tR: 0.537561\n",
      "Train Epoch: 1 [8320/58829 (14%)]\tLoss: 0.383457\tR: 0.641585\n",
      "Train Epoch: 1 [8640/58829 (15%)]\tLoss: 0.673180\tR: 0.543315\n",
      "Train Epoch: 1 [8960/58829 (15%)]\tLoss: 0.460081\tR: 0.523151\n",
      "Train Epoch: 1 [9280/58829 (16%)]\tLoss: 0.520317\tR: 0.448288\n",
      "Train Epoch: 1 [9600/58829 (16%)]\tLoss: 0.510541\tR: 0.444156\n",
      "Train Epoch: 1 [9920/58829 (17%)]\tLoss: 0.469677\tR: 0.358844\n",
      "Train Epoch: 1 [10240/58829 (17%)]\tLoss: 0.438032\tR: 0.691122\n",
      "Train Epoch: 1 [10560/58829 (18%)]\tLoss: 0.765693\tR: 0.556503\n",
      "Train Epoch: 1 [10880/58829 (18%)]\tLoss: 0.348942\tR: 0.553034\n",
      "Train Epoch: 1 [11200/58829 (19%)]\tLoss: 1.186413\tR: 0.450567\n",
      "Train Epoch: 1 [11520/58829 (20%)]\tLoss: 0.388025\tR: 0.734901\n",
      "Train Epoch: 1 [11840/58829 (20%)]\tLoss: 0.502486\tR: 0.420942\n",
      "Train Epoch: 1 [12160/58829 (21%)]\tLoss: 0.787285\tR: 0.319407\n",
      "Train Epoch: 1 [12480/58829 (21%)]\tLoss: 1.295952\tR: 0.188490\n",
      "Train Epoch: 1 [12800/58829 (22%)]\tLoss: 0.323703\tR: 0.657018\n",
      "Train Epoch: 1 [13120/58829 (22%)]\tLoss: 0.416964\tR: 0.696267\n",
      "Train Epoch: 1 [13440/58829 (23%)]\tLoss: 1.951660\tR: 0.536508\n",
      "Train Epoch: 1 [13760/58829 (23%)]\tLoss: 0.472943\tR: 0.436921\n",
      "Train Epoch: 1 [14080/58829 (24%)]\tLoss: 0.985142\tR: 0.704932\n",
      "Train Epoch: 1 [14400/58829 (24%)]\tLoss: 0.582100\tR: 0.178213\n",
      "Train Epoch: 1 [14720/58829 (25%)]\tLoss: 1.304096\tR: 0.219819\n",
      "Train Epoch: 1 [15040/58829 (26%)]\tLoss: 1.248595\tR: 0.452576\n",
      "Train Epoch: 1 [15360/58829 (26%)]\tLoss: 0.453613\tR: 0.638417\n",
      "Train Epoch: 1 [15680/58829 (27%)]\tLoss: 1.399728\tR: 0.372790\n",
      "Train Epoch: 1 [16000/58829 (27%)]\tLoss: 0.392390\tR: 0.574277\n",
      "Train Epoch: 1 [16320/58829 (28%)]\tLoss: 0.430722\tR: 0.504976\n",
      "Train Epoch: 1 [16640/58829 (28%)]\tLoss: 1.399158\tR: 0.166989\n",
      "Train Epoch: 1 [16960/58829 (29%)]\tLoss: 0.507469\tR: 0.453808\n",
      "Train Epoch: 1 [17280/58829 (29%)]\tLoss: 0.278719\tR: 0.663859\n",
      "Train Epoch: 1 [17600/58829 (30%)]\tLoss: 0.256393\tR: 0.629636\n",
      "Train Epoch: 1 [17920/58829 (30%)]\tLoss: 0.325854\tR: 0.773334\n",
      "Train Epoch: 1 [18240/58829 (31%)]\tLoss: 0.210275\tR: 0.727573\n",
      "Train Epoch: 1 [18560/58829 (32%)]\tLoss: 0.749249\tR: 0.346186\n",
      "Train Epoch: 1 [18880/58829 (32%)]\tLoss: 0.714980\tR: 0.583619\n",
      "Train Epoch: 1 [19200/58829 (33%)]\tLoss: 0.273744\tR: 0.540621\n",
      "Train Epoch: 1 [19520/58829 (33%)]\tLoss: 0.358166\tR: 0.570803\n",
      "Train Epoch: 1 [19840/58829 (34%)]\tLoss: 2.139999\tR: 0.352841\n",
      "Train Epoch: 1 [20160/58829 (34%)]\tLoss: 0.516719\tR: 0.493937\n",
      "Train Epoch: 1 [20480/58829 (35%)]\tLoss: 1.374274\tR: 0.564786\n",
      "Train Epoch: 1 [20800/58829 (35%)]\tLoss: 1.652241\tR: 0.119660\n",
      "Train Epoch: 1 [21120/58829 (36%)]\tLoss: 1.415266\tR: 0.194185\n",
      "Train Epoch: 1 [21440/58829 (36%)]\tLoss: 0.662460\tR: 0.433164\n",
      "Train Epoch: 1 [21760/58829 (37%)]\tLoss: 1.209447\tR: 0.558119\n",
      "Train Epoch: 1 [22080/58829 (38%)]\tLoss: 0.440617\tR: 0.658343\n",
      "Train Epoch: 1 [22400/58829 (38%)]\tLoss: 1.094591\tR: 0.403472\n",
      "Train Epoch: 1 [22720/58829 (39%)]\tLoss: 0.335776\tR: 0.700980\n",
      "Train Epoch: 1 [23040/58829 (39%)]\tLoss: 0.381252\tR: 0.416601\n",
      "Train Epoch: 1 [23360/58829 (40%)]\tLoss: 1.023131\tR: 0.201310\n",
      "Train Epoch: 1 [23680/58829 (40%)]\tLoss: 1.510084\tR: 0.461996\n",
      "Train Epoch: 1 [24000/58829 (41%)]\tLoss: 1.085101\tR: 0.613719\n",
      "Train Epoch: 1 [24320/58829 (41%)]\tLoss: 0.336757\tR: 0.616916\n",
      "Train Epoch: 1 [24640/58829 (42%)]\tLoss: 0.978545\tR: 0.547445\n",
      "Train Epoch: 1 [24960/58829 (42%)]\tLoss: 0.634317\tR: 0.387500\n",
      "Train Epoch: 1 [25280/58829 (43%)]\tLoss: 1.430741\tR: 0.321883\n",
      "Train Epoch: 1 [25600/58829 (44%)]\tLoss: 1.192215\tR: 0.115324\n",
      "Train Epoch: 1 [25920/58829 (44%)]\tLoss: 0.312865\tR: 0.510744\n",
      "Train Epoch: 1 [26240/58829 (45%)]\tLoss: 0.311991\tR: 0.695952\n",
      "Train Epoch: 1 [26560/58829 (45%)]\tLoss: 0.343852\tR: 0.631935\n",
      "Train Epoch: 1 [26880/58829 (46%)]\tLoss: 0.308040\tR: 0.629919\n",
      "Train Epoch: 1 [27200/58829 (46%)]\tLoss: 0.227548\tR: 0.702142\n",
      "Train Epoch: 1 [27520/58829 (47%)]\tLoss: 0.399581\tR: 0.741504\n",
      "Train Epoch: 1 [27840/58829 (47%)]\tLoss: 0.329359\tR: 0.678139\n",
      "Train Epoch: 1 [28160/58829 (48%)]\tLoss: 0.298265\tR: 0.738329\n",
      "Train Epoch: 1 [28480/58829 (48%)]\tLoss: 0.346281\tR: 0.636909\n",
      "Train Epoch: 1 [28800/58829 (49%)]\tLoss: 0.213766\tR: 0.619003\n",
      "Train Epoch: 1 [29120/58829 (49%)]\tLoss: 0.495665\tR: 0.718445\n",
      "Train Epoch: 1 [29440/58829 (50%)]\tLoss: 1.115225\tR: 0.510310\n",
      "Train Epoch: 1 [29760/58829 (51%)]\tLoss: 1.535717\tR: 0.253660\n",
      "Train Epoch: 1 [30080/58829 (51%)]\tLoss: 0.487020\tR: 0.435163\n",
      "Train Epoch: 1 [30400/58829 (52%)]\tLoss: 0.304352\tR: 0.730149\n",
      "Train Epoch: 1 [30720/58829 (52%)]\tLoss: 1.425876\tR: 0.198133\n",
      "Train Epoch: 1 [31040/58829 (53%)]\tLoss: 0.329596\tR: 0.751843\n",
      "Train Epoch: 1 [31360/58829 (53%)]\tLoss: 0.603626\tR: 0.486911\n",
      "Train Epoch: 1 [31680/58829 (54%)]\tLoss: 0.384327\tR: 0.561323\n",
      "Train Epoch: 1 [32000/58829 (54%)]\tLoss: 0.331644\tR: 0.700304\n",
      "Train Epoch: 1 [32320/58829 (55%)]\tLoss: 0.423633\tR: 0.466149\n",
      "Train Epoch: 1 [32640/58829 (55%)]\tLoss: 0.429530\tR: 0.565790\n",
      "Train Epoch: 1 [32960/58829 (56%)]\tLoss: 0.395352\tR: 0.734178\n",
      "Train Epoch: 1 [33280/58829 (57%)]\tLoss: 0.476411\tR: 0.605282\n",
      "Train Epoch: 1 [33600/58829 (57%)]\tLoss: 0.639679\tR: 0.413870\n",
      "Train Epoch: 1 [33920/58829 (58%)]\tLoss: 2.221397\tR: 0.355472\n",
      "Train Epoch: 1 [34240/58829 (58%)]\tLoss: 0.525149\tR: 0.414909\n",
      "Train Epoch: 1 [34560/58829 (59%)]\tLoss: 0.448463\tR: 0.560458\n",
      "Train Epoch: 1 [34880/58829 (59%)]\tLoss: 0.522474\tR: 0.427125\n",
      "Train Epoch: 1 [35200/58829 (60%)]\tLoss: 0.618138\tR: 0.218637\n",
      "Train Epoch: 1 [35520/58829 (60%)]\tLoss: 0.437373\tR: 0.495479\n",
      "Train Epoch: 1 [35840/58829 (61%)]\tLoss: 0.622120\tR: 0.511970\n",
      "Train Epoch: 1 [36160/58829 (61%)]\tLoss: 0.408764\tR: 0.528494\n",
      "Train Epoch: 1 [36480/58829 (62%)]\tLoss: 1.203079\tR: 0.323137\n",
      "Train Epoch: 1 [36800/58829 (63%)]\tLoss: 0.338039\tR: 0.697897\n",
      "Train Epoch: 1 [37120/58829 (63%)]\tLoss: 0.585111\tR: 0.596242\n",
      "Train Epoch: 1 [37440/58829 (64%)]\tLoss: 0.426066\tR: 0.643716\n",
      "Train Epoch: 1 [37760/58829 (64%)]\tLoss: 0.285388\tR: 0.606495\n",
      "Train Epoch: 1 [38080/58829 (65%)]\tLoss: 1.219367\tR: 0.406481\n",
      "Train Epoch: 1 [38400/58829 (65%)]\tLoss: 0.312901\tR: 0.499963\n",
      "Train Epoch: 1 [38720/58829 (66%)]\tLoss: 0.494974\tR: 0.586820\n",
      "Train Epoch: 1 [39040/58829 (66%)]\tLoss: 0.534473\tR: 0.404511\n",
      "Train Epoch: 1 [39360/58829 (67%)]\tLoss: 0.279130\tR: 0.671976\n",
      "Train Epoch: 1 [39680/58829 (67%)]\tLoss: 0.684591\tR: 0.191117\n",
      "Train Epoch: 1 [40000/58829 (68%)]\tLoss: 0.626530\tR: 0.487922\n",
      "Train Epoch: 1 [40320/58829 (69%)]\tLoss: 1.225502\tR: 0.371435\n",
      "Train Epoch: 1 [40640/58829 (69%)]\tLoss: 0.410730\tR: 0.360433\n",
      "Train Epoch: 1 [40960/58829 (70%)]\tLoss: 0.181614\tR: 0.666547\n",
      "Train Epoch: 1 [41280/58829 (70%)]\tLoss: 1.402707\tR: 0.409808\n",
      "Train Epoch: 1 [41600/58829 (71%)]\tLoss: 0.553747\tR: 0.504630\n",
      "Train Epoch: 1 [41920/58829 (71%)]\tLoss: 0.549648\tR: 0.610557\n",
      "Train Epoch: 1 [42240/58829 (72%)]\tLoss: 1.383799\tR: 0.586049\n",
      "Train Epoch: 1 [42560/58829 (72%)]\tLoss: 1.237791\tR: 0.292008\n",
      "Train Epoch: 1 [42880/58829 (73%)]\tLoss: 0.488658\tR: 0.414748\n",
      "Train Epoch: 1 [43200/58829 (73%)]\tLoss: 0.534221\tR: 0.320817\n",
      "Train Epoch: 1 [43520/58829 (74%)]\tLoss: 1.708359\tR: 0.028730\n",
      "Train Epoch: 1 [43840/58829 (75%)]\tLoss: 0.924920\tR: 0.334225\n",
      "Train Epoch: 1 [44160/58829 (75%)]\tLoss: 0.366532\tR: 0.657656\n",
      "Train Epoch: 1 [44480/58829 (76%)]\tLoss: 1.087221\tR: 0.684170\n",
      "Train Epoch: 1 [44800/58829 (76%)]\tLoss: 0.187214\tR: 0.751420\n",
      "Train Epoch: 1 [45120/58829 (77%)]\tLoss: 1.165980\tR: 0.455648\n",
      "Train Epoch: 1 [45440/58829 (77%)]\tLoss: 0.397360\tR: 0.616459\n",
      "Train Epoch: 1 [45760/58829 (78%)]\tLoss: 1.931623\tR: 0.546970\n",
      "Train Epoch: 1 [46080/58829 (78%)]\tLoss: 0.328830\tR: 0.400230\n",
      "Train Epoch: 1 [46400/58829 (79%)]\tLoss: 0.271506\tR: 0.795778\n",
      "Train Epoch: 1 [46720/58829 (79%)]\tLoss: 1.304267\tR: 0.408743\n",
      "Train Epoch: 1 [47040/58829 (80%)]\tLoss: 1.512747\tR: -0.114958\n",
      "Train Epoch: 1 [47360/58829 (81%)]\tLoss: 0.717010\tR: 0.311888\n",
      "Train Epoch: 1 [47680/58829 (81%)]\tLoss: 0.421602\tR: 0.579012\n",
      "Train Epoch: 1 [48000/58829 (82%)]\tLoss: 1.263676\tR: 0.501011\n",
      "Train Epoch: 1 [48320/58829 (82%)]\tLoss: 0.712009\tR: 0.514738\n",
      "Train Epoch: 1 [48640/58829 (83%)]\tLoss: 1.418970\tR: 0.215415\n",
      "Train Epoch: 1 [48960/58829 (83%)]\tLoss: 1.161115\tR: 0.659879\n",
      "Train Epoch: 1 [49280/58829 (84%)]\tLoss: 1.845424\tR: 0.486641\n",
      "Train Epoch: 1 [49600/58829 (84%)]\tLoss: 0.227210\tR: 0.743316\n",
      "Train Epoch: 1 [49920/58829 (85%)]\tLoss: 1.208457\tR: 0.353136\n",
      "Train Epoch: 1 [50240/58829 (85%)]\tLoss: 2.160218\tR: 0.326790\n",
      "Train Epoch: 1 [50560/58829 (86%)]\tLoss: 1.171452\tR: 0.546984\n",
      "Train Epoch: 1 [50880/58829 (86%)]\tLoss: 0.491709\tR: 0.446678\n",
      "Train Epoch: 1 [51200/58829 (87%)]\tLoss: 0.540719\tR: 0.410944\n",
      "Train Epoch: 1 [51520/58829 (88%)]\tLoss: 1.311725\tR: 0.232288\n",
      "Train Epoch: 1 [51840/58829 (88%)]\tLoss: 0.734726\tR: 0.533716\n",
      "Train Epoch: 1 [52160/58829 (89%)]\tLoss: 0.360014\tR: 0.639132\n",
      "Train Epoch: 1 [52480/58829 (89%)]\tLoss: 0.477691\tR: 0.542138\n",
      "Train Epoch: 1 [52800/58829 (90%)]\tLoss: 0.366920\tR: 0.593836\n",
      "Train Epoch: 1 [53120/58829 (90%)]\tLoss: 0.385526\tR: 0.652029\n",
      "Train Epoch: 1 [53440/58829 (91%)]\tLoss: 0.366005\tR: 0.571415\n",
      "Train Epoch: 1 [53760/58829 (91%)]\tLoss: 0.411051\tR: 0.663991\n",
      "Train Epoch: 1 [54080/58829 (92%)]\tLoss: 0.522512\tR: 0.546860\n",
      "Train Epoch: 1 [54400/58829 (92%)]\tLoss: 0.279528\tR: 0.333507\n",
      "Train Epoch: 1 [54720/58829 (93%)]\tLoss: 0.348544\tR: 0.640363\n",
      "Train Epoch: 1 [55040/58829 (94%)]\tLoss: 1.284989\tR: 0.235116\n",
      "Train Epoch: 1 [55360/58829 (94%)]\tLoss: 0.357837\tR: 0.373545\n",
      "Train Epoch: 1 [55680/58829 (95%)]\tLoss: 0.199906\tR: 0.654555\n",
      "Train Epoch: 1 [56000/58829 (95%)]\tLoss: 1.326825\tR: 0.377891\n",
      "Train Epoch: 1 [56320/58829 (96%)]\tLoss: 0.337263\tR: 0.251718\n",
      "Train Epoch: 1 [56640/58829 (96%)]\tLoss: 0.306599\tR: 0.560840\n",
      "Train Epoch: 1 [56960/58829 (97%)]\tLoss: 0.720781\tR: 0.551760\n",
      "Train Epoch: 1 [57280/58829 (97%)]\tLoss: 0.428372\tR: 0.554110\n",
      "Train Epoch: 1 [57600/58829 (98%)]\tLoss: 0.267843\tR: 0.660475\n",
      "Train Epoch: 1 [57920/58829 (98%)]\tLoss: 0.486475\tR: 0.564358\n",
      "Train Epoch: 1 [58240/58829 (99%)]\tLoss: 0.824361\tR: 0.629435\n",
      "Train Epoch: 1 [58560/58829 (100%)]\tLoss: 0.401876\tR: 0.543032\n",
      "Validation: Loss: 0.660105\tR: 0.602489\n",
      "Best model updated.\n",
      "Train Epoch: 2 [0/58829 (0%)]\tLoss: 0.276068\tR: 0.620252\n",
      "Train Epoch: 2 [320/58829 (1%)]\tLoss: 0.414696\tR: 0.263426\n",
      "Train Epoch: 2 [640/58829 (1%)]\tLoss: 1.251287\tR: 0.445192\n",
      "Train Epoch: 2 [960/58829 (2%)]\tLoss: 0.215063\tR: 0.577515\n",
      "Train Epoch: 2 [1280/58829 (2%)]\tLoss: 1.189009\tR: 0.446655\n",
      "Train Epoch: 2 [1600/58829 (3%)]\tLoss: 0.450371\tR: 0.582404\n",
      "Train Epoch: 2 [1920/58829 (3%)]\tLoss: 2.344269\tR: 0.222737\n",
      "Train Epoch: 2 [2240/58829 (4%)]\tLoss: 1.498767\tR: 0.157344\n",
      "Train Epoch: 2 [2560/58829 (4%)]\tLoss: 1.195094\tR: 0.529191\n",
      "Train Epoch: 2 [2880/58829 (5%)]\tLoss: 0.363639\tR: 0.621751\n",
      "Train Epoch: 2 [3200/58829 (5%)]\tLoss: 1.299965\tR: 0.316971\n",
      "Train Epoch: 2 [3520/58829 (6%)]\tLoss: 2.228782\tR: 0.283013\n",
      "Train Epoch: 2 [3840/58829 (7%)]\tLoss: 0.507847\tR: 0.315268\n",
      "Train Epoch: 2 [4160/58829 (7%)]\tLoss: 1.144359\tR: 0.528325\n",
      "Train Epoch: 2 [4480/58829 (8%)]\tLoss: 0.582246\tR: 0.551089\n",
      "Train Epoch: 2 [4800/58829 (8%)]\tLoss: 0.308829\tR: 0.462691\n",
      "Train Epoch: 2 [5120/58829 (9%)]\tLoss: 0.412798\tR: 0.340635\n",
      "Train Epoch: 2 [5440/58829 (9%)]\tLoss: 0.472619\tR: 0.477507\n",
      "Train Epoch: 2 [5760/58829 (10%)]\tLoss: 1.244298\tR: 0.468236\n",
      "Train Epoch: 2 [6080/58829 (10%)]\tLoss: 1.110037\tR: 0.466121\n",
      "Train Epoch: 2 [6400/58829 (11%)]\tLoss: 1.878828\tR: 0.632369\n",
      "Train Epoch: 2 [6720/58829 (11%)]\tLoss: 0.256259\tR: 0.693140\n",
      "Train Epoch: 2 [7040/58829 (12%)]\tLoss: 0.471636\tR: 0.567289\n",
      "Train Epoch: 2 [7360/58829 (13%)]\tLoss: 1.575674\tR: 0.139665\n",
      "Train Epoch: 2 [7680/58829 (13%)]\tLoss: 1.264160\tR: 0.515692\n",
      "Train Epoch: 2 [8000/58829 (14%)]\tLoss: 0.367190\tR: 0.585414\n",
      "Train Epoch: 2 [8320/58829 (14%)]\tLoss: 0.462891\tR: 0.597641\n",
      "Train Epoch: 2 [8640/58829 (15%)]\tLoss: 0.936072\tR: 0.692946\n",
      "Train Epoch: 2 [8960/58829 (15%)]\tLoss: 1.640373\tR: 0.368121\n",
      "Train Epoch: 2 [9280/58829 (16%)]\tLoss: 0.310450\tR: 0.558613\n",
      "Train Epoch: 2 [9600/58829 (16%)]\tLoss: 0.477051\tR: 0.565908\n",
      "Train Epoch: 2 [9920/58829 (17%)]\tLoss: 1.464285\tR: 0.391287\n",
      "Train Epoch: 2 [10240/58829 (17%)]\tLoss: 0.720409\tR: 0.446351\n",
      "Train Epoch: 2 [10560/58829 (18%)]\tLoss: 0.982452\tR: 0.724697\n",
      "Train Epoch: 2 [10880/58829 (18%)]\tLoss: 1.271614\tR: 0.326367\n",
      "Train Epoch: 2 [11200/58829 (19%)]\tLoss: 0.339583\tR: 0.507318\n",
      "Train Epoch: 2 [11520/58829 (20%)]\tLoss: 1.154678\tR: 0.598205\n",
      "Train Epoch: 2 [11840/58829 (20%)]\tLoss: 1.350040\tR: 0.355101\n",
      "Train Epoch: 2 [12160/58829 (21%)]\tLoss: 0.298515\tR: 0.498240\n",
      "Train Epoch: 2 [12480/58829 (21%)]\tLoss: 0.444269\tR: 0.338500\n",
      "Train Epoch: 2 [12800/58829 (22%)]\tLoss: 0.551759\tR: 0.512184\n",
      "Train Epoch: 2 [13120/58829 (22%)]\tLoss: 0.536493\tR: 0.636257\n",
      "Train Epoch: 2 [13440/58829 (23%)]\tLoss: 1.133136\tR: 0.526282\n",
      "Train Epoch: 2 [13760/58829 (23%)]\tLoss: 1.407487\tR: 0.257905\n",
      "Train Epoch: 2 [14080/58829 (24%)]\tLoss: 0.378875\tR: 0.548072\n",
      "Train Epoch: 2 [14400/58829 (24%)]\tLoss: 0.533248\tR: 0.233286\n",
      "Train Epoch: 2 [14720/58829 (25%)]\tLoss: 0.530516\tR: 0.547205\n",
      "Train Epoch: 2 [15040/58829 (26%)]\tLoss: 0.311281\tR: 0.564629\n",
      "Train Epoch: 2 [15360/58829 (26%)]\tLoss: 0.397666\tR: 0.472556\n",
      "Train Epoch: 2 [15680/58829 (27%)]\tLoss: 0.791771\tR: 0.481833\n",
      "Train Epoch: 2 [16000/58829 (27%)]\tLoss: 0.215667\tR: 0.570168\n",
      "Train Epoch: 2 [16320/58829 (28%)]\tLoss: 1.311928\tR: 0.445561\n",
      "Train Epoch: 2 [16640/58829 (28%)]\tLoss: 0.553374\tR: 0.699622\n",
      "Train Epoch: 2 [16960/58829 (29%)]\tLoss: 2.207760\tR: 0.245659\n",
      "Train Epoch: 2 [17280/58829 (29%)]\tLoss: 0.340218\tR: 0.680310\n",
      "Train Epoch: 2 [17600/58829 (30%)]\tLoss: 0.517979\tR: 0.366241\n",
      "Train Epoch: 2 [17920/58829 (30%)]\tLoss: 1.356012\tR: 0.116703\n",
      "Train Epoch: 2 [18240/58829 (31%)]\tLoss: 1.339929\tR: 0.542710\n",
      "Train Epoch: 2 [18560/58829 (32%)]\tLoss: 0.617693\tR: 0.299440\n",
      "Train Epoch: 2 [18880/58829 (32%)]\tLoss: 0.356011\tR: 0.669878\n",
      "Train Epoch: 2 [19200/58829 (33%)]\tLoss: 0.356536\tR: 0.644409\n",
      "Train Epoch: 2 [19520/58829 (33%)]\tLoss: 0.501008\tR: 0.612916\n",
      "Train Epoch: 2 [19840/58829 (34%)]\tLoss: 0.455841\tR: 0.638790\n",
      "Train Epoch: 2 [20160/58829 (34%)]\tLoss: 1.292945\tR: 0.328821\n",
      "Train Epoch: 2 [20480/58829 (35%)]\tLoss: 1.095001\tR: 0.632819\n",
      "Train Epoch: 2 [20800/58829 (35%)]\tLoss: 0.276489\tR: 0.468938\n",
      "Train Epoch: 2 [21120/58829 (36%)]\tLoss: 0.370376\tR: 0.616427\n",
      "Train Epoch: 2 [21440/58829 (36%)]\tLoss: 0.489520\tR: 0.452060\n",
      "Train Epoch: 2 [21760/58829 (37%)]\tLoss: 1.240730\tR: 0.199059\n",
      "Train Epoch: 2 [22080/58829 (38%)]\tLoss: 0.279884\tR: 0.565785\n",
      "Train Epoch: 2 [22400/58829 (38%)]\tLoss: 0.999026\tR: 0.635003\n",
      "Train Epoch: 2 [22720/58829 (39%)]\tLoss: 0.371127\tR: 0.565195\n",
      "Train Epoch: 2 [23040/58829 (39%)]\tLoss: 0.315286\tR: 0.472456\n",
      "Train Epoch: 2 [23360/58829 (40%)]\tLoss: 0.421526\tR: 0.698315\n",
      "Train Epoch: 2 [23680/58829 (40%)]\tLoss: 0.411063\tR: 0.603905\n",
      "Train Epoch: 2 [24000/58829 (41%)]\tLoss: 0.417725\tR: 0.593719\n",
      "Train Epoch: 2 [24320/58829 (41%)]\tLoss: 0.404091\tR: 0.453556\n",
      "Train Epoch: 2 [24640/58829 (42%)]\tLoss: 0.255473\tR: 0.511697\n",
      "Train Epoch: 2 [24960/58829 (42%)]\tLoss: 0.346228\tR: 0.580577\n",
      "Train Epoch: 2 [25280/58829 (43%)]\tLoss: 1.257362\tR: 0.395727\n",
      "Train Epoch: 2 [25600/58829 (44%)]\tLoss: 0.314732\tR: 0.774117\n",
      "Train Epoch: 2 [25920/58829 (44%)]\tLoss: 0.449369\tR: 0.561889\n",
      "Train Epoch: 2 [26240/58829 (45%)]\tLoss: 1.174759\tR: 0.492634\n",
      "Train Epoch: 2 [26560/58829 (45%)]\tLoss: 0.414595\tR: 0.577141\n",
      "Train Epoch: 2 [26880/58829 (46%)]\tLoss: 0.593461\tR: 0.553393\n",
      "Train Epoch: 2 [27200/58829 (46%)]\tLoss: 0.463483\tR: 0.554330\n",
      "Train Epoch: 2 [27520/58829 (47%)]\tLoss: 0.311803\tR: 0.483759\n",
      "Train Epoch: 2 [27840/58829 (47%)]\tLoss: 0.357937\tR: 0.653469\n",
      "Train Epoch: 2 [28160/58829 (48%)]\tLoss: 0.397546\tR: 0.624314\n",
      "Train Epoch: 2 [28480/58829 (48%)]\tLoss: 1.304587\tR: 0.290713\n",
      "Train Epoch: 2 [28800/58829 (49%)]\tLoss: 0.253752\tR: 0.556191\n",
      "Train Epoch: 2 [29120/58829 (49%)]\tLoss: 0.481864\tR: 0.606971\n",
      "Train Epoch: 2 [29440/58829 (50%)]\tLoss: 0.373801\tR: 0.440833\n",
      "Train Epoch: 2 [29760/58829 (51%)]\tLoss: 0.352713\tR: 0.473751\n",
      "Train Epoch: 2 [30080/58829 (51%)]\tLoss: 0.576047\tR: 0.488863\n",
      "Train Epoch: 2 [30400/58829 (52%)]\tLoss: 1.785240\tR: 0.511279\n",
      "Train Epoch: 2 [30720/58829 (52%)]\tLoss: 1.493130\tR: 0.320327\n",
      "Train Epoch: 2 [31040/58829 (53%)]\tLoss: 0.342768\tR: 0.419120\n",
      "Train Epoch: 2 [31360/58829 (53%)]\tLoss: 0.511680\tR: 0.556426\n",
      "Train Epoch: 2 [31680/58829 (54%)]\tLoss: 0.568450\tR: 0.495540\n",
      "Train Epoch: 2 [32000/58829 (54%)]\tLoss: 1.027621\tR: 0.621225\n",
      "Train Epoch: 2 [32320/58829 (55%)]\tLoss: 0.327668\tR: 0.677168\n",
      "Train Epoch: 2 [32640/58829 (55%)]\tLoss: 1.214517\tR: 0.419012\n",
      "Train Epoch: 2 [32960/58829 (56%)]\tLoss: 0.482215\tR: 0.635976\n",
      "Train Epoch: 2 [33280/58829 (57%)]\tLoss: 0.348893\tR: 0.449417\n",
      "Train Epoch: 2 [33600/58829 (57%)]\tLoss: 0.709492\tR: 0.553135\n",
      "Train Epoch: 2 [33920/58829 (58%)]\tLoss: 1.393894\tR: 0.213363\n",
      "Train Epoch: 2 [34240/58829 (58%)]\tLoss: 0.661603\tR: 0.446274\n",
      "Train Epoch: 2 [34560/58829 (59%)]\tLoss: 0.462481\tR: 0.401188\n",
      "Train Epoch: 2 [34880/58829 (59%)]\tLoss: 0.344563\tR: 0.557103\n",
      "Train Epoch: 2 [35200/58829 (60%)]\tLoss: 0.390810\tR: 0.532432\n",
      "Train Epoch: 2 [35520/58829 (60%)]\tLoss: 1.633967\tR: 0.041747\n",
      "Train Epoch: 2 [35840/58829 (61%)]\tLoss: 1.375189\tR: 0.234109\n",
      "Train Epoch: 2 [36160/58829 (61%)]\tLoss: 0.391927\tR: 0.719963\n",
      "Train Epoch: 2 [36480/58829 (62%)]\tLoss: 0.526550\tR: 0.436603\n",
      "Train Epoch: 2 [36800/58829 (63%)]\tLoss: 0.575984\tR: 0.291183\n",
      "Train Epoch: 2 [37120/58829 (63%)]\tLoss: 0.447076\tR: 0.506096\n",
      "Train Epoch: 2 [37440/58829 (64%)]\tLoss: 0.325627\tR: 0.543673\n",
      "Train Epoch: 2 [37760/58829 (64%)]\tLoss: 0.474592\tR: 0.532000\n",
      "Train Epoch: 2 [38080/58829 (65%)]\tLoss: 0.910131\tR: 0.660085\n",
      "Train Epoch: 2 [38400/58829 (65%)]\tLoss: 0.320110\tR: 0.707232\n",
      "Train Epoch: 2 [38720/58829 (66%)]\tLoss: 0.353567\tR: 0.507228\n",
      "Train Epoch: 2 [39040/58829 (66%)]\tLoss: 0.914662\tR: 0.426195\n",
      "Train Epoch: 2 [39360/58829 (67%)]\tLoss: 0.383089\tR: 0.698973\n",
      "Train Epoch: 2 [39680/58829 (67%)]\tLoss: 0.304295\tR: 0.634060\n",
      "Train Epoch: 2 [40000/58829 (68%)]\tLoss: 1.126049\tR: 0.558732\n",
      "Train Epoch: 2 [40320/58829 (69%)]\tLoss: 0.222000\tR: 0.667002\n",
      "Train Epoch: 2 [40640/58829 (69%)]\tLoss: 0.267916\tR: 0.754910\n",
      "Train Epoch: 2 [40960/58829 (70%)]\tLoss: 0.583964\tR: 0.660299\n",
      "Train Epoch: 2 [41280/58829 (70%)]\tLoss: 2.266855\tR: 0.352518\n",
      "Train Epoch: 2 [41600/58829 (71%)]\tLoss: 0.356200\tR: 0.398869\n",
      "Train Epoch: 2 [41920/58829 (71%)]\tLoss: 1.351439\tR: 0.490609\n",
      "Train Epoch: 2 [42240/58829 (72%)]\tLoss: 1.175737\tR: 0.395356\n",
      "Train Epoch: 2 [42560/58829 (72%)]\tLoss: 0.347765\tR: 0.588980\n",
      "Train Epoch: 2 [42880/58829 (73%)]\tLoss: 0.412627\tR: 0.447161\n",
      "Train Epoch: 2 [43200/58829 (73%)]\tLoss: 0.569964\tR: 0.438617\n",
      "Train Epoch: 2 [43520/58829 (74%)]\tLoss: 0.495003\tR: 0.625189\n",
      "Train Epoch: 2 [43840/58829 (75%)]\tLoss: 0.278147\tR: 0.499253\n",
      "Train Epoch: 2 [44160/58829 (75%)]\tLoss: 0.427791\tR: 0.588320\n",
      "Train Epoch: 2 [44480/58829 (76%)]\tLoss: 0.447765\tR: 0.688665\n",
      "Train Epoch: 2 [44800/58829 (76%)]\tLoss: 0.232499\tR: 0.768790\n",
      "Train Epoch: 2 [45120/58829 (77%)]\tLoss: 0.329323\tR: 0.534487\n",
      "Train Epoch: 2 [45440/58829 (77%)]\tLoss: 0.240637\tR: 0.661949\n",
      "Train Epoch: 2 [45760/58829 (78%)]\tLoss: 1.479956\tR: 0.334467\n",
      "Train Epoch: 2 [46080/58829 (78%)]\tLoss: 0.371121\tR: 0.632944\n",
      "Train Epoch: 2 [46400/58829 (79%)]\tLoss: 0.251956\tR: 0.788774\n",
      "Train Epoch: 2 [46720/58829 (79%)]\tLoss: 0.721937\tR: 0.449414\n",
      "Train Epoch: 2 [47040/58829 (80%)]\tLoss: 0.343643\tR: 0.549255\n",
      "Train Epoch: 2 [47360/58829 (81%)]\tLoss: 0.255532\tR: 0.687193\n",
      "Train Epoch: 2 [47680/58829 (81%)]\tLoss: 0.445295\tR: 0.517792\n",
      "Train Epoch: 2 [48000/58829 (82%)]\tLoss: 0.458672\tR: 0.413633\n",
      "Train Epoch: 2 [48320/58829 (82%)]\tLoss: 0.406319\tR: 0.537930\n",
      "Train Epoch: 2 [48640/58829 (83%)]\tLoss: 0.233574\tR: 0.489085\n",
      "Train Epoch: 2 [48960/58829 (83%)]\tLoss: 0.506000\tR: 0.496992\n",
      "Train Epoch: 2 [49280/58829 (84%)]\tLoss: 0.638635\tR: 0.404027\n",
      "Train Epoch: 2 [49600/58829 (84%)]\tLoss: 0.421401\tR: 0.450658\n",
      "Train Epoch: 2 [49920/58829 (85%)]\tLoss: 0.368607\tR: 0.545406\n",
      "Train Epoch: 2 [50240/58829 (85%)]\tLoss: 0.391045\tR: 0.567716\n",
      "Train Epoch: 2 [50560/58829 (86%)]\tLoss: 0.280995\tR: 0.739102\n",
      "Train Epoch: 2 [50880/58829 (86%)]\tLoss: 0.508537\tR: 0.424279\n",
      "Train Epoch: 2 [51200/58829 (87%)]\tLoss: 0.327183\tR: 0.708237\n",
      "Train Epoch: 2 [51520/58829 (88%)]\tLoss: 0.553744\tR: 0.602044\n",
      "Train Epoch: 2 [51840/58829 (88%)]\tLoss: 0.389076\tR: 0.632028\n",
      "Train Epoch: 2 [52160/58829 (89%)]\tLoss: 1.206721\tR: 0.377907\n",
      "Train Epoch: 2 [52480/58829 (89%)]\tLoss: 0.362538\tR: 0.532977\n",
      "Train Epoch: 2 [52800/58829 (90%)]\tLoss: 0.652444\tR: 0.468937\n",
      "Train Epoch: 2 [53120/58829 (90%)]\tLoss: 1.076229\tR: 0.559051\n",
      "Train Epoch: 2 [53440/58829 (91%)]\tLoss: 0.549621\tR: 0.495156\n",
      "Train Epoch: 2 [53760/58829 (91%)]\tLoss: 0.605029\tR: 0.596339\n",
      "Train Epoch: 2 [54080/58829 (92%)]\tLoss: 1.263075\tR: 0.507582\n",
      "Train Epoch: 2 [54400/58829 (92%)]\tLoss: 0.253655\tR: 0.638257\n",
      "Train Epoch: 2 [54720/58829 (93%)]\tLoss: 0.352952\tR: 0.500105\n",
      "Train Epoch: 2 [55040/58829 (94%)]\tLoss: 0.381911\tR: 0.531208\n",
      "Train Epoch: 2 [55360/58829 (94%)]\tLoss: 0.402886\tR: 0.556005\n",
      "Train Epoch: 2 [55680/58829 (95%)]\tLoss: 0.497597\tR: 0.673596\n",
      "Train Epoch: 2 [56000/58829 (95%)]\tLoss: 0.545419\tR: 0.524157\n",
      "Train Epoch: 2 [56320/58829 (96%)]\tLoss: 0.328272\tR: 0.736592\n",
      "Train Epoch: 2 [56640/58829 (96%)]\tLoss: 0.309552\tR: 0.628320\n",
      "Train Epoch: 2 [56960/58829 (97%)]\tLoss: 1.296579\tR: 0.443648\n",
      "Train Epoch: 2 [57280/58829 (97%)]\tLoss: 0.364160\tR: 0.638342\n",
      "Train Epoch: 2 [57600/58829 (98%)]\tLoss: 0.287951\tR: 0.672269\n",
      "Train Epoch: 2 [57920/58829 (98%)]\tLoss: 1.254435\tR: 0.324067\n",
      "Train Epoch: 2 [58240/58829 (99%)]\tLoss: 0.586845\tR: 0.467510\n",
      "Train Epoch: 2 [58560/58829 (100%)]\tLoss: 0.509996\tR: 0.437588\n",
      "Validation: Loss: 0.663143\tR: 0.611527\n",
      "Best model updated.\n",
      "Train Epoch: 3 [0/58829 (0%)]\tLoss: 0.432758\tR: 0.573430\n",
      "Train Epoch: 3 [320/58829 (1%)]\tLoss: 0.439674\tR: 0.697122\n",
      "Train Epoch: 3 [640/58829 (1%)]\tLoss: 0.361960\tR: 0.740041\n",
      "Train Epoch: 3 [960/58829 (2%)]\tLoss: 0.183956\tR: 0.797199\n",
      "Train Epoch: 3 [1280/58829 (2%)]\tLoss: 0.441283\tR: 0.628557\n",
      "Train Epoch: 3 [1600/58829 (3%)]\tLoss: 1.096363\tR: 0.652443\n",
      "Train Epoch: 3 [1920/58829 (3%)]\tLoss: 0.611056\tR: 0.574558\n",
      "Train Epoch: 3 [2240/58829 (4%)]\tLoss: 0.495874\tR: 0.620968\n",
      "Train Epoch: 3 [2560/58829 (4%)]\tLoss: 0.343838\tR: 0.624834\n",
      "Train Epoch: 3 [2880/58829 (5%)]\tLoss: 0.325686\tR: 0.754781\n",
      "Train Epoch: 3 [3200/58829 (5%)]\tLoss: 0.518936\tR: 0.384012\n",
      "Train Epoch: 3 [3520/58829 (6%)]\tLoss: 0.439112\tR: 0.737238\n",
      "Train Epoch: 3 [3840/58829 (7%)]\tLoss: 0.256766\tR: 0.629695\n",
      "Train Epoch: 3 [4160/58829 (7%)]\tLoss: 1.298806\tR: 0.490834\n",
      "Train Epoch: 3 [4480/58829 (8%)]\tLoss: 0.363699\tR: 0.684896\n",
      "Train Epoch: 3 [4800/58829 (8%)]\tLoss: 0.508939\tR: 0.373821\n",
      "Train Epoch: 3 [5120/58829 (9%)]\tLoss: 0.305993\tR: 0.695422\n",
      "Train Epoch: 3 [5440/58829 (9%)]\tLoss: 0.321321\tR: 0.686254\n",
      "Train Epoch: 3 [5760/58829 (10%)]\tLoss: 0.727086\tR: 0.571736\n",
      "Train Epoch: 3 [6080/58829 (10%)]\tLoss: 0.399036\tR: 0.544794\n",
      "Train Epoch: 3 [6400/58829 (11%)]\tLoss: 0.467377\tR: 0.636591\n",
      "Train Epoch: 3 [6720/58829 (11%)]\tLoss: 0.443914\tR: 0.539033\n",
      "Train Epoch: 3 [7040/58829 (12%)]\tLoss: 0.260411\tR: 0.643557\n",
      "Train Epoch: 3 [7360/58829 (13%)]\tLoss: 0.454510\tR: 0.426086\n",
      "Train Epoch: 3 [7680/58829 (13%)]\tLoss: 1.305027\tR: 0.467664\n",
      "Train Epoch: 3 [8000/58829 (14%)]\tLoss: 0.256447\tR: 0.622816\n",
      "Train Epoch: 3 [8320/58829 (14%)]\tLoss: 0.897299\tR: 0.618588\n",
      "Train Epoch: 3 [8640/58829 (15%)]\tLoss: 0.381427\tR: 0.761420\n",
      "Train Epoch: 3 [8960/58829 (15%)]\tLoss: 0.309157\tR: 0.642855\n",
      "Train Epoch: 3 [9280/58829 (16%)]\tLoss: 1.597521\tR: 0.439622\n",
      "Train Epoch: 3 [9600/58829 (16%)]\tLoss: 0.354993\tR: 0.479589\n",
      "Train Epoch: 3 [9920/58829 (17%)]\tLoss: 3.189865\tR: 0.274351\n",
      "Train Epoch: 3 [10240/58829 (17%)]\tLoss: 1.397236\tR: 0.235930\n",
      "Train Epoch: 3 [10560/58829 (18%)]\tLoss: 0.294484\tR: 0.617902\n",
      "Train Epoch: 3 [10880/58829 (18%)]\tLoss: 2.139629\tR: 0.283525\n",
      "Train Epoch: 3 [11200/58829 (19%)]\tLoss: 0.367960\tR: 0.471027\n",
      "Train Epoch: 3 [11520/58829 (20%)]\tLoss: 1.421957\tR: 0.200857\n",
      "Train Epoch: 3 [11840/58829 (20%)]\tLoss: 1.408968\tR: 0.480891\n",
      "Train Epoch: 3 [12160/58829 (21%)]\tLoss: 0.329887\tR: 0.628324\n",
      "Train Epoch: 3 [12480/58829 (21%)]\tLoss: 0.416388\tR: 0.631713\n",
      "Train Epoch: 3 [12800/58829 (22%)]\tLoss: 0.389592\tR: 0.573292\n",
      "Train Epoch: 3 [13120/58829 (22%)]\tLoss: 1.283653\tR: 0.500053\n",
      "Train Epoch: 3 [13440/58829 (23%)]\tLoss: 0.360010\tR: 0.600822\n",
      "Train Epoch: 3 [13760/58829 (23%)]\tLoss: 1.181939\tR: 0.391124\n",
      "Train Epoch: 3 [14080/58829 (24%)]\tLoss: 0.307241\tR: 0.562402\n",
      "Train Epoch: 3 [14400/58829 (24%)]\tLoss: 0.486504\tR: 0.634347\n",
      "Train Epoch: 3 [14720/58829 (25%)]\tLoss: 0.357391\tR: 0.465214\n",
      "Train Epoch: 3 [15040/58829 (26%)]\tLoss: 0.367411\tR: 0.492338\n",
      "Train Epoch: 3 [15360/58829 (26%)]\tLoss: 0.294311\tR: 0.691630\n",
      "Train Epoch: 3 [15680/58829 (27%)]\tLoss: 0.401420\tR: 0.645501\n",
      "Train Epoch: 3 [16000/58829 (27%)]\tLoss: 0.617782\tR: 0.308995\n",
      "Train Epoch: 3 [16320/58829 (28%)]\tLoss: 1.334283\tR: 0.380922\n",
      "Train Epoch: 3 [16640/58829 (28%)]\tLoss: 0.436419\tR: 0.577343\n",
      "Train Epoch: 3 [16960/58829 (29%)]\tLoss: 1.339329\tR: 0.444641\n",
      "Train Epoch: 3 [17280/58829 (29%)]\tLoss: 0.968366\tR: 0.602865\n",
      "Train Epoch: 3 [17600/58829 (30%)]\tLoss: 0.448702\tR: 0.601700\n",
      "Train Epoch: 3 [17920/58829 (30%)]\tLoss: 0.493717\tR: 0.214819\n",
      "Train Epoch: 3 [18240/58829 (31%)]\tLoss: 0.424765\tR: 0.533496\n",
      "Train Epoch: 3 [18560/58829 (32%)]\tLoss: 0.310524\tR: 0.433623\n",
      "Train Epoch: 3 [18880/58829 (32%)]\tLoss: 1.460119\tR: 0.290263\n",
      "Train Epoch: 3 [19200/58829 (33%)]\tLoss: 0.331713\tR: 0.602356\n",
      "Train Epoch: 3 [19520/58829 (33%)]\tLoss: 0.459279\tR: 0.330064\n",
      "Train Epoch: 3 [19840/58829 (34%)]\tLoss: 0.253382\tR: 0.636454\n",
      "Train Epoch: 3 [20160/58829 (34%)]\tLoss: 0.382939\tR: 0.351101\n",
      "Train Epoch: 3 [20480/58829 (35%)]\tLoss: 0.303449\tR: 0.829462\n",
      "Train Epoch: 3 [20800/58829 (35%)]\tLoss: 0.246763\tR: 0.725203\n",
      "Train Epoch: 3 [21120/58829 (36%)]\tLoss: 0.394781\tR: 0.678706\n",
      "Train Epoch: 3 [21440/58829 (36%)]\tLoss: 0.493421\tR: 0.420888\n",
      "Train Epoch: 3 [21760/58829 (37%)]\tLoss: 0.505951\tR: 0.444506\n",
      "Train Epoch: 3 [22080/58829 (38%)]\tLoss: 1.094976\tR: 0.550418\n",
      "Train Epoch: 3 [22400/58829 (38%)]\tLoss: 0.584059\tR: 0.430892\n",
      "Train Epoch: 3 [22720/58829 (39%)]\tLoss: 0.399407\tR: 0.670534\n",
      "Train Epoch: 3 [23040/58829 (39%)]\tLoss: 1.170993\tR: 0.369971\n",
      "Train Epoch: 3 [23360/58829 (40%)]\tLoss: 1.176662\tR: 0.502144\n",
      "Train Epoch: 3 [23680/58829 (40%)]\tLoss: 1.331607\tR: 0.351072\n",
      "Train Epoch: 3 [24000/58829 (41%)]\tLoss: 1.310327\tR: 0.289870\n",
      "Train Epoch: 3 [24320/58829 (41%)]\tLoss: 1.112414\tR: 0.457193\n",
      "Train Epoch: 3 [24640/58829 (42%)]\tLoss: 1.449521\tR: 0.563800\n",
      "Train Epoch: 3 [24960/58829 (42%)]\tLoss: 0.438329\tR: 0.645168\n",
      "Train Epoch: 3 [25280/58829 (43%)]\tLoss: 1.557164\tR: 0.333278\n",
      "Train Epoch: 3 [25600/58829 (44%)]\tLoss: 0.255131\tR: 0.673138\n",
      "Train Epoch: 3 [25920/58829 (44%)]\tLoss: 0.338990\tR: 0.585502\n",
      "Train Epoch: 3 [26240/58829 (45%)]\tLoss: 0.438800\tR: 0.566910\n",
      "Train Epoch: 3 [26560/58829 (45%)]\tLoss: 1.582530\tR: 0.557489\n",
      "Train Epoch: 3 [26880/58829 (46%)]\tLoss: 0.305380\tR: 0.474124\n",
      "Train Epoch: 3 [27200/58829 (46%)]\tLoss: 0.327586\tR: 0.660470\n",
      "Train Epoch: 3 [27520/58829 (47%)]\tLoss: 0.680431\tR: 0.440783\n",
      "Train Epoch: 3 [27840/58829 (47%)]\tLoss: 0.300020\tR: 0.635686\n",
      "Train Epoch: 3 [28160/58829 (48%)]\tLoss: 0.276069\tR: 0.570709\n",
      "Train Epoch: 3 [28480/58829 (48%)]\tLoss: 1.372218\tR: 0.396768\n",
      "Train Epoch: 3 [28800/58829 (49%)]\tLoss: 0.472901\tR: 0.567958\n",
      "Train Epoch: 3 [29120/58829 (49%)]\tLoss: 0.368542\tR: 0.665212\n",
      "Train Epoch: 3 [29440/58829 (50%)]\tLoss: 0.424350\tR: 0.612443\n",
      "Train Epoch: 3 [29760/58829 (51%)]\tLoss: 2.414602\tR: 0.256244\n",
      "Train Epoch: 3 [30080/58829 (51%)]\tLoss: 0.212911\tR: 0.704109\n",
      "Train Epoch: 3 [30400/58829 (52%)]\tLoss: 0.306918\tR: 0.750599\n",
      "Train Epoch: 3 [30720/58829 (52%)]\tLoss: 0.530445\tR: 0.547387\n",
      "Train Epoch: 3 [31040/58829 (53%)]\tLoss: 0.288230\tR: 0.764648\n",
      "Train Epoch: 3 [31360/58829 (53%)]\tLoss: 0.284245\tR: 0.446514\n",
      "Train Epoch: 3 [31680/58829 (54%)]\tLoss: 2.081834\tR: 0.524668\n",
      "Train Epoch: 3 [32000/58829 (54%)]\tLoss: 0.531788\tR: 0.401202\n",
      "Train Epoch: 3 [32320/58829 (55%)]\tLoss: 0.637005\tR: 0.769163\n",
      "Train Epoch: 3 [32640/58829 (55%)]\tLoss: 0.602379\tR: 0.443901\n",
      "Train Epoch: 3 [32960/58829 (56%)]\tLoss: 0.332599\tR: 0.652375\n",
      "Train Epoch: 3 [33280/58829 (57%)]\tLoss: 0.441294\tR: 0.227545\n",
      "Train Epoch: 3 [33600/58829 (57%)]\tLoss: 0.390972\tR: 0.650272\n",
      "Train Epoch: 3 [33920/58829 (58%)]\tLoss: 0.290265\tR: 0.628492\n",
      "Train Epoch: 3 [34240/58829 (58%)]\tLoss: 2.228276\tR: 0.238454\n",
      "Train Epoch: 3 [34560/58829 (59%)]\tLoss: 0.409375\tR: 0.710431\n",
      "Train Epoch: 3 [34880/58829 (59%)]\tLoss: 0.302367\tR: 0.767078\n",
      "Train Epoch: 3 [35200/58829 (60%)]\tLoss: 1.279551\tR: 0.458219\n",
      "Train Epoch: 3 [35520/58829 (60%)]\tLoss: 0.527949\tR: 0.441414\n",
      "Train Epoch: 3 [35840/58829 (61%)]\tLoss: 0.461209\tR: 0.543579\n",
      "Train Epoch: 3 [36160/58829 (61%)]\tLoss: 0.918483\tR: 0.654827\n",
      "Train Epoch: 3 [36480/58829 (62%)]\tLoss: 0.558460\tR: 0.623485\n",
      "Train Epoch: 3 [36800/58829 (63%)]\tLoss: 0.826047\tR: 0.350963\n",
      "Train Epoch: 3 [37120/58829 (63%)]\tLoss: 0.225319\tR: 0.803945\n",
      "Train Epoch: 3 [37440/58829 (64%)]\tLoss: 0.419718\tR: 0.329545\n",
      "Train Epoch: 3 [37760/58829 (64%)]\tLoss: 1.808140\tR: 0.378794\n",
      "Train Epoch: 3 [38080/58829 (65%)]\tLoss: 1.289921\tR: 0.387346\n",
      "Train Epoch: 3 [38400/58829 (65%)]\tLoss: 0.310926\tR: 0.653551\n",
      "Train Epoch: 3 [38720/58829 (66%)]\tLoss: 1.387508\tR: 0.186521\n",
      "Train Epoch: 3 [39040/58829 (66%)]\tLoss: 1.347960\tR: 0.423889\n",
      "Train Epoch: 3 [39360/58829 (67%)]\tLoss: 0.482697\tR: 0.482159\n",
      "Train Epoch: 3 [39680/58829 (67%)]\tLoss: 0.630384\tR: 0.562050\n",
      "Train Epoch: 3 [40000/58829 (68%)]\tLoss: 0.313161\tR: 0.672990\n",
      "Train Epoch: 3 [40320/58829 (69%)]\tLoss: 0.600689\tR: 0.447286\n",
      "Train Epoch: 3 [40640/58829 (69%)]\tLoss: 0.494203\tR: 0.312787\n",
      "Train Epoch: 3 [40960/58829 (70%)]\tLoss: 0.577708\tR: 0.435387\n",
      "Train Epoch: 3 [41280/58829 (70%)]\tLoss: 0.309749\tR: 0.695843\n",
      "Train Epoch: 3 [41600/58829 (71%)]\tLoss: 0.597066\tR: 0.717878\n",
      "Train Epoch: 3 [41920/58829 (71%)]\tLoss: 1.430021\tR: 0.427256\n",
      "Train Epoch: 3 [42240/58829 (72%)]\tLoss: 0.550256\tR: 0.542041\n",
      "Train Epoch: 3 [42560/58829 (72%)]\tLoss: 1.349258\tR: 0.312566\n",
      "Train Epoch: 3 [42880/58829 (73%)]\tLoss: 1.618042\tR: 0.182511\n",
      "Train Epoch: 3 [43200/58829 (73%)]\tLoss: 1.299955\tR: 0.442260\n",
      "Train Epoch: 3 [43520/58829 (74%)]\tLoss: 1.706294\tR: 0.276595\n",
      "Train Epoch: 3 [43840/58829 (75%)]\tLoss: 0.936004\tR: 0.538547\n",
      "Train Epoch: 3 [44160/58829 (75%)]\tLoss: 0.464456\tR: 0.519449\n",
      "Train Epoch: 3 [44480/58829 (76%)]\tLoss: 1.454488\tR: 0.416543\n",
      "Train Epoch: 3 [44800/58829 (76%)]\tLoss: 0.485291\tR: 0.546667\n",
      "Train Epoch: 3 [45120/58829 (77%)]\tLoss: 0.398805\tR: 0.405741\n",
      "Train Epoch: 3 [45440/58829 (77%)]\tLoss: 0.799530\tR: 0.107559\n",
      "Train Epoch: 3 [45760/58829 (78%)]\tLoss: 1.311249\tR: 0.493296\n",
      "Train Epoch: 3 [46080/58829 (78%)]\tLoss: 0.331390\tR: 0.716178\n",
      "Train Epoch: 3 [46400/58829 (79%)]\tLoss: 0.553173\tR: 0.541407\n",
      "Train Epoch: 3 [46720/58829 (79%)]\tLoss: 0.272574\tR: 0.650089\n",
      "Train Epoch: 3 [47040/58829 (80%)]\tLoss: 0.320192\tR: 0.404619\n",
      "Train Epoch: 3 [47360/58829 (81%)]\tLoss: 0.268788\tR: 0.658968\n",
      "Train Epoch: 3 [47680/58829 (81%)]\tLoss: 0.427484\tR: 0.519082\n",
      "Train Epoch: 3 [48000/58829 (82%)]\tLoss: 0.302539\tR: 0.506218\n",
      "Train Epoch: 3 [48320/58829 (82%)]\tLoss: 1.228872\tR: 0.345949\n",
      "Train Epoch: 3 [48640/58829 (83%)]\tLoss: 1.227324\tR: 0.316518\n",
      "Train Epoch: 3 [48960/58829 (83%)]\tLoss: 0.325234\tR: 0.829827\n",
      "Train Epoch: 3 [49280/58829 (84%)]\tLoss: 0.545579\tR: 0.442464\n",
      "Train Epoch: 3 [49600/58829 (84%)]\tLoss: 0.330478\tR: 0.760962\n",
      "Train Epoch: 3 [49920/58829 (85%)]\tLoss: 1.189410\tR: 0.306991\n",
      "Train Epoch: 3 [50240/58829 (85%)]\tLoss: 0.262921\tR: 0.368970\n",
      "Train Epoch: 3 [50560/58829 (86%)]\tLoss: 1.198699\tR: 0.509509\n",
      "Train Epoch: 3 [50880/58829 (86%)]\tLoss: 1.312163\tR: 0.186611\n",
      "Train Epoch: 3 [51200/58829 (87%)]\tLoss: 1.473890\tR: 0.443122\n",
      "Train Epoch: 3 [51520/58829 (88%)]\tLoss: 0.494072\tR: 0.770126\n",
      "Train Epoch: 3 [51840/58829 (88%)]\tLoss: 0.348610\tR: 0.630053\n",
      "Train Epoch: 3 [52160/58829 (89%)]\tLoss: 0.764230\tR: 0.234800\n",
      "Train Epoch: 3 [52480/58829 (89%)]\tLoss: 0.545967\tR: 0.581753\n",
      "Train Epoch: 3 [52800/58829 (90%)]\tLoss: 0.578127\tR: 0.719145\n",
      "Train Epoch: 3 [53120/58829 (90%)]\tLoss: 0.407108\tR: 0.458117\n",
      "Train Epoch: 3 [53440/58829 (91%)]\tLoss: 0.174049\tR: 0.726358\n",
      "Train Epoch: 3 [53760/58829 (91%)]\tLoss: 0.602344\tR: 0.229173\n",
      "Train Epoch: 3 [54080/58829 (92%)]\tLoss: 0.549837\tR: 0.494496\n",
      "Train Epoch: 3 [54400/58829 (92%)]\tLoss: 0.726986\tR: 0.595442\n",
      "Train Epoch: 3 [54720/58829 (93%)]\tLoss: 0.420542\tR: 0.361454\n",
      "Train Epoch: 3 [55040/58829 (94%)]\tLoss: 1.484936\tR: 0.383070\n",
      "Train Epoch: 3 [55360/58829 (94%)]\tLoss: 0.234439\tR: 0.750220\n",
      "Train Epoch: 3 [55680/58829 (95%)]\tLoss: 0.498452\tR: 0.692470\n",
      "Train Epoch: 3 [56000/58829 (95%)]\tLoss: 1.242734\tR: 0.510844\n",
      "Train Epoch: 3 [56320/58829 (96%)]\tLoss: 1.351905\tR: 0.259243\n",
      "Train Epoch: 3 [56640/58829 (96%)]\tLoss: 0.460501\tR: 0.732922\n",
      "Train Epoch: 3 [56960/58829 (97%)]\tLoss: 0.991527\tR: 0.600979\n",
      "Train Epoch: 3 [57280/58829 (97%)]\tLoss: 0.620384\tR: 0.309122\n",
      "Train Epoch: 3 [57600/58829 (98%)]\tLoss: 0.365602\tR: 0.673463\n",
      "Train Epoch: 3 [57920/58829 (98%)]\tLoss: 0.255080\tR: 0.635877\n",
      "Train Epoch: 3 [58240/58829 (99%)]\tLoss: 0.359166\tR: 0.539275\n",
      "Train Epoch: 3 [58560/58829 (100%)]\tLoss: 0.460216\tR: 0.619270\n",
      "Validation: Loss: 0.637627\tR: 0.608513\n",
      "Train Epoch: 4 [0/58829 (0%)]\tLoss: 0.535994\tR: 0.488844\n",
      "Train Epoch: 4 [320/58829 (1%)]\tLoss: 0.557989\tR: 0.557133\n",
      "Train Epoch: 4 [640/58829 (1%)]\tLoss: 0.459090\tR: 0.673512\n",
      "Train Epoch: 4 [960/58829 (2%)]\tLoss: 0.323080\tR: 0.402043\n",
      "Train Epoch: 4 [1280/58829 (2%)]\tLoss: 0.645161\tR: 0.427270\n",
      "Train Epoch: 4 [1600/58829 (3%)]\tLoss: 0.233383\tR: 0.609669\n",
      "Train Epoch: 4 [1920/58829 (3%)]\tLoss: 0.275626\tR: 0.682275\n",
      "Train Epoch: 4 [2240/58829 (4%)]\tLoss: 1.237547\tR: 0.557801\n",
      "Train Epoch: 4 [2560/58829 (4%)]\tLoss: 0.927326\tR: 0.733483\n",
      "Train Epoch: 4 [2880/58829 (5%)]\tLoss: 1.251451\tR: 0.413046\n",
      "Train Epoch: 4 [3200/58829 (5%)]\tLoss: 0.419796\tR: 0.484110\n",
      "Train Epoch: 4 [3520/58829 (6%)]\tLoss: 0.411928\tR: 0.476802\n",
      "Train Epoch: 4 [3840/58829 (7%)]\tLoss: 0.485424\tR: 0.534089\n",
      "Train Epoch: 4 [4160/58829 (7%)]\tLoss: 0.363311\tR: 0.607479\n",
      "Train Epoch: 4 [4480/58829 (8%)]\tLoss: 0.388331\tR: 0.675385\n",
      "Train Epoch: 4 [4800/58829 (8%)]\tLoss: 0.503660\tR: 0.641602\n",
      "Train Epoch: 4 [5120/58829 (9%)]\tLoss: 1.181066\tR: 0.405522\n",
      "Train Epoch: 4 [5440/58829 (9%)]\tLoss: 0.206836\tR: 0.759246\n",
      "Train Epoch: 4 [5760/58829 (10%)]\tLoss: 0.336124\tR: 0.803981\n",
      "Train Epoch: 4 [6080/58829 (10%)]\tLoss: 0.520070\tR: 0.563425\n",
      "Train Epoch: 4 [6400/58829 (11%)]\tLoss: 0.261165\tR: 0.766256\n",
      "Train Epoch: 4 [6720/58829 (11%)]\tLoss: 0.364543\tR: 0.343502\n",
      "Train Epoch: 4 [7040/58829 (12%)]\tLoss: 1.903450\tR: 0.496029\n",
      "Train Epoch: 4 [7360/58829 (13%)]\tLoss: 0.506603\tR: 0.553213\n",
      "Train Epoch: 4 [7680/58829 (13%)]\tLoss: 1.173676\tR: 0.636363\n",
      "Train Epoch: 4 [8000/58829 (14%)]\tLoss: 2.166897\tR: 0.573265\n",
      "Train Epoch: 4 [8320/58829 (14%)]\tLoss: 0.279301\tR: 0.760248\n",
      "Train Epoch: 4 [8640/58829 (15%)]\tLoss: 0.219546\tR: 0.601712\n",
      "Train Epoch: 4 [8960/58829 (15%)]\tLoss: 0.284172\tR: 0.462318\n",
      "Train Epoch: 4 [9280/58829 (16%)]\tLoss: 1.604549\tR: 0.339554\n",
      "Train Epoch: 4 [9600/58829 (16%)]\tLoss: 0.315929\tR: 0.764943\n",
      "Train Epoch: 4 [9920/58829 (17%)]\tLoss: 1.268652\tR: 0.450684\n",
      "Train Epoch: 4 [10240/58829 (17%)]\tLoss: 1.016499\tR: 0.580058\n",
      "Train Epoch: 4 [10560/58829 (18%)]\tLoss: 1.136011\tR: 0.425823\n",
      "Train Epoch: 4 [10880/58829 (18%)]\tLoss: 0.441858\tR: 0.568526\n",
      "Train Epoch: 4 [11200/58829 (19%)]\tLoss: 0.403829\tR: 0.525435\n",
      "Train Epoch: 4 [11520/58829 (20%)]\tLoss: 1.123623\tR: 0.525040\n",
      "Train Epoch: 4 [11840/58829 (20%)]\tLoss: 0.666334\tR: 0.442719\n",
      "Train Epoch: 4 [12160/58829 (21%)]\tLoss: 0.526023\tR: 0.570357\n",
      "Train Epoch: 4 [12480/58829 (21%)]\tLoss: 0.660102\tR: 0.700255\n",
      "Train Epoch: 4 [12800/58829 (22%)]\tLoss: 0.376549\tR: 0.599666\n",
      "Train Epoch: 4 [13120/58829 (22%)]\tLoss: 0.389631\tR: 0.592464\n",
      "Train Epoch: 4 [13440/58829 (23%)]\tLoss: 1.232568\tR: 0.395577\n",
      "Train Epoch: 4 [13760/58829 (23%)]\tLoss: 0.664607\tR: 0.723955\n",
      "Train Epoch: 4 [14080/58829 (24%)]\tLoss: 0.459830\tR: 0.549857\n",
      "Train Epoch: 4 [14400/58829 (24%)]\tLoss: 0.347749\tR: 0.735727\n",
      "Train Epoch: 4 [14720/58829 (25%)]\tLoss: 0.636307\tR: 0.581293\n",
      "Train Epoch: 4 [15040/58829 (26%)]\tLoss: 1.487054\tR: 0.212818\n",
      "Train Epoch: 4 [15360/58829 (26%)]\tLoss: 0.430551\tR: 0.619644\n",
      "Train Epoch: 4 [15680/58829 (27%)]\tLoss: 0.370800\tR: 0.570659\n",
      "Train Epoch: 4 [16000/58829 (27%)]\tLoss: 0.313859\tR: 0.686369\n",
      "Train Epoch: 4 [16320/58829 (28%)]\tLoss: 0.881735\tR: 0.791802\n",
      "Train Epoch: 4 [16640/58829 (28%)]\tLoss: 1.126557\tR: 0.571010\n",
      "Train Epoch: 4 [16960/58829 (29%)]\tLoss: 0.564847\tR: 0.199807\n",
      "Train Epoch: 4 [17280/58829 (29%)]\tLoss: 0.949594\tR: 0.598769\n",
      "Train Epoch: 4 [17600/58829 (30%)]\tLoss: 0.444888\tR: 0.513846\n",
      "Train Epoch: 4 [17920/58829 (30%)]\tLoss: 0.362049\tR: 0.443852\n",
      "Train Epoch: 4 [18240/58829 (31%)]\tLoss: 0.333796\tR: 0.551625\n",
      "Train Epoch: 4 [18560/58829 (32%)]\tLoss: 0.599335\tR: 0.536939\n",
      "Train Epoch: 4 [18880/58829 (32%)]\tLoss: 0.280779\tR: 0.658277\n",
      "Train Epoch: 4 [19200/58829 (33%)]\tLoss: 0.406833\tR: 0.486022\n",
      "Train Epoch: 4 [19520/58829 (33%)]\tLoss: 0.440972\tR: 0.660049\n",
      "Train Epoch: 4 [19840/58829 (34%)]\tLoss: 0.389639\tR: 0.607876\n",
      "Train Epoch: 4 [20160/58829 (34%)]\tLoss: 0.330965\tR: 0.564834\n",
      "Train Epoch: 4 [20480/58829 (35%)]\tLoss: 0.325600\tR: 0.604885\n",
      "Train Epoch: 4 [20800/58829 (35%)]\tLoss: 0.329330\tR: 0.676445\n",
      "Train Epoch: 4 [21120/58829 (36%)]\tLoss: 0.359762\tR: 0.500646\n",
      "Train Epoch: 4 [21440/58829 (36%)]\tLoss: 1.714550\tR: 0.324612\n",
      "Train Epoch: 4 [21760/58829 (37%)]\tLoss: 1.991693\tR: 0.512444\n",
      "Train Epoch: 4 [22080/58829 (38%)]\tLoss: 1.123348\tR: 0.574887\n",
      "Train Epoch: 4 [22400/58829 (38%)]\tLoss: 0.223283\tR: 0.678034\n",
      "Train Epoch: 4 [22720/58829 (39%)]\tLoss: 0.346821\tR: 0.434675\n",
      "Train Epoch: 4 [23040/58829 (39%)]\tLoss: 0.530935\tR: 0.539081\n",
      "Train Epoch: 4 [23360/58829 (40%)]\tLoss: 0.556380\tR: 0.345855\n",
      "Train Epoch: 4 [23680/58829 (40%)]\tLoss: 0.393401\tR: 0.373024\n",
      "Train Epoch: 4 [24000/58829 (41%)]\tLoss: 0.261434\tR: 0.512429\n",
      "Train Epoch: 4 [24320/58829 (41%)]\tLoss: 0.315055\tR: 0.382991\n",
      "Train Epoch: 4 [24640/58829 (42%)]\tLoss: 1.213099\tR: 0.504384\n",
      "Train Epoch: 4 [24960/58829 (42%)]\tLoss: 0.264061\tR: 0.724740\n",
      "Train Epoch: 4 [25280/58829 (43%)]\tLoss: 0.441281\tR: 0.495257\n",
      "Train Epoch: 4 [25600/58829 (44%)]\tLoss: 0.294261\tR: 0.490315\n",
      "Train Epoch: 4 [25920/58829 (44%)]\tLoss: 0.276644\tR: 0.680453\n",
      "Train Epoch: 4 [26240/58829 (45%)]\tLoss: 0.295836\tR: 0.559306\n",
      "Train Epoch: 4 [26560/58829 (45%)]\tLoss: 0.382798\tR: 0.615915\n",
      "Train Epoch: 4 [26880/58829 (46%)]\tLoss: 0.416751\tR: 0.568235\n",
      "Train Epoch: 4 [27200/58829 (46%)]\tLoss: 0.313371\tR: 0.696782\n",
      "Train Epoch: 4 [27520/58829 (47%)]\tLoss: 0.300523\tR: 0.693647\n",
      "Train Epoch: 4 [27840/58829 (47%)]\tLoss: 0.174612\tR: 0.732772\n",
      "Train Epoch: 4 [28160/58829 (48%)]\tLoss: 0.283449\tR: 0.756466\n",
      "Train Epoch: 4 [28480/58829 (48%)]\tLoss: 0.286426\tR: 0.580393\n",
      "Train Epoch: 4 [28800/58829 (49%)]\tLoss: 0.262636\tR: 0.726033\n",
      "Train Epoch: 4 [29120/58829 (49%)]\tLoss: 0.985543\tR: 0.605103\n",
      "Train Epoch: 4 [29440/58829 (50%)]\tLoss: 1.393039\tR: 0.380524\n",
      "Train Epoch: 4 [29760/58829 (51%)]\tLoss: 0.340488\tR: 0.658208\n",
      "Train Epoch: 4 [30080/58829 (51%)]\tLoss: 0.417764\tR: 0.592807\n",
      "Train Epoch: 4 [30400/58829 (52%)]\tLoss: 1.384876\tR: 0.343215\n",
      "Train Epoch: 4 [30720/58829 (52%)]\tLoss: 0.301817\tR: 0.684272\n",
      "Train Epoch: 4 [31040/58829 (53%)]\tLoss: 1.331308\tR: 0.300419\n",
      "Train Epoch: 4 [31360/58829 (53%)]\tLoss: 0.381541\tR: 0.667063\n",
      "Train Epoch: 4 [31680/58829 (54%)]\tLoss: 1.754101\tR: 0.569326\n",
      "Train Epoch: 4 [32000/58829 (54%)]\tLoss: 0.434006\tR: 0.530660\n",
      "Train Epoch: 4 [32320/58829 (55%)]\tLoss: 0.332731\tR: 0.672834\n",
      "Train Epoch: 4 [32640/58829 (55%)]\tLoss: 0.362972\tR: 0.728226\n",
      "Train Epoch: 4 [32960/58829 (56%)]\tLoss: 0.255444\tR: 0.466745\n",
      "Train Epoch: 4 [33280/58829 (57%)]\tLoss: 1.430046\tR: 0.359620\n",
      "Train Epoch: 4 [33600/58829 (57%)]\tLoss: 0.338380\tR: 0.444147\n",
      "Train Epoch: 4 [33920/58829 (58%)]\tLoss: 0.310044\tR: 0.616813\n",
      "Train Epoch: 4 [34240/58829 (58%)]\tLoss: 1.286112\tR: 0.338977\n",
      "Train Epoch: 4 [34560/58829 (59%)]\tLoss: 0.448251\tR: 0.511985\n",
      "Train Epoch: 4 [34880/58829 (59%)]\tLoss: 0.465256\tR: 0.612798\n",
      "Train Epoch: 4 [35200/58829 (60%)]\tLoss: 2.436543\tR: 0.391984\n",
      "Train Epoch: 4 [35520/58829 (60%)]\tLoss: 1.401643\tR: 0.716389\n",
      "Train Epoch: 4 [35840/58829 (61%)]\tLoss: 1.383057\tR: 0.415245\n",
      "Train Epoch: 4 [36160/58829 (61%)]\tLoss: 1.081512\tR: 0.565935\n",
      "Train Epoch: 4 [36480/58829 (62%)]\tLoss: 1.410270\tR: 0.344439\n",
      "Train Epoch: 4 [36800/58829 (63%)]\tLoss: 0.286824\tR: 0.618442\n",
      "Train Epoch: 4 [37120/58829 (63%)]\tLoss: 0.349631\tR: 0.673456\n",
      "Train Epoch: 4 [37440/58829 (64%)]\tLoss: 1.447330\tR: 0.315194\n",
      "Train Epoch: 4 [37760/58829 (64%)]\tLoss: 0.889602\tR: 0.646093\n",
      "Train Epoch: 4 [38080/58829 (65%)]\tLoss: 0.536479\tR: 0.455564\n",
      "Train Epoch: 4 [38400/58829 (65%)]\tLoss: 0.642671\tR: 0.432661\n",
      "Train Epoch: 4 [38720/58829 (66%)]\tLoss: 0.547403\tR: 0.633375\n",
      "Train Epoch: 4 [39040/58829 (66%)]\tLoss: 1.479616\tR: 0.127485\n",
      "Train Epoch: 4 [39360/58829 (67%)]\tLoss: 0.688235\tR: 0.305939\n",
      "Train Epoch: 4 [39680/58829 (67%)]\tLoss: 0.397172\tR: 0.653263\n",
      "Train Epoch: 4 [40000/58829 (68%)]\tLoss: 0.448827\tR: 0.353583\n",
      "Train Epoch: 4 [40320/58829 (69%)]\tLoss: 0.382993\tR: 0.483547\n",
      "Train Epoch: 4 [40640/58829 (69%)]\tLoss: 0.396903\tR: 0.523142\n",
      "Train Epoch: 4 [40960/58829 (70%)]\tLoss: 1.163373\tR: 0.454599\n",
      "Train Epoch: 4 [41280/58829 (70%)]\tLoss: 0.323880\tR: 0.655018\n",
      "Train Epoch: 4 [41600/58829 (71%)]\tLoss: 0.753583\tR: 0.443698\n",
      "Train Epoch: 4 [41920/58829 (71%)]\tLoss: 0.427036\tR: 0.709617\n",
      "Train Epoch: 4 [42240/58829 (72%)]\tLoss: 1.068903\tR: 0.598622\n",
      "Train Epoch: 4 [42560/58829 (72%)]\tLoss: 0.387790\tR: 0.591289\n",
      "Train Epoch: 4 [42880/58829 (73%)]\tLoss: 0.248678\tR: 0.655969\n",
      "Train Epoch: 4 [43200/58829 (73%)]\tLoss: 0.293324\tR: 0.647205\n",
      "Train Epoch: 4 [43520/58829 (74%)]\tLoss: 0.698999\tR: 0.649144\n",
      "Train Epoch: 4 [43840/58829 (75%)]\tLoss: 0.640650\tR: 0.549315\n",
      "Train Epoch: 4 [44160/58829 (75%)]\tLoss: 0.587000\tR: 0.461254\n",
      "Train Epoch: 4 [44480/58829 (76%)]\tLoss: 2.015296\tR: 0.560853\n",
      "Train Epoch: 4 [44800/58829 (76%)]\tLoss: 0.632875\tR: 0.511273\n",
      "Train Epoch: 4 [45120/58829 (77%)]\tLoss: 0.402386\tR: 0.616669\n",
      "Train Epoch: 4 [45440/58829 (77%)]\tLoss: 0.264493\tR: 0.706251\n",
      "Train Epoch: 4 [45760/58829 (78%)]\tLoss: 0.262166\tR: 0.677295\n",
      "Train Epoch: 4 [46080/58829 (78%)]\tLoss: 0.604998\tR: 0.586010\n",
      "Train Epoch: 4 [46400/58829 (79%)]\tLoss: 0.728576\tR: 0.565725\n",
      "Train Epoch: 4 [46720/58829 (79%)]\tLoss: 0.323883\tR: 0.560592\n",
      "Train Epoch: 4 [47040/58829 (80%)]\tLoss: 1.801612\tR: 0.284693\n",
      "Train Epoch: 4 [47360/58829 (81%)]\tLoss: 1.254442\tR: 0.376066\n",
      "Train Epoch: 4 [47680/58829 (81%)]\tLoss: 0.312405\tR: 0.788460\n",
      "Train Epoch: 4 [48000/58829 (82%)]\tLoss: 0.551174\tR: 0.400797\n",
      "Train Epoch: 4 [48320/58829 (82%)]\tLoss: 1.361193\tR: 0.575673\n",
      "Train Epoch: 4 [48640/58829 (83%)]\tLoss: 0.389464\tR: 0.534577\n",
      "Train Epoch: 4 [48960/58829 (83%)]\tLoss: 0.592924\tR: 0.467672\n",
      "Train Epoch: 4 [49280/58829 (84%)]\tLoss: 0.289292\tR: 0.522388\n",
      "Train Epoch: 4 [49600/58829 (84%)]\tLoss: 0.895285\tR: 0.309512\n",
      "Train Epoch: 4 [49920/58829 (85%)]\tLoss: 0.395801\tR: 0.596852\n",
      "Train Epoch: 4 [50240/58829 (85%)]\tLoss: 0.691227\tR: 0.367736\n",
      "Train Epoch: 4 [50560/58829 (86%)]\tLoss: 0.449277\tR: 0.531472\n",
      "Train Epoch: 4 [50880/58829 (86%)]\tLoss: 0.314870\tR: 0.593438\n",
      "Train Epoch: 4 [51200/58829 (87%)]\tLoss: 0.544785\tR: 0.639592\n",
      "Train Epoch: 4 [51520/58829 (88%)]\tLoss: 0.223416\tR: 0.641934\n",
      "Train Epoch: 4 [51840/58829 (88%)]\tLoss: 1.140995\tR: 0.311394\n",
      "Train Epoch: 4 [52160/58829 (89%)]\tLoss: 0.450096\tR: 0.621737\n",
      "Train Epoch: 4 [52480/58829 (89%)]\tLoss: 0.347800\tR: 0.668439\n",
      "Train Epoch: 4 [52800/58829 (90%)]\tLoss: 0.178749\tR: 0.693064\n",
      "Train Epoch: 4 [53120/58829 (90%)]\tLoss: 1.422561\tR: 0.427107\n",
      "Train Epoch: 4 [53440/58829 (91%)]\tLoss: 0.298207\tR: 0.584248\n",
      "Train Epoch: 4 [53760/58829 (91%)]\tLoss: 1.218196\tR: 0.315713\n",
      "Train Epoch: 4 [54080/58829 (92%)]\tLoss: 0.881490\tR: 0.497337\n",
      "Train Epoch: 4 [54400/58829 (92%)]\tLoss: 1.518366\tR: 0.275353\n",
      "Train Epoch: 4 [54720/58829 (93%)]\tLoss: 0.403593\tR: 0.489272\n",
      "Train Epoch: 4 [55040/58829 (94%)]\tLoss: 0.233043\tR: 0.456932\n",
      "Train Epoch: 4 [55360/58829 (94%)]\tLoss: 0.830739\tR: 0.437905\n",
      "Train Epoch: 4 [55680/58829 (95%)]\tLoss: 0.419594\tR: 0.608158\n",
      "Train Epoch: 4 [56000/58829 (95%)]\tLoss: 0.464197\tR: 0.809738\n",
      "Train Epoch: 4 [56320/58829 (96%)]\tLoss: 0.399994\tR: 0.507384\n",
      "Train Epoch: 4 [56640/58829 (96%)]\tLoss: 0.443874\tR: 0.643083\n",
      "Train Epoch: 4 [56960/58829 (97%)]\tLoss: 0.431792\tR: 0.452785\n",
      "Train Epoch: 4 [57280/58829 (97%)]\tLoss: 0.316101\tR: 0.487746\n",
      "Train Epoch: 4 [57600/58829 (98%)]\tLoss: 0.489132\tR: 0.616956\n",
      "Train Epoch: 4 [57920/58829 (98%)]\tLoss: 0.951125\tR: 0.639800\n",
      "Train Epoch: 4 [58240/58829 (99%)]\tLoss: 1.579974\tR: 0.423808\n",
      "Train Epoch: 4 [58560/58829 (100%)]\tLoss: 0.298184\tR: 0.782264\n",
      "Validation: Loss: 0.601312\tR: 0.622283\n",
      "Best model updated.\n"
     ]
    }
   ],
   "source": [
    "hist2 = model.train_model(train_data_loader,val_loader=valid_data_loader, epochs=5, device=device, logfile=logfile)"
   ]
  },
  {
   "cell_type": "code",
   "execution_count": 188,
   "metadata": {
    "pycharm": {
     "name": "#%%\n"
    }
   },
   "outputs": [],
   "source": [
    "model.save_model('models/GH_default_R0.62.pt')"
   ]
  },
  {
   "cell_type": "code",
   "execution_count": 35,
   "metadata": {
    "pycharm": {
     "name": "#%%\n"
    }
   },
   "outputs": [],
   "source": [
    "model.load_model('models/GH_default_R0.62.pt')"
   ]
  },
  {
   "cell_type": "code",
   "execution_count": 33,
   "metadata": {
    "pycharm": {
     "name": "#%%\n"
    }
   },
   "outputs": [],
   "source": [
    "test_data_loader = DataLoader(GHDataset(paired_list_test, decay_dict, seq_dict, rbp_dict, max_len=seq_length), batch_size=32, shuffle=False, drop_last=False)"
   ]
  },
  {
   "cell_type": "code",
   "execution_count": 28,
   "metadata": {
    "pycharm": {
     "name": "#%%\n"
    }
   },
   "outputs": [
    {
     "data": {
      "text/plain": [
       "GreyHoundModel(\n",
       "  (conv_block_1): Sequential(\n",
       "    (0): Conv1d(4, 64, kernel_size=(10,), stride=(1,), padding=(10,))\n",
       "    (1): LeakyReLU(negative_slope=0.01)\n",
       "    (2): BatchNorm1d(64, eps=1e-05, momentum=0.1, affine=True, track_running_stats=True)\n",
       "    (3): MaxPool1d(kernel_size=10, stride=5, padding=0, dilation=1, ceil_mode=False)\n",
       "    (4): Dropout(p=0.2, inplace=False)\n",
       "  )\n",
       "  (conv_block_2): Sequential(\n",
       "    (0): Conv1d(64, 32, kernel_size=(5,), stride=(1,), padding=(5,))\n",
       "    (1): LeakyReLU(negative_slope=0.01)\n",
       "    (2): BatchNorm1d(32, eps=1e-05, momentum=0.1, affine=True, track_running_stats=True)\n",
       "    (3): MaxPool1d(kernel_size=5, stride=5, padding=0, dilation=1, ceil_mode=False)\n",
       "    (4): Dropout(p=0.2, inplace=False)\n",
       "  )\n",
       "  (dilations): ModuleList(\n",
       "    (0): Sequential(\n",
       "      (0): Conv1d(32, 4, kernel_size=(3,), stride=(1,))\n",
       "      (1): LeakyReLU(negative_slope=0.01)\n",
       "      (2): BatchNorm1d(4, eps=1e-05, momentum=0.1, affine=True, track_running_stats=True)\n",
       "    )\n",
       "    (1): Sequential(\n",
       "      (0): Conv1d(32, 4, kernel_size=(3,), stride=(1,), dilation=(2,))\n",
       "      (1): LeakyReLU(negative_slope=0.01)\n",
       "      (2): BatchNorm1d(4, eps=1e-05, momentum=0.1, affine=True, track_running_stats=True)\n",
       "    )\n",
       "    (2): Sequential(\n",
       "      (0): Conv1d(32, 4, kernel_size=(3,), stride=(1,), dilation=(4,))\n",
       "      (1): LeakyReLU(negative_slope=0.01)\n",
       "      (2): BatchNorm1d(4, eps=1e-05, momentum=0.1, affine=True, track_running_stats=True)\n",
       "    )\n",
       "  )\n",
       "  (encoder): Sequential(\n",
       "    (0): Linear(in_features=1378, out_features=500, bias=True)\n",
       "    (1): ReLU()\n",
       "    (2): BatchNorm1d(500, eps=1e-05, momentum=0.1, affine=True, track_running_stats=True)\n",
       "  )\n",
       "  (fc_mu): Linear(in_features=500, out_features=50, bias=True)\n",
       "  (final_fc): Sequential(\n",
       "    (0): Dropout(p=0.5, inplace=False)\n",
       "    (1): Linear(in_features=7254, out_features=10, bias=True)\n",
       "    (2): ReLU()\n",
       "    (3): Dropout(p=0.5, inplace=False)\n",
       "    (4): Linear(in_features=10, out_features=1, bias=True)\n",
       "  )\n",
       ")"
      ]
     },
     "execution_count": 28,
     "metadata": {},
     "output_type": "execute_result"
    }
   ],
   "source": [
    "model.to(device)"
   ]
  },
  {
   "cell_type": "code",
   "execution_count": 35,
   "metadata": {
    "pycharm": {
     "name": "#%%\n"
    }
   },
   "outputs": [],
   "source": [
    "model.eval()\n",
    "target_list = []\n",
    "pred_list = []\n",
    "seq_id_list = []\n",
    "with torch.no_grad():\n",
    "    for batch_idx, batch in enumerate(test_data_loader):\n",
    "        seq_X, rbp_X, y = batch\n",
    "        seq_X = seq_X.to(device)\n",
    "        rbp_X = rbp_X.to(device)\n",
    "        y = y.to(device)\n",
    "        out = model(seq_X, rbp_X)\n",
    "        pred_list.append(out[:,0].to('cpu').detach().numpy())\n",
    "        target_list.append(y.to('cpu').detach().numpy())\n",
    "    targets = np.concatenate(target_list)\n",
    "    preds = np.concatenate(pred_list)"
   ]
  },
  {
   "cell_type": "code",
   "execution_count": 36,
   "metadata": {
    "pycharm": {
     "name": "#%%\n"
    }
   },
   "outputs": [
    {
     "data": {
      "text/plain": [
       "(0.6242937506251979, 0.0)"
      ]
     },
     "execution_count": 36,
     "metadata": {},
     "output_type": "execute_result"
    }
   ],
   "source": [
    "import scipy.stats as stats\n",
    "stats.pearsonr(targets[:,0], preds)"
   ]
  },
  {
   "cell_type": "code",
   "execution_count": 37,
   "metadata": {
    "pycharm": {
     "name": "#%%\n"
    }
   },
   "outputs": [
    {
     "data": {
      "text/html": [
       "<div>\n",
       "<style scoped>\n",
       "    .dataframe tbody tr th:only-of-type {\n",
       "        vertical-align: middle;\n",
       "    }\n",
       "\n",
       "    .dataframe tbody tr th {\n",
       "        vertical-align: top;\n",
       "    }\n",
       "\n",
       "    .dataframe thead th {\n",
       "        text-align: right;\n",
       "    }\n",
       "</style>\n",
       "<table border=\"1\" class=\"dataframe\">\n",
       "  <thead>\n",
       "    <tr style=\"text-align: right;\">\n",
       "      <th></th>\n",
       "      <th>targets</th>\n",
       "      <th>preds</th>\n",
       "    </tr>\n",
       "  </thead>\n",
       "  <tbody>\n",
       "    <tr>\n",
       "      <th>MDA-PAR-2,AACS</th>\n",
       "      <td>-0.005526</td>\n",
       "      <td>-0.250512</td>\n",
       "    </tr>\n",
       "    <tr>\n",
       "      <th>HCC38-2,AACS</th>\n",
       "      <td>-0.569838</td>\n",
       "      <td>-0.423888</td>\n",
       "    </tr>\n",
       "    <tr>\n",
       "      <th>MDA-PAR-1,AAED1</th>\n",
       "      <td>0.074135</td>\n",
       "      <td>0.141496</td>\n",
       "    </tr>\n",
       "    <tr>\n",
       "      <th>MCF7-2,AAED1</th>\n",
       "      <td>0.336408</td>\n",
       "      <td>0.168224</td>\n",
       "    </tr>\n",
       "    <tr>\n",
       "      <th>HCC38-2,AAED1</th>\n",
       "      <td>-0.151047</td>\n",
       "      <td>-0.002698</td>\n",
       "    </tr>\n",
       "  </tbody>\n",
       "</table>\n",
       "</div>"
      ],
      "text/plain": [
       "                  targets     preds\n",
       "MDA-PAR-2,AACS  -0.005526 -0.250512\n",
       "HCC38-2,AACS    -0.569838 -0.423888\n",
       "MDA-PAR-1,AAED1  0.074135  0.141496\n",
       "MCF7-2,AAED1     0.336408  0.168224\n",
       "HCC38-2,AAED1   -0.151047 -0.002698"
      ]
     },
     "execution_count": 37,
     "metadata": {},
     "output_type": "execute_result"
    }
   ],
   "source": [
    "test_df = pd.DataFrame(zip(targets[:,0], preds))\n",
    "test_df.columns = ['targets', 'preds']\n",
    "test_df.index = paired_list_test\n",
    "test_df.head()"
   ]
  },
  {
   "cell_type": "code",
   "execution_count": 38,
   "metadata": {
    "pycharm": {
     "name": "#%%\n"
    }
   },
   "outputs": [],
   "source": [
    "test_df.to_hdf('results/test_pred.df.h5', key='data')"
   ]
  },
  {
   "cell_type": "code",
   "execution_count": 39,
   "metadata": {
    "pycharm": {
     "name": "#%%\n"
    }
   },
   "outputs": [
    {
     "data": {
      "text/plain": [
       "(0.6242937506251979, 0.0)"
      ]
     },
     "execution_count": 39,
     "metadata": {},
     "output_type": "execute_result"
    }
   ],
   "source": [
    "r,pv = stats.pearsonr(test_df.targets, test_df.preds)\n",
    "r,pv"
   ]
  },
  {
   "cell_type": "code",
   "execution_count": 40,
   "metadata": {
    "pycharm": {
     "name": "#%%\n"
    }
   },
   "outputs": [
    {
     "name": "stderr",
     "output_type": "stream",
     "text": [
      "/home/hani/anaconda3/envs/pytorch/lib/python3.6/site-packages/plotnine/ggplot.py:729: PlotnineWarning: Saving 3 x 3 in image.\n",
      "/home/hani/anaconda3/envs/pytorch/lib/python3.6/site-packages/plotnine/ggplot.py:730: PlotnineWarning: Filename: model_test_performamce.pdf\n",
      "/home/hani/anaconda3/envs/pytorch/lib/python3.6/site-packages/plotnine/layer.py:464: PlotnineWarning: geom_point : Removed 126 rows containing missing values.\n",
      "/home/hani/anaconda3/envs/pytorch/lib/python3.6/site-packages/plotnine/layer.py:464: PlotnineWarning: geom_point : Removed 126 rows containing missing values.\n"
     ]
    },
    {
     "data": {
      "image/png": "[encoded data removed]",
      "text/plain": [
       "<Figure size 640x480 with 1 Axes>"
      ]
     },
     "metadata": {},
     "output_type": "display_data"
    },
    {
     "data": {
      "text/plain": [
       "<ggplot: (8747019125410)>"
      ]
     },
     "execution_count": 40,
     "metadata": {},
     "output_type": "execute_result"
    }
   ],
   "source": [
    "from plotnine import *\n",
    "plot = (\n",
    "    ggplot(test_df, aes(x='targets', y='preds')) +\n",
    "    geom_point(alpha=0.35, color=\"#AF92FC\") +\n",
    "    geom_smooth(method=\"lm\",se=True,size=1) +\n",
    "    xlab(\"Target Expression\") +\n",
    "    ylab(\"Predicted Expression\") +\n",
    "    xlim([-4,3]) +\n",
    "    annotate(\"text\", x=-2.5,y=0.25, label=\"R={0:.3f}\\nP={1:.3g}\".format(r,pv))+\n",
    "    theme_bw(11)\n",
    ")\n",
    "plot.save('model_test_performamce.pdf', width=3, height=3)\n",
    "plot"
   ]
  },
  {
   "cell_type": "code",
   "execution_count": 201,
   "metadata": {
    "pycharm": {
     "name": "#%%\n"
    }
   },
   "outputs": [],
   "source": [
    "all_data_loader = DataLoader(GHDataset(paired_list, decay_dict, seq_dict, rbp_dict, max_len=seq_length), batch_size=32, shuffle=False, drop_last=False)"
   ]
  },
  {
   "cell_type": "code",
   "execution_count": 202,
   "metadata": {
    "pycharm": {
     "name": "#%%\n"
    }
   },
   "outputs": [],
   "source": [
    "model.eval()\n",
    "target_list = []\n",
    "pred_list = []\n",
    "seq_id_list = []\n",
    "with torch.no_grad():\n",
    "    for batch_idx, batch in enumerate(all_data_loader):\n",
    "        seq_X, rbp_X, y = batch\n",
    "        seq_X = seq_X.to(device)\n",
    "        rbp_X = rbp_X.to(device)\n",
    "        y = y.to(device)\n",
    "        out = model(seq_X, rbp_X)\n",
    "        pred_list.append(out[:,0].to('cpu').detach().numpy())\n",
    "        target_list.append(y.to('cpu').detach().numpy())\n",
    "    targets = np.concatenate(target_list)\n",
    "    preds = np.concatenate(pred_list)"
   ]
  },
  {
   "cell_type": "code",
   "execution_count": 203,
   "metadata": {
    "pycharm": {
     "name": "#%%\n"
    }
   },
   "outputs": [
    {
     "data": {
      "text/html": [
       "<div>\n",
       "<style scoped>\n",
       "    .dataframe tbody tr th:only-of-type {\n",
       "        vertical-align: middle;\n",
       "    }\n",
       "\n",
       "    .dataframe tbody tr th {\n",
       "        vertical-align: top;\n",
       "    }\n",
       "\n",
       "    .dataframe thead th {\n",
       "        text-align: right;\n",
       "    }\n",
       "</style>\n",
       "<table border=\"1\" class=\"dataframe\">\n",
       "  <thead>\n",
       "    <tr style=\"text-align: right;\">\n",
       "      <th></th>\n",
       "      <th>targets</th>\n",
       "      <th>preds</th>\n",
       "    </tr>\n",
       "  </thead>\n",
       "  <tbody>\n",
       "    <tr>\n",
       "      <th>HCC1806-PAR-1,AACS</th>\n",
       "      <td>-0.125061</td>\n",
       "      <td>-0.392189</td>\n",
       "    </tr>\n",
       "    <tr>\n",
       "      <th>HCC1806-PAR-2,AACS</th>\n",
       "      <td>-0.058180</td>\n",
       "      <td>-0.388799</td>\n",
       "    </tr>\n",
       "    <tr>\n",
       "      <th>MDA-PAR-1,AACS</th>\n",
       "      <td>0.045117</td>\n",
       "      <td>-0.224802</td>\n",
       "    </tr>\n",
       "    <tr>\n",
       "      <th>MDA-PAR-2,AACS</th>\n",
       "      <td>-0.005526</td>\n",
       "      <td>-0.360382</td>\n",
       "    </tr>\n",
       "    <tr>\n",
       "      <th>MCF7-1,AACS</th>\n",
       "      <td>-0.376835</td>\n",
       "      <td>-0.362800</td>\n",
       "    </tr>\n",
       "  </tbody>\n",
       "</table>\n",
       "</div>"
      ],
      "text/plain": [
       "                     targets     preds\n",
       "HCC1806-PAR-1,AACS -0.125061 -0.392189\n",
       "HCC1806-PAR-2,AACS -0.058180 -0.388799\n",
       "MDA-PAR-1,AACS      0.045117 -0.224802\n",
       "MDA-PAR-2,AACS     -0.005526 -0.360382\n",
       "MCF7-1,AACS        -0.376835 -0.362800"
      ]
     },
     "execution_count": 203,
     "metadata": {},
     "output_type": "execute_result"
    }
   ],
   "source": [
    "all_df = pd.DataFrame(zip(targets[:,0], preds))\n",
    "all_df.columns = ['targets', 'preds']\n",
    "all_df.index = paired_list\n",
    "all_df.head()"
   ]
  },
  {
   "cell_type": "code",
   "execution_count": 207,
   "metadata": {
    "pycharm": {
     "name": "#%%\n"
    }
   },
   "outputs": [
    {
     "name": "stderr",
     "output_type": "stream",
     "text": [
      "/home/hani/anaconda3/envs/pytorch/lib/python3.6/site-packages/plotnine/ggplot.py:729: PlotnineWarning: Saving 3 x 3 in image.\n",
      "/home/hani/anaconda3/envs/pytorch/lib/python3.6/site-packages/plotnine/ggplot.py:730: PlotnineWarning: Filename: model_all_performamce.pdf\n",
      "/home/hani/anaconda3/envs/pytorch/lib/python3.6/site-packages/plotnine/layer.py:464: PlotnineWarning: geom_point : Removed 776 rows containing missing values.\n",
      "/home/hani/anaconda3/envs/pytorch/lib/python3.6/site-packages/plotnine/layer.py:464: PlotnineWarning: geom_point : Removed 776 rows containing missing values.\n"
     ]
    },
    {
     "data": {
      "image/png": "[encoded data removed]",
      "text/plain": [
       "<Figure size 640x480 with 1 Axes>"
      ]
     },
     "metadata": {},
     "output_type": "display_data"
    },
    {
     "data": {
      "text/plain": [
       "<ggplot: (-9223363272881555740)>"
      ]
     },
     "execution_count": 207,
     "metadata": {},
     "output_type": "execute_result"
    }
   ],
   "source": [
    "from plotnine import *\n",
    "plot = (\n",
    "    ggplot(all_df, aes(x='targets', y='preds')) +\n",
    "    geom_point(alpha=0.35, color=\"#AF92FC\") +\n",
    "    geom_smooth(method=\"lm\",se=True,size=1) +\n",
    "    xlab(\"Target Expression\") +\n",
    "    ylab(\"Predicted Expression\") +\n",
    "    xlim([-4,3]) +\n",
    "    annotate(\"text\", x=-2.5,y=0.25, label=\"R={0:.3f}\\nP={1:.3g}\".format(r,pv))+\n",
    "    theme_bw(11)\n",
    ")\n",
    "plot.save('model_all_performamce.pdf', width=3, height=3)\n",
    "plot"
   ]
  },
  {
   "cell_type": "code",
   "execution_count": 208,
   "metadata": {
    "pycharm": {
     "name": "#%%\n"
    }
   },
   "outputs": [],
   "source": [
    "all_df.to_csv('results/all_pred.df.csv', sep=\"\\t\")"
   ]
  },
  {
   "cell_type": "code",
   "execution_count": 209,
   "metadata": {
    "pycharm": {
     "name": "#%%\n"
    }
   },
   "outputs": [
    {
     "data": {
      "text/plain": [
       "<seaborn.axisgrid.JointGrid at 0x7f8842891588>"
      ]
     },
     "execution_count": 209,
     "metadata": {},
     "output_type": "execute_result"
    },
    {
     "data": {
      "image/png": "[encoded data removed]",
      "text/plain": [
       "<Figure size 432x432 with 3 Axes>"
      ]
     },
     "metadata": {
      "needs_background": "light"
     },
     "output_type": "display_data"
    }
   ],
   "source": [
    "g = sns.jointplot(data=test_df, x=\"targets\", y=\"preds\", kind=\"reg\", xlim=(-4, 3), ylim=(-2.5, 1.5), color='#B5B5B5', scatter_kws={'s': 1, 'rasterized':True}, joint_kws = {'scatter_kws':dict(alpha=0.5)}, line_kws={'color': 'black'})\n",
    "g.plot_joint(sns.kdeplot, color=\"#FF5252\", levels=10)\n",
    "g.plot_marginals(sns.kdeplot, color=\"#AEE4FF\")"
   ]
  },
  {
   "cell_type": "code",
   "execution_count": 210,
   "metadata": {
    "pycharm": {
     "name": "#%%\n"
    }
   },
   "outputs": [],
   "source": [
    "g.savefig('GH_all_corrplot.pdf', dpi=300)"
   ]
  },
  {
   "cell_type": "markdown",
   "metadata": {
    "pycharm": {
     "name": "#%% md\n"
    }
   },
   "source": [
    "## Saliency scores"
   ]
  },
  {
   "cell_type": "code",
   "execution_count": 52,
   "metadata": {
    "pycharm": {
     "name": "#%%\n"
    }
   },
   "outputs": [],
   "source": [
    "device='cpu'\n",
    "model = model.to(device)"
   ]
  },
  {
   "cell_type": "code",
   "execution_count": 86,
   "metadata": {
    "pycharm": {
     "name": "#%%\n"
    }
   },
   "outputs": [],
   "source": [
    "from scipy.stats import variation\n",
    "from scipy.signal import find_peaks\n",
    "from skmisc.loess import loess\n",
    "from scipy.signal import savgol_filter\n",
    "\n",
    "samples = exp_df.columns.to_list()\n",
    "def extract_seq_from_importance(gene, model, fastafile, rbpfile, rangefile):\n",
    "    print(gene)\n",
    "    model.eval()\n",
    "    model.requires_grad = True\n",
    "    tmp_pair = [\n",
    "        f\"{samp},{gene}\" for samp in samples if f\"{samp},{gene}\" in decay_dict\n",
    "    ]\n",
    "    #if len(tmp_pair)<5:\n",
    "    #    return {'gene':gene, 'seqs':[], 'peaks':[], 'rbp':[]}\n",
    "\n",
    "    data_loader = DataLoader(GHDataset(tmp_pair, decay_dict, seq_dict, rbp_dict, max_len=seq_length, left_pad_max=0), batch_size=len(tmp_pair), shuffle=False, drop_last=False)\n",
    "\n",
    "    seq_X, rbp_X, y = next(iter(data_loader))\n",
    "    seq_X.requires_grad = True\n",
    "    rbp_X.requires_grad = True\n",
    "    seq_X = seq_X.to(device)\n",
    "    rbp_X = rbp_X.to(device)\n",
    "    y = y.to(device)\n",
    "    out = model(seq_X, rbp_X)\n",
    "\n",
    "    loss = model.loss_fn(out,y)\n",
    "    loss.backward()\n",
    "\n",
    "    ## find salient sequences with highly variable scores across the lines\n",
    "    seq_S = seq_X * seq_X.grad\n",
    "    seq_S = seq_S.sum(axis=1)\n",
    "    seq_S = np.abs(seq_S.detach().numpy())\n",
    "\n",
    "    mu = seq_S.mean(axis=0)\n",
    "    var = seq_S.std(axis=0)\n",
    "    \n",
    "    if (mu.sum()==0.0):\n",
    "        return\n",
    "\n",
    "    not_const = var > 0\n",
    "    estimat_var = np.zeros(mu.shape[0], dtype=np.float64)\n",
    "    y = var[not_const]\n",
    "    x = mu[not_const]\n",
    "    loess_model = loess(x, y, degree=2, surface='direct')\n",
    "    loess_model.fit()\n",
    "    estimat_var[not_const] = loess_model.outputs.fitted_values\n",
    "    signal = var - estimat_var\n",
    "    signal[signal<0] = 0\n",
    "\n",
    "    cv = np.zeros(mu.shape[0], dtype=np.float64)\n",
    "    cv[signal>0] = np.sqrt(var[signal>0]) / np.abs(mu[signal>0])\n",
    "    cv = savgol_filter(cv, 11, 3)\n",
    "    th = np.percentile(cv, 90)\n",
    "    cv[cv<th] = 0\n",
    "\n",
    "    peaks, _ = find_peaks(cv)\n",
    "    #merge overlapping peaks\n",
    "    prange = [(peak-10,peak+10) for peak in peaks]\n",
    "    prange_union = []\n",
    "    for begin,end in sorted(prange):\n",
    "        if prange_union and prange_union[-1][1] >= begin - 1:\n",
    "            prange_union[-1][1] = max(prange_union[-1][1], end)\n",
    "        else:\n",
    "            prange_union.append([begin, end])\n",
    "\n",
    "    #extract sequences\n",
    "    seqs = [seq_dict[gene][max(0,a):min(seq_length,b)] for a,b in prange_union]\n",
    "\n",
    "    ## RBP scores\n",
    "    ## find salient RBPs with highly variable scores across the lines\n",
    "    rbp_S = rbp_X * rbp_X.grad\n",
    "    rbp_S = np.abs(rbp_S.detach().numpy())\n",
    "    mu = rbp_S.mean(axis=0)\n",
    "    var = rbp_S.std(axis=0)\n",
    "    not_const = var > 0\n",
    "    estimat_var = np.zeros(mu.shape[0], dtype=np.float64)\n",
    "    y = var[not_const]\n",
    "    x = mu[not_const]\n",
    "    loess_model = loess(x, y, degree=2, surface='direct')\n",
    "    loess_model.fit()\n",
    "    estimat_var[not_const] = loess_model.outputs.fitted_values\n",
    "    signal = var - estimat_var\n",
    "    signal[signal<0] = 0\n",
    "\n",
    "    cv = np.zeros(mu.shape[0], dtype=np.float64)\n",
    "    cv[signal>0] = np.sqrt(var[signal>0]) / np.abs(mu[signal>0])\n",
    "    #cv = savgol_filter(cv, 11, 3)\n",
    "    th = np.percentile(cv, 90)\n",
    "    cv[cv<th] = 0\n",
    "    rbp_scores = cv\n",
    "    \n",
    "    for i,s in enumerate(seqs):\n",
    "        fastafile.write(f\">{gene}.{i}\\n{s}\\n\")\n",
    "    for i,s in enumerate(seqs):\n",
    "        rangefile.write(f\">{gene}.{i}\\n{prange_union[i]}\\n\")\n",
    "    rbpfile.write(f\"{gene}\\t\"+\"\\t\".join([str(x) for x in rbp_scores])+\"\\n\")\n",
    "    fastafile.flush()\n",
    "    rangefile.flush()\n",
    "    rbpfile.flush()\n",
    "    return {'gene':gene, 'seqs':seqs, 'peaks':prange_union, 'rbp':rbp_scores}"
   ]
  },
  {
   "cell_type": "code",
   "execution_count": 87,
   "metadata": {
    "pycharm": {
     "name": "#%%\n"
    }
   },
   "outputs": [
    {
     "data": {
      "text/plain": [
       "8544"
      ]
     },
     "execution_count": 87,
     "metadata": {},
     "output_type": "execute_result"
    }
   ],
   "source": [
    "fastafile = open(\"results/salient_seqs.fa\", \"wt\")\n",
    "rangefile = open(\"results/salient_ranges.txt\", \"wt\")\n",
    "rbpfile = open(\"results/salient_rbps.txt\", \"wt\")\n",
    "rbpfile.write(\"\\t\"+\"\\t\".join(RBP_df.T.columns)+\"\\n\")"
   ]
  },
  {
   "cell_type": "code",
   "execution_count": 89,
   "metadata": {
    "pycharm": {
     "name": "#%%\n"
    }
   },
   "outputs": [],
   "source": [
    "fastafile.close()\n",
    "rangefile.close()\n",
    "rbpfile.close()"
   ]
  },
  {
   "cell_type": "code",
   "execution_count": null,
   "metadata": {
    "pycharm": {
     "name": "#%%\n"
    }
   },
   "outputs": [],
   "source": [
    "!python /rasis/Projects/bin/TEISERv1.1/prep_fasta_for_fire_run.py results/salient_seqs.fa"
   ]
  },
  {
   "cell_type": "code",
   "execution_count": null,
   "metadata": {
    "pycharm": {
     "name": "#%%\n"
    }
   },
   "outputs": [],
   "source": [
    "%%bash\n",
    "cd results\n",
    "perl $FIREDIR/fire.pl --expfile=salient_seqs_fire.txt --fastafile_rna=salient_seqs_fire.fa --species=human \\\n",
    "--exptype=discrete --nodups=1 --oribiasonly=0  --dodna=0 --dodnarna=0"
   ]
  },
  {
   "cell_type": "code",
   "execution_count": 616,
   "metadata": {
    "pycharm": {
     "name": "#%%\n"
    }
   },
   "outputs": [
    {
     "data": {
      "text/html": [
       "<div>\n",
       "<style scoped>\n",
       "    .dataframe tbody tr th:only-of-type {\n",
       "        vertical-align: middle;\n",
       "    }\n",
       "\n",
       "    .dataframe tbody tr th {\n",
       "        vertical-align: top;\n",
       "    }\n",
       "\n",
       "    .dataframe thead th {\n",
       "        text-align: right;\n",
       "    }\n",
       "</style>\n",
       "<table border=\"1\" class=\"dataframe\">\n",
       "  <thead>\n",
       "    <tr style=\"text-align: right;\">\n",
       "      <th>GENE</th>\n",
       "      <th>AATF</th>\n",
       "      <th>ABCF1</th>\n",
       "      <th>ABT1</th>\n",
       "      <th>ACAA2</th>\n",
       "      <th>ACIN1</th>\n",
       "      <th>ACO1</th>\n",
       "      <th>ACTN1</th>\n",
       "      <th>ACTN4</th>\n",
       "      <th>ADAR</th>\n",
       "      <th>ADARB1</th>\n",
       "      <th>...</th>\n",
       "      <th>ZNF326</th>\n",
       "      <th>ZNF346</th>\n",
       "      <th>ZNF598</th>\n",
       "      <th>ZNF622</th>\n",
       "      <th>ZNF638</th>\n",
       "      <th>ZNF768</th>\n",
       "      <th>ZNFX1</th>\n",
       "      <th>ZRANB2</th>\n",
       "      <th>ZRSR2</th>\n",
       "      <th>ZYX</th>\n",
       "    </tr>\n",
       "  </thead>\n",
       "  <tbody>\n",
       "    <tr>\n",
       "      <th>AACS</th>\n",
       "      <td>0.0</td>\n",
       "      <td>340.124798</td>\n",
       "      <td>449.896911</td>\n",
       "      <td>479.957684</td>\n",
       "      <td>449.216124</td>\n",
       "      <td>376.581237</td>\n",
       "      <td>303.584703</td>\n",
       "      <td>0.0</td>\n",
       "      <td>0.0</td>\n",
       "      <td>0.0</td>\n",
       "      <td>...</td>\n",
       "      <td>0.0</td>\n",
       "      <td>0.0</td>\n",
       "      <td>0.0</td>\n",
       "      <td>0.0</td>\n",
       "      <td>0.0</td>\n",
       "      <td>0.0</td>\n",
       "      <td>0.0</td>\n",
       "      <td>0.0</td>\n",
       "      <td>0.0</td>\n",
       "      <td>0.0</td>\n",
       "    </tr>\n",
       "    <tr>\n",
       "      <th>AAED1</th>\n",
       "      <td>0.0</td>\n",
       "      <td>0.000000</td>\n",
       "      <td>421.978603</td>\n",
       "      <td>468.631196</td>\n",
       "      <td>434.133978</td>\n",
       "      <td>345.385132</td>\n",
       "      <td>0.000000</td>\n",
       "      <td>0.0</td>\n",
       "      <td>0.0</td>\n",
       "      <td>0.0</td>\n",
       "      <td>...</td>\n",
       "      <td>0.0</td>\n",
       "      <td>0.0</td>\n",
       "      <td>0.0</td>\n",
       "      <td>0.0</td>\n",
       "      <td>0.0</td>\n",
       "      <td>0.0</td>\n",
       "      <td>0.0</td>\n",
       "      <td>0.0</td>\n",
       "      <td>0.0</td>\n",
       "      <td>0.0</td>\n",
       "    </tr>\n",
       "    <tr>\n",
       "      <th>AAGAB</th>\n",
       "      <td>0.0</td>\n",
       "      <td>0.000000</td>\n",
       "      <td>218.316997</td>\n",
       "      <td>215.281027</td>\n",
       "      <td>0.000000</td>\n",
       "      <td>0.000000</td>\n",
       "      <td>0.000000</td>\n",
       "      <td>0.0</td>\n",
       "      <td>0.0</td>\n",
       "      <td>0.0</td>\n",
       "      <td>...</td>\n",
       "      <td>0.0</td>\n",
       "      <td>0.0</td>\n",
       "      <td>0.0</td>\n",
       "      <td>0.0</td>\n",
       "      <td>0.0</td>\n",
       "      <td>0.0</td>\n",
       "      <td>0.0</td>\n",
       "      <td>0.0</td>\n",
       "      <td>0.0</td>\n",
       "      <td>0.0</td>\n",
       "    </tr>\n",
       "    <tr>\n",
       "      <th>AAMP</th>\n",
       "      <td>0.0</td>\n",
       "      <td>215.109368</td>\n",
       "      <td>285.572485</td>\n",
       "      <td>275.318944</td>\n",
       "      <td>211.234975</td>\n",
       "      <td>0.000000</td>\n",
       "      <td>0.000000</td>\n",
       "      <td>0.0</td>\n",
       "      <td>0.0</td>\n",
       "      <td>0.0</td>\n",
       "      <td>...</td>\n",
       "      <td>0.0</td>\n",
       "      <td>0.0</td>\n",
       "      <td>0.0</td>\n",
       "      <td>0.0</td>\n",
       "      <td>0.0</td>\n",
       "      <td>0.0</td>\n",
       "      <td>0.0</td>\n",
       "      <td>0.0</td>\n",
       "      <td>0.0</td>\n",
       "      <td>0.0</td>\n",
       "    </tr>\n",
       "    <tr>\n",
       "      <th>AAR2</th>\n",
       "      <td>0.0</td>\n",
       "      <td>162.626488</td>\n",
       "      <td>215.071265</td>\n",
       "      <td>208.093978</td>\n",
       "      <td>161.497136</td>\n",
       "      <td>0.000000</td>\n",
       "      <td>0.000000</td>\n",
       "      <td>0.0</td>\n",
       "      <td>0.0</td>\n",
       "      <td>0.0</td>\n",
       "      <td>...</td>\n",
       "      <td>0.0</td>\n",
       "      <td>0.0</td>\n",
       "      <td>0.0</td>\n",
       "      <td>0.0</td>\n",
       "      <td>0.0</td>\n",
       "      <td>0.0</td>\n",
       "      <td>0.0</td>\n",
       "      <td>0.0</td>\n",
       "      <td>0.0</td>\n",
       "      <td>0.0</td>\n",
       "    </tr>\n",
       "  </tbody>\n",
       "</table>\n",
       "<p>5 rows × 1378 columns</p>\n",
       "</div>"
      ],
      "text/plain": [
       "GENE   AATF       ABCF1        ABT1       ACAA2       ACIN1        ACO1  \\\n",
       "AACS    0.0  340.124798  449.896911  479.957684  449.216124  376.581237   \n",
       "AAED1   0.0    0.000000  421.978603  468.631196  434.133978  345.385132   \n",
       "AAGAB   0.0    0.000000  218.316997  215.281027    0.000000    0.000000   \n",
       "AAMP    0.0  215.109368  285.572485  275.318944  211.234975    0.000000   \n",
       "AAR2    0.0  162.626488  215.071265  208.093978  161.497136    0.000000   \n",
       "\n",
       "GENE        ACTN1  ACTN4  ADAR  ADARB1  ...  ZNF326  ZNF346  ZNF598  ZNF622  \\\n",
       "AACS   303.584703    0.0   0.0     0.0  ...     0.0     0.0     0.0     0.0   \n",
       "AAED1    0.000000    0.0   0.0     0.0  ...     0.0     0.0     0.0     0.0   \n",
       "AAGAB    0.000000    0.0   0.0     0.0  ...     0.0     0.0     0.0     0.0   \n",
       "AAMP     0.000000    0.0   0.0     0.0  ...     0.0     0.0     0.0     0.0   \n",
       "AAR2     0.000000    0.0   0.0     0.0  ...     0.0     0.0     0.0     0.0   \n",
       "\n",
       "GENE   ZNF638  ZNF768  ZNFX1  ZRANB2  ZRSR2  ZYX  \n",
       "AACS      0.0     0.0    0.0     0.0    0.0  0.0  \n",
       "AAED1     0.0     0.0    0.0     0.0    0.0  0.0  \n",
       "AAGAB     0.0     0.0    0.0     0.0    0.0  0.0  \n",
       "AAMP      0.0     0.0    0.0     0.0    0.0  0.0  \n",
       "AAR2      0.0     0.0    0.0     0.0    0.0  0.0  \n",
       "\n",
       "[5 rows x 1378 columns]"
      ]
     },
     "execution_count": 616,
     "metadata": {},
     "output_type": "execute_result"
    }
   ],
   "source": [
    "rbp_sal_df = pd.DataFrame.from_dict(rbp_sal_dict, orient='index')\n",
    "rbp_sal_df.columns = RBP_df.T.columns\n",
    "#rbp_sal_df[rbp_sal_df>0] = 1\n",
    "rbp_sal_df.head()"
   ]
  },
  {
   "cell_type": "markdown",
   "metadata": {
    "pycharm": {
     "name": "#%% md\n"
    }
   },
   "source": [
    "From the RBP encoder module, extarct the saliency DF for RBPs that are annotated as mRNA binding"
   ]
  },
  {
   "cell_type": "code",
   "execution_count": 628,
   "metadata": {
    "pycharm": {
     "name": "#%%\n"
    }
   },
   "outputs": [
    {
     "data": {
      "text/plain": [
       "GENE\n",
       "FNDC3A    383.744399\n",
       "FNDC3B    358.855510\n",
       "RPP14     352.501224\n",
       "FMR1      345.470880\n",
       "SYNJ2     339.260758\n",
       "             ...    \n",
       "SRP68       0.000000\n",
       "SRP54       0.000000\n",
       "MRPL21      0.000000\n",
       "MRPL20      0.000000\n",
       "STRAP       0.000000\n",
       "Length: 1378, dtype: float64"
      ]
     },
     "execution_count": 628,
     "metadata": {},
     "output_type": "execute_result"
    }
   ],
   "source": [
    "rbp_sal_df.mean().sort_values(ascending=False)"
   ]
  },
  {
   "cell_type": "code",
   "execution_count": 637,
   "metadata": {
    "pycharm": {
     "name": "#%%\n"
    }
   },
   "outputs": [
    {
     "data": {
      "text/plain": [
       "[('AATF', 0.5827859476576321),\n",
       " ('ABCF1', 109.19390735796392),\n",
       " ('ABT1', 269.15321594874735),\n",
       " ('ACAA2', 288.19496593160073),\n",
       " ('ACIN1', 220.36387112115273)]"
      ]
     },
     "execution_count": 637,
     "metadata": {},
     "output_type": "execute_result"
    }
   ],
   "source": [
    "rbp_sal_score_dict = rbp_sal_df.mean().to_dict()\n",
    "list(rbp_sal_score_dict.items())[:5]"
   ]
  },
  {
   "cell_type": "code",
   "execution_count": 638,
   "metadata": {
    "pycharm": {
     "name": "#%%\n"
    }
   },
   "outputs": [
    {
     "data": {
      "text/plain": [
       "['YTHDF1', 'MEX3D', 'IGF2BP3', 'MT-TS1', 'RPL5']"
      ]
     },
     "execution_count": 638,
     "metadata": {},
     "output_type": "execute_result"
    }
   ],
   "source": [
    "RBPs = []\n",
    "with open('data/GOMF_MRNA_BINDING.txt', \"rt\") as file:\n",
    "    file.readline()\n",
    "    file.readline()\n",
    "    for l in file:\n",
    "        RBPs.append(l.rstrip())\n",
    "RBPs = list(set(RBPs).intersection(set(exp_df.index.tolist())))\n",
    "RBPs[:5]"
   ]
  },
  {
   "cell_type": "code",
   "execution_count": 642,
   "metadata": {
    "pycharm": {
     "name": "#%%\n"
    }
   },
   "outputs": [
    {
     "data": {
      "text/plain": [
       "45.848060204682575"
      ]
     },
     "execution_count": 642,
     "metadata": {},
     "output_type": "execute_result"
    }
   ],
   "source": [
    "rbp_sal_score_dict['RBMS3']"
   ]
  },
  {
   "cell_type": "code",
   "execution_count": 654,
   "metadata": {
    "pycharm": {
     "name": "#%%\n"
    }
   },
   "outputs": [
    {
     "data": {
      "text/plain": [
       "['ACO1', 'AGO2', 'CPSF6', 'CRYZ', 'CSTF2']"
      ]
     },
     "execution_count": 654,
     "metadata": {},
     "output_type": "execute_result"
    }
   ],
   "source": [
    "salient_RBPs = [rbp for rbp in rbp_sal_df.mean()[rbp_sal_df.mean()>rbp_sal_df.mean().quantile(0.74)].index if rbp in RBPs]\n",
    "salient_RBPs[:5]"
   ]
  },
  {
   "cell_type": "code",
   "execution_count": 655,
   "metadata": {
    "pycharm": {
     "name": "#%%\n"
    }
   },
   "outputs": [
    {
     "data": {
      "text/plain": [
       "59"
      ]
     },
     "execution_count": 655,
     "metadata": {},
     "output_type": "execute_result"
    }
   ],
   "source": [
    "len(salient_RBPs)"
   ]
  },
  {
   "cell_type": "markdown",
   "metadata": {
    "pycharm": {
     "name": "#%% md\n"
    }
   },
   "source": [
    "### Generate motif vs RBP saliency maps"
   ]
  },
  {
   "cell_type": "code",
   "execution_count": 656,
   "metadata": {
    "pycharm": {
     "name": "#%%\n"
    }
   },
   "outputs": [
    {
     "data": {
      "text/plain": [
       "['[CT][AG]CCTGTA.',\n",
       " '.[AGT][AT]ATA[AT]A.',\n",
       " 'CC[AG][CT]C[AGT]CC.',\n",
       " '[CGT]CTAC[GT][AT]C.',\n",
       " '.CTACAGC.',\n",
       " '.C[AG]AGTAC.']"
      ]
     },
     "execution_count": 656,
     "metadata": {},
     "output_type": "execute_result"
    }
   ],
   "source": [
    "motifs = pd.read_csv('results/salient_seqs_fire.txt_FIRE/RNA/salient_seqs_fire.txt.summary', sep=\"\\t\", header=None)[0].to_list()\n",
    "motifs"
   ]
  },
  {
   "cell_type": "code",
   "execution_count": 657,
   "metadata": {
    "pycharm": {
     "name": "#%%\n"
    }
   },
   "outputs": [
    {
     "data": {
      "text/plain": [
       "['[CU][AG]CCUGUAN',\n",
       " 'N[AGU][AU]AUA[AU]AN',\n",
       " 'CC[AG][CU]C[AGU]CCN',\n",
       " '[CGU]CUAC[GU][AU]CN',\n",
       " 'NCUACAGCN',\n",
       " 'NC[AG]AGUACN']"
      ]
     },
     "execution_count": 657,
     "metadata": {},
     "output_type": "execute_result"
    }
   ],
   "source": [
    "motifs_rna = [re.sub(\"\\.\", \"N\", x) for x in motifs]\n",
    "motifs_rna = [re.sub(\"T\", \"U\", x) for x in motifs_rna]\n",
    "motifs_rna"
   ]
  },
  {
   "cell_type": "code",
   "execution_count": 660,
   "metadata": {
    "pycharm": {
     "name": "#%%\n"
    }
   },
   "outputs": [
    {
     "name": "stdout",
     "output_type": "stream",
     "text": [
      "iupac2meme -alph results/RNAalphabet.txt \"[CU][AG]CCUGUAN\" \"N[AGU][AU]AUA[AU]AN\" \"CC[AG][CU]C[AGU]CCN\" \"[CGU]CUAC[GU][AU]CN\" \"NCUACAGCN\" \"NC[AG]AGUACN\" > results/motifs_rna.meme\n"
     ]
    },
    {
     "data": {
      "text/plain": [
       "32512"
      ]
     },
     "execution_count": 660,
     "metadata": {},
     "output_type": "execute_result"
    }
   ],
   "source": [
    "import os\n",
    "\n",
    "cmd = \"iupac2meme -alph results/RNAalphabet.txt \\\"\" + \"\\\" \\\"\".join(motifs_rna) + \"\\\" > results/motifs_rna.meme\"\n",
    "print(cmd)\n",
    "os.system(cmd)"
   ]
  },
  {
   "cell_type": "code",
   "execution_count": 658,
   "metadata": {
    "pycharm": {
     "name": "#%%\n"
    }
   },
   "outputs": [
    {
     "name": "stdout",
     "output_type": "stream",
     "text": [
      "MEME version 4\n",
      "\n",
      "ALPHABET \"ACGU\"\n",
      "\n",
      "Background letter frequencies (from uniform background):\n",
      "A 0.25000 C 0.25000 G 0.25000 U 0.25000 \n",
      "\n",
      "MOTIF CC[AG][CU]C[AGU]CCN \n",
      "\n",
      "letter-probability matrix: alength= 4 w= 9 nsites= 20 E= 0\n"
     ]
    }
   ],
   "source": [
    "!head results/motifs_rna.meme"
   ]
  },
  {
   "cell_type": "code",
   "execution_count": 586,
   "metadata": {
    "pycharm": {
     "name": "#%%\n"
    }
   },
   "outputs": [
    {
     "data": {
      "text/plain": [
       "32512"
      ]
     },
     "execution_count": 586,
     "metadata": {},
     "output_type": "execute_result"
    }
   ],
   "source": [
    "os.system(\"tomtom -o results/motifs_rna_meme_match -eps results/motifs_rna.meme /rasis/Projects/bin/meme/motif_databases/RNA/Ray2013_rbp_Homo_sapiens.meme\")"
   ]
  },
  {
   "cell_type": "code",
   "execution_count": 661,
   "metadata": {
    "pycharm": {
     "name": "#%%\n"
    }
   },
   "outputs": [
    {
     "name": "stdout",
     "output_type": "stream",
     "text": [
      "#Query ID\tTarget ID\tOptimal offset\tp-value\tE-value\tq-value\tOverlap\tQuery consensus\tTarget consensus\tOrientation\n",
      "CC[AG][CU]C[AGU]CCN\tRNCMPT00186\t-1\t0.00323999\t0.330479\t0.193846\t7\tCCACCUCCA\tCCUUUCC\t+\n",
      "CC[AG][CU]C[AGU]CCN\tRNCMPT00044\t0\t0.00494413\t0.504301\t0.193846\t7\tCCACCUCCA\tCCUUCCC\t+\n",
      "CC[AG][CU]C[AGU]CCN\tRNCMPT00026\t0\t0.00690887\t0.704705\t0.193846\t7\tCCACCUCCA\tCCAACCC\t+\n",
      "CC[AG][CU]C[AGU]CCN\tRNCMPT00116\t1\t0.00787376\t0.803124\t0.193846\t6\tCCACCUCCA\tAACAUCA\t+\n",
      "CC[AG][CU]C[AGU]CCN\tRNCMPT00083\t1\t0.0140077\t1.42879\t0.275888\t6\tCCACCUCCA\tAACAUCA\t+\n",
      "NCUACAGCN\tRNCMPT00084\t-2\t0.00708604\t0.722776\t0.298962\t7\tACUACAGCA\tAACAACA\t+\n",
      "NCUACAGCN\tRNCMPT00149\t0\t0.00789274\t0.80506\t0.298962\t7\tACUACAGCA\tCAGACAG\t+\n",
      "NCUACAGCN\tRNCMPT00156\t-2\t0.010903\t1.11211\t0.298962\t7\tACUACAGCA\tGACAGAU\t+\n",
      "NCUACAGCN\tRNCMPT00083\t-2\t0.0135223\t1.37927\t0.298962\t7\tACUACAGCA\tAACAUCA\t+\n",
      "NCUACAGCN\tRNCMPT00116\t-2\t0.0186187\t1.89911\t0.32931\t7\tACUACAGCA\tAACAUCA\t+\n",
      "NCUACAGCN\tRNCMPT00170\t0\t0.0341987\t3.48827\t0.475219\t7\tACUACAGCA\tAAUCCAG\t+\n",
      "NCUACAGCN\tRNCMPT00053\t-1\t0.0376154\t3.83677\t0.475219\t7\tACUACAGCA\tAUACAUU\t+\n",
      "NCUACAGCN\tRNCMPT00085\t-3\t0.0432406\t4.41055\t0.478\t6\tACUACAGCA\tGCAGCGC\t+\n",
      "NCUACAGCN\tRNCMPT00057\t-1\t0.0517483\t5.27833\t0.498011\t7\tACUACAGCA\tAUAUAUA\t+\n",
      "NCUACAGCN\tRNCMPT00034\t0\t0.0563135\t5.74398\t0.498011\t8\tACUACAGCA\tGAUAAACG\t+\n",
      "N[AGU][AU]AUA[AU]AN\tRNCMPT00173\t-2\t4.25822e-05\t0.00434338\t0.00412918\t7\tAUAAUAAAA\tUAUAUAG\t+\n",
      "N[AGU][AU]AUA[AU]AN\tRNCMPT00152\t-2\t0.000299662\t0.0305656\t0.0145291\t7\tAUAAUAAAA\tUAUAUAC\t+\n",
      "N[AGU][AU]AUA[AU]AN\tRNCMPT00034\t-2\t0.00079163\t0.0807463\t0.025588\t7\tAUAAUAAAA\tGAUAAACG\t+\n",
      "N[AGU][AU]AUA[AU]AN\tRNCMPT00057\t-1\t0.00188078\t0.191839\t0.0455946\t7\tAUAAUAAAA\tAUAUAUA\t+\n",
      "N[AGU][AU]AUA[AU]AN\tRNCMPT00185\t-2\t0.00478628\t0.4882\t0.0928248\t7\tAUAAUAAAA\tGAUAAAA\t+\n",
      "N[AGU][AU]AUA[AU]AN\tRNCMPT00169\t-3\t0.00947106\t0.966048\t0.153068\t6\tAUAAUAAAA\tAUAAAAG\t+\n",
      "N[AGU][AU]AUA[AU]AN\tRNCMPT00054\t-2\t0.0375221\t3.82726\t0.482006\t7\tAUAAUAAAA\tAAUCAAU\t+\n",
      "N[AGU][AU]AUA[AU]AN\tRNCMPT00171\t-3\t0.0397655\t4.05608\t0.482006\t6\tAUAAUAAAA\tAGAAAAU\t+\n",
      "[CGU]CUAC[GU][AU]CN\tRNCMPT00151\t1\t0.0118486\t1.20856\t0.378324\t6\tUCUACGACA\tAACUAAG\t+\n",
      "[CGU]CUAC[GU][AU]CN\tRNCMPT00084\t-2\t0.0126684\t1.29218\t0.378324\t7\tUCUACGACA\tAACAACA\t+\n",
      "[CGU]CUAC[GU][AU]CN\tRNCMPT00053\t-1\t0.0135425\t1.38133\t0.378324\t7\tUCUACGACA\tAUACAUU\t+\n",
      "[CGU]CUAC[GU][AU]CN\tRNCMPT00050\t0\t0.015462\t1.57712\t0.378324\t7\tUCUACGACA\tGAUACGA\t+\n",
      "[CGU]CUAC[GU][AU]CN\tRNCMPT00075\t1\t0.0200693\t2.04707\t0.386866\t6\tUCUACGACA\tCGAUACU\t+\n",
      "[CGU]CUAC[GU][AU]CN\tRNCMPT00073\t-2\t0.0237165\t2.41909\t0.386866\t7\tUCUACGACA\tGACGACGG\t+\n",
      "[CGU]CUAC[GU][AU]CN\tRNCMPT00241\t-2\t0.0309752\t3.15947\t0.433088\t7\tUCUACGACA\tGACGACA\t+\n"
     ]
    }
   ],
   "source": [
    "!cat results/motifs_rna_meme_match/tomtom.txt"
   ]
  },
  {
   "cell_type": "markdown",
   "metadata": {
    "pycharm": {
     "name": "#%% md\n"
    }
   },
   "source": [
    "To create an RBP motif-map, we will take genes for which the RBP of interest was salient. We will then output the salient sequences for these genes, along with shuffled sequences as control. Then use FIRE innon-discovery mode to calculate enrichment stats for the motifs."
   ]
  },
  {
   "cell_type": "code",
   "execution_count": 668,
   "metadata": {
    "pycharm": {
     "name": "#%%\n"
    }
   },
   "outputs": [],
   "source": [
    "import ushuffle"
   ]
  },
  {
   "cell_type": "code",
   "execution_count": 669,
   "metadata": {
    "pycharm": {
     "name": "#%%\n"
    }
   },
   "outputs": [],
   "source": [
    "!mkdir results/salient_rbp_profiles"
   ]
  },
  {
   "cell_type": "code",
   "execution_count": 679,
   "metadata": {
    "pycharm": {
     "name": "#%%\n"
    }
   },
   "outputs": [],
   "source": [
    "salient_obj_dict = defaultdict(list)\n",
    "for item in salient_obj:\n",
    "    if item:\n",
    "        salient_obj_dict[item['gene']] = item['seqs']"
   ]
  },
  {
   "cell_type": "code",
   "execution_count": 687,
   "metadata": {
    "pycharm": {
     "name": "#%%\n"
    }
   },
   "outputs": [],
   "source": [
    "for rbp in salient_RBPs:\n",
    "    genes = rbp_sal_df.index[rbp_sal_df[rbp]>0].to_list()\n",
    "    with open(f\"results/salient_rbp_profiles/salient_{rbp}_seqs.fa\", \"wt\") as fa, open(f\"results/salient_rbp_profiles/salient_{rbp}_seqs.txt\", \"wt\") as pro:\n",
    "        pro.write(\"gene\\tvalue\\n\")\n",
    "        for gene in genes:\n",
    "            if gene in salient_obj_dict:\n",
    "                seqs = salient_obj_dict[gene]\n",
    "                fa.write(f\">{gene}\\n\")\n",
    "                pro.write(f\"{gene}\\t1\\n\")\n",
    "                for seq in seqs:\n",
    "                    fa.write(f\"{seq}NNNNNNNNNNNNNNNN\")\n",
    "                fa.write(\"\\n\")\n",
    "                fa.write(f\">{gene}_shuf\\n\")\n",
    "                pro.write(f\"{gene}_shuf\\t0\\n\")\n",
    "                for seq in seqs:\n",
    "                    n_seq = ushuffle.shuffle(seq, len(seq), 2)\n",
    "                    fa.write(f\"{n_seq}NNNNNNNNNNNNNNNN\")\n",
    "                fa.write(\"\\n\")"
   ]
  },
  {
   "cell_type": "code",
   "execution_count": null,
   "metadata": {
    "pycharm": {
     "name": "#%%\n"
    }
   },
   "outputs": [],
   "source": [
    "for rbp in salient_RBPs:\n",
    "    cmd = (f\"perl /rasis/Projects/bin/FIRE-1.1/fire.pl --expfile=results/salient_rbp_profiles/salient_{rbp}_seqs.txt \"\n",
    "           f\"--fastafile_rna=results/salient_rbp_profiles/salient_{rbp}_seqs.fa --species=human \"\n",
    "           \"--doskipdiscovery=1 --motiffile_rna=results/FIRE_dicovery_poscor.motifs \"\n",
    "           \"--exptype=discrete --nodups=1 --oribiasonly=0  --dodna=0 --dodnarna=0\")\n",
    "    print(cmd)\n",
    "    os.system(cmd)"
   ]
  },
  {
   "cell_type": "code",
   "execution_count": 732,
   "metadata": {
    "pycharm": {
     "name": "#%%\n"
    }
   },
   "outputs": [],
   "source": [
    "import glob\n",
    "import re\n",
    "from collections import defaultdict\n",
    "\n",
    "rbp_seq_hyper_dict = defaultdict(dict)\n",
    "for file in glob.glob(\"results/salient_rbp_profiles/salient_*_seqs.txt_FIRE/RNA/*.matrix\"):\n",
    "    rbp = re.sub(\"results/salient_rbp_profiles/salient_(\\S+)_seqs.txt_FIRE/RNA/\\S+.matrix\", \"\\\\1\", file)\n",
    "    hpv = pd.read_csv(file, sep=\"\\t\", index_col=0)['C1'].to_dict()\n",
    "    rbp_seq_hyper_dict[rbp] = {x:hpv[x] for x in hpv}"
   ]
  },
  {
   "cell_type": "code",
   "execution_count": 760,
   "metadata": {
    "pycharm": {
     "name": "#%%\n"
    }
   },
   "outputs": [
    {
     "data": {
      "image/png": "[encoded data removed]",
      "text/plain": [
       "<Figure size 1152x216 with 2 Axes>"
      ]
     },
     "metadata": {
      "needs_background": "light"
     },
     "output_type": "display_data"
    }
   ],
   "source": [
    "fig, ax = plt.subplots(figsize=(16,3))\n",
    "rbp_seq_hyper_df = pd.DataFrame.from_dict(rbp_seq_hyper_dict).fillna(0.1)\n",
    "rbp_seq_hyper_df.to_csv('results/rbp_motifs_int_map_df.txt', sep=\"\\t\")\n",
    "rbp_seq_hyper_df = rbp_seq_hyper_df.apply(lambda x: x/x.mean(), axis=0)\n",
    "rbp_seq_hyper_df = rbp_seq_hyper_df.apply(lambda x: (x-x.mean())/x.std(), axis=1)\n",
    "rbp_seq_hyper_df.to_csv('results/rbp_motifs_int_map_df_norm.txt', sep=\"\\t\")\n",
    "rbp_seq_hyper_df[rbp_seq_hyper_df<0] = 0\n",
    "sns.heatmap(rbp_seq_hyper_df, vmin=0, vmax=2, cmap=sns.color_palette(\"gray_r\"))\n",
    "plt.savefig(\"results/rbp_motifs_int_map_df_norm.pdf\") "
   ]
  },
  {
   "cell_type": "code",
   "execution_count": 761,
   "metadata": {
    "pycharm": {
     "name": "#%%\n"
    }
   },
   "outputs": [
    {
     "data": {
      "image/png": "[encoded data removed]",
      "text/plain": [
       "<Figure size 360x216 with 2 Axes>"
      ]
     },
     "metadata": {
      "needs_background": "light"
     },
     "output_type": "display_data"
    }
   ],
   "source": [
    "fig, ax = plt.subplots(figsize=(5,3))\n",
    "rbp_seq_hyper_df[rbp_seq_hyper_df<1.69] = 0\n",
    "rbp_seq_hyper_df = rbp_seq_hyper_df.loc[:,rbp_seq_hyper_df.sum()>0]\n",
    "rbp_seq_hyper_df.to_csv('results/rbp_motifs_int_map_df_norm_cut.txt', sep=\"\\t\")\n",
    "sns.heatmap(rbp_seq_hyper_df, vmin=0, vmax=2, cmap=sns.color_palette(\"gray_r\"))\n",
    "plt.savefig(\"results/rbp_motifs_int_map_df_norm_cut.pdf\") "
   ]
  },
  {
   "cell_type": "code",
   "execution_count": 764,
   "metadata": {
    "pycharm": {
     "name": "#%%\n"
    }
   },
   "outputs": [],
   "source": [
    "rbp_seq_hyper_df[rbp_seq_hyper_df>=1.69] = 1"
   ]
  },
  {
   "cell_type": "code",
   "execution_count": 768,
   "metadata": {
    "pycharm": {
     "name": "#%%\n"
    }
   },
   "outputs": [
    {
     "data": {
      "text/html": [
       "<div>\n",
       "<style scoped>\n",
       "    .dataframe tbody tr th:only-of-type {\n",
       "        vertical-align: middle;\n",
       "    }\n",
       "\n",
       "    .dataframe tbody tr th {\n",
       "        vertical-align: top;\n",
       "    }\n",
       "\n",
       "    .dataframe thead th {\n",
       "        text-align: right;\n",
       "    }\n",
       "</style>\n",
       "<table border=\"1\" class=\"dataframe\">\n",
       "  <thead>\n",
       "    <tr style=\"text-align: right;\">\n",
       "      <th></th>\n",
       "      <th>motif</th>\n",
       "      <th>RBP</th>\n",
       "      <th>edge</th>\n",
       "    </tr>\n",
       "  </thead>\n",
       "  <tbody>\n",
       "    <tr>\n",
       "      <th>3</th>\n",
       "      <td>[CGT]CTAC[GT][AT]C.</td>\n",
       "      <td>TYMS</td>\n",
       "      <td>1.0</td>\n",
       "    </tr>\n",
       "    <tr>\n",
       "      <th>11</th>\n",
       "      <td>.CTACAGC.</td>\n",
       "      <td>PCBP1</td>\n",
       "      <td>1.0</td>\n",
       "    </tr>\n",
       "    <tr>\n",
       "      <th>14</th>\n",
       "      <td>[CT][AG]CCTGTA.</td>\n",
       "      <td>ZC3H12A</td>\n",
       "      <td>1.0</td>\n",
       "    </tr>\n",
       "    <tr>\n",
       "      <th>19</th>\n",
       "      <td>CC[AG][CT]C[AGT]CC.</td>\n",
       "      <td>CSTF3</td>\n",
       "      <td>1.0</td>\n",
       "    </tr>\n",
       "    <tr>\n",
       "      <th>26</th>\n",
       "      <td>[CT][AG]CCTGTA.</td>\n",
       "      <td>DDX6</td>\n",
       "      <td>1.0</td>\n",
       "    </tr>\n",
       "  </tbody>\n",
       "</table>\n",
       "</div>"
      ],
      "text/plain": [
       "                  motif      RBP  edge\n",
       "3   [CGT]CTAC[GT][AT]C.     TYMS   1.0\n",
       "11            .CTACAGC.    PCBP1   1.0\n",
       "14      [CT][AG]CCTGTA.  ZC3H12A   1.0\n",
       "19  CC[AG][CT]C[AGT]CC.    CSTF3   1.0\n",
       "26      [CT][AG]CCTGTA.     DDX6   1.0"
      ]
     },
     "execution_count": 768,
     "metadata": {},
     "output_type": "execute_result"
    }
   ],
   "source": [
    "rbp_seq_hyper_df_long = rbp_seq_hyper_df.reset_index().melt(id_vars='index', value_vars=rbp_seq_hyper_df.columns, var_name='RBP', value_name='edge').query(\"edge==1\")\n",
    "rbp_seq_hyper_df_long.columns = ['motif', 'RBP', 'edge']\n",
    "rbp_seq_hyper_df_long.head()"
   ]
  },
  {
   "cell_type": "markdown",
   "metadata": {
    "pycharm": {
     "name": "#%% md\n"
    }
   },
   "source": [
    "Use RBP-motif hits from the saliency maps to find those that are correlated with the stability of the regulon"
   ]
  },
  {
   "cell_type": "code",
   "execution_count": 769,
   "metadata": {
    "pycharm": {
     "name": "#%%\n"
    }
   },
   "outputs": [
    {
     "data": {
      "text/html": [
       "<div>\n",
       "<style scoped>\n",
       "    .dataframe tbody tr th:only-of-type {\n",
       "        vertical-align: middle;\n",
       "    }\n",
       "\n",
       "    .dataframe tbody tr th {\n",
       "        vertical-align: top;\n",
       "    }\n",
       "\n",
       "    .dataframe thead th {\n",
       "        text-align: right;\n",
       "    }\n",
       "</style>\n",
       "<table border=\"1\" class=\"dataframe\">\n",
       "  <thead>\n",
       "    <tr style=\"text-align: right;\">\n",
       "      <th></th>\n",
       "      <th>HCC1806-PAR-1</th>\n",
       "      <th>HCC1806-PAR-2</th>\n",
       "      <th>MDA-PAR-1</th>\n",
       "      <th>MDA-PAR-2</th>\n",
       "      <th>MCF7-1</th>\n",
       "      <th>MCF7-2</th>\n",
       "      <th>MDA-MD-453-1</th>\n",
       "      <th>MDA-MD-453-2</th>\n",
       "      <th>HCC38-1</th>\n",
       "      <th>HCC38-2</th>\n",
       "      <th>ZR-75-1</th>\n",
       "      <th>ZR-75-2</th>\n",
       "    </tr>\n",
       "  </thead>\n",
       "  <tbody>\n",
       "    <tr>\n",
       "      <th>A1BG</th>\n",
       "      <td>-1.066082</td>\n",
       "      <td>-1.280269</td>\n",
       "      <td>-0.285732</td>\n",
       "      <td>-0.639637</td>\n",
       "      <td>-0.326187</td>\n",
       "      <td>-0.664953</td>\n",
       "      <td>-0.719758</td>\n",
       "      <td>-0.812882</td>\n",
       "      <td>-1.439074</td>\n",
       "      <td>-0.731446</td>\n",
       "      <td>-1.717306</td>\n",
       "      <td>-1.054118</td>\n",
       "    </tr>\n",
       "    <tr>\n",
       "      <th>AACS</th>\n",
       "      <td>-0.125061</td>\n",
       "      <td>-0.058180</td>\n",
       "      <td>0.045117</td>\n",
       "      <td>-0.005526</td>\n",
       "      <td>-0.376835</td>\n",
       "      <td>-0.221019</td>\n",
       "      <td>0.063778</td>\n",
       "      <td>-0.058493</td>\n",
       "      <td>-0.308672</td>\n",
       "      <td>-0.569838</td>\n",
       "      <td>-0.351516</td>\n",
       "      <td>-0.318399</td>\n",
       "    </tr>\n",
       "    <tr>\n",
       "      <th>AAED1</th>\n",
       "      <td>-0.171404</td>\n",
       "      <td>-0.180253</td>\n",
       "      <td>0.074135</td>\n",
       "      <td>-0.004023</td>\n",
       "      <td>0.107655</td>\n",
       "      <td>0.336408</td>\n",
       "      <td>0.954444</td>\n",
       "      <td>0.670258</td>\n",
       "      <td>0.320970</td>\n",
       "      <td>-0.151047</td>\n",
       "      <td>0.191012</td>\n",
       "      <td>-0.197516</td>\n",
       "    </tr>\n",
       "    <tr>\n",
       "      <th>AAGAB</th>\n",
       "      <td>-0.400829</td>\n",
       "      <td>-0.165416</td>\n",
       "      <td>0.289347</td>\n",
       "      <td>-0.061730</td>\n",
       "      <td>-0.661292</td>\n",
       "      <td>-0.556470</td>\n",
       "      <td>-0.429905</td>\n",
       "      <td>-0.536963</td>\n",
       "      <td>-0.429548</td>\n",
       "      <td>-0.822612</td>\n",
       "      <td>-1.262680</td>\n",
       "      <td>-0.806532</td>\n",
       "    </tr>\n",
       "    <tr>\n",
       "      <th>AAK1</th>\n",
       "      <td>-1.045263</td>\n",
       "      <td>-0.947986</td>\n",
       "      <td>-0.742636</td>\n",
       "      <td>-0.721529</td>\n",
       "      <td>-0.451813</td>\n",
       "      <td>-0.670308</td>\n",
       "      <td>-0.605175</td>\n",
       "      <td>-0.498851</td>\n",
       "      <td>-0.723403</td>\n",
       "      <td>-0.852025</td>\n",
       "      <td>-0.914979</td>\n",
       "      <td>-0.630247</td>\n",
       "    </tr>\n",
       "  </tbody>\n",
       "</table>\n",
       "</div>"
      ],
      "text/plain": [
       "       HCC1806-PAR-1  HCC1806-PAR-2  MDA-PAR-1  MDA-PAR-2    MCF7-1    MCF7-2  \\\n",
       "A1BG       -1.066082      -1.280269  -0.285732  -0.639637 -0.326187 -0.664953   \n",
       "AACS       -0.125061      -0.058180   0.045117  -0.005526 -0.376835 -0.221019   \n",
       "AAED1      -0.171404      -0.180253   0.074135  -0.004023  0.107655  0.336408   \n",
       "AAGAB      -0.400829      -0.165416   0.289347  -0.061730 -0.661292 -0.556470   \n",
       "AAK1       -1.045263      -0.947986  -0.742636  -0.721529 -0.451813 -0.670308   \n",
       "\n",
       "       MDA-MD-453-1  MDA-MD-453-2   HCC38-1   HCC38-2   ZR-75-1   ZR-75-2  \n",
       "A1BG      -0.719758     -0.812882 -1.439074 -0.731446 -1.717306 -1.054118  \n",
       "AACS       0.063778     -0.058493 -0.308672 -0.569838 -0.351516 -0.318399  \n",
       "AAED1      0.954444      0.670258  0.320970 -0.151047  0.191012 -0.197516  \n",
       "AAGAB     -0.429905     -0.536963 -0.429548 -0.822612 -1.262680 -0.806532  \n",
       "AAK1      -0.605175     -0.498851 -0.723403 -0.852025 -0.914979 -0.630247  "
      ]
     },
     "execution_count": 769,
     "metadata": {},
     "output_type": "execute_result"
    }
   ],
   "source": [
    "decay_df.head()"
   ]
  },
  {
   "cell_type": "code",
   "execution_count": 770,
   "metadata": {
    "pycharm": {
     "name": "#%%\n"
    }
   },
   "outputs": [],
   "source": [
    "## Use the median of the regulon and wilcoxon test\n",
    "from scipy.stats import spearmanr\n",
    "from scipy.stats import ttest_1samp\n",
    "from scipy.stats import wilcoxon\n",
    "\n",
    "exp_decay_corr_dict = defaultdict(dict)\n",
    "exp_decay_corp_dict = defaultdict(dict)\n",
    "for mo,rbp in zip(rbp_seq_hyper_df_long.motif, rbp_seq_hyper_df_long.RBP):\n",
    "    reg = motif_map_df.index[motif_map_df.loc[:,mo]==1].to_list()\n",
    "    rbp_exp = exp_df.loc[rbp,]\n",
    "    Rs = []\n",
    "    for gene in reg:\n",
    "        gene_dr = decay_df.loc[gene,]\n",
    "        Rs.append(spearmanr(rbp_exp, gene_dr)[0])\n",
    "    exp_decay_corr_dict[rbp][mo] = np.median(Rs)\n",
    "    exp_decay_corp_dict[rbp][mo] = -np.log10(wilcoxon(Rs)[1])"
   ]
  },
  {
   "cell_type": "code",
   "execution_count": 771,
   "metadata": {
    "pycharm": {
     "name": "#%%\n"
    }
   },
   "outputs": [
    {
     "data": {
      "text/plain": [
       "({'.[AGT][AT]ATA[AT]A.': -0.1958041958041958},\n",
       " {'.[AGT][AT]ATA[AT]A.': 162.20523868185282})"
      ]
     },
     "execution_count": 771,
     "metadata": {},
     "output_type": "execute_result"
    }
   ],
   "source": [
    "exp_decay_corr_dict['RBMS3'],exp_decay_corp_dict['RBMS3']"
   ]
  },
  {
   "cell_type": "code",
   "execution_count": 772,
   "metadata": {
    "pycharm": {
     "name": "#%%\n"
    }
   },
   "outputs": [],
   "source": [
    "exp_decay_corr_df = pd.DataFrame.from_dict(exp_decay_corr_dict, orient=\"index\").fillna(0)#.sort_values([\"[ACG]TACT[AT][AC][AC][AGT]\"], ascending=True)\n",
    "exp_decay_corp_df = pd.DataFrame.from_dict(exp_decay_corp_dict, orient=\"index\").fillna(0)#.sort_values([\"[ACG]TACT[AT][AC][AC][AGT]\"], ascending=True)"
   ]
  },
  {
   "cell_type": "code",
   "execution_count": 773,
   "metadata": {
    "pycharm": {
     "name": "#%%\n"
    }
   },
   "outputs": [],
   "source": [
    "import networkx as nx\n",
    "G = nx.from_pandas_edgelist(rbp_motif_int_df_bin_f_long,\n",
    "                            source=\"motif\", target=\"RBP\", edge_attr='edge')"
   ]
  },
  {
   "cell_type": "code",
   "execution_count": 774,
   "metadata": {
    "pycharm": {
     "name": "#%%\n"
    }
   },
   "outputs": [
    {
     "data": {
      "image/png": "[encoded data removed]",
      "text/plain": [
       "<Figure size 360x360 with 1 Axes>"
      ]
     },
     "metadata": {},
     "output_type": "display_data"
    }
   ],
   "source": [
    "fig, ax = plt.subplots(figsize=(5,5))\n",
    "nx.draw(G, with_labels=True, node_size=50, node_color=\"red\")"
   ]
  },
  {
   "cell_type": "code",
   "execution_count": 775,
   "metadata": {
    "pycharm": {
     "name": "#%%\n"
    }
   },
   "outputs": [
    {
     "data": {
      "image/png": "[encoded data removed]",
      "text/plain": [
       "<Figure size 360x216 with 2 Axes>"
      ]
     },
     "metadata": {
      "needs_background": "light"
     },
     "output_type": "display_data"
    }
   ],
   "source": [
    "fig, ax = plt.subplots(figsize=(5,3))\n",
    "sns.heatmap(exp_decay_corr_df.T, vmin=-0.2, vmax=0.2, cmap=sns.diverging_palette(260, 15, as_cmap=True))\n",
    "plt.savefig(\"results/motif_vs_RBP_saliency_network_corr_plot.pdf\", width=5, height=3.5)"
   ]
  },
  {
   "cell_type": "code",
   "execution_count": 781,
   "metadata": {
    "pycharm": {
     "name": "#%%\n"
    }
   },
   "outputs": [
    {
     "data": {
      "image/png": "[encoded data removed]",
      "text/plain": [
       "<Figure size 360x216 with 2 Axes>"
      ]
     },
     "metadata": {
      "needs_background": "light"
     },
     "output_type": "display_data"
    }
   ],
   "source": [
    "fig, ax = plt.subplots(figsize=(5,3))\n",
    "sns.heatmap(exp_decay_corp_df.T, vmin=0, vmax=100, cmap=sns.color_palette(\"viridis\"))\n",
    "plt.savefig(\"results/motif_vs_RBP_saliency_network_corpv_plot.pdf\", width=5, height=3.5)"
   ]
  },
  {
   "cell_type": "code",
   "execution_count": null,
   "metadata": {
    "pycharm": {
     "name": "#%%\n"
    }
   },
   "outputs": [],
   "source": []
  }
 ],
 "metadata": {
  "kernelspec": {
   "display_name": "Python 3 (ipykernel)",
   "language": "python",
   "name": "python3"
  },
  "language_info": {
   "codemirror_mode": {
    "name": "ipython",
    "version": 3
   },
   "file_extension": ".py",
   "mimetype": "text/x-python",
   "name": "python",
   "nbconvert_exporter": "python",
   "pygments_lexer": "ipython3",
   "version": "3.12.8"
  }
 },
 "nbformat": 4,
 "nbformat_minor": 4
}
